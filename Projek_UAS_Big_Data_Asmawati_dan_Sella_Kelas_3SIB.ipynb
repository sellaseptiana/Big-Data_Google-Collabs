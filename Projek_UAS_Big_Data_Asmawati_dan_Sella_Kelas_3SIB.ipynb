{
  "cells": [
    {
      "cell_type": "markdown",
      "metadata": {
        "id": "en-goNph_HbB"
      },
      "source": [
        "##**Nama  :** \n",
        "##**ASMAWATI ( 2057301094**\n",
        "## **Sella Septiana (2057301091)**\n",
        "##**Kelas : 3 SIB**\n",
        "\n",
        "#**LAPORAN PROJEK UAS**"
      ]
    },
    {
      "cell_type": "markdown",
      "metadata": {
        "id": "j_e4JTSNuiLt"
      },
      "source": [
        "# **Import Software Libraries**\n",
        "\n"
      ]
    },
    {
      "cell_type": "code",
      "execution_count": 1,
      "metadata": {
        "colab": {
          "base_uri": "https://localhost:8080/",
          "height": 0
        },
        "id": "RqmowiDgu4Ti",
        "outputId": "9a73a317-5bd0-4345-9cd7-9f950d552eec"
      },
      "outputs": [
        {
          "output_type": "stream",
          "name": "stdout",
          "text": [
            "Looking in indexes: https://pypi.org/simple, https://us-python.pkg.dev/colab-wheels/public/simple/\n",
            "Requirement already satisfied: category_encoders in /usr/local/lib/python3.8/dist-packages (2.6.0)\n",
            "Requirement already satisfied: scikit-learn>=0.20.0 in /usr/local/lib/python3.8/dist-packages (from category_encoders) (1.0.2)\n",
            "Requirement already satisfied: patsy>=0.5.1 in /usr/local/lib/python3.8/dist-packages (from category_encoders) (0.5.3)\n",
            "Requirement already satisfied: pandas>=1.0.5 in /usr/local/lib/python3.8/dist-packages (from category_encoders) (1.3.5)\n",
            "Requirement already satisfied: numpy>=1.14.0 in /usr/local/lib/python3.8/dist-packages (from category_encoders) (1.21.6)\n",
            "Requirement already satisfied: scipy>=1.0.0 in /usr/local/lib/python3.8/dist-packages (from category_encoders) (1.7.3)\n",
            "Requirement already satisfied: statsmodels>=0.9.0 in /usr/local/lib/python3.8/dist-packages (from category_encoders) (0.12.2)\n",
            "Requirement already satisfied: pytz>=2017.3 in /usr/local/lib/python3.8/dist-packages (from pandas>=1.0.5->category_encoders) (2022.7)\n",
            "Requirement already satisfied: python-dateutil>=2.7.3 in /usr/local/lib/python3.8/dist-packages (from pandas>=1.0.5->category_encoders) (2.8.2)\n",
            "Requirement already satisfied: six in /usr/local/lib/python3.8/dist-packages (from patsy>=0.5.1->category_encoders) (1.15.0)\n",
            "Requirement already satisfied: joblib>=0.11 in /usr/local/lib/python3.8/dist-packages (from scikit-learn>=0.20.0->category_encoders) (1.2.0)\n",
            "Requirement already satisfied: threadpoolctl>=2.0.0 in /usr/local/lib/python3.8/dist-packages (from scikit-learn>=0.20.0->category_encoders) (3.1.0)\n"
          ]
        }
      ],
      "source": [
        "!pip install --upgrade category_encoders"
      ]
    },
    {
      "cell_type": "markdown",
      "source": [
        "##**ANALISA**\n",
        "\n",
        "\n",
        "\n",
        "##**Category encoders untuk mengkodekan variabel kategori menjadi numerik dengan teknik berbeda. mengonfigurasi kolom mana dalam data yang dikodekan berdasarkan nama atau indeks, atau menyimpulkan kolom non-numerik apa pun jenis inputnya.**\n",
        "\n",
        "##**Karena belum ada library Category Encoders pada goolgle collab maka kita install dulu dengan menggunakan !pip install category_encoders.**\n"
      ],
      "metadata": {
        "id": "1N1w-2rTCTbB"
      }
    },
    {
      "cell_type": "code",
      "execution_count": 2,
      "metadata": {
        "colab": {
          "base_uri": "https://localhost:8080/",
          "height": 0
        },
        "id": "EagwN-33uakJ",
        "outputId": "6d248482-9ab5-439c-8ab6-a70d13aa3c4a"
      },
      "outputs": [
        {
          "output_type": "stream",
          "name": "stdout",
          "text": [
            "Libraries used in this project:\n",
            "- Python 3.8.16 (default, Dec  7 2022, 01:12:13) \n",
            "[GCC 7.5.0]\n",
            "- Numpy 1.21.6\n",
            "- Pandas 1.3.5\n",
            "- Scipy 1.7.3\n",
            "- Matplotlib 3.2.2\n",
            "- Searborn 0.11.2\n",
            "- Scikit-Learn 1.0.2\n",
            "- Category Encoders 2.6.0\n"
          ]
        }
      ],
      "source": [
        "#Read System Parameters\n",
        "import sys\n",
        "#Multidimensional arrays\n",
        "import numpy as np\n",
        "#Manipulation and Analyze Data\n",
        "import pandas as pd\n",
        "#Advance Mathematical Functions\n",
        "import scipy as sp\n",
        "from scipy import stats\n",
        "#Visualization\n",
        "import matplotlib\n",
        "import matplotlib.pyplot as plt\n",
        "import seaborn as sns\n",
        "#Features Engineerng and Machine Learning Algorithm\n",
        "import sklearn\n",
        "from sklearn.preprocessing import StandardScaler\n",
        "from sklearn.decomposition import PCA\n",
        "#Encode Data and SUppress Warnings\n",
        "import category_encoders as ce\n",
        "import warnings\n",
        "#Summarize software libraries used.\n",
        "print('Libraries used in this project:')\n",
        "print('- Python {}'.format(sys.version))\n",
        "print('- Numpy {}'.format(np.__version__))\n",
        "print('- Pandas {}'.format(pd.__version__))\n",
        "print('- Scipy {}'.format(sp.__version__))\n",
        "print('- Matplotlib {}'.format(matplotlib.__version__))\n",
        "print('- Searborn {}'.format(sns.__version__))\n",
        "print('- Scikit-Learn {}'.format(sklearn.__version__))\n",
        "print('- Category Encoders {}'.format(ce.__version__))"
      ]
    },
    {
      "cell_type": "markdown",
      "source": [
        "##**ANALISA**\n",
        "\n",
        "##**1. Numpy merupakan salah satu library yang digunakan oleh library lain seperti Scikit-Learn untuk keperluan analisis data. untuk operasi vektor dan matriks.**\n",
        "##**2. Pandas dapat mengolah suatu data. Pandas digunakan untuk manipulasi dan analisis data.**\n",
        "##**3. SciPy atau Scientific Python digunakan untuk masalah matematika, sains, dan teknik yang kompleks.**\n",
        "##**4. Matplotlib digunakan untuk membuat visualisasi data yang statis, animasi, dan interaktif.**\n",
        "##**5. Seaborn digunakan untuk visualisasi data statistik digunakan pada data frame dan array. Selain itu, Seaborn juga berfungsi untuk plot dasar– grafik batang, grafik garis, dan diagram lingkaran.**\n",
        "##**6. Scikit-Learn Menampilkan algoritma klasifikasi, regresi, dan pengelompokan,berfungsi untuk menangani standard machine learning dan aplikasi penambangan data.**"
      ],
      "metadata": {
        "id": "uE9h354aCya4"
      }
    },
    {
      "cell_type": "markdown",
      "metadata": {
        "id": "SRe8ZR7wunV-"
      },
      "source": [
        "##L**oad and preview the data**"
      ]
    },
    {
      "cell_type": "code",
      "execution_count": 3,
      "metadata": {
        "colab": {
          "base_uri": "https://localhost:8080/",
          "height": 10508
        },
        "id": "9IamSeM_wexO",
        "outputId": "4dfc0eca-172b-49a9-f8c7-8e53652a2e51"
      },
      "outputs": [
        {
          "output_type": "display_data",
          "data": {
            "text/plain": [
              "<IPython.core.display.HTML object>"
            ],
            "text/html": [
              "\n",
              "     <input type=\"file\" id=\"files-6d7b91e9-b1b8-4e38-96fd-2e7d8b77a934\" name=\"files[]\" multiple disabled\n",
              "        style=\"border:none\" />\n",
              "     <output id=\"result-6d7b91e9-b1b8-4e38-96fd-2e7d8b77a934\">\n",
              "      Upload widget is only available when the cell has been executed in the\n",
              "      current browser session. Please rerun this cell to enable.\n",
              "      </output>\n",
              "      <script>// Copyright 2017 Google LLC\n",
              "//\n",
              "// Licensed under the Apache License, Version 2.0 (the \"License\");\n",
              "// you may not use this file except in compliance with the License.\n",
              "// You may obtain a copy of the License at\n",
              "//\n",
              "//      http://www.apache.org/licenses/LICENSE-2.0\n",
              "//\n",
              "// Unless required by applicable law or agreed to in writing, software\n",
              "// distributed under the License is distributed on an \"AS IS\" BASIS,\n",
              "// WITHOUT WARRANTIES OR CONDITIONS OF ANY KIND, either express or implied.\n",
              "// See the License for the specific language governing permissions and\n",
              "// limitations under the License.\n",
              "\n",
              "/**\n",
              " * @fileoverview Helpers for google.colab Python module.\n",
              " */\n",
              "(function(scope) {\n",
              "function span(text, styleAttributes = {}) {\n",
              "  const element = document.createElement('span');\n",
              "  element.textContent = text;\n",
              "  for (const key of Object.keys(styleAttributes)) {\n",
              "    element.style[key] = styleAttributes[key];\n",
              "  }\n",
              "  return element;\n",
              "}\n",
              "\n",
              "// Max number of bytes which will be uploaded at a time.\n",
              "const MAX_PAYLOAD_SIZE = 100 * 1024;\n",
              "\n",
              "function _uploadFiles(inputId, outputId) {\n",
              "  const steps = uploadFilesStep(inputId, outputId);\n",
              "  const outputElement = document.getElementById(outputId);\n",
              "  // Cache steps on the outputElement to make it available for the next call\n",
              "  // to uploadFilesContinue from Python.\n",
              "  outputElement.steps = steps;\n",
              "\n",
              "  return _uploadFilesContinue(outputId);\n",
              "}\n",
              "\n",
              "// This is roughly an async generator (not supported in the browser yet),\n",
              "// where there are multiple asynchronous steps and the Python side is going\n",
              "// to poll for completion of each step.\n",
              "// This uses a Promise to block the python side on completion of each step,\n",
              "// then passes the result of the previous step as the input to the next step.\n",
              "function _uploadFilesContinue(outputId) {\n",
              "  const outputElement = document.getElementById(outputId);\n",
              "  const steps = outputElement.steps;\n",
              "\n",
              "  const next = steps.next(outputElement.lastPromiseValue);\n",
              "  return Promise.resolve(next.value.promise).then((value) => {\n",
              "    // Cache the last promise value to make it available to the next\n",
              "    // step of the generator.\n",
              "    outputElement.lastPromiseValue = value;\n",
              "    return next.value.response;\n",
              "  });\n",
              "}\n",
              "\n",
              "/**\n",
              " * Generator function which is called between each async step of the upload\n",
              " * process.\n",
              " * @param {string} inputId Element ID of the input file picker element.\n",
              " * @param {string} outputId Element ID of the output display.\n",
              " * @return {!Iterable<!Object>} Iterable of next steps.\n",
              " */\n",
              "function* uploadFilesStep(inputId, outputId) {\n",
              "  const inputElement = document.getElementById(inputId);\n",
              "  inputElement.disabled = false;\n",
              "\n",
              "  const outputElement = document.getElementById(outputId);\n",
              "  outputElement.innerHTML = '';\n",
              "\n",
              "  const pickedPromise = new Promise((resolve) => {\n",
              "    inputElement.addEventListener('change', (e) => {\n",
              "      resolve(e.target.files);\n",
              "    });\n",
              "  });\n",
              "\n",
              "  const cancel = document.createElement('button');\n",
              "  inputElement.parentElement.appendChild(cancel);\n",
              "  cancel.textContent = 'Cancel upload';\n",
              "  const cancelPromise = new Promise((resolve) => {\n",
              "    cancel.onclick = () => {\n",
              "      resolve(null);\n",
              "    };\n",
              "  });\n",
              "\n",
              "  // Wait for the user to pick the files.\n",
              "  const files = yield {\n",
              "    promise: Promise.race([pickedPromise, cancelPromise]),\n",
              "    response: {\n",
              "      action: 'starting',\n",
              "    }\n",
              "  };\n",
              "\n",
              "  cancel.remove();\n",
              "\n",
              "  // Disable the input element since further picks are not allowed.\n",
              "  inputElement.disabled = true;\n",
              "\n",
              "  if (!files) {\n",
              "    return {\n",
              "      response: {\n",
              "        action: 'complete',\n",
              "      }\n",
              "    };\n",
              "  }\n",
              "\n",
              "  for (const file of files) {\n",
              "    const li = document.createElement('li');\n",
              "    li.append(span(file.name, {fontWeight: 'bold'}));\n",
              "    li.append(span(\n",
              "        `(${file.type || 'n/a'}) - ${file.size} bytes, ` +\n",
              "        `last modified: ${\n",
              "            file.lastModifiedDate ? file.lastModifiedDate.toLocaleDateString() :\n",
              "                                    'n/a'} - `));\n",
              "    const percent = span('0% done');\n",
              "    li.appendChild(percent);\n",
              "\n",
              "    outputElement.appendChild(li);\n",
              "\n",
              "    const fileDataPromise = new Promise((resolve) => {\n",
              "      const reader = new FileReader();\n",
              "      reader.onload = (e) => {\n",
              "        resolve(e.target.result);\n",
              "      };\n",
              "      reader.readAsArrayBuffer(file);\n",
              "    });\n",
              "    // Wait for the data to be ready.\n",
              "    let fileData = yield {\n",
              "      promise: fileDataPromise,\n",
              "      response: {\n",
              "        action: 'continue',\n",
              "      }\n",
              "    };\n",
              "\n",
              "    // Use a chunked sending to avoid message size limits. See b/62115660.\n",
              "    let position = 0;\n",
              "    do {\n",
              "      const length = Math.min(fileData.byteLength - position, MAX_PAYLOAD_SIZE);\n",
              "      const chunk = new Uint8Array(fileData, position, length);\n",
              "      position += length;\n",
              "\n",
              "      const base64 = btoa(String.fromCharCode.apply(null, chunk));\n",
              "      yield {\n",
              "        response: {\n",
              "          action: 'append',\n",
              "          file: file.name,\n",
              "          data: base64,\n",
              "        },\n",
              "      };\n",
              "\n",
              "      let percentDone = fileData.byteLength === 0 ?\n",
              "          100 :\n",
              "          Math.round((position / fileData.byteLength) * 100);\n",
              "      percent.textContent = `${percentDone}% done`;\n",
              "\n",
              "    } while (position < fileData.byteLength);\n",
              "  }\n",
              "\n",
              "  // All done.\n",
              "  yield {\n",
              "    response: {\n",
              "      action: 'complete',\n",
              "    }\n",
              "  };\n",
              "}\n",
              "\n",
              "scope.google = scope.google || {};\n",
              "scope.google.colab = scope.google.colab || {};\n",
              "scope.google.colab._files = {\n",
              "  _uploadFiles,\n",
              "  _uploadFilesContinue,\n",
              "};\n",
              "})(self);\n",
              "</script> "
            ]
          },
          "metadata": {}
        },
        {
          "output_type": "stream",
          "name": "stdout",
          "text": [
            "Saving titanic-passenger-list.csv to titanic-passenger-list (2).csv\n"
          ]
        },
        {
          "output_type": "execute_result",
          "data": {
            "text/plain": [
              "{'titanic-passenger-list.csv': b'user_id,pclass,survived,name,sex,age,sibsp,parch,ticket,fare,cabin,embarked,boat,body,home.dest\\nM0001,1,1,\"Allen, Miss. Elisabeth Walton\",female,29,0,0,24160,211.3375,B5,S,2,,\"St Louis, MO\"\\nM0002,1,1,\"Allison, Master. Hudson Trevor\",male,0.92,1,2,113781,151.55,C22 C26,S,11,,\"Montreal, PQ / Chesterville, ON\"\\nM0003,1,0,\"Allison, Miss. Helen Loraine\",female,2,1,2,113781,151.55,C22 C26,S,,,\"Montreal, PQ / Chesterville, ON\"\\nM0004,1,0,\"Allison, Mr. Hudson Joshua Creighton\",male,30,1,2,113781,151.55,C22 C26,S,,135,\"Montreal, PQ / Chesterville, ON\"\\nM0005,1,0,\"Allison, Mrs. Hudson J C (Bessie Waldo Daniels)\",female,25,1,2,113781,151.55,C22 C26,S,,,\"Montreal, PQ / Chesterville, ON\"\\nM0006,1,1,\"Anderson, Mr. Harry\",male,48,0,0,19952,26.55,E12,S,3,,\"New York, NY\"\\nM0007,1,1,\"Andrews, Miss. Kornelia Theodosia\",female,63,1,0,13502,77.9583,D7,S,10,,\"Hudson, NY\"\\nM0008,1,0,\"Andrews, Mr. Thomas Jr\",male,39,0,0,112050,0,A36,S,,,\"Belfast, NI\"\\nM0009,1,1,\"Appleton, Mrs. Edward Dale (Charlotte Lamson)\",female,53,2,0,11769,51.4792,C101,S,D,,\"Bayside, Queens, NY\"\\nM0010,1,0,\"Artagaveytia, Mr. Ramon\",male,71,0,0,PC 17609,49.5042,,C,,22,\"Montevideo, Uruguay\"\\nM0011,1,0,\"Astor, Col. John Jacob\",male,47,1,0,PC 17757,227.525,C62 C64,C,,124,\"New York, NY\"\\nM0012,1,1,\"Astor, Mrs. John Jacob (Madeleine Talmadge Force)\",female,18,1,0,PC 17757,227.525,C62 C64,C,4,,\"New York, NY\"\\nM0013,1,1,\"Aubart, Mme. Leontine Pauline\",female,24,0,0,PC 17477,69.3,B35,C,9,,\"Paris, France\"\\nM0014,1,1,\"Barber, Miss. Ellen \"\"Nellie\"\"\",female,26,0,0,19877,78.85,,S,6,,\\nM0015,1,1,\"Barkworth, Mr. Algernon Henry Wilson\",male,80,0,0,27042,30,A23,S,B,,\"Hessle, Yorks\"\\nM0016,1,0,\"Baumann, Mr. John D\",male,,0,0,PC 17318,25.925,,S,,,\"New York, NY\"\\nM0017,1,0,\"Baxter, Mr. Quigg Edmond\",male,24,0,1,PC 17558,247.5208,B58 B60,C,,,\"Montreal, PQ\"\\nM0018,1,1,\"Baxter, Mrs. James (Helene DeLaudeniere Chaput)\",female,50,0,1,PC 17558,247.5208,B58 B60,C,6,,\"Montreal, PQ\"\\nM0019,1,1,\"Bazzani, Miss. Albina\",female,32,0,0,11813,76.2917,D15,C,8,,\\nM0020,1,0,\"Beattie, Mr. Thomson\",male,36,0,0,13050,75.2417,C6,C,A,,\"Winnipeg, MN\"\\nM0021,1,1,\"Beckwith, Mr. Richard Leonard\",male,37,1,1,11751,52.5542,D35,S,5,,\"New York, NY\"\\nM0022,1,1,\"Beckwith, Mrs. Richard Leonard (Sallie Monypeny)\",female,47,1,1,11751,52.5542,D35,S,5,,\"New York, NY\"\\nM0023,1,1,\"Behr, Mr. Karl Howell\",male,26,0,0,111369,30,C148,C,5,,\"New York, NY\"\\nM0024,1,1,\"Bidois, Miss. Rosalie\",female,42,0,0,PC 17757,227.525,,C,4,,\\nM0025,1,1,\"Bird, Miss. Ellen\",female,29,0,0,PC 17483,221.7792,C97,S,8,,\\nM0026,1,0,\"Birnbaum, Mr. Jakob\",male,25,0,0,13905,26,,C,,148,\"San Francisco, CA\"\\nM0027,1,1,\"Bishop, Mr. Dickinson H\",male,25,1,0,11967,91.0792,B49,C,7,,\"Dowagiac, MI\"\\nM0028,1,1,\"Bishop, Mrs. Dickinson H (Helen Walton)\",female,19,1,0,11967,91.0792,B49,C,7,,\"Dowagiac, MI\"\\nM0029,1,1,\"Bissette, Miss. Amelia\",female,35,0,0,PC 17760,135.6333,C99,S,8,,\\nM0030,1,1,\"Bjornstrom-Steffansson, Mr. Mauritz Hakan\",male,28,0,0,110564,26.55,C52,S,D,,\"Stockholm, Sweden / Washington, DC\"\\nM0031,1,0,\"Blackwell, Mr. Stephen Weart\",male,45,0,0,113784,35.5,T,S,,,\"Trenton, NJ\"\\nM0032,1,1,\"Blank, Mr. Henry\",male,40,0,0,112277,31,A31,C,7,,\"Glen Ridge, NJ\"\\nM0033,1,1,\"Bonnell, Miss. Caroline\",female,30,0,0,36928,164.8667,C7,S,8,,\"Youngstown, OH\"\\nM0034,1,1,\"Bonnell, Miss. Elizabeth\",female,58,0,0,113783,26.55,C103,S,8,,\"Birkdale, England Cleveland, Ohio\"\\nM0035,1,0,\"Borebank, Mr. John James\",male,42,0,0,110489,26.55,D22,S,,,\"London / Winnipeg, MB\"\\nM0036,1,1,\"Bowen, Miss. Grace Scott\",female,45,0,0,PC 17608,262.375,,C,4,,\"Cooperstown, NY\"\\nM0037,1,1,\"Bowerman, Miss. Elsie Edith\",female,22,0,1,113505,55,E33,S,6,,\"St Leonards-on-Sea, England Ohio\"\\nM0038,1,1,\"Bradley, Mr. George (\"\"George Arthur Brayton\"\")\",male,,0,0,111427,26.55,,S,9,,\"Los Angeles, CA\"\\nM0039,1,0,\"Brady, Mr. John Bertram\",male,41,0,0,113054,30.5,A21,S,,,\"Pomeroy, WA\"\\nM0040,1,0,\"Brandeis, Mr. Emil\",male,48,0,0,PC 17591,50.4958,B10,C,,208,\"Omaha, NE\"\\nM0041,1,0,\"Brewe, Dr. Arthur Jackson\",male,,0,0,112379,39.6,,C,,,\"Philadelphia, PA\"\\nM0042,1,1,\"Brown, Mrs. James Joseph (Margaret Tobin)\",female,44,0,0,PC 17610,27.7208,B4,C,6,,\"Denver, CO\"\\nM0043,1,1,\"Brown, Mrs. John Murray (Caroline Lane Lamson)\",female,59,2,0,11769,51.4792,C101,S,D,,\"Belmont, MA\"\\nM0044,1,1,\"Bucknell, Mrs. William Robert (Emma Eliza Ward)\",female,60,0,0,11813,76.2917,D15,C,8,,\"Philadelphia, PA\"\\nM0045,1,1,\"Burns, Miss. Elizabeth Margaret\",female,41,0,0,16966,134.5,E40,C,3,,\\nM0046,1,0,\"Butt, Major. Archibald Willingham\",male,45,0,0,113050,26.55,B38,S,,,\"Washington, DC\"\\nM0047,1,0,\"Cairns, Mr. Alexander\",male,,0,0,113798,31,,S,,,\\nM0048,1,1,\"Calderhead, Mr. Edward Pennington\",male,42,0,0,PC 17476,26.2875,E24,S,5,,\"New York, NY\"\\nM0049,1,1,\"Candee, Mrs. Edward (Helen Churchill Hungerford)\",female,53,0,0,PC 17606,27.4458,,C,6,,\"Washington, DC\"\\nM0050,1,1,\"Cardeza, Mr. Thomas Drake Martinez\",male,36,0,1,PC 17755,512.3292,B51 B53 B55,C,3,,\"Austria-Hungary / Germantown, Philadelphia, PA\"\\nM0051,1,1,\"Cardeza, Mrs. James Warburton Martinez (Charlotte Wardle Drake)\",female,58,0,1,PC 17755,512.3292,B51 B53 B55,C,3,,\"Germantown, Philadelphia, PA\"\\nM0052,1,0,\"Carlsson, Mr. Frans Olof\",male,33,0,0,695,5,B51 B53 B55,S,,,\"New York, NY\"\\nM0053,1,0,\"Carrau, Mr. Francisco M\",male,28,0,0,113059,47.1,,S,,,\"Montevideo, Uruguay\"\\nM0054,1,0,\"Carrau, Mr. Jose Pedro\",male,17,0,0,113059,47.1,,S,,,\"Montevideo, Uruguay\"\\nM0055,1,1,\"Carter, Master. William Thornton II\",male,11,1,2,113760,120,B96 B98,S,4,,\"Bryn Mawr, PA\"\\nM0056,1,1,\"Carter, Miss. Lucile Polk\",female,14,1,2,113760,120,B96 B98,S,4,,\"Bryn Mawr, PA\"\\nM0057,1,1,\"Carter, Mr. William Ernest\",male,36,1,2,113760,120,B96 B98,S,C,,\"Bryn Mawr, PA\"\\nM0058,1,1,\"Carter, Mrs. William Ernest (Lucile Polk)\",female,36,1,2,113760,120,B96 B98,S,4,,\"Bryn Mawr, PA\"\\nM0059,1,0,\"Case, Mr. Howard Brown\",male,49,0,0,19924,26,,S,,,\"Ascot, Berkshire / Rochester, NY\"\\nM0060,1,1,\"Cassebeer, Mrs. Henry Arthur Jr (Eleanor Genevieve Fosdick)\",female,,0,0,17770,27.7208,,C,5,,\"New York, NY\"\\nM0061,1,0,\"Cavendish, Mr. Tyrell William\",male,36,1,0,19877,78.85,C46,S,,172,\"Little Onn Hall, Staffs\"\\nM0062,1,1,\"Cavendish, Mrs. Tyrell William (Julia Florence Siegel)\",female,76,1,0,19877,78.85,C46,S,6,,\"Little Onn Hall, Staffs\"\\nM0063,1,0,\"Chaffee, Mr. Herbert Fuller\",male,46,1,0,W.E.P. 5734,61.175,E31,S,,,\"Amenia, ND\"\\nM0064,1,1,\"Chaffee, Mrs. Herbert Fuller (Carrie Constance Toogood)\",female,47,1,0,W.E.P. 5734,61.175,E31,S,4,,\"Amenia, ND\"\\nM0065,1,1,\"Chambers, Mr. Norman Campbell\",male,27,1,0,113806,53.1,E8,S,5,,\"New York, NY / Ithaca, NY\"\\nM0066,1,1,\"Chambers, Mrs. Norman Campbell (Bertha Griggs)\",female,33,1,0,113806,53.1,E8,S,5,,\"New York, NY / Ithaca, NY\"\\nM0067,1,1,\"Chaudanson, Miss. Victorine\",female,36,0,0,PC 17608,262.375,B61,C,4,,\\nM0068,1,1,\"Cherry, Miss. Gladys\",female,30,0,0,110152,86.5,B77,S,8,,\"London, England\"\\nM0069,1,1,\"Chevre, Mr. Paul Romaine\",male,45,0,0,PC 17594,29.7,A9,C,7,,\"Paris, France\"\\nM0070,1,1,\"Chibnall, Mrs. (Edith Martha Bowerman)\",female,,0,1,113505,55,E33,S,6,,\"St Leonards-on-Sea, England Ohio\"\\nM0071,1,0,\"Chisholm, Mr. Roderick Robert Crispin\",male,,0,0,112051,0,,S,,,\"Liverpool, England / Belfast\"\\nM0072,1,0,\"Clark, Mr. Walter Miller\",male,27,1,0,13508,136.7792,C89,C,,,\"Los Angeles, CA\"\\nM0073,1,1,\"Clark, Mrs. Walter Miller (Virginia McDowell)\",female,26,1,0,13508,136.7792,C89,C,4,,\"Los Angeles, CA\"\\nM0074,1,1,\"Cleaver, Miss. Alice\",female,22,0,0,113781,151.55,,S,11,,\\nM0075,1,0,\"Clifford, Mr. George Quincy\",male,,0,0,110465,52,A14,S,,,\"Stoughton, MA\"\\nM0076,1,0,\"Colley, Mr. Edward Pomeroy\",male,47,0,0,5727,25.5875,E58,S,,,\"Victoria, BC\"\\nM0077,1,1,\"Compton, Miss. Sara Rebecca\",female,39,1,1,PC 17756,83.1583,E49,C,14,,\"Lakewood, NJ\"\\nM0078,1,0,\"Compton, Mr. Alexander Taylor Jr\",male,37,1,1,PC 17756,83.1583,E52,C,,,\"Lakewood, NJ\"\\nM0079,1,1,\"Compton, Mrs. Alexander Taylor (Mary Eliza Ingersoll)\",female,64,0,2,PC 17756,83.1583,E45,C,14,,\"Lakewood, NJ\"\\nM0080,1,1,\"Cornell, Mrs. Robert Clifford (Malvina Helen Lamson)\",female,55,2,0,11770,25.7,C101,S,2,,\"New York, NY\"\\nM0081,1,0,\"Crafton, Mr. John Bertram\",male,,0,0,113791,26.55,,S,,,\"Roachdale, IN\"\\nM0082,1,0,\"Crosby, Capt. Edward Gifford\",male,70,1,1,WE/P 5735,71,B22,S,,269,\"Milwaukee, WI\"\\nM0083,1,1,\"Crosby, Miss. Harriet R\",female,36,0,2,WE/P 5735,71,B22,S,7,,\"Milwaukee, WI\"\\nM0084,1,1,\"Crosby, Mrs. Edward Gifford (Catherine Elizabeth Halstead)\",female,64,1,1,112901,26.55,B26,S,7,,\"Milwaukee, WI\"\\nM0085,1,0,\"Cumings, Mr. John Bradley\",male,39,1,0,PC 17599,71.2833,C85,C,,,\"New York, NY\"\\nM0086,1,1,\"Cumings, Mrs. John Bradley (Florence Briggs Thayer)\",female,38,1,0,PC 17599,71.2833,C85,C,4,,\"New York, NY\"\\nM0087,1,1,\"Daly, Mr. Peter Denis \",male,51,0,0,113055,26.55,E17,S,5 9,,\"Lima, Peru\"\\nM0088,1,1,\"Daniel, Mr. Robert Williams\",male,27,0,0,113804,30.5,,S,3,,\"Philadelphia, PA\"\\nM0089,1,1,\"Daniels, Miss. Sarah\",female,33,0,0,113781,151.55,,S,8,,\\nM0090,1,0,\"Davidson, Mr. Thornton\",male,31,1,0,F.C. 12750,52,B71,S,,,\"Montreal, PQ\"\\nM0091,1,1,\"Davidson, Mrs. Thornton (Orian Hays)\",female,27,1,2,F.C. 12750,52,B71,S,3,,\"Montreal, PQ\"\\nM0092,1,1,\"Dick, Mr. Albert Adrian\",male,31,1,0,17474,57,B20,S,3,,\"Calgary, AB\"\\nM0093,1,1,\"Dick, Mrs. Albert Adrian (Vera Gillespie)\",female,17,1,0,17474,57,B20,S,3,,\"Calgary, AB\"\\nM0094,1,1,\"Dodge, Dr. Washington\",male,53,1,1,33638,81.8583,A34,S,13,,\"San Francisco, CA\"\\nM0095,1,1,\"Dodge, Master. Washington\",male,4,0,2,33638,81.8583,A34,S,5,,\"San Francisco, CA\"\\nM0096,1,1,\"Dodge, Mrs. Washington (Ruth Vidaver)\",female,54,1,1,33638,81.8583,A34,S,5,,\"San Francisco, CA\"\\nM0097,1,0,\"Douglas, Mr. Walter Donald\",male,50,1,0,PC 17761,106.425,C86,C,,62,\"Deephaven, MN / Cedar Rapids, IA\"\\nM0098,1,1,\"Douglas, Mrs. Frederick Charles (Mary Helene Baxter)\",female,27,1,1,PC 17558,247.5208,B58 B60,C,6,,\"Montreal, PQ\"\\nM0099,1,1,\"Douglas, Mrs. Walter Donald (Mahala Dutton)\",female,48,1,0,PC 17761,106.425,C86,C,2,,\"Deephaven, MN / Cedar Rapids, IA\"\\nM0100,1,1,\"Duff Gordon, Lady. (Lucille Christiana Sutherland) (\"\"Mrs Morgan\"\")\",female,48,1,0,11755,39.6,A16,C,1,,London / Paris\\nM0101,1,1,\"Duff Gordon, Sir. Cosmo Edmund (\"\"Mr Morgan\"\")\",male,49,1,0,PC 17485,56.9292,A20,C,1,,London / Paris\\nM0102,1,0,\"Dulles, Mr. William Crothers\",male,39,0,0,PC 17580,29.7,A18,C,,133,\"Philadelphia, PA\"\\nM0103,1,1,\"Earnshaw, Mrs. Boulton (Olive Potter)\",female,23,0,1,11767,83.1583,C54,C,7,,\"Mt Airy, Philadelphia, PA\"\\nM0104,1,1,\"Endres, Miss. Caroline Louise\",female,38,0,0,PC 17757,227.525,C45,C,4,,\"New York, NY\"\\nM0105,1,1,\"Eustis, Miss. Elizabeth Mussey\",female,54,1,0,36947,78.2667,D20,C,4,,\"Brookline, MA\"\\nM0106,1,0,\"Evans, Miss. Edith Corse\",female,36,0,0,PC 17531,31.6792,A29,C,,,\"New York, NY\"\\nM0107,1,0,\"Farthing, Mr. John\",male,,0,0,PC 17483,221.7792,C95,S,,,\\nM0108,1,1,\"Flegenheim, Mrs. Alfred (Antoinette)\",female,,0,0,PC 17598,31.6833,,S,7,,\"New York, NY\"\\nM0109,1,1,\"Fleming, Miss. Margaret\",female,,0,0,17421,110.8833,,C,4,,\\nM0110,1,1,\"Flynn, Mr. John Irwin (\"\"Irving\"\")\",male,36,0,0,PC 17474,26.3875,E25,S,5,,\"Brooklyn, NY\"\\nM0111,1,0,\"Foreman, Mr. Benjamin Laventall\",male,30,0,0,113051,27.75,C111,C,,,\"New York, NY\"\\nM0112,1,1,\"Fortune, Miss. Alice Elizabeth\",female,24,3,2,19950,263,C23 C25 C27,S,10,,\"Winnipeg, MB\"\\nM0113,1,1,\"Fortune, Miss. Ethel Flora\",female,28,3,2,19950,263,C23 C25 C27,S,10,,\"Winnipeg, MB\"\\nM0114,1,1,\"Fortune, Miss. Mabel Helen\",female,23,3,2,19950,263,C23 C25 C27,S,10,,\"Winnipeg, MB\"\\nM0115,1,0,\"Fortune, Mr. Charles Alexander\",male,19,3,2,19950,263,C23 C25 C27,S,,,\"Winnipeg, MB\"\\nM0116,1,0,\"Fortune, Mr. Mark\",male,64,1,4,19950,263,C23 C25 C27,S,,,\"Winnipeg, MB\"\\nM0117,1,1,\"Fortune, Mrs. Mark (Mary McDougald)\",female,60,1,4,19950,263,C23 C25 C27,S,10,,\"Winnipeg, MB\"\\nM0118,1,1,\"Francatelli, Miss. Laura Mabel\",female,30,0,0,PC 17485,56.9292,E36,C,1,,\\nM0119,1,0,\"Franklin, Mr. Thomas Parham\",male,,0,0,113778,26.55,D34,S,,,\"Westcliff-on-Sea, Essex\"\\nM0120,1,1,\"Frauenthal, Dr. Henry William\",male,50,2,0,PC 17611,133.65,,S,5,,\"New York, NY\"\\nM0121,1,1,\"Frauenthal, Mr. Isaac Gerald\",male,43,1,0,17765,27.7208,D40,C,5,,\"New York, NY\"\\nM0122,1,1,\"Frauenthal, Mrs. Henry William (Clara Heinsheimer)\",female,,1,0,PC 17611,133.65,,S,5,,\"New York, NY\"\\nM0123,1,1,\"Frolicher, Miss. Hedwig Margaritha\",female,22,0,2,13568,49.5,B39,C,5,,\"Zurich, Switzerland\"\\nM0124,1,1,\"Frolicher-Stehli, Mr. Maxmillian\",male,60,1,1,13567,79.2,B41,C,5,,\"Zurich, Switzerland\"\\nM0125,1,1,\"Frolicher-Stehli, Mrs. Maxmillian (Margaretha Emerentia Stehli)\",female,48,1,1,13567,79.2,B41,C,5,,\"Zurich, Switzerland\"\\nM0126,1,0,\"Fry, Mr. Richard\",male,,0,0,112058,0,B102,S,,,\\nM0127,1,0,\"Futrelle, Mr. Jacques Heath\",male,37,1,0,113803,53.1,C123,S,,,\"Scituate, MA\"\\nM0128,1,1,\"Futrelle, Mrs. Jacques Heath (Lily May Peel)\",female,35,1,0,113803,53.1,C123,S,D,,\"Scituate, MA\"\\nM0129,1,0,\"Gee, Mr. Arthur H\",male,47,0,0,111320,38.5,E63,S,,275,\"St Anne\\'s-on-Sea, Lancashire\"\\nM0130,1,1,\"Geiger, Miss. Amalie\",female,35,0,0,113503,211.5,C130,C,4,,\\nM0131,1,1,\"Gibson, Miss. Dorothy Winifred\",female,22,0,1,112378,59.4,,C,7,,\"New York, NY\"\\nM0132,1,1,\"Gibson, Mrs. Leonard (Pauline C Boeson)\",female,45,0,1,112378,59.4,,C,7,,\"New York, NY\"\\nM0133,1,0,\"Giglio, Mr. Victor\",male,24,0,0,PC 17593,79.2,B86,C,,,\\nM0134,1,1,\"Goldenberg, Mr. Samuel L\",male,49,1,0,17453,89.1042,C92,C,5,,\"Paris, France / New York, NY\"\\nM0135,1,1,\"Goldenberg, Mrs. Samuel L (Edwiga Grabowska)\",female,,1,0,17453,89.1042,C92,C,5,,\"Paris, France / New York, NY\"\\nM0136,1,0,\"Goldschmidt, Mr. George B\",male,71,0,0,PC 17754,34.6542,A5,C,,,\"New York, NY\"\\nM0137,1,1,\"Gracie, Col. Archibald IV\",male,53,0,0,113780,28.5,C51,C,B,,\"Washington, DC\"\\nM0138,1,1,\"Graham, Miss. Margaret Edith\",female,19,0,0,112053,30,B42,S,3,,\"Greenwich, CT\"\\nM0139,1,0,\"Graham, Mr. George Edward\",male,38,0,1,PC 17582,153.4625,C91,S,,147,\"Winnipeg, MB\"\\nM0140,1,1,\"Graham, Mrs. William Thompson (Edith Junkins)\",female,58,0,1,PC 17582,153.4625,C125,S,3,,\"Greenwich, CT\"\\nM0141,1,1,\"Greenfield, Mr. William Bertram\",male,23,0,1,PC 17759,63.3583,D10 D12,C,7,,\"New York, NY\"\\nM0142,1,1,\"Greenfield, Mrs. Leo David (Blanche Strouse)\",female,45,0,1,PC 17759,63.3583,D10 D12,C,7,,\"New York, NY\"\\nM0143,1,0,\"Guggenheim, Mr. Benjamin\",male,46,0,0,PC 17593,79.2,B82 B84,C,,,\"New York, NY\"\\nM0144,1,1,\"Harder, Mr. George Achilles\",male,25,1,0,11765,55.4417,E50,C,5,,\"Brooklyn, NY\"\\nM0145,1,1,\"Harder, Mrs. George Achilles (Dorothy Annan)\",female,25,1,0,11765,55.4417,E50,C,5,,\"Brooklyn, NY\"\\nM0146,1,1,\"Harper, Mr. Henry Sleeper\",male,48,1,0,PC 17572,76.7292,D33,C,3,,\"New York, NY\"\\nM0147,1,1,\"Harper, Mrs. Henry Sleeper (Myna Haxtun)\",female,49,1,0,PC 17572,76.7292,D33,C,3,,\"New York, NY\"\\nM0148,1,0,\"Harrington, Mr. Charles H\",male,,0,0,113796,42.4,,S,,,\\nM0149,1,0,\"Harris, Mr. Henry Birkhardt\",male,45,1,0,36973,83.475,C83,S,,,\"New York, NY\"\\nM0150,1,1,\"Harris, Mrs. Henry Birkhardt (Irene Wallach)\",female,35,1,0,36973,83.475,C83,S,D,,\"New York, NY\"\\nM0151,1,0,\"Harrison, Mr. William\",male,40,0,0,112059,0,B94,S,,110,\\nM0152,1,1,\"Hassab, Mr. Hammad\",male,27,0,0,PC 17572,76.7292,D49,C,3,,\\nM0153,1,1,\"Hawksford, Mr. Walter James\",male,,0,0,16988,30,D45,S,3,,\"Kingston, Surrey\"\\nM0154,1,1,\"Hays, Miss. Margaret Bechstein\",female,24,0,0,11767,83.1583,C54,C,7,,\"New York, NY\"\\nM0155,1,0,\"Hays, Mr. Charles Melville\",male,55,1,1,12749,93.5,B69,S,,307,\"Montreal, PQ\"\\nM0156,1,1,\"Hays, Mrs. Charles Melville (Clara Jennings Gregg)\",female,52,1,1,12749,93.5,B69,S,3,,\"Montreal, PQ\"\\nM0157,1,0,\"Head, Mr. Christopher\",male,42,0,0,113038,42.5,B11,S,,,London / Middlesex\\nM0158,1,0,\"Hilliard, Mr. Herbert Henry\",male,,0,0,17463,51.8625,E46,S,,,\"Brighton, MA\"\\nM0159,1,0,\"Hipkins, Mr. William Edward\",male,55,0,0,680,50,C39,S,,,London / Birmingham\\nM0160,1,1,\"Hippach, Miss. Jean Gertrude\",female,16,0,1,111361,57.9792,B18,C,4,,\"Chicago, IL\"\\nM0161,1,1,\"Hippach, Mrs. Louis Albert (Ida Sophia Fischer)\",female,44,0,1,111361,57.9792,B18,C,4,,\"Chicago, IL\"\\nM0162,1,1,\"Hogeboom, Mrs. John C (Anna Andrews)\",female,51,1,0,13502,77.9583,D11,S,10,,\"Hudson, NY\"\\nM0163,1,0,\"Holverson, Mr. Alexander Oskar\",male,42,1,0,113789,52,,S,,38,\"New York, NY\"\\nM0164,1,1,\"Holverson, Mrs. Alexander Oskar (Mary Aline Towner)\",female,35,1,0,113789,52,,S,8,,\"New York, NY\"\\nM0165,1,1,\"Homer, Mr. Harry (\"\"Mr E Haven\"\")\",male,35,0,0,111426,26.55,,C,15,,\"Indianapolis, IN\"\\nM0166,1,1,\"Hoyt, Mr. Frederick Maxfield\",male,38,1,0,19943,90,C93,S,D,,\"New York, NY /  Stamford CT\"\\nM0167,1,0,\"Hoyt, Mr. William Fisher\",male,,0,0,PC 17600,30.6958,,C,14,,\"New York, NY\"\\nM0168,1,1,\"Hoyt, Mrs. Frederick Maxfield (Jane Anne Forby)\",female,35,1,0,19943,90,C93,S,D,,\"New York, NY /  Stamford CT\"\\nM0169,1,1,\"Icard, Miss. Amelie\",female,38,0,0,113572,80,B28,,6,,\\nM0170,1,0,\"Isham, Miss. Ann Elizabeth\",female,50,0,0,PC 17595,28.7125,C49,C,,,\"Paris, France New York, NY\"\\nM0171,1,1,\"Ismay, Mr. Joseph Bruce\",male,49,0,0,112058,0,B52 B54 B56,S,C,,Liverpool\\nM0172,1,0,\"Jones, Mr. Charles Cresson\",male,46,0,0,694,26,,S,,80,\"Bennington, VT\"\\nM0173,1,0,\"Julian, Mr. Henry Forbes\",male,50,0,0,113044,26,E60,S,,,London\\nM0174,1,0,\"Keeping, Mr. Edwin\",male,32.5,0,0,113503,211.5,C132,C,,45,\\nM0175,1,0,\"Kent, Mr. Edward Austin\",male,58,0,0,11771,29.7,B37,C,,258,\"Buffalo, NY\"\\nM0176,1,0,\"Kenyon, Mr. Frederick R\",male,41,1,0,17464,51.8625,D21,S,,,\"Southington / Noank, CT\"\\nM0177,1,1,\"Kenyon, Mrs. Frederick R (Marion)\",female,,1,0,17464,51.8625,D21,S,8,,\"Southington / Noank, CT\"\\nM0178,1,1,\"Kimball, Mr. Edwin Nelson Jr\",male,42,1,0,11753,52.5542,D19,S,5,,\"Boston, MA\"\\nM0179,1,1,\"Kimball, Mrs. Edwin Nelson Jr (Gertrude Parsons)\",female,45,1,0,11753,52.5542,D19,S,5,,\"Boston, MA\"\\nM0180,1,0,\"Klaber, Mr. Herman\",male,,0,0,113028,26.55,C124,S,,,\"Portland, OR\"\\nM0181,1,1,\"Kreuchen, Miss. Emilie\",female,39,0,0,24160,211.3375,,S,2,,\\nM0182,1,1,\"Leader, Dr. Alice (Farnham)\",female,49,0,0,17465,25.9292,D17,S,8,,\"New York, NY\"\\nM0183,1,1,\"LeRoy, Miss. Bertha\",female,30,0,0,PC 17761,106.425,,C,2,,\\nM0184,1,1,\"Lesurer, Mr. Gustave J\",male,35,0,0,PC 17755,512.3292,B101,C,3,,\\nM0185,1,0,\"Lewy, Mr. Ervin G\",male,,0,0,PC 17612,27.7208,,C,,,\"Chicago, IL\"\\nM0186,1,0,\"Lindeberg-Lind, Mr. Erik Gustaf (\"\"Mr Edward Lingrey\"\")\",male,42,0,0,17475,26.55,,S,,,\"Stockholm, Sweden\"\\nM0187,1,1,\"Lindstrom, Mrs. Carl Johan (Sigrid Posse)\",female,55,0,0,112377,27.7208,,C,6,,\"Stockholm, Sweden\"\\nM0188,1,1,\"Lines, Miss. Mary Conover\",female,16,0,1,PC 17592,39.4,D28,S,9,,\"Paris, France\"\\nM0189,1,1,\"Lines, Mrs. Ernest H (Elizabeth Lindsey James)\",female,51,0,1,PC 17592,39.4,D28,S,9,,\"Paris, France\"\\nM0190,1,0,\"Long, Mr. Milton Clyde\",male,29,0,0,113501,30,D6,S,,126,\"Springfield, MA\"\\nM0191,1,1,\"Longley, Miss. Gretchen Fiske\",female,21,0,0,13502,77.9583,D9,S,10,,\"Hudson, NY\"\\nM0192,1,0,\"Loring, Mr. Joseph Holland\",male,30,0,0,113801,45.5,,S,,,\"London / New York, NY\"\\nM0193,1,1,\"Lurette, Miss. Elise\",female,58,0,0,PC 17569,146.5208,B80,C,,,\\nM0194,1,1,\"Madill, Miss. Georgette Alexandra\",female,15,0,1,24160,211.3375,B5,S,2,,\"St Louis, MO\"\\nM0195,1,0,\"Maguire, Mr. John Edward\",male,30,0,0,110469,26,C106,S,,,\"Brockton, MA\"\\nM0196,1,1,\"Maioni, Miss. Roberta\",female,16,0,0,110152,86.5,B79,S,8,,\\nM0197,1,1,\"Marechal, Mr. Pierre\",male,,0,0,11774,29.7,C47,C,7,,\"Paris, France\"\\nM0198,1,0,\"Marvin, Mr. Daniel Warner\",male,19,1,0,113773,53.1,D30,S,,,\"New York, NY\"\\nM0199,1,1,\"Marvin, Mrs. Daniel Warner (Mary Graham Carmichael Farquarson)\",female,18,1,0,113773,53.1,D30,S,10,,\"New York, NY\"\\nM0200,1,1,\"Mayne, Mlle. Berthe Antonine (\"\"Mrs de Villiers\"\")\",female,24,0,0,PC 17482,49.5042,C90,C,6,,\"Belgium  Montreal, PQ\"\\nM0201,1,0,\"McCaffry, Mr. Thomas Francis\",male,46,0,0,13050,75.2417,C6,C,,292,\"Vancouver, BC\"\\nM0202,1,0,\"McCarthy, Mr. Timothy J\",male,54,0,0,17463,51.8625,E46,S,,175,\"Dorchester, MA\"\\nM0203,1,1,\"McGough, Mr. James Robert\",male,36,0,0,PC 17473,26.2875,E25,S,7,,\"Philadelphia, PA\"\\nM0204,1,0,\"Meyer, Mr. Edgar Joseph\",male,28,1,0,PC 17604,82.1708,,C,,,\"New York, NY\"\\nM0205,1,1,\"Meyer, Mrs. Edgar Joseph (Leila Saks)\",female,,1,0,PC 17604,82.1708,,C,6,,\"New York, NY\"\\nM0206,1,0,\"Millet, Mr. Francis Davis\",male,65,0,0,13509,26.55,E38,S,,249,\"East Bridgewater, MA\"\\nM0207,1,0,\"Minahan, Dr. William Edward\",male,44,2,0,19928,90,C78,Q,,230,\"Fond du Lac, WI\"\\nM0208,1,1,\"Minahan, Miss. Daisy E\",female,33,1,0,19928,90,C78,Q,14,,\"Green Bay, WI\"\\nM0209,1,1,\"Minahan, Mrs. William Edward (Lillian E Thorpe)\",female,37,1,0,19928,90,C78,Q,14,,\"Fond du Lac, WI\"\\nM0210,1,1,\"Mock, Mr. Philipp Edmund\",male,30,1,0,13236,57.75,C78,C,11,,\"New York, NY\"\\nM0211,1,0,\"Molson, Mr. Harry Markland\",male,55,0,0,113787,30.5,C30,S,,,\"Montreal, PQ\"\\nM0212,1,0,\"Moore, Mr. Clarence Bloomfield\",male,47,0,0,113796,42.4,,S,,,\"Washington, DC\"\\nM0213,1,0,\"Natsch, Mr. Charles H\",male,37,0,1,PC 17596,29.7,C118,C,,,\"Brooklyn, NY\"\\nM0214,1,1,\"Newell, Miss. Madeleine\",female,31,1,0,35273,113.275,D36,C,6,,\"Lexington, MA\"\\nM0215,1,1,\"Newell, Miss. Marjorie\",female,23,1,0,35273,113.275,D36,C,6,,\"Lexington, MA\"\\nM0216,1,0,\"Newell, Mr. Arthur Webster\",male,58,0,2,35273,113.275,D48,C,,122,\"Lexington, MA\"\\nM0217,1,1,\"Newsom, Miss. Helen Monypeny\",female,19,0,2,11752,26.2833,D47,S,5,,\"New York, NY\"\\nM0218,1,0,\"Nicholson, Mr. Arthur Ernest\",male,64,0,0,693,26,,S,,263,\"Isle of Wight, England\"\\nM0219,1,1,\"Oliva y Ocana, Dona. Fermina\",female,39,0,0,PC 17758,108.9,C105,C,8,,\\nM0220,1,1,\"Omont, Mr. Alfred Fernand\",male,,0,0,F.C. 12998,25.7417,,C,7,,\"Paris, France\"\\nM0221,1,1,\"Ostby, Miss. Helene Ragnhild\",female,22,0,1,113509,61.9792,B36,C,5,,\"Providence, RI\"\\nM0222,1,0,\"Ostby, Mr. Engelhart Cornelius\",male,65,0,1,113509,61.9792,B30,C,,234,\"Providence, RI\"\\nM0223,1,0,\"Ovies y Rodriguez, Mr. Servando\",male,28.5,0,0,PC 17562,27.7208,D43,C,,189,\"?Havana, Cuba\"\\nM0224,1,0,\"Parr, Mr. William Henry Marsh\",male,,0,0,112052,0,,S,,,Belfast\\nM0225,1,0,\"Partner, Mr. Austen\",male,45.5,0,0,113043,28.5,C124,S,,166,\"Surbiton Hill, Surrey\"\\nM0226,1,0,\"Payne, Mr. Vivian Ponsonby\",male,23,0,0,12749,93.5,B24,S,,,\"Montreal, PQ\"\\nM0227,1,0,\"Pears, Mr. Thomas Clinton\",male,29,1,0,113776,66.6,C2,S,,,\"Isleworth, England\"\\nM0228,1,1,\"Pears, Mrs. Thomas (Edith Wearne)\",female,22,1,0,113776,66.6,C2,S,8,,\"Isleworth, England\"\\nM0229,1,0,\"Penasco y Castellana, Mr. Victor de Satode\",male,18,1,0,PC 17758,108.9,C65,C,,,\"Madrid, Spain\"\\nM0230,1,1,\"Penasco y Castellana, Mrs. Victor de Satode (Maria Josefa Perez de Soto y Vallejo)\",female,17,1,0,PC 17758,108.9,C65,C,8,,\"Madrid, Spain\"\\nM0231,1,1,\"Perreault, Miss. Anne\",female,30,0,0,12749,93.5,B73,S,3,,\\nM0232,1,1,\"Peuchen, Major. Arthur Godfrey\",male,52,0,0,113786,30.5,C104,S,6,,\"Toronto, ON\"\\nM0233,1,0,\"Porter, Mr. Walter Chamberlain\",male,47,0,0,110465,52,C110,S,,207,\"Worcester, MA\"\\nM0234,1,1,\"Potter, Mrs. Thomas Jr (Lily Alexenia Wilson)\",female,56,0,1,11767,83.1583,C50,C,7,,\"Mt Airy, Philadelphia, PA\"\\nM0235,1,0,\"Reuchlin, Jonkheer. John George\",male,38,0,0,19972,0,,S,,,\"Rotterdam, Netherlands\"\\nM0236,1,1,\"Rheims, Mr. George Alexander Lucien\",male,,0,0,PC 17607,39.6,,S,A,,\"Paris /  New York, NY\"\\nM0237,1,0,\"Ringhini, Mr. Sante\",male,22,0,0,PC 17760,135.6333,,C,,232,\\nM0238,1,0,\"Robbins, Mr. Victor\",male,,0,0,PC 17757,227.525,,C,,,\\nM0239,1,1,\"Robert, Mrs. Edward Scott (Elisabeth Walton McMillan)\",female,43,0,1,24160,211.3375,B3,S,2,,\"St Louis, MO\"\\nM0240,1,0,\"Roebling, Mr. Washington Augustus II\",male,31,0,0,PC 17590,50.4958,A24,S,,,\"Trenton, NJ\"\\nM0241,1,1,\"Romaine, Mr. Charles Hallace (\"\"Mr C Rolmane\"\")\",male,45,0,0,111428,26.55,,S,9,,\"New York, NY\"\\nM0242,1,0,\"Rood, Mr. Hugh Roscoe\",male,,0,0,113767,50,A32,S,,,\"Seattle, WA\"\\nM0243,1,1,\"Rosenbaum, Miss. Edith Louise\",female,33,0,0,PC 17613,27.7208,A11,C,11,,\"Paris, France\"\\nM0244,1,0,\"Rosenshine, Mr. George (\"\"Mr George Thorne\"\")\",male,46,0,0,PC 17585,79.2,,C,,16,\"New York, NY\"\\nM0245,1,0,\"Ross, Mr. John Hugo\",male,36,0,0,13049,40.125,A10,C,,,\"Winnipeg, MB\"\\nM0246,1,1,\"Rothes, the Countess. of (Lucy Noel Martha Dyer-Edwards)\",female,33,0,0,110152,86.5,B77,S,8,,\"London  Vancouver, BC\"\\nM0247,1,0,\"Rothschild, Mr. Martin\",male,55,1,0,PC 17603,59.4,,C,,,\"New York, NY\"\\nM0248,1,1,\"Rothschild, Mrs. Martin (Elizabeth L. Barrett)\",female,54,1,0,PC 17603,59.4,,C,6,,\"New York, NY\"\\nM0249,1,0,\"Rowe, Mr. Alfred G\",male,33,0,0,113790,26.55,,S,,109,London\\nM0250,1,1,\"Ryerson, Master. John Borie\",male,13,2,2,PC 17608,262.375,B57 B59 B63 B66,C,4,,\"Haverford, PA / Cooperstown, NY\"\\nM0251,1,1,\"Ryerson, Miss. Emily Borie\",female,18,2,2,PC 17608,262.375,B57 B59 B63 B66,C,4,,\"Haverford, PA / Cooperstown, NY\"\\nM0252,1,1,\"Ryerson, Miss. Susan Parker \"\"Suzette\"\"\",female,21,2,2,PC 17608,262.375,B57 B59 B63 B66,C,4,,\"Haverford, PA / Cooperstown, NY\"\\nM0253,1,0,\"Ryerson, Mr. Arthur Larned\",male,61,1,3,PC 17608,262.375,B57 B59 B63 B66,C,,,\"Haverford, PA / Cooperstown, NY\"\\nM0254,1,1,\"Ryerson, Mrs. Arthur Larned (Emily Maria Borie)\",female,48,1,3,PC 17608,262.375,B57 B59 B63 B66,C,4,,\"Haverford, PA / Cooperstown, NY\"\\nM0255,1,1,\"Saalfeld, Mr. Adolphe\",male,,0,0,19988,30.5,C106,S,3,,\"Manchester, England\"\\nM0256,1,1,\"Sagesser, Mlle. Emma\",female,24,0,0,PC 17477,69.3,B35,C,9,,\\nM0257,1,1,\"Salomon, Mr. Abraham L\",male,,0,0,111163,26,,S,1,,\"New York, NY\"\\nM0258,1,1,\"Schabert, Mrs. Paul (Emma Mock)\",female,35,1,0,13236,57.75,C28,C,11,,\"New York, NY\"\\nM0259,1,1,\"Serepeca, Miss. Augusta\",female,30,0,0,113798,31,,C,4,,\\nM0260,1,1,\"Seward, Mr. Frederic Kimber\",male,34,0,0,113794,26.55,,S,7,,\"New York, NY\"\\nM0261,1,1,\"Shutes, Miss. Elizabeth W\",female,40,0,0,PC 17582,153.4625,C125,S,3,,\"New York, NY / Greenwich CT\"\\nM0262,1,1,\"Silverthorne, Mr. Spencer Victor\",male,35,0,0,PC 17475,26.2875,E24,S,5,,\"St Louis, MO\"\\nM0263,1,0,\"Silvey, Mr. William Baird\",male,50,1,0,13507,55.9,E44,S,,,\"Duluth, MN\"\\nM0264,1,1,\"Silvey, Mrs. William Baird (Alice Munger)\",female,39,1,0,13507,55.9,E44,S,11,,\"Duluth, MN\"\\nM0265,1,1,\"Simonius-Blumer, Col. Oberst Alfons\",male,56,0,0,13213,35.5,A26,C,3,,\"Basel, Switzerland\"\\nM0266,1,1,\"Sloper, Mr. William Thompson\",male,28,0,0,113788,35.5,A6,S,7,,\"New Britain, CT\"\\nM0267,1,0,\"Smart, Mr. John Montgomery\",male,56,0,0,113792,26.55,,S,,,\"New York, NY\"\\nM0268,1,0,\"Smith, Mr. James Clinch\",male,56,0,0,17764,30.6958,A7,C,,,\"St James, Long Island, NY\"\\nM0269,1,0,\"Smith, Mr. Lucien Philip\",male,24,1,0,13695,60,C31,S,,,\"Huntington, WV\"\\nM0270,1,0,\"Smith, Mr. Richard William\",male,,0,0,113056,26,A19,S,,,\"Streatham, Surrey\"\\nM0271,1,1,\"Smith, Mrs. Lucien Philip (Mary Eloise Hughes)\",female,18,1,0,13695,60,C31,S,6,,\"Huntington, WV\"\\nM0272,1,1,\"Snyder, Mr. John Pillsbury\",male,24,1,0,21228,82.2667,B45,S,7,,\"Minneapolis, MN\"\\nM0273,1,1,\"Snyder, Mrs. John Pillsbury (Nelle Stevenson)\",female,23,1,0,21228,82.2667,B45,S,7,,\"Minneapolis, MN\"\\nM0274,1,1,\"Spedden, Master. Robert Douglas\",male,6,0,2,16966,134.5,E34,C,3,,\"Tuxedo Park, NY\"\\nM0275,1,1,\"Spedden, Mr. Frederic Oakley\",male,45,1,1,16966,134.5,E34,C,3,,\"Tuxedo Park, NY\"\\nM0276,1,1,\"Spedden, Mrs. Frederic Oakley (Margaretta Corning Stone)\",female,40,1,1,16966,134.5,E34,C,3,,\"Tuxedo Park, NY\"\\nM0277,1,0,\"Spencer, Mr. William Augustus\",male,57,1,0,PC 17569,146.5208,B78,C,,,\"Paris, France\"\\nM0278,1,1,\"Spencer, Mrs. William Augustus (Marie Eugenie)\",female,,1,0,PC 17569,146.5208,B78,C,6,,\"Paris, France\"\\nM0279,1,1,\"Stahelin-Maeglin, Dr. Max\",male,32,0,0,13214,30.5,B50,C,3,,\"Basel, Switzerland\"\\nM0280,1,0,\"Stead, Mr. William Thomas\",male,62,0,0,113514,26.55,C87,S,,,\"Wimbledon Park, London / Hayling Island, Hants\"\\nM0281,1,1,\"Stengel, Mr. Charles Emil Henry\",male,54,1,0,11778,55.4417,C116,C,1,,\"Newark, NJ\"\\nM0282,1,1,\"Stengel, Mrs. Charles Emil Henry (Annie May Morris)\",female,43,1,0,11778,55.4417,C116,C,5,,\"Newark, NJ\"\\nM0283,1,1,\"Stephenson, Mrs. Walter Bertram (Martha Eustis)\",female,52,1,0,36947,78.2667,D20,C,4,,\"Haverford, PA\"\\nM0284,1,0,\"Stewart, Mr. Albert A\",male,,0,0,PC 17605,27.7208,,C,,,\"Gallipolis, Ohio / ? Paris / New York\"\\nM0285,1,1,\"Stone, Mrs. George Nelson (Martha Evelyn)\",female,62,0,0,113572,80,B28,,6,,\"Cincinatti, OH\"\\nM0286,1,0,\"Straus, Mr. Isidor\",male,67,1,0,PC 17483,221.7792,C55 C57,S,,96,\"New York, NY\"\\nM0287,1,0,\"Straus, Mrs. Isidor (Rosalie Ida Blun)\",female,63,1,0,PC 17483,221.7792,C55 C57,S,,,\"New York, NY\"\\nM0288,1,0,\"Sutton, Mr. Frederick\",male,61,0,0,36963,32.3208,D50,S,,46,\"Haddenfield, NJ\"\\nM0289,1,1,\"Swift, Mrs. Frederick Joel (Margaret Welles Barron)\",female,48,0,0,17466,25.9292,D17,S,8,,\"Brooklyn, NY\"\\nM0290,1,1,\"Taussig, Miss. Ruth\",female,18,0,2,110413,79.65,E68,S,8,,\"New York, NY\"\\nM0291,1,0,\"Taussig, Mr. Emil\",male,52,1,1,110413,79.65,E67,S,,,\"New York, NY\"\\nM0292,1,1,\"Taussig, Mrs. Emil (Tillie Mandelbaum)\",female,39,1,1,110413,79.65,E67,S,8,,\"New York, NY\"\\nM0293,1,1,\"Taylor, Mr. Elmer Zebley\",male,48,1,0,19996,52,C126,S,5 7,,\"London /  East Orange, NJ\"\\nM0294,1,1,\"Taylor, Mrs. Elmer Zebley (Juliet Cummins Wright)\",female,,1,0,19996,52,C126,S,5 7,,\"London /  East Orange, NJ\"\\nM0295,1,0,\"Thayer, Mr. John Borland\",male,49,1,1,17421,110.8833,C68,C,,,\"Haverford, PA\"\\nM0296,1,1,\"Thayer, Mr. John Borland Jr\",male,17,0,2,17421,110.8833,C70,C,B,,\"Haverford, PA\"\\nM0297,1,1,\"Thayer, Mrs. John Borland (Marian Longstreth Morris)\",female,39,1,1,17421,110.8833,C68,C,4,,\"Haverford, PA\"\\nM0298,1,1,\"Thorne, Mrs. Gertrude Maybelle\",female,,0,0,PC 17585,79.2,,C,D,,\"New York, NY\"\\nM0299,1,1,\"Tucker, Mr. Gilbert Milligan Jr\",male,31,0,0,2543,28.5375,C53,C,7,,\"Albany, NY\"\\nM0300,1,0,\"Uruchurtu, Don. Manuel E\",male,40,0,0,PC 17601,27.7208,,C,,,\"Mexico City, Mexico\"\\nM0301,1,0,\"Van der hoef, Mr. Wyckoff\",male,61,0,0,111240,33.5,B19,S,,245,\"Brooklyn, NY\"\\nM0302,1,0,\"Walker, Mr. William Anderson\",male,47,0,0,36967,34.0208,D46,S,,,\"East Orange, NJ\"\\nM0303,1,1,\"Ward, Miss. Anna\",female,35,0,0,PC 17755,512.3292,,C,3,,\\nM0304,1,0,\"Warren, Mr. Frank Manley\",male,64,1,0,110813,75.25,D37,C,,,\"Portland, OR\"\\nM0305,1,1,\"Warren, Mrs. Frank Manley (Anna Sophia Atkinson)\",female,60,1,0,110813,75.25,D37,C,5,,\"Portland, OR\"\\nM0306,1,0,\"Weir, Col. John\",male,60,0,0,113800,26.55,,S,,,\"England Salt Lake City, Utah\"\\nM0307,1,0,\"White, Mr. Percival Wayland\",male,54,0,1,35281,77.2875,D26,S,,,\"Brunswick, ME\"\\nM0308,1,0,\"White, Mr. Richard Frasar\",male,21,0,1,35281,77.2875,D26,S,,169,\"Brunswick, ME\"\\nM0309,1,1,\"White, Mrs. John Stuart (Ella Holmes)\",female,55,0,0,PC 17760,135.6333,C32,C,8,,\"New York, NY / Briarcliff Manor NY\"\\nM0310,1,1,\"Wick, Miss. Mary Natalie\",female,31,0,2,36928,164.8667,C7,S,8,,\"Youngstown, OH\"\\nM0311,1,0,\"Wick, Mr. George Dennick\",male,57,1,1,36928,164.8667,,S,,,\"Youngstown, OH\"\\nM0312,1,1,\"Wick, Mrs. George Dennick (Mary Hitchcock)\",female,45,1,1,36928,164.8667,,S,8,,\"Youngstown, OH\"\\nM0313,1,0,\"Widener, Mr. George Dunton\",male,50,1,1,113503,211.5,C80,C,,,\"Elkins Park, PA\"\\nM0314,1,0,\"Widener, Mr. Harry Elkins\",male,27,0,2,113503,211.5,C82,C,,,\"Elkins Park, PA\"\\nM0315,1,1,\"Widener, Mrs. George Dunton (Eleanor Elkins)\",female,50,1,1,113503,211.5,C80,C,4,,\"Elkins Park, PA\"\\nM0316,1,1,\"Willard, Miss. Constance\",female,21,0,0,113795,26.55,,S,8 10,,\"Duluth, MN\"\\nM0317,1,0,\"Williams, Mr. Charles Duane\",male,51,0,1,PC 17597,61.3792,,C,,,\"Geneva, Switzerland / Radnor, PA\"\\nM0318,1,1,\"Williams, Mr. Richard Norris II\",male,21,0,1,PC 17597,61.3792,,C,A,,\"Geneva, Switzerland / Radnor, PA\"\\nM0319,1,0,\"Williams-Lambert, Mr. Fletcher Fellows\",male,,0,0,113510,35,C128,S,,,\"London, England\"\\nM0320,1,1,\"Wilson, Miss. Helen Alice\",female,31,0,0,16966,134.5,E39 E41,C,3,,\\nM0321,1,1,\"Woolner, Mr. Hugh\",male,,0,0,19947,35.5,C52,S,D,,\"London, England\"\\nM0322,1,0,\"Wright, Mr. George\",male,62,0,0,113807,26.55,,S,,,\"Halifax, NS\"\\nM0323,1,1,\"Young, Miss. Marie Grice\",female,36,0,0,PC 17760,135.6333,C32,C,8,,\"New York, NY / Washington, DC\"\\nM0324,2,0,\"Abelson, Mr. Samuel\",male,30,1,0,P/PP 3381,24,,C,,,\"Russia New York, NY\"\\nM0325,2,1,\"Abelson, Mrs. Samuel (Hannah Wizosky)\",female,28,1,0,P/PP 3381,24,,C,10,,\"Russia New York, NY\"\\nM0326,2,0,\"Aldworth, Mr. Charles Augustus\",male,30,0,0,248744,13,,S,,,\"Bryn Mawr, PA, USA\"\\nM0327,2,0,\"Andrew, Mr. Edgardo Samuel\",male,18,0,0,231945,11.5,,S,,,\"Buenos Aires, Argentina / New Jersey, NJ\"\\nM0328,2,0,\"Andrew, Mr. Frank Thomas\",male,25,0,0,C.A. 34050,10.5,,S,,,\"Cornwall, England Houghton, MI\"\\nM0329,2,0,\"Angle, Mr. William A\",male,34,1,0,226875,26,,S,,,\"Warwick, England\"\\nM0330,2,1,\"Angle, Mrs. William A (Florence \"\"Mary\"\" Agnes Hughes)\",female,36,1,0,226875,26,,S,11,,\"Warwick, England\"\\nM0331,2,0,\"Ashby, Mr. John\",male,57,0,0,244346,13,,S,,,\"West Hoboken, NJ\"\\nM0332,2,0,\"Bailey, Mr. Percy Andrew\",male,18,0,0,29108,11.5,,S,,,\"Penzance, Cornwall / Akron, OH\"\\nM0333,2,0,\"Baimbrigge, Mr. Charles Robert\",male,23,0,0,C.A. 31030,10.5,,S,,,Guernsey\\nM0334,2,1,\"Ball, Mrs. (Ada E Hall)\",female,36,0,0,28551,13,D,S,10,,\"Bristol, Avon / Jacksonville, FL\"\\nM0335,2,0,\"Banfield, Mr. Frederick James\",male,28,0,0,C.A./SOTON 34068,10.5,,S,,,\"Plymouth, Dorset / Houghton, MI\"\\nM0336,2,0,\"Bateman, Rev. Robert James\",male,51,0,0,S.O.P. 1166,12.525,,S,,174,\"Jacksonville, FL\"\\nM0337,2,1,\"Beane, Mr. Edward\",male,32,1,0,2908,26,,S,13,,\"Norwich / New York, NY\"\\nM0338,2,1,\"Beane, Mrs. Edward (Ethel Clarke)\",female,19,1,0,2908,26,,S,13,,\"Norwich / New York, NY\"\\nM0339,2,0,\"Beauchamp, Mr. Henry James\",male,28,0,0,244358,26,,S,,,England\\nM0340,2,1,\"Becker, Master. Richard F\",male,1,2,1,230136,39,F4,S,11,,\"Guntur, India / Benton Harbour, MI\"\\nM0341,2,1,\"Becker, Miss. Marion Louise\",female,4,2,1,230136,39,F4,S,11,,\"Guntur, India / Benton Harbour, MI\"\\nM0342,2,1,\"Becker, Miss. Ruth Elizabeth\",female,12,2,1,230136,39,F4,S,13,,\"Guntur, India / Benton Harbour, MI\"\\nM0343,2,1,\"Becker, Mrs. Allen Oliver (Nellie E Baumgardner)\",female,36,0,3,230136,39,F4,S,11,,\"Guntur, India / Benton Harbour, MI\"\\nM0344,2,1,\"Beesley, Mr. Lawrence\",male,34,0,0,248698,13,D56,S,13,,London\\nM0345,2,1,\"Bentham, Miss. Lilian W\",female,19,0,0,28404,13,,S,12,,\"Rochester, NY\"\\nM0346,2,0,\"Berriman, Mr. William John\",male,23,0,0,28425,13,,S,,,\"St Ives, Cornwall / Calumet, MI\"\\nM0347,2,0,\"Botsford, Mr. William Hull\",male,26,0,0,237670,13,,S,,,\"Elmira, NY / Orange, NJ\"\\nM0348,2,0,\"Bowenur, Mr. Solomon\",male,42,0,0,211535,13,,S,,,London\\nM0349,2,0,\"Bracken, Mr. James H\",male,27,0,0,220367,13,,S,,,\"Lake Arthur, Chavez County, NM\"\\nM0350,2,1,\"Brown, Miss. Amelia \"\"Mildred\"\"\",female,24,0,0,248733,13,F33,S,11,,\"London / Montreal, PQ\"\\nM0351,2,1,\"Brown, Miss. Edith Eileen\",female,15,0,2,29750,39,,S,14,,\"Cape Town, South Africa / Seattle, WA\"\\nM0352,2,0,\"Brown, Mr. Thomas William Solomon\",male,60,1,1,29750,39,,S,,,\"Cape Town, South Africa / Seattle, WA\"\\nM0353,2,1,\"Brown, Mrs. Thomas William Solomon (Elizabeth Catherine Ford)\",female,40,1,1,29750,39,,S,14,,\"Cape Town, South Africa / Seattle, WA\"\\nM0354,2,1,\"Bryhl, Miss. Dagmar Jenny Ingeborg \",female,20,1,0,236853,26,,S,12,,\"Skara, Sweden / Rockford, IL\"\\nM0355,2,0,\"Bryhl, Mr. Kurt Arnold Gottfrid\",male,25,1,0,236853,26,,S,,,\"Skara, Sweden / Rockford, IL\"\\nM0356,2,1,\"Buss, Miss. Kate\",female,36,0,0,27849,13,,S,9,,\"Sittingbourne, England / San Diego, CA\"\\nM0357,2,0,\"Butler, Mr. Reginald Fenton\",male,25,0,0,234686,13,,S,,97,\"Southsea, Hants\"\\nM0358,2,0,\"Byles, Rev. Thomas Roussel Davids\",male,42,0,0,244310,13,,S,,,London\\nM0359,2,1,\"Bystrom, Mrs. (Karolina)\",female,42,0,0,236852,13,,S,,,\"New York, NY\"\\nM0360,2,1,\"Caldwell, Master. Alden Gates\",male,0.83,0,2,248738,29,,S,13,,\"Bangkok, Thailand / Roseville, IL\"\\nM0361,2,1,\"Caldwell, Mr. Albert Francis\",male,26,1,1,248738,29,,S,13,,\"Bangkok, Thailand / Roseville, IL\"\\nM0362,2,1,\"Caldwell, Mrs. Albert Francis (Sylvia Mae Harbaugh)\",female,22,1,1,248738,29,,S,13,,\"Bangkok, Thailand / Roseville, IL\"\\nM0363,2,1,\"Cameron, Miss. Clear Annie\",female,35,0,0,F.C.C. 13528,21,,S,14,,\"Mamaroneck, NY\"\\nM0364,2,0,\"Campbell, Mr. William\",male,,0,0,239853,0,,S,,,Belfast\\nM0365,2,0,\"Carbines, Mr. William\",male,19,0,0,28424,13,,S,,18,\"St Ives, Cornwall / Calumet, MI\"\\nM0366,2,0,\"Carter, Mrs. Ernest Courtenay (Lilian Hughes)\",female,44,1,0,244252,26,,S,,,London\\nM0367,2,0,\"Carter, Rev. Ernest Courtenay\",male,54,1,0,244252,26,,S,,,London\\nM0368,2,0,\"Chapman, Mr. Charles Henry\",male,52,0,0,248731,13.5,,S,,130,\"Bronx, NY\"\\nM0369,2,0,\"Chapman, Mr. John Henry\",male,37,1,0,SC/AH 29037,26,,S,,17,\"Cornwall / Spokane, WA\"\\nM0370,2,0,\"Chapman, Mrs. John Henry (Sara Elizabeth Lawry)\",female,29,1,0,SC/AH 29037,26,,S,,,\"Cornwall / Spokane, WA\"\\nM0371,2,1,\"Christy, Miss. Julie Rachel\",female,25,1,1,237789,30,,S,12,,London\\nM0372,2,1,\"Christy, Mrs. (Alice Frances)\",female,45,0,2,237789,30,,S,12,,London\\nM0373,2,0,\"Clarke, Mr. Charles Valentine\",male,29,1,0,2003,26,,S,,,\"England / San Francisco, CA\"\\nM0374,2,1,\"Clarke, Mrs. Charles V (Ada Maria Winfield)\",female,28,1,0,2003,26,,S,14,,\"England / San Francisco, CA\"\\nM0375,2,0,\"Coleridge, Mr. Reginald Charles\",male,29,0,0,W./C. 14263,10.5,,S,,,\"Hartford, Huntingdonshire\"\\nM0376,2,0,\"Collander, Mr. Erik Gustaf\",male,28,0,0,248740,13,,S,,,\"Helsinki, Finland Ashtabula, Ohio\"\\nM0377,2,1,\"Collett, Mr. Sidney C Stuart\",male,24,0,0,28034,10.5,,S,9,,\"London / Fort Byron, NY\"\\nM0378,2,1,\"Collyer, Miss. Marjorie \"\"Lottie\"\"\",female,8,0,2,C.A. 31921,26.25,,S,14,,\"Bishopstoke, Hants / Fayette Valley, ID\"\\nM0379,2,0,\"Collyer, Mr. Harvey\",male,31,1,1,C.A. 31921,26.25,,S,,,\"Bishopstoke, Hants / Fayette Valley, ID\"\\nM0380,2,1,\"Collyer, Mrs. Harvey (Charlotte Annie Tate)\",female,31,1,1,C.A. 31921,26.25,,S,14,,\"Bishopstoke, Hants / Fayette Valley, ID\"\\nM0381,2,1,\"Cook, Mrs. (Selena Rogers)\",female,22,0,0,W./C. 14266,10.5,F33,S,14,,Pennsylvania\\nM0382,2,0,\"Corbett, Mrs. Walter H (Irene Colvin)\",female,30,0,0,237249,13,,S,,,\"Provo, UT\"\\nM0383,2,0,\"Corey, Mrs. Percy C (Mary Phyllis Elizabeth Miller)\",female,,0,0,F.C.C. 13534,21,,S,,,\"Upper Burma, India Pittsburgh, PA\"\\nM0384,2,0,\"Cotterill, Mr. Henry \"\"Harry\"\"\",male,21,0,0,29107,11.5,,S,,,\"Penzance, Cornwall / Akron, OH\"\\nM0385,2,0,\"Cunningham, Mr. Alfred Fleming\",male,,0,0,239853,0,,S,,,Belfast\\nM0386,2,1,\"Davies, Master. John Morgan Jr\",male,8,1,1,C.A. 33112,36.75,,S,14,,\"St Ives, Cornwall / Hancock, MI\"\\nM0387,2,0,\"Davies, Mr. Charles Henry\",male,18,0,0,S.O.C. 14879,73.5,,S,,,\"Lyndhurst, England\"\\nM0388,2,1,\"Davies, Mrs. John Morgan (Elizabeth Agnes Mary White) \",female,48,0,2,C.A. 33112,36.75,,S,14,,\"St Ives, Cornwall / Hancock, MI\"\\nM0389,2,1,\"Davis, Miss. Mary\",female,28,0,0,237668,13,,S,13,,\"London / Staten Island, NY\"\\nM0390,2,0,\"de Brito, Mr. Jose Joaquim\",male,32,0,0,244360,13,,S,,,\"Portugal / Sau Paulo, Brazil\"\\nM0391,2,0,\"Deacon, Mr. Percy William\",male,17,0,0,S.O.C. 14879,73.5,,S,,,\\nM0392,2,0,\"del Carlo, Mr. Sebastiano\",male,29,1,0,SC/PARIS 2167,27.7208,,C,,295,\"Lucca, Italy / California\"\\nM0393,2,1,\"del Carlo, Mrs. Sebastiano (Argenia Genovesi)\",female,24,1,0,SC/PARIS 2167,27.7208,,C,12,,\"Lucca, Italy / California\"\\nM0394,2,0,\"Denbury, Mr. Herbert\",male,25,0,0,C.A. 31029,31.5,,S,,,\"Guernsey / Elizabeth, NJ\"\\nM0395,2,0,\"Dibden, Mr. William\",male,18,0,0,S.O.C. 14879,73.5,,S,,,\"New Forest, England\"\\nM0396,2,1,\"Doling, Miss. Elsie\",female,18,0,1,231919,23,,S,,,Southampton\\nM0397,2,1,\"Doling, Mrs. John T (Ada Julia Bone)\",female,34,0,1,231919,23,,S,,,Southampton\\nM0398,2,0,\"Downton, Mr. William James\",male,54,0,0,28403,26,,S,,,\"Holley, NY\"\\nM0399,2,1,\"Drew, Master. Marshall Brines\",male,8,0,2,28220,32.5,,S,10,,\"Greenport, NY\"\\nM0400,2,0,\"Drew, Mr. James Vivian\",male,42,1,1,28220,32.5,,S,,,\"Greenport, NY\"\\nM0401,2,1,\"Drew, Mrs. James Vivian (Lulu Thorne Christian)\",female,34,1,1,28220,32.5,,S,10,,\"Greenport, NY\"\\nM0402,2,1,\"Duran y More, Miss. Asuncion\",female,27,1,0,SC/PARIS 2149,13.8583,,C,12,,\"Barcelona, Spain / Havana, Cuba\"\\nM0403,2,1,\"Duran y More, Miss. Florentina\",female,30,1,0,SC/PARIS 2148,13.8583,,C,12,,\"Barcelona, Spain / Havana, Cuba\"\\nM0404,2,0,\"Eitemiller, Mr. George Floyd\",male,23,0,0,29751,13,,S,,,\"England / Detroit, MI\"\\nM0405,2,0,\"Enander, Mr. Ingvar\",male,21,0,0,236854,13,,S,,,\"Goteborg, Sweden / Rockford, IL\"\\nM0406,2,0,\"Fahlstrom, Mr. Arne Jonas\",male,18,0,0,236171,13,,S,,,\"Oslo, Norway Bayonne, NJ\"\\nM0407,2,0,\"Faunthorpe, Mr. Harry\",male,40,1,0,2926,26,,S,,286,\"England / Philadelphia, PA\"\\nM0408,2,1,\"Faunthorpe, Mrs. Lizzie (Elizabeth Anne Wilkinson)\",female,29,1,0,2926,26,,S,16,,\\nM0409,2,0,\"Fillbrook, Mr. Joseph Charles\",male,18,0,0,C.A. 15185,10.5,,S,,,\"Cornwall / Houghton, MI\"\\nM0410,2,0,\"Fox, Mr. Stanley Hubert\",male,36,0,0,229236,13,,S,,236,\"Rochester, NY\"\\nM0411,2,0,\"Frost, Mr. Anthony Wood \"\"Archie\"\"\",male,,0,0,239854,0,,S,,,Belfast\\nM0412,2,0,\"Funk, Miss. Annie Clemmer\",female,38,0,0,237671,13,,S,,,\"Janjgir, India / Pennsylvania\"\\nM0413,2,0,\"Fynney, Mr. Joseph J\",male,35,0,0,239865,26,,S,,322,\"Liverpool / Montreal, PQ\"\\nM0414,2,0,\"Gale, Mr. Harry\",male,38,1,0,28664,21,,S,,,\"Cornwall / Clear Creek, CO\"\\nM0415,2,0,\"Gale, Mr. Shadrach\",male,34,1,0,28664,21,,S,,,\"Cornwall / Clear Creek, CO\"\\nM0416,2,1,\"Garside, Miss. Ethel\",female,34,0,0,243880,13,,S,12,,\"Brooklyn, NY\"\\nM0417,2,0,\"Gaskell, Mr. Alfred\",male,16,0,0,239865,26,,S,,,\"Liverpool / Montreal, PQ\"\\nM0418,2,0,\"Gavey, Mr. Lawrence\",male,26,0,0,31028,10.5,,S,,,\"Guernsey / Elizabeth, NJ\"\\nM0419,2,0,\"Gilbert, Mr. William\",male,47,0,0,C.A. 30769,10.5,,S,,,Cornwall\\nM0420,2,0,\"Giles, Mr. Edgar\",male,21,1,0,28133,11.5,,S,,,\"Cornwall / Camden, NJ\"\\nM0421,2,0,\"Giles, Mr. Frederick Edward\",male,21,1,0,28134,11.5,,S,,,\"Cornwall / Camden, NJ\"\\nM0422,2,0,\"Giles, Mr. Ralph\",male,24,0,0,248726,13.5,,S,,297,\"West Kensington, London\"\\nM0423,2,0,\"Gill, Mr. John William\",male,24,0,0,233866,13,,S,,155,\"Clevedon, England\"\\nM0424,2,0,\"Gillespie, Mr. William Henry\",male,34,0,0,12233,13,,S,,,\"Vancouver, BC\"\\nM0425,2,0,\"Givard, Mr. Hans Kristensen\",male,30,0,0,250646,13,,S,,305,\\nM0426,2,0,\"Greenberg, Mr. Samuel\",male,52,0,0,250647,13,,S,,19,\"Bronx, NY\"\\nM0427,2,0,\"Hale, Mr. Reginald\",male,30,0,0,250653,13,,S,,75,\"Auburn, NY\"\\nM0428,2,1,\"Hamalainen, Master. Viljo\",male,0.67,1,1,250649,14.5,,S,4,,\"Detroit, MI\"\\nM0429,2,1,\"Hamalainen, Mrs. William (Anna)\",female,24,0,2,250649,14.5,,S,4,,\"Detroit, MI\"\\nM0430,2,0,\"Harbeck, Mr. William H\",male,44,0,0,248746,13,,S,,35,\"Seattle, WA / Toledo, OH\"\\nM0431,2,1,\"Harper, Miss. Annie Jessie \"\"Nina\"\"\",female,6,0,1,248727,33,,S,11,,\"Denmark Hill, Surrey / Chicago\"\\nM0432,2,0,\"Harper, Rev. John\",male,28,0,1,248727,33,,S,,,\"Denmark Hill, Surrey / Chicago\"\\nM0433,2,1,\"Harris, Mr. George\",male,62,0,0,S.W./PP 752,10.5,,S,15,,London\\nM0434,2,0,\"Harris, Mr. Walter\",male,30,0,0,W/C 14208,10.5,,S,,,\"Walthamstow, England\"\\nM0435,2,1,\"Hart, Miss. Eva Miriam\",female,7,0,2,F.C.C. 13529,26.25,,S,14,,\"Ilford, Essex / Winnipeg, MB\"\\nM0436,2,0,\"Hart, Mr. Benjamin\",male,43,1,1,F.C.C. 13529,26.25,,S,,,\"Ilford, Essex / Winnipeg, MB\"\\nM0437,2,1,\"Hart, Mrs. Benjamin (Esther Ada Bloomfield)\",female,45,1,1,F.C.C. 13529,26.25,,S,14,,\"Ilford, Essex / Winnipeg, MB\"\\nM0438,2,1,\"Herman, Miss. Alice\",female,24,1,2,220845,65,,S,9,,\"Somerset / Bernardsville, NJ\"\\nM0439,2,1,\"Herman, Miss. Kate\",female,24,1,2,220845,65,,S,9,,\"Somerset / Bernardsville, NJ\"\\nM0440,2,0,\"Herman, Mr. Samuel\",male,49,1,2,220845,65,,S,,,\"Somerset / Bernardsville, NJ\"\\nM0441,2,1,\"Herman, Mrs. Samuel (Jane Laver)\",female,48,1,2,220845,65,,S,9,,\"Somerset / Bernardsville, NJ\"\\nM0442,2,1,\"Hewlett, Mrs. (Mary D Kingcome) \",female,55,0,0,248706,16,,S,13,,\"India / Rapid City, SD\"\\nM0443,2,0,\"Hickman, Mr. Leonard Mark\",male,24,2,0,S.O.C. 14879,73.5,,S,,,\"West Hampstead, London / Neepawa, MB\"\\nM0444,2,0,\"Hickman, Mr. Lewis\",male,32,2,0,S.O.C. 14879,73.5,,S,,256,\"West Hampstead, London / Neepawa, MB\"\\nM0445,2,0,\"Hickman, Mr. Stanley George\",male,21,2,0,S.O.C. 14879,73.5,,S,,,\"West Hampstead, London / Neepawa, MB\"\\nM0446,2,0,\"Hiltunen, Miss. Marta\",female,18,1,1,250650,13,,S,,,\"Kontiolahti, Finland / Detroit, MI\"\\nM0447,2,1,\"Hocking, Miss. Ellen \"\"Nellie\"\"\",female,20,2,1,29105,23,,S,4,,\"Cornwall / Akron, OH\"\\nM0448,2,0,\"Hocking, Mr. Richard George\",male,23,2,1,29104,11.5,,S,,,\"Cornwall / Akron, OH\"\\nM0449,2,0,\"Hocking, Mr. Samuel James Metcalfe\",male,36,0,0,242963,13,,S,,,\"Devonport, England\"\\nM0450,2,1,\"Hocking, Mrs. Elizabeth (Eliza Needs)\",female,54,1,3,29105,23,,S,4,,\"Cornwall / Akron, OH\"\\nM0451,2,0,\"Hodges, Mr. Henry Price\",male,50,0,0,250643,13,,S,,149,Southampton\\nM0452,2,0,\"Hold, Mr. Stephen\",male,44,1,0,26707,26,,S,,,\"England / Sacramento, CA\"\\nM0453,2,1,\"Hold, Mrs. Stephen (Annie Margaret Hill)\",female,29,1,0,26707,26,,S,10,,\"England / Sacramento, CA\"\\nM0454,2,0,\"Hood, Mr. Ambrose Jr\",male,21,0,0,S.O.C. 14879,73.5,,S,,,\"New Forest, England\"\\nM0455,2,1,\"Hosono, Mr. Masabumi\",male,42,0,0,237798,13,,S,10,,\"Tokyo, Japan\"\\nM0456,2,0,\"Howard, Mr. Benjamin\",male,63,1,0,24065,26,,S,,,\"Swindon, England\"\\nM0457,2,0,\"Howard, Mrs. Benjamin (Ellen Truelove Arman)\",female,60,1,0,24065,26,,S,,,\"Swindon, England\"\\nM0458,2,0,\"Hunt, Mr. George Henry\",male,33,0,0,SCO/W 1585,12.275,,S,,,\"Philadelphia, PA\"\\nM0459,2,1,\"Ilett, Miss. Bertha\",female,17,0,0,SO/C 14885,10.5,,S,,,Guernsey\\nM0460,2,0,\"Jacobsohn, Mr. Sidney Samuel\",male,42,1,0,243847,27,,S,,,London\\nM0461,2,1,\"Jacobsohn, Mrs. Sidney Samuel (Amy Frances Christy)\",female,24,2,1,243847,27,,S,12,,London\\nM0462,2,0,\"Jarvis, Mr. John Denzil\",male,47,0,0,237565,15,,S,,,\"North Evington, England\"\\nM0463,2,0,\"Jefferys, Mr. Clifford Thomas\",male,24,2,0,C.A. 31029,31.5,,S,,,\"Guernsey / Elizabeth, NJ\"\\nM0464,2,0,\"Jefferys, Mr. Ernest Wilfred\",male,22,2,0,C.A. 31029,31.5,,S,,,\"Guernsey / Elizabeth, NJ\"\\nM0465,2,0,\"Jenkin, Mr. Stephen Curnow\",male,32,0,0,C.A. 33111,10.5,,S,,,\"St Ives, Cornwall / Houghton, MI\"\\nM0466,2,1,\"Jerwan, Mrs. Amin S (Marie Marthe Thuillard)\",female,23,0,0,SC/AH Basle 541,13.7917,D,C,11,,\"New York, NY\"\\nM0467,2,0,\"Kantor, Mr. Sinai\",male,34,1,0,244367,26,,S,,283,\"Moscow / Bronx, NY\"\\nM0468,2,1,\"Kantor, Mrs. Sinai (Miriam Sternin)\",female,24,1,0,244367,26,,S,12,,\"Moscow / Bronx, NY\"\\nM0469,2,0,\"Karnes, Mrs. J Frank (Claire Bennett)\",female,22,0,0,F.C.C. 13534,21,,S,,,\"India / Pittsburgh, PA\"\\nM0470,2,1,\"Keane, Miss. Nora A\",female,,0,0,226593,12.35,E101,Q,10,,\"Harrisburg, PA\"\\nM0471,2,0,\"Keane, Mr. Daniel\",male,35,0,0,233734,12.35,,Q,,,\\nM0472,2,1,\"Kelly, Mrs. Florence \"\"Fannie\"\"\",female,45,0,0,223596,13.5,,S,9,,\"London / New York, NY\"\\nM0473,2,0,\"Kirkland, Rev. Charles Leonard\",male,57,0,0,219533,12.35,,Q,,,\"Glasgow / Bangor, ME\"\\nM0474,2,0,\"Knight, Mr. Robert J\",male,,0,0,239855,0,,S,,,Belfast\\nM0475,2,0,\"Kvillner, Mr. Johan Henrik Johannesson\",male,31,0,0,C.A. 18723,10.5,,S,,165,\"Sweden / Arlington, NJ\"\\nM0476,2,0,\"Lahtinen, Mrs. William (Anna Sylfven)\",female,26,1,1,250651,26,,S,,,\"Minneapolis, MN\"\\nM0477,2,0,\"Lahtinen, Rev. William\",male,30,1,1,250651,26,,S,,,\"Minneapolis, MN\"\\nM0478,2,0,\"Lamb, Mr. John Joseph\",male,,0,0,240261,10.7083,,Q,,,\\nM0479,2,1,\"Laroche, Miss. Louise\",female,1,1,2,SC/Paris 2123,41.5792,,C,14,,Paris / Haiti\\nM0480,2,1,\"Laroche, Miss. Simonne Marie Anne Andree\",female,3,1,2,SC/Paris 2123,41.5792,,C,14,,Paris / Haiti\\nM0481,2,0,\"Laroche, Mr. Joseph Philippe Lemercier\",male,25,1,2,SC/Paris 2123,41.5792,,C,,,Paris / Haiti\\nM0482,2,1,\"Laroche, Mrs. Joseph (Juliette Marie Louise Lafargue)\",female,22,1,2,SC/Paris 2123,41.5792,,C,14,,Paris / Haiti\\nM0483,2,1,\"Lehmann, Miss. Bertha\",female,17,0,0,SC 1748,12,,C,12,,\"Berne, Switzerland / Central City, IA\"\\nM0484,2,1,\"Leitch, Miss. Jessie Wills\",female,,0,0,248727,33,,S,11,,\"London / Chicago, IL\"\\nM0485,2,1,\"Lemore, Mrs. (Amelia Milley)\",female,34,0,0,C.A. 34260,10.5,F33,S,14,,\"Chicago, IL\"\\nM0486,2,0,\"Levy, Mr. Rene Jacques\",male,36,0,0,SC/Paris 2163,12.875,D,C,,,\"Montreal, PQ\"\\nM0487,2,0,\"Leyson, Mr. Robert William Norman\",male,24,0,0,C.A. 29566,10.5,,S,,108,\\nM0488,2,0,\"Lingane, Mr. John\",male,61,0,0,235509,12.35,,Q,,,\\nM0489,2,0,\"Louch, Mr. Charles Alexander\",male,50,1,0,SC/AH 3085,26,,S,,121,\"Weston-Super-Mare, Somerset\"\\nM0490,2,1,\"Louch, Mrs. Charles Alexander (Alice Adelaide Slow)\",female,42,1,0,SC/AH 3085,26,,S,,,\"Weston-Super-Mare, Somerset\"\\nM0491,2,0,\"Mack, Mrs. (Mary)\",female,57,0,0,S.O./P.P. 3,10.5,E77,S,,52,\"Southampton / New York, NY\"\\nM0492,2,0,\"Malachard, Mr. Noel\",male,,0,0,237735,15.0458,D,C,,,Paris\\nM0493,2,1,\"Mallet, Master. Andre\",male,1,0,2,S.C./PARIS 2079,37.0042,,C,10,,\"Paris / Montreal, PQ\"\\nM0494,2,0,\"Mallet, Mr. Albert\",male,31,1,1,S.C./PARIS 2079,37.0042,,C,,,\"Paris / Montreal, PQ\"\\nM0495,2,1,\"Mallet, Mrs. Albert (Antoinette Magnin)\",female,24,1,1,S.C./PARIS 2079,37.0042,,C,10,,\"Paris / Montreal, PQ\"\\nM0496,2,0,\"Mangiavacchi, Mr. Serafino Emilio\",male,,0,0,SC/A.3 2861,15.5792,,C,,,\"New York, NY\"\\nM0497,2,0,\"Matthews, Mr. William John\",male,30,0,0,28228,13,,S,,,\"St Austall, Cornwall\"\\nM0498,2,0,\"Maybery, Mr. Frank Hubert\",male,40,0,0,239059,16,,S,,,\"Weston-Super-Mare / Moose Jaw, SK\"\\nM0499,2,0,\"McCrae, Mr. Arthur Gordon\",male,32,0,0,237216,13.5,,S,,209,\"Sydney, Australia\"\\nM0500,2,0,\"McCrie, Mr. James Matthew\",male,30,0,0,233478,13,,S,,,\"Sarnia, ON\"\\nM0501,2,0,\"McKane, Mr. Peter David\",male,46,0,0,28403,26,,S,,,\"Rochester, NY\"\\nM0502,2,1,\"Mellinger, Miss. Madeleine Violet\",female,13,0,1,250644,19.5,,S,14,,\"England / Bennington, VT\"\\nM0503,2,1,\"Mellinger, Mrs. (Elizabeth Anne Maidment)\",female,41,0,1,250644,19.5,,S,14,,\"England / Bennington, VT\"\\nM0504,2,1,\"Mellors, Mr. William John\",male,19,0,0,SW/PP 751,10.5,,S,B,,\"Chelsea, London\"\\nM0505,2,0,\"Meyer, Mr. August\",male,39,0,0,248723,13,,S,,,\"Harrow-on-the-Hill, Middlesex\"\\nM0506,2,0,\"Milling, Mr. Jacob Christian\",male,48,0,0,234360,13,,S,,271,\"Copenhagen, Denmark\"\\nM0507,2,0,\"Mitchell, Mr. Henry Michael\",male,70,0,0,C.A. 24580,10.5,,S,,,\"Guernsey / Montclair, NJ and/or Toledo, Ohio\"\\nM0508,2,0,\"Montvila, Rev. Juozas\",male,27,0,0,211536,13,,S,,,\"Worcester, MA\"\\nM0509,2,0,\"Moraweck, Dr. Ernest\",male,54,0,0,29011,14,,S,,,\"Frankfort, KY\"\\nM0510,2,0,\"Morley, Mr. Henry Samuel (\"\"Mr Henry Marshall\"\")\",male,39,0,0,250655,26,,S,,,\\nM0511,2,0,\"Mudd, Mr. Thomas Charles\",male,16,0,0,S.O./P.P. 3,10.5,,S,,,\"Halesworth, England\"\\nM0512,2,0,\"Myles, Mr. Thomas Francis\",male,62,0,0,240276,9.6875,,Q,,,\"Cambridge, MA\"\\nM0513,2,0,\"Nasser, Mr. Nicholas\",male,32.5,1,0,237736,30.0708,,C,,43,\"New York, NY\"\\nM0514,2,1,\"Nasser, Mrs. Nicholas (Adele Achem)\",female,14,1,0,237736,30.0708,,C,,,\"New York, NY\"\\nM0515,2,1,\"Navratil, Master. Edmond Roger\",male,2,1,1,230080,26,F2,S,D,,\"Nice, France\"\\nM0516,2,1,\"Navratil, Master. Michel M\",male,3,1,1,230080,26,F2,S,D,,\"Nice, France\"\\nM0517,2,0,\"Navratil, Mr. Michel (\"\"Louis M Hoffman\"\")\",male,36.5,0,2,230080,26,F2,S,,15,\"Nice, France\"\\nM0518,2,0,\"Nesson, Mr. Israel\",male,26,0,0,244368,13,F2,S,,,\"Boston, MA\"\\nM0519,2,0,\"Nicholls, Mr. Joseph Charles\",male,19,1,1,C.A. 33112,36.75,,S,,101,\"Cornwall / Hancock, MI\"\\nM0520,2,0,\"Norman, Mr. Robert Douglas\",male,28,0,0,218629,13.5,,S,,287,Glasgow\\nM0521,2,1,\"Nourney, Mr. Alfred (\"\"Baron von Drachstedt\"\")\",male,20,0,0,SC/PARIS 2166,13.8625,D38,C,7,,\"Cologne, Germany\"\\nM0522,2,1,\"Nye, Mrs. (Elizabeth Ramell)\",female,29,0,0,C.A. 29395,10.5,F33,S,11,,\"Folkstone, Kent / New York, NY\"\\nM0523,2,0,\"Otter, Mr. Richard\",male,39,0,0,28213,13,,S,,,\"Middleburg Heights, OH\"\\nM0524,2,1,\"Oxenham, Mr. Percy Thomas\",male,22,0,0,W./C. 14260,10.5,,S,13,,\"Pondersend, England / New Durham, NJ\"\\nM0525,2,1,\"Padro y Manent, Mr. Julian\",male,,0,0,SC/PARIS 2146,13.8625,,C,9,,\"Spain / Havana, Cuba\"\\nM0526,2,0,\"Pain, Dr. Alfred\",male,23,0,0,244278,10.5,,S,,,\"Hamilton, ON\"\\nM0527,2,1,\"Pallas y Castello, Mr. Emilio\",male,29,0,0,SC/PARIS 2147,13.8583,,C,9,,\"Spain / Havana, Cuba\"\\nM0528,2,0,\"Parker, Mr. Clifford Richard\",male,28,0,0,SC 14888,10.5,,S,,,\"St Andrews, Guernsey\"\\nM0529,2,0,\"Parkes, Mr. Francis \"\"Frank\"\"\",male,,0,0,239853,0,,S,,,Belfast\\nM0530,2,1,\"Parrish, Mrs. (Lutie Davis)\",female,50,0,1,230433,26,,S,12,,\"Woodford County, KY\"\\nM0531,2,0,\"Pengelly, Mr. Frederick William\",male,19,0,0,28665,10.5,,S,,,\"Gunnislake, England / Butte, MT\"\\nM0532,2,0,\"Pernot, Mr. Rene\",male,,0,0,SC/PARIS 2131,15.05,,C,,,\\nM0533,2,0,\"Peruschitz, Rev. Joseph Maria\",male,41,0,0,237393,13,,S,,,\\nM0534,2,1,\"Phillips, Miss. Alice Frances Louisa\",female,21,0,1,S.O./P.P. 2,21,,S,12,,\"Ilfracombe, Devon\"\\nM0535,2,1,\"Phillips, Miss. Kate Florence (\"\"Mrs Kate Louise Phillips Marshall\"\")\",female,19,0,0,250655,26,,S,11,,\"Worcester, England\"\\nM0536,2,0,\"Phillips, Mr. Escott Robert\",male,43,0,1,S.O./P.P. 2,21,,S,,,\"Ilfracombe, Devon\"\\nM0537,2,1,\"Pinsky, Mrs. (Rosa)\",female,32,0,0,234604,13,,S,9,,Russia\\nM0538,2,0,\"Ponesell, Mr. Martin\",male,34,0,0,250647,13,,S,,,\"Denmark / New York, NY\"\\nM0539,2,1,\"Portaluppi, Mr. Emilio Ilario Giuseppe\",male,30,0,0,C.A. 34644,12.7375,,C,14,,\"Milford, NH\"\\nM0540,2,0,\"Pulbaum, Mr. Franz\",male,27,0,0,SC/PARIS 2168,15.0333,,C,,,Paris\\nM0541,2,1,\"Quick, Miss. Phyllis May\",female,2,1,1,26360,26,,S,11,,\"Plymouth, Devon / Detroit, MI\"\\nM0542,2,1,\"Quick, Miss. Winifred Vera\",female,8,1,1,26360,26,,S,11,,\"Plymouth, Devon / Detroit, MI\"\\nM0543,2,1,\"Quick, Mrs. Frederick Charles (Jane Richards)\",female,33,0,2,26360,26,,S,11,,\"Plymouth, Devon / Detroit, MI\"\\nM0544,2,0,\"Reeves, Mr. David\",male,36,0,0,C.A. 17248,10.5,,S,,,\"Brighton, Sussex\"\\nM0545,2,0,\"Renouf, Mr. Peter Henry\",male,34,1,0,31027,21,,S,12,,\"Elizabeth, NJ\"\\nM0546,2,1,\"Renouf, Mrs. Peter Henry (Lillian Jefferys)\",female,30,3,0,31027,21,,S,,,\"Elizabeth, NJ\"\\nM0547,2,1,\"Reynaldo, Ms. Encarnacion\",female,28,0,0,230434,13,,S,9,,Spain\\nM0548,2,0,\"Richard, Mr. Emile\",male,23,0,0,SC/PARIS 2133,15.0458,,C,,,\"Paris / Montreal, PQ\"\\nM0549,2,1,\"Richards, Master. George Sibley\",male,0.83,1,1,29106,18.75,,S,4,,\"Cornwall / Akron, OH\"\\nM0550,2,1,\"Richards, Master. William Rowe\",male,3,1,1,29106,18.75,,S,4,,\"Cornwall / Akron, OH\"\\nM0551,2,1,\"Richards, Mrs. Sidney (Emily Hocking)\",female,24,2,3,29106,18.75,,S,4,,\"Cornwall / Akron, OH\"\\nM0552,2,1,\"Ridsdale, Miss. Lucy\",female,50,0,0,W./C. 14258,10.5,,S,13,,\"London, England / Marietta, Ohio and Milwaukee, WI\"\\nM0553,2,0,\"Rogers, Mr. Reginald Harry\",male,19,0,0,28004,10.5,,S,,,\\nM0554,2,1,\"Rugg, Miss. Emily\",female,21,0,0,C.A. 31026,10.5,,S,12,,\"Guernsey / Wilmington, DE\"\\nM0555,2,0,\"Schmidt, Mr. August\",male,26,0,0,248659,13,,S,,,\"Newark, NJ\"\\nM0556,2,0,\"Sedgwick, Mr. Charles Frederick Waddington\",male,25,0,0,244361,13,,S,,,Liverpool\\nM0557,2,0,\"Sharp, Mr. Percival James R\",male,27,0,0,244358,26,,S,,,\"Hornsey, England\"\\nM0558,2,1,\"Shelley, Mrs. William (Imanita Parrish Hall)\",female,25,0,1,230433,26,,S,12,,\"Deer Lodge, MT\"\\nM0559,2,1,\"Silven, Miss. Lyyli Karoliina\",female,18,0,2,250652,13,,S,16,,\"Finland / Minneapolis, MN\"\\nM0560,2,1,\"Sincock, Miss. Maude\",female,20,0,0,C.A. 33112,36.75,,S,11,,\"Cornwall / Hancock, MI\"\\nM0561,2,1,\"Sinkkonen, Miss. Anna\",female,30,0,0,250648,13,,S,10,,\"Finland / Washington, DC\"\\nM0562,2,0,\"Sjostedt, Mr. Ernst Adolf\",male,59,0,0,237442,13.5,,S,,,\"Sault St Marie, ON\"\\nM0563,2,1,\"Slayter, Miss. Hilda Mary\",female,30,0,0,234818,12.35,,Q,13,,\"Halifax, NS\"\\nM0564,2,0,\"Slemen, Mr. Richard James\",male,35,0,0,28206,10.5,,S,,,Cornwall\\nM0565,2,1,\"Smith, Miss. Marion Elsie\",female,40,0,0,31418,13,,S,9,,\\nM0566,2,0,\"Sobey, Mr. Samuel James Hayden\",male,25,0,0,C.A. 29178,13,,S,,,\"Cornwall / Houghton, MI\"\\nM0567,2,0,\"Stanton, Mr. Samuel Ward\",male,41,0,0,237734,15.0458,,C,,,\"New York, NY\"\\nM0568,2,0,\"Stokes, Mr. Philip Joseph\",male,25,0,0,F.C.C. 13540,10.5,,S,,81,\"Catford, Kent / Detroit, MI\"\\nM0569,2,0,\"Swane, Mr. George\",male,18.5,0,0,248734,13,F,S,,294,\\nM0570,2,0,\"Sweet, Mr. George Frederick\",male,14,0,0,220845,65,,S,,,\"Somerset / Bernardsville, NJ\"\\nM0571,2,1,\"Toomey, Miss. Ellen\",female,50,0,0,F.C.C. 13531,10.5,,S,9,,\"Indianapolis, IN\"\\nM0572,2,0,\"Troupiansky, Mr. Moses Aaron\",male,23,0,0,233639,13,,S,,,\\nM0573,2,1,\"Trout, Mrs. William H (Jessie L)\",female,28,0,0,240929,12.65,,S,,,\"Columbus, OH\"\\nM0574,2,1,\"Troutt, Miss. Edwina Celia \"\"Winnie\"\"\",female,27,0,0,34218,10.5,E101,S,16,,\"Bath, England / Massachusetts\"\\nM0575,2,0,\"Turpin, Mr. William John Robert\",male,29,1,0,11668,21,,S,,,\"Plymouth, England\"\\nM0576,2,0,\"Turpin, Mrs. William John Robert (Dorothy Ann Wonnacott)\",female,27,1,0,11668,21,,S,,,\"Plymouth, England\"\\nM0577,2,0,\"Veal, Mr. James\",male,40,0,0,28221,13,,S,,,\"Barre, Co Washington, VT\"\\nM0578,2,1,\"Walcroft, Miss. Nellie\",female,31,0,0,F.C.C. 13528,21,,S,14,,\"Mamaroneck, NY\"\\nM0579,2,0,\"Ware, Mr. John James\",male,30,1,0,CA 31352,21,,S,,,\"Bristol, England / New Britain, CT\"\\nM0580,2,0,\"Ware, Mr. William Jeffery\",male,23,1,0,28666,10.5,,S,,,\\nM0581,2,1,\"Ware, Mrs. John James (Florence Louise Long)\",female,31,0,0,CA 31352,21,,S,10,,\"Bristol, England / New Britain, CT\"\\nM0582,2,0,\"Watson, Mr. Ennis Hastings\",male,,0,0,239856,0,,S,,,Belfast\\nM0583,2,1,\"Watt, Miss. Bertha J\",female,12,0,0,C.A. 33595,15.75,,S,9,,\"Aberdeen / Portland, OR\"\\nM0584,2,1,\"Watt, Mrs. James (Elizabeth \"\"Bessie\"\" Inglis Milne)\",female,40,0,0,C.A. 33595,15.75,,S,9,,\"Aberdeen / Portland, OR\"\\nM0585,2,1,\"Webber, Miss. Susan\",female,32.5,0,0,27267,13,E101,S,12,,\"England / Hartford, CT\"\\nM0586,2,0,\"Weisz, Mr. Leopold\",male,27,1,0,228414,26,,S,,293,\"Bromsgrove, England / Montreal, PQ\"\\nM0587,2,1,\"Weisz, Mrs. Leopold (Mathilde Francoise Pede)\",female,29,1,0,228414,26,,S,10,,\"Bromsgrove, England / Montreal, PQ\"\\nM0588,2,1,\"Wells, Master. Ralph Lester\",male,2,1,1,29103,23,,S,14,,\"Cornwall / Akron, OH\"\\nM0589,2,1,\"Wells, Miss. Joan\",female,4,1,1,29103,23,,S,14,,\"Cornwall / Akron, OH\"\\nM0590,2,1,\"Wells, Mrs. Arthur Henry (\"\"Addie\"\" Dart Trevaskis)\",female,29,0,2,29103,23,,S,14,,\"Cornwall / Akron, OH\"\\nM0591,2,1,\"West, Miss. Barbara J\",female,0.92,1,2,C.A. 34651,27.75,,S,10,,\"Bournmouth, England\"\\nM0592,2,1,\"West, Miss. Constance Mirium\",female,5,1,2,C.A. 34651,27.75,,S,10,,\"Bournmouth, England\"\\nM0593,2,0,\"West, Mr. Edwy Arthur\",male,36,1,2,C.A. 34651,27.75,,S,,,\"Bournmouth, England\"\\nM0594,2,1,\"West, Mrs. Edwy Arthur (Ada Mary Worth)\",female,33,1,2,C.A. 34651,27.75,,S,10,,\"Bournmouth, England\"\\nM0595,2,0,\"Wheadon, Mr. Edward H\",male,66,0,0,C.A. 24579,10.5,,S,,,\"Guernsey, England / Edgewood, RI\"\\nM0596,2,0,\"Wheeler, Mr. Edwin \"\"Frederick\"\"\",male,,0,0,SC/PARIS 2159,12.875,,S,,,\\nM0597,2,1,\"Wilhelms, Mr. Charles\",male,31,0,0,244270,13,,S,9,,\"London, England\"\\nM0598,2,1,\"Williams, Mr. Charles Eugene\",male,,0,0,244373,13,,S,14,,\"Harrow, England\"\\nM0599,2,1,\"Wright, Miss. Marion\",female,26,0,0,220844,13.5,,S,9,,\"Yoevil, England / Cottage Grove, OR\"\\nM0600,2,0,\"Yrois, Miss. Henriette (\"\"Mrs Harbeck\"\")\",female,24,0,0,248747,13,,S,,,Paris\\nM0601,3,0,\"Abbing, Mr. Anthony\",male,42,0,0,C.A. 5547,7.55,,S,,,\\nM0602,3,0,\"Abbott, Master. Eugene Joseph\",male,13,0,2,C.A. 2673,20.25,,S,,,\"East Providence, RI\"\\nM0603,3,0,\"Abbott, Mr. Rossmore Edward\",male,16,1,1,C.A. 2673,20.25,,S,,190,\"East Providence, RI\"\\nM0604,3,1,\"Abbott, Mrs. Stanton (Rosa Hunt)\",female,35,1,1,C.A. 2673,20.25,,S,A,,\"East Providence, RI\"\\nM0605,3,1,\"Abelseth, Miss. Karen Marie\",female,16,0,0,348125,7.65,,S,16,,\"Norway Los Angeles, CA\"\\nM0606,3,1,\"Abelseth, Mr. Olaus Jorgensen\",male,25,0,0,348122,7.65,F G63,S,A,,\"Perkins County, SD\"\\nM0607,3,1,\"Abrahamsson, Mr. Abraham August Johannes\",male,20,0,0,SOTON/O2 3101284,7.925,,S,15,,\"Taalintehdas, Finland Hoboken, NJ\"\\nM0608,3,1,\"Abrahim, Mrs. Joseph (Sophie Halaut Easu)\",female,18,0,0,2657,7.2292,,C,C,,\"Greensburg, PA\"\\nM0609,3,0,\"Adahl, Mr. Mauritz Nils Martin\",male,30,0,0,C 7076,7.25,,S,,72,\"Asarum, Sweden Brooklyn, NY\"\\nM0610,3,0,\"Adams, Mr. John\",male,26,0,0,341826,8.05,,S,,103,\"Bournemouth, England\"\\nM0611,3,0,\"Ahlin, Mrs. Johan (Johanna Persdotter Larsson)\",female,40,1,0,7546,9.475,,S,,,\"Sweden Akeley, MN\"\\nM0612,3,1,\"Aks, Master. Philip Frank\",male,0.83,0,1,392091,9.35,,S,11,,\"London, England Norfolk, VA\"\\nM0613,3,1,\"Aks, Mrs. Sam (Leah Rosen)\",female,18,0,1,392091,9.35,,S,13,,\"London, England Norfolk, VA\"\\nM0614,3,1,\"Albimona, Mr. Nassef Cassem\",male,26,0,0,2699,18.7875,,C,15,,\"Syria Fredericksburg, VA\"\\nM0615,3,0,\"Alexander, Mr. William\",male,26,0,0,3474,7.8875,,S,,,\"England Albion, NY\"\\nM0616,3,0,\"Alhomaki, Mr. Ilmari Rudolf\",male,20,0,0,SOTON/O2 3101287,7.925,,S,,,\"Salo, Finland Astoria, OR\"\\nM0617,3,0,\"Ali, Mr. Ahmed\",male,24,0,0,SOTON/O.Q. 3101311,7.05,,S,,,\\nM0618,3,0,\"Ali, Mr. William\",male,25,0,0,SOTON/O.Q. 3101312,7.05,,S,,79,Argentina\\nM0619,3,0,\"Allen, Mr. William Henry\",male,35,0,0,373450,8.05,,S,,,\"Lower Clapton, Middlesex or Erdington, Birmingham\"\\nM0620,3,0,\"Allum, Mr. Owen George\",male,18,0,0,2223,8.3,,S,,259,\"Windsor, England New York, NY\"\\nM0621,3,0,\"Andersen, Mr. Albert Karvin\",male,32,0,0,C 4001,22.525,,S,,260,\"Bergen, Norway\"\\nM0622,3,1,\"Andersen-Jensen, Miss. Carla Christine Nielsine\",female,19,1,0,350046,7.8542,,S,16,,\\nM0623,3,0,\"Andersson, Master. Sigvard Harald Elias\",male,4,4,2,347082,31.275,,S,,,\"Sweden Winnipeg, MN\"\\nM0624,3,0,\"Andersson, Miss. Ebba Iris Alfrida\",female,6,4,2,347082,31.275,,S,,,\"Sweden Winnipeg, MN\"\\nM0625,3,0,\"Andersson, Miss. Ellis Anna Maria\",female,2,4,2,347082,31.275,,S,,,\"Sweden Winnipeg, MN\"\\nM0626,3,1,\"Andersson, Miss. Erna Alexandra\",female,17,4,2,3101281,7.925,,S,D,,\"Ruotsinphyhtaa, Finland New York, NY\"\\nM0627,3,0,\"Andersson, Miss. Ida Augusta Margareta\",female,38,4,2,347091,7.775,,S,,,\"Vadsbro, Sweden Ministee, MI\"\\nM0628,3,0,\"Andersson, Miss. Ingeborg Constanzia\",female,9,4,2,347082,31.275,,S,,,\"Sweden Winnipeg, MN\"\\nM0629,3,0,\"Andersson, Miss. Sigrid Elisabeth\",female,11,4,2,347082,31.275,,S,,,\"Sweden Winnipeg, MN\"\\nM0630,3,0,\"Andersson, Mr. Anders Johan\",male,39,1,5,347082,31.275,,S,,,\"Sweden Winnipeg, MN\"\\nM0631,3,1,\"Andersson, Mr. August Edvard (\"\"Wennerstrom\"\")\",male,27,0,0,350043,7.7958,,S,A,,\\nM0632,3,0,\"Andersson, Mr. Johan Samuel\",male,26,0,0,347075,7.775,,S,,,\"Hartford, CT\"\\nM0633,3,0,\"Andersson, Mrs. Anders Johan (Alfrida Konstantia Brogren)\",female,39,1,5,347082,31.275,,S,,,\"Sweden Winnipeg, MN\"\\nM0634,3,0,\"Andreasson, Mr. Paul Edvin\",male,20,0,0,347466,7.8542,,S,,,\"Sweden Chicago, IL\"\\nM0635,3,0,\"Angheloff, Mr. Minko\",male,26,0,0,349202,7.8958,,S,,,\"Bulgaria Chicago, IL\"\\nM0636,3,0,\"Arnold-Franchi, Mr. Josef\",male,25,1,0,349237,17.8,,S,,,\"Altdorf, Switzerland\"\\nM0637,3,0,\"Arnold-Franchi, Mrs. Josef (Josefine Franchi)\",female,18,1,0,349237,17.8,,S,,,\"Altdorf, Switzerland\"\\nM0638,3,0,\"Aronsson, Mr. Ernst Axel Algot\",male,24,0,0,349911,7.775,,S,,,\"Sweden Joliet, IL\"\\nM0639,3,0,\"Asim, Mr. Adola\",male,35,0,0,SOTON/O.Q. 3101310,7.05,,S,,,\\nM0640,3,0,\"Asplund, Master. Carl Edgar\",male,5,4,2,347077,31.3875,,S,,,\"Sweden  Worcester, MA\"\\nM0641,3,0,\"Asplund, Master. Clarence Gustaf Hugo\",male,9,4,2,347077,31.3875,,S,,,\"Sweden Worcester, MA\"\\nM0642,3,1,\"Asplund, Master. Edvin Rojj Felix\",male,3,4,2,347077,31.3875,,S,15,,\"Sweden Worcester, MA\"\\nM0643,3,0,\"Asplund, Master. Filip Oscar\",male,13,4,2,347077,31.3875,,S,,,\"Sweden Worcester, MA\"\\nM0644,3,1,\"Asplund, Miss. Lillian Gertrud\",female,5,4,2,347077,31.3875,,S,15,,\"Sweden Worcester, MA\"\\nM0645,3,0,\"Asplund, Mr. Carl Oscar Vilhelm Gustafsson\",male,40,1,5,347077,31.3875,,S,,142,\"Sweden  Worcester, MA\"\\nM0646,3,1,\"Asplund, Mr. Johan Charles\",male,23,0,0,350054,7.7958,,S,13,,\"Oskarshamn, Sweden Minneapolis, MN\"\\nM0647,3,1,\"Asplund, Mrs. Carl Oscar (Selma Augusta Emilia Johansson)\",female,38,1,5,347077,31.3875,,S,15,,\"Sweden  Worcester, MA\"\\nM0648,3,1,\"Assaf Khalil, Mrs. Mariana (\"\"Miriam\"\")\",female,45,0,0,2696,7.225,,C,C,,\"Ottawa, ON\"\\nM0649,3,0,\"Assaf, Mr. Gerios\",male,21,0,0,2692,7.225,,C,,,\"Ottawa, ON\"\\nM0650,3,0,\"Assam, Mr. Ali\",male,23,0,0,SOTON/O.Q. 3101309,7.05,,S,,,\\nM0651,3,0,\"Attalah, Miss. Malake\",female,17,0,0,2627,14.4583,,C,,,\\nM0652,3,0,\"Attalah, Mr. Sleiman\",male,30,0,0,2694,7.225,,C,,,\"Ottawa, ON\"\\nM0653,3,0,\"Augustsson, Mr. Albert\",male,23,0,0,347468,7.8542,,S,,,\"Krakoryd, Sweden Bloomington, IL\"\\nM0654,3,1,\"Ayoub, Miss. Banoura\",female,13,0,0,2687,7.2292,,C,C,,\"Syria Youngstown, OH\"\\nM0655,3,0,\"Baccos, Mr. Raffull\",male,20,0,0,2679,7.225,,C,,,\\nM0656,3,0,\"Backstrom, Mr. Karl Alfred\",male,32,1,0,3101278,15.85,,S,D,,\"Ruotsinphytaa, Finland New York, NY\"\\nM0657,3,1,\"Backstrom, Mrs. Karl Alfred (Maria Mathilda Gustafsson)\",female,33,3,0,3101278,15.85,,S,,,\"Ruotsinphytaa, Finland New York, NY\"\\nM0658,3,1,\"Baclini, Miss. Eugenie\",female,0.75,2,1,2666,19.2583,,C,C,,\"Syria New York, NY\"\\nM0659,3,1,\"Baclini, Miss. Helene Barbara\",female,0.75,2,1,2666,19.2583,,C,C,,\"Syria New York, NY\"\\nM0660,3,1,\"Baclini, Miss. Marie Catherine\",female,5,2,1,2666,19.2583,,C,C,,\"Syria New York, NY\"\\nM0661,3,1,\"Baclini, Mrs. Solomon (Latifa Qurban)\",female,24,0,3,2666,19.2583,,C,C,,\"Syria New York, NY\"\\nM0662,3,1,\"Badman, Miss. Emily Louisa\",female,18,0,0,A/4 31416,8.05,,S,C,,\"London Skanteales, NY\"\\nM0663,3,0,\"Badt, Mr. Mohamed\",male,40,0,0,2623,7.225,,C,,,\\nM0664,3,0,\"Balkic, Mr. Cerin\",male,26,0,0,349248,7.8958,,S,,,\\nM0665,3,1,\"Barah, Mr. Hanna Assi\",male,20,0,0,2663,7.2292,,C,15,,\\nM0666,3,0,\"Barbara, Miss. Saiide\",female,18,0,1,2691,14.4542,,C,,,\"Syria Ottawa, ON\"\\nM0667,3,0,\"Barbara, Mrs. (Catherine David)\",female,45,0,1,2691,14.4542,,C,,,\"Syria Ottawa, ON\"\\nM0668,3,0,\"Barry, Miss. Julia\",female,27,0,0,330844,7.8792,,Q,,,\"New York, NY\"\\nM0669,3,0,\"Barton, Mr. David John\",male,22,0,0,324669,8.05,,S,,,\"England New York, NY\"\\nM0670,3,0,\"Beavan, Mr. William Thomas\",male,19,0,0,323951,8.05,,S,,,England\\nM0671,3,0,\"Bengtsson, Mr. John Viktor\",male,26,0,0,347068,7.775,,S,,,\"Krakudden, Sweden Moune, IL\"\\nM0672,3,0,\"Berglund, Mr. Karl Ivar Sven\",male,22,0,0,PP 4348,9.35,,S,,,\"Tranvik, Finland New York\"\\nM0673,3,0,\"Betros, Master. Seman\",male,,0,0,2622,7.2292,,C,,,\\nM0674,3,0,\"Betros, Mr. Tannous\",male,20,0,0,2648,4.0125,,C,,,Syria\\nM0675,3,1,\"Bing, Mr. Lee\",male,32,0,0,1601,56.4958,,S,C,,\"Hong Kong New York, NY\"\\nM0676,3,0,\"Birkeland, Mr. Hans Martin Monsen\",male,21,0,0,312992,7.775,,S,,,\"Brennes, Norway New York\"\\nM0677,3,0,\"Bjorklund, Mr. Ernst Herbert\",male,18,0,0,347090,7.75,,S,,,\"Stockholm, Sweden New York\"\\nM0678,3,0,\"Bostandyeff, Mr. Guentcho\",male,26,0,0,349224,7.8958,,S,,,\"Bulgaria Chicago, IL\"\\nM0679,3,0,\"Boulos, Master. Akar\",male,6,1,1,2678,15.2458,,C,,,\"Syria Kent, ON\"\\nM0680,3,0,\"Boulos, Miss. Nourelain\",female,9,1,1,2678,15.2458,,C,,,\"Syria Kent, ON\"\\nM0681,3,0,\"Boulos, Mr. Hanna\",male,,0,0,2664,7.225,,C,,,Syria\\nM0682,3,0,\"Boulos, Mrs. Joseph (Sultana)\",female,,0,2,2678,15.2458,,C,,,\"Syria Kent, ON\"\\nM0683,3,0,\"Bourke, Miss. Mary\",female,,0,2,364848,7.75,,Q,,,\"Ireland Chicago, IL\"\\nM0684,3,0,\"Bourke, Mr. John\",male,40,1,1,364849,15.5,,Q,,,\"Ireland Chicago, IL\"\\nM0685,3,0,\"Bourke, Mrs. John (Catherine)\",female,32,1,1,364849,15.5,,Q,,,\"Ireland Chicago, IL\"\\nM0686,3,0,\"Bowen, Mr. David John \"\"Dai\"\"\",male,21,0,0,54636,16.1,,S,,,\"Treherbert, Cardiff, Wales\"\\nM0687,3,1,\"Bradley, Miss. Bridget Delia\",female,22,0,0,334914,7.725,,Q,13,,\"Kingwilliamstown, Co Cork, Ireland Glens Falls, NY\"\\nM0688,3,0,\"Braf, Miss. Elin Ester Maria\",female,20,0,0,347471,7.8542,,S,,,\"Medeltorp, Sweden Chicago, IL\"\\nM0689,3,0,\"Braund, Mr. Lewis Richard\",male,29,1,0,3460,7.0458,,S,,,\"Bridgerule, Devon\"\\nM0690,3,0,\"Braund, Mr. Owen Harris\",male,22,1,0,A/5 21171,7.25,,S,,,\"Bridgerule, Devon\"\\nM0691,3,0,\"Brobeck, Mr. Karl Rudolf\",male,22,0,0,350045,7.7958,,S,,,\"Sweden Worcester, MA\"\\nM0692,3,0,\"Brocklebank, Mr. William Alfred\",male,35,0,0,364512,8.05,,S,,,\"Broomfield, Chelmsford, England\"\\nM0693,3,0,\"Buckley, Miss. Katherine\",female,18.5,0,0,329944,7.2833,,Q,,299,\"Co Cork, Ireland Roxbury, MA\"\\nM0694,3,1,\"Buckley, Mr. Daniel\",male,21,0,0,330920,7.8208,,Q,13,,\"Kingwilliamstown, Co Cork, Ireland New York, NY\"\\nM0695,3,0,\"Burke, Mr. Jeremiah\",male,19,0,0,365222,6.75,,Q,,,\"Co Cork, Ireland Charlestown, MA\"\\nM0696,3,0,\"Burns, Miss. Mary Delia\",female,18,0,0,330963,7.8792,,Q,,,\"Co Sligo, Ireland New York, NY\"\\nM0697,3,0,\"Cacic, Miss. Manda\",female,21,0,0,315087,8.6625,,S,,,\\nM0698,3,0,\"Cacic, Miss. Marija\",female,30,0,0,315084,8.6625,,S,,,\\nM0699,3,0,\"Cacic, Mr. Jego Grga\",male,18,0,0,315091,8.6625,,S,,,\\nM0700,3,0,\"Cacic, Mr. Luka\",male,38,0,0,315089,8.6625,,S,,,Croatia\\nM0701,3,0,\"Calic, Mr. Jovo\",male,17,0,0,315093,8.6625,,S,,,\\nM0702,3,0,\"Calic, Mr. Petar\",male,17,0,0,315086,8.6625,,S,,,\\nM0703,3,0,\"Canavan, Miss. Mary\",female,21,0,0,364846,7.75,,Q,,,\\nM0704,3,0,\"Canavan, Mr. Patrick\",male,21,0,0,364858,7.75,,Q,,,\"Ireland Philadelphia, PA\"\\nM0705,3,0,\"Cann, Mr. Ernest Charles\",male,21,0,0,A./5. 2152,8.05,,S,,,\\nM0706,3,0,\"Caram, Mr. Joseph\",male,,1,0,2689,14.4583,,C,,,\"Ottawa, ON\"\\nM0707,3,0,\"Caram, Mrs. Joseph (Maria Elias)\",female,,1,0,2689,14.4583,,C,,,\"Ottawa, ON\"\\nM0708,3,0,\"Carlsson, Mr. August Sigfrid\",male,28,0,0,350042,7.7958,,S,,,\"Dagsas, Sweden Fower, MN\"\\nM0709,3,0,\"Carlsson, Mr. Carl Robert\",male,24,0,0,350409,7.8542,,S,,,\"Goteborg, Sweden Huntley, IL\"\\nM0710,3,1,\"Carr, Miss. Helen \"\"Ellen\"\"\",female,16,0,0,367231,7.75,,Q,16,,\"Co Longford, Ireland New York, NY\"\\nM0711,3,0,\"Carr, Miss. Jeannie\",female,37,0,0,368364,7.75,,Q,,,\"Co Sligo, Ireland Hartford, CT\"\\nM0712,3,0,\"Carver, Mr. Alfred John\",male,28,0,0,392095,7.25,,S,,,\"St Denys, Southampton, Hants\"\\nM0713,3,0,\"Celotti, Mr. Francesco\",male,24,0,0,343275,8.05,,S,,,London\\nM0714,3,0,\"Charters, Mr. David\",male,21,0,0,A/5. 13032,7.7333,,Q,,,\"Ireland New York, NY\"\\nM0715,3,1,\"Chip, Mr. Chang\",male,32,0,0,1601,56.4958,,S,C,,\"Hong Kong New York, NY\"\\nM0716,3,0,\"Christmann, Mr. Emil\",male,29,0,0,343276,8.05,,S,,,\\nM0717,3,0,\"Chronopoulos, Mr. Apostolos\",male,26,1,0,2680,14.4542,,C,,,Greece\\nM0718,3,0,\"Chronopoulos, Mr. Demetrios\",male,18,1,0,2680,14.4542,,C,,,Greece\\nM0719,3,0,\"Coelho, Mr. Domingos Fernandeo\",male,20,0,0,SOTON/O.Q. 3101307,7.05,,S,,,Portugal\\nM0720,3,1,\"Cohen, Mr. Gurshon \"\"Gus\"\"\",male,18,0,0,A/5 3540,8.05,,S,12,,\"London Brooklyn, NY\"\\nM0721,3,0,\"Colbert, Mr. Patrick\",male,24,0,0,371109,7.25,,Q,,,\"Co Limerick, Ireland Sherbrooke, PQ\"\\nM0722,3,0,\"Coleff, Mr. Peju\",male,36,0,0,349210,7.4958,,S,,,\"Bulgaria Chicago, IL\"\\nM0723,3,0,\"Coleff, Mr. Satio\",male,24,0,0,349209,7.4958,,S,,,\\nM0724,3,0,\"Conlon, Mr. Thomas Henry\",male,31,0,0,21332,7.7333,,Q,,,\"Philadelphia, PA\"\\nM0725,3,0,\"Connaghton, Mr. Michael\",male,31,0,0,335097,7.75,,Q,,,\"Ireland Brooklyn, NY\"\\nM0726,3,1,\"Connolly, Miss. Kate\",female,22,0,0,370373,7.75,,Q,13,,Ireland\\nM0727,3,0,\"Connolly, Miss. Kate\",female,30,0,0,330972,7.6292,,Q,,,Ireland\\nM0728,3,0,\"Connors, Mr. Patrick\",male,70.5,0,0,370369,7.75,,Q,,171,\\nM0729,3,0,\"Cook, Mr. Jacob\",male,43,0,0,A/5 3536,8.05,,S,,,\\nM0730,3,0,\"Cor, Mr. Bartol\",male,35,0,0,349230,7.8958,,S,,,Austria\\nM0731,3,0,\"Cor, Mr. Ivan\",male,27,0,0,349229,7.8958,,S,,,Austria\\nM0732,3,0,\"Cor, Mr. Liudevit\",male,19,0,0,349231,7.8958,,S,,,Austria\\nM0733,3,0,\"Corn, Mr. Harry\",male,30,0,0,SOTON/OQ 392090,8.05,,S,,,London\\nM0734,3,1,\"Coutts, Master. Eden Leslie \"\"Neville\"\"\",male,9,1,1,C.A. 37671,15.9,,S,2,,\"England Brooklyn, NY\"\\nM0735,3,1,\"Coutts, Master. William Loch \"\"William\"\"\",male,3,1,1,C.A. 37671,15.9,,S,2,,\"England Brooklyn, NY\"\\nM0736,3,1,\"Coutts, Mrs. William (Winnie \"\"Minnie\"\" Treanor)\",female,36,0,2,C.A. 37671,15.9,,S,2,,\"England Brooklyn, NY\"\\nM0737,3,0,\"Coxon, Mr. Daniel\",male,59,0,0,364500,7.25,,S,,,\"Merrill, WI\"\\nM0738,3,0,\"Crease, Mr. Ernest James\",male,19,0,0,S.P. 3464,8.1583,,S,,,\"Bristol, England Cleveland, OH\"\\nM0739,3,1,\"Cribb, Miss. Laura Alice\",female,17,0,1,371362,16.1,,S,12,,\"Bournemouth, England Newark, NJ\"\\nM0740,3,0,\"Cribb, Mr. John Hatfield\",male,44,0,1,371362,16.1,,S,,,\"Bournemouth, England Newark, NJ\"\\nM0741,3,0,\"Culumovic, Mr. Jeso\",male,17,0,0,315090,8.6625,,S,,,Austria-Hungary\\nM0742,3,0,\"Daher, Mr. Shedid\",male,22.5,0,0,2698,7.225,,C,,9,\\nM0743,3,1,\"Dahl, Mr. Karl Edwart\",male,45,0,0,7598,8.05,,S,15,,\"Australia Fingal, ND\"\\nM0744,3,0,\"Dahlberg, Miss. Gerda Ulrika\",female,22,0,0,7552,10.5167,,S,,,\"Norrlot, Sweden Chicago, IL\"\\nM0745,3,0,\"Dakic, Mr. Branko\",male,19,0,0,349228,10.1708,,S,,,Austria\\nM0746,3,1,\"Daly, Miss. Margaret Marcella \"\"Maggie\"\"\",female,30,0,0,382650,6.95,,Q,15,,\"Co Athlone, Ireland New York, NY\"\\nM0747,3,1,\"Daly, Mr. Eugene Patrick\",male,29,0,0,382651,7.75,,Q,13 15 B,,\"Co Athlone, Ireland New York, NY\"\\nM0748,3,0,\"Danbom, Master. Gilbert Sigvard Emanuel\",male,0.33,0,2,347080,14.4,,S,,,\"Stanton, IA\"\\nM0749,3,0,\"Danbom, Mr. Ernst Gilbert\",male,34,1,1,347080,14.4,,S,,197,\"Stanton, IA\"\\nM0750,3,0,\"Danbom, Mrs. Ernst Gilbert (Anna Sigrid Maria Brogren)\",female,28,1,1,347080,14.4,,S,,,\"Stanton, IA\"\\nM0751,3,0,\"Danoff, Mr. Yoto\",male,27,0,0,349219,7.8958,,S,,,\"Bulgaria Chicago, IL\"\\nM0752,3,0,\"Dantcheff, Mr. Ristiu\",male,25,0,0,349203,7.8958,,S,,,\"Bulgaria Chicago, IL\"\\nM0753,3,0,\"Davies, Mr. Alfred J\",male,24,2,0,A/4 48871,24.15,,S,,,\"West Bromwich, England Pontiac, MI\"\\nM0754,3,0,\"Davies, Mr. Evan\",male,22,0,0,SC/A4 23568,8.05,,S,,,\\nM0755,3,0,\"Davies, Mr. John Samuel\",male,21,2,0,A/4 48871,24.15,,S,,,\"West Bromwich, England Pontiac, MI\"\\nM0756,3,0,\"Davies, Mr. Joseph\",male,17,2,0,A/4 48873,8.05,,S,,,\"West Bromwich, England Pontiac, MI\"\\nM0757,3,0,\"Davison, Mr. Thomas Henry\",male,,1,0,386525,16.1,,S,,,\"Liverpool, England Bedford, OH\"\\nM0758,3,1,\"Davison, Mrs. Thomas Henry (Mary E Finck)\",female,,1,0,386525,16.1,,S,16,,\"Liverpool, England Bedford, OH\"\\nM0759,3,1,\"de Messemaeker, Mr. Guillaume Joseph\",male,36.5,1,0,345572,17.4,,S,15,,\"Tampico, MT\"\\nM0760,3,1,\"de Messemaeker, Mrs. Guillaume Joseph (Emma)\",female,36,1,0,345572,17.4,,S,13,,\"Tampico, MT\"\\nM0761,3,1,\"de Mulder, Mr. Theodore\",male,30,0,0,345774,9.5,,S,11,,\"Belgium Detroit, MI\"\\nM0762,3,0,\"de Pelsmaeker, Mr. Alfons\",male,16,0,0,345778,9.5,,S,,,\\nM0763,3,1,\"Dean, Master. Bertram Vere\",male,1,1,2,C.A. 2315,20.575,,S,10,,\"Devon, England Wichita, KS\"\\nM0764,3,1,\"Dean, Miss. Elizabeth Gladys \"\"Millvina\"\"\",female,0.17,1,2,C.A. 2315,20.575,,S,10,,\"Devon, England Wichita, KS\"\\nM0765,3,0,\"Dean, Mr. Bertram Frank\",male,26,1,2,C.A. 2315,20.575,,S,,,\"Devon, England Wichita, KS\"\\nM0766,3,1,\"Dean, Mrs. Bertram (Eva Georgetta Light)\",female,33,1,2,C.A. 2315,20.575,,S,10,,\"Devon, England Wichita, KS\"\\nM0767,3,0,\"Delalic, Mr. Redjo\",male,25,0,0,349250,7.8958,,S,,,\\nM0768,3,0,\"Demetri, Mr. Marinko\",male,,0,0,349238,7.8958,,S,,,\\nM0769,3,0,\"Denkoff, Mr. Mitto\",male,,0,0,349225,7.8958,,S,,,\"Bulgaria Coon Rapids, IA\"\\nM0770,3,0,\"Dennis, Mr. Samuel\",male,22,0,0,A/5 21172,7.25,,S,,,\\nM0771,3,0,\"Dennis, Mr. William\",male,36,0,0,A/5 21175,7.25,,S,,,\\nM0772,3,1,\"Devaney, Miss. Margaret Delia\",female,19,0,0,330958,7.8792,,Q,C,,\"Kilmacowen, Co Sligo, Ireland New York, NY\"\\nM0773,3,0,\"Dika, Mr. Mirko\",male,17,0,0,349232,7.8958,,S,,,\\nM0774,3,0,\"Dimic, Mr. Jovan\",male,42,0,0,315088,8.6625,,S,,,\\nM0775,3,0,\"Dintcheff, Mr. Valtcho\",male,43,0,0,349226,7.8958,,S,,,\\nM0776,3,0,\"Doharr, Mr. Tannous\",male,,0,0,2686,7.2292,,C,,,\\nM0777,3,0,\"Dooley, Mr. Patrick\",male,32,0,0,370376,7.75,,Q,,,\"Ireland New York, NY\"\\nM0778,3,1,\"Dorking, Mr. Edward Arthur\",male,19,0,0,A/5. 10482,8.05,,S,B,,\"England Oglesby, IL\"\\nM0779,3,1,\"Dowdell, Miss. Elizabeth\",female,30,0,0,364516,12.475,,S,13,,\"Union Hill, NJ\"\\nM0780,3,0,\"Doyle, Miss. Elizabeth\",female,24,0,0,368702,7.75,,Q,,,\"Ireland New York, NY\"\\nM0781,3,1,\"Drapkin, Miss. Jennie\",female,23,0,0,SOTON/OQ 392083,8.05,,S,,,\"London New York, NY\"\\nM0782,3,0,\"Drazenoic, Mr. Jozef\",male,33,0,0,349241,7.8958,,C,,51,\"Austria Niagara Falls, NY\"\\nM0783,3,0,\"Duane, Mr. Frank\",male,65,0,0,336439,7.75,,Q,,,\\nM0784,3,1,\"Duquemin, Mr. Joseph\",male,24,0,0,S.O./P.P. 752,7.55,,S,D,,\"England Albion, NY\"\\nM0785,3,0,\"Dyker, Mr. Adolf Fredrik\",male,23,1,0,347072,13.9,,S,,,\"West Haven, CT\"\\nM0786,3,1,\"Dyker, Mrs. Adolf Fredrik (Anna Elisabeth Judith Andersson)\",female,22,1,0,347072,13.9,,S,16,,\"West Haven, CT\"\\nM0787,3,0,\"Edvardsson, Mr. Gustaf Hjalmar\",male,18,0,0,349912,7.775,,S,,,\"Tofta, Sweden Joliet, IL\"\\nM0788,3,0,\"Eklund, Mr. Hans Linus\",male,16,0,0,347074,7.775,,S,,,\"Karberg, Sweden Jerome Junction, AZ\"\\nM0789,3,0,\"Ekstrom, Mr. Johan\",male,45,0,0,347061,6.975,,S,,,\"Effington Rut, SD\"\\nM0790,3,0,\"Elias, Mr. Dibo\",male,,0,0,2674,7.225,,C,,,\\nM0791,3,0,\"Elias, Mr. Joseph\",male,39,0,2,2675,7.2292,,C,,,\"Syria Ottawa, ON\"\\nM0792,3,0,\"Elias, Mr. Joseph Jr\",male,17,1,1,2690,7.2292,,C,,,\\nM0793,3,0,\"Elias, Mr. Tannous\",male,15,1,1,2695,7.2292,,C,,,Syria\\nM0794,3,0,\"Elsbury, Mr. William James\",male,47,0,0,A/5 3902,7.25,,S,,,\"Illinois, USA\"\\nM0795,3,1,\"Emanuel, Miss. Virginia Ethel\",female,5,0,0,364516,12.475,,S,13,,\"New York, NY\"\\nM0796,3,0,\"Emir, Mr. Farred Chehab\",male,,0,0,2631,7.225,,C,,,\\nM0797,3,0,\"Everett, Mr. Thomas James\",male,40.5,0,0,C.A. 6212,15.1,,S,,187,\\nM0798,3,0,\"Farrell, Mr. James\",male,40.5,0,0,367232,7.75,,Q,,68,\"Aughnacliff, Co Longford, Ireland New York, NY\"\\nM0799,3,1,\"Finoli, Mr. Luigi\",male,,0,0,SOTON/O.Q. 3101308,7.05,,S,15,,\"Italy Philadelphia, PA\"\\nM0800,3,0,\"Fischer, Mr. Eberhard Thelander\",male,18,0,0,350036,7.7958,,S,,,\\nM0801,3,0,\"Fleming, Miss. Honora\",female,,0,0,364859,7.75,,Q,,,\\nM0802,3,0,\"Flynn, Mr. James\",male,,0,0,364851,7.75,,Q,,,\\nM0803,3,0,\"Flynn, Mr. John\",male,,0,0,368323,6.95,,Q,,,\\nM0804,3,0,\"Foley, Mr. Joseph\",male,26,0,0,330910,7.8792,,Q,,,\"Ireland Chicago, IL\"\\nM0805,3,0,\"Foley, Mr. William\",male,,0,0,365235,7.75,,Q,,,Ireland\\nM0806,3,1,\"Foo, Mr. Choong\",male,,0,0,1601,56.4958,,S,13,,\"Hong Kong New York, NY\"\\nM0807,3,0,\"Ford, Miss. Doolina Margaret \"\"Daisy\"\"\",female,21,2,2,W./C. 6608,34.375,,S,,,\"Rotherfield, Sussex, England Essex Co, MA\"\\nM0808,3,0,\"Ford, Miss. Robina Maggie \"\"Ruby\"\"\",female,9,2,2,W./C. 6608,34.375,,S,,,\"Rotherfield, Sussex, England Essex Co, MA\"\\nM0809,3,0,\"Ford, Mr. Arthur\",male,,0,0,A/5 1478,8.05,,S,,,\"Bridgwater, Somerset, England\"\\nM0810,3,0,\"Ford, Mr. Edward Watson\",male,18,2,2,W./C. 6608,34.375,,S,,,\"Rotherfield, Sussex, England Essex Co, MA\"\\nM0811,3,0,\"Ford, Mr. William Neal\",male,16,1,3,W./C. 6608,34.375,,S,,,\"Rotherfield, Sussex, England Essex Co, MA\"\\nM0812,3,0,\"Ford, Mrs. Edward (Margaret Ann Watson)\",female,48,1,3,W./C. 6608,34.375,,S,,,\"Rotherfield, Sussex, England Essex Co, MA\"\\nM0813,3,0,\"Fox, Mr. Patrick\",male,,0,0,368573,7.75,,Q,,,\"Ireland New York, NY\"\\nM0814,3,0,\"Franklin, Mr. Charles (Charles Fardon)\",male,,0,0,SOTON/O.Q. 3101314,7.25,,S,,,\\nM0815,3,0,\"Gallagher, Mr. Martin\",male,25,0,0,36864,7.7417,,Q,,,\"New York, NY\"\\nM0816,3,0,\"Garfirth, Mr. John\",male,,0,0,358585,14.5,,S,,,\\nM0817,3,0,\"Gheorgheff, Mr. Stanio\",male,,0,0,349254,7.8958,,C,,,\\nM0818,3,0,\"Gilinski, Mr. Eliezer\",male,22,0,0,14973,8.05,,S,,47,\\nM0819,3,1,\"Gilnagh, Miss. Katherine \"\"Katie\"\"\",female,16,0,0,35851,7.7333,,Q,16,,\"Co Longford, Ireland New York, NY\"\\nM0820,3,1,\"Glynn, Miss. Mary Agatha\",female,,0,0,335677,7.75,,Q,13,,\"Co Clare, Ireland Washington, DC\"\\nM0821,3,1,\"Goldsmith, Master. Frank John William \"\"Frankie\"\"\",male,9,0,2,363291,20.525,,S,C D,,\"Strood, Kent, England Detroit, MI\"\\nM0822,3,0,\"Goldsmith, Mr. Frank John\",male,33,1,1,363291,20.525,,S,,,\"Strood, Kent, England Detroit, MI\"\\nM0823,3,0,\"Goldsmith, Mr. Nathan\",male,41,0,0,SOTON/O.Q. 3101263,7.85,,S,,,\"Philadelphia, PA\"\\nM0824,3,1,\"Goldsmith, Mrs. Frank John (Emily Alice Brown)\",female,31,1,1,363291,20.525,,S,C D,,\"Strood, Kent, England Detroit, MI\"\\nM0825,3,0,\"Goncalves, Mr. Manuel Estanslas\",male,38,0,0,SOTON/O.Q. 3101306,7.05,,S,,,Portugal\\nM0826,3,0,\"Goodwin, Master. Harold Victor\",male,9,5,2,CA 2144,46.9,,S,,,\"Wiltshire, England Niagara Falls, NY\"\\nM0827,3,0,\"Goodwin, Master. Sidney Leonard\",male,1,5,2,CA 2144,46.9,,S,,,\"Wiltshire, England Niagara Falls, NY\"\\nM0828,3,0,\"Goodwin, Master. William Frederick\",male,11,5,2,CA 2144,46.9,,S,,,\"Wiltshire, England Niagara Falls, NY\"\\nM0829,3,0,\"Goodwin, Miss. Jessie Allis\",female,10,5,2,CA 2144,46.9,,S,,,\"Wiltshire, England Niagara Falls, NY\"\\nM0830,3,0,\"Goodwin, Miss. Lillian Amy\",female,16,5,2,CA 2144,46.9,,S,,,\"Wiltshire, England Niagara Falls, NY\"\\nM0831,3,0,\"Goodwin, Mr. Charles Edward\",male,14,5,2,CA 2144,46.9,,S,,,\"Wiltshire, England Niagara Falls, NY\"\\nM0832,3,0,\"Goodwin, Mr. Charles Frederick\",male,40,1,6,CA 2144,46.9,,S,,,\"Wiltshire, England Niagara Falls, NY\"\\nM0833,3,0,\"Goodwin, Mrs. Frederick (Augusta Tyler)\",female,43,1,6,CA 2144,46.9,,S,,,\"Wiltshire, England Niagara Falls, NY\"\\nM0834,3,0,\"Green, Mr. George Henry\",male,51,0,0,21440,8.05,,S,,,\"Dorking, Surrey, England\"\\nM0835,3,0,\"Gronnestad, Mr. Daniel Danielsen\",male,32,0,0,8471,8.3625,,S,,,\"Foresvik, Norway Portland, ND\"\\nM0836,3,0,\"Guest, Mr. Robert\",male,,0,0,376563,8.05,,S,,,\\nM0837,3,0,\"Gustafsson, Mr. Alfred Ossian\",male,20,0,0,7534,9.8458,,S,,,\"Waukegan, Chicago, IL\"\\nM0838,3,0,\"Gustafsson, Mr. Anders Vilhelm\",male,37,2,0,3101276,7.925,,S,,98,\"Ruotsinphytaa, Finland New York, NY\"\\nM0839,3,0,\"Gustafsson, Mr. Johan Birger\",male,28,2,0,3101277,7.925,,S,,,\"Ruotsinphytaa, Finland New York, NY\"\\nM0840,3,0,\"Gustafsson, Mr. Karl Gideon\",male,19,0,0,347069,7.775,,S,,,\"Myren, Sweden New York, NY\"\\nM0841,3,0,\"Haas, Miss. Aloisia\",female,24,0,0,349236,8.85,,S,,,\\nM0842,3,0,\"Hagardon, Miss. Kate\",female,17,0,0,AQ/3. 30631,7.7333,,Q,,,\\nM0843,3,0,\"Hagland, Mr. Ingvald Olai Olsen\",male,,1,0,65303,19.9667,,S,,,\\nM0844,3,0,\"Hagland, Mr. Konrad Mathias Reiersen\",male,,1,0,65304,19.9667,,S,,,\\nM0845,3,0,\"Hakkarainen, Mr. Pekka Pietari\",male,28,1,0,STON/O2. 3101279,15.85,,S,,,\\nM0846,3,1,\"Hakkarainen, Mrs. Pekka Pietari (Elin Matilda Dolck)\",female,24,1,0,STON/O2. 3101279,15.85,,S,15,,\\nM0847,3,0,\"Hampe, Mr. Leon\",male,20,0,0,345769,9.5,,S,,,\\nM0848,3,0,\"Hanna, Mr. Mansour\",male,23.5,0,0,2693,7.2292,,C,,188,\\nM0849,3,0,\"Hansen, Mr. Claus Peter\",male,41,2,0,350026,14.1083,,S,,,\\nM0850,3,0,\"Hansen, Mr. Henrik Juul\",male,26,1,0,350025,7.8542,,S,,,\\nM0851,3,0,\"Hansen, Mr. Henry Damsgaard\",male,21,0,0,350029,7.8542,,S,,69,\\nM0852,3,1,\"Hansen, Mrs. Claus Peter (Jennie L Howard)\",female,45,1,0,350026,14.1083,,S,11,,\\nM0853,3,0,\"Harknett, Miss. Alice Phoebe\",female,,0,0,W./C. 6609,7.55,,S,,,\\nM0854,3,0,\"Harmer, Mr. Abraham (David Lishin)\",male,25,0,0,374887,7.25,,S,B,,\\nM0855,3,0,\"Hart, Mr. Henry\",male,,0,0,394140,6.8583,,Q,,,\\nM0856,3,0,\"Hassan, Mr. Houssein G N\",male,11,0,0,2699,18.7875,,C,,,\\nM0857,3,1,\"Healy, Miss. Hanora \"\"Nora\"\"\",female,,0,0,370375,7.75,,Q,16,,\\nM0858,3,1,\"Hedman, Mr. Oskar Arvid\",male,27,0,0,347089,6.975,,S,15,,\\nM0859,3,1,\"Hee, Mr. Ling\",male,,0,0,1601,56.4958,,S,C,,\\nM0860,3,0,\"Hegarty, Miss. Hanora \"\"Nora\"\"\",female,18,0,0,365226,6.75,,Q,,,\\nM0861,3,1,\"Heikkinen, Miss. Laina\",female,26,0,0,STON/O2. 3101282,7.925,,S,,,\\nM0862,3,0,\"Heininen, Miss. Wendla Maria\",female,23,0,0,STON/O2. 3101290,7.925,,S,,,\\nM0863,3,1,\"Hellstrom, Miss. Hilda Maria\",female,22,0,0,7548,8.9625,,S,C,,\\nM0864,3,0,\"Hendekovic, Mr. Ignjac\",male,28,0,0,349243,7.8958,,S,,306,\\nM0865,3,0,\"Henriksson, Miss. Jenny Lovisa\",female,28,0,0,347086,7.775,,S,,,\\nM0866,3,0,\"Henry, Miss. Delia\",female,,0,0,382649,7.75,,Q,,,\\nM0867,3,1,\"Hirvonen, Miss. Hildur E\",female,2,0,1,3101298,12.2875,,S,15,,\\nM0868,3,1,\"Hirvonen, Mrs. Alexander (Helga E Lindqvist)\",female,22,1,1,3101298,12.2875,,S,15,,\\nM0869,3,0,\"Holm, Mr. John Fredrik Alexander\",male,43,0,0,C 7075,6.45,,S,,,\\nM0870,3,0,\"Holthen, Mr. Johan Martin\",male,28,0,0,C 4001,22.525,,S,,,\\nM0871,3,1,\"Honkanen, Miss. Eliina\",female,27,0,0,STON/O2. 3101283,7.925,,S,,,\\nM0872,3,0,\"Horgan, Mr. John\",male,,0,0,370377,7.75,,Q,,,\\nM0873,3,1,\"Howard, Miss. May Elizabeth\",female,,0,0,A. 2. 39186,8.05,,S,C,,\\nM0874,3,0,\"Humblen, Mr. Adolf Mathias Nicolai Olsen\",male,42,0,0,348121,7.65,F G63,S,,120,\\nM0875,3,1,\"Hyman, Mr. Abraham\",male,,0,0,3470,7.8875,,S,C,,\\nM0876,3,0,\"Ibrahim Shawah, Mr. Yousseff\",male,30,0,0,2685,7.2292,,C,,,\\nM0877,3,0,\"Ilieff, Mr. Ylio\",male,,0,0,349220,7.8958,,S,,,\\nM0878,3,0,\"Ilmakangas, Miss. Ida Livija\",female,27,1,0,STON/O2. 3101270,7.925,,S,,,\\nM0879,3,0,\"Ilmakangas, Miss. Pieta Sofia\",female,25,1,0,STON/O2. 3101271,7.925,,S,,,\\nM0880,3,0,\"Ivanoff, Mr. Kanio\",male,,0,0,349201,7.8958,,S,,,\\nM0881,3,1,\"Jalsevac, Mr. Ivan\",male,29,0,0,349240,7.8958,,C,15,,\\nM0882,3,1,\"Jansson, Mr. Carl Olof\",male,21,0,0,350034,7.7958,,S,A,,\\nM0883,3,0,\"Jardin, Mr. Jose Neto\",male,,0,0,SOTON/O.Q. 3101305,7.05,,S,,,\\nM0884,3,0,\"Jensen, Mr. Hans Peder\",male,20,0,0,350050,7.8542,,S,,,\\nM0885,3,0,\"Jensen, Mr. Niels Peder\",male,48,0,0,350047,7.8542,,S,,,\\nM0886,3,0,\"Jensen, Mr. Svend Lauritz\",male,17,1,0,350048,7.0542,,S,,,\\nM0887,3,1,\"Jermyn, Miss. Annie\",female,,0,0,14313,7.75,,Q,D,,\\nM0888,3,1,\"Johannesen-Bratthammer, Mr. Bernt\",male,,0,0,65306,8.1125,,S,13,,\\nM0889,3,0,\"Johanson, Mr. Jakob Alfred\",male,34,0,0,3101264,6.4958,,S,,143,\\nM0890,3,1,\"Johansson Palmquist, Mr. Oskar Leander\",male,26,0,0,347070,7.775,,S,15,,\\nM0891,3,0,\"Johansson, Mr. Erik\",male,22,0,0,350052,7.7958,,S,,156,\\nM0892,3,0,\"Johansson, Mr. Gustaf Joel\",male,33,0,0,7540,8.6542,,S,,285,\\nM0893,3,0,\"Johansson, Mr. Karl Johan\",male,31,0,0,347063,7.775,,S,,,\\nM0894,3,0,\"Johansson, Mr. Nils\",male,29,0,0,347467,7.8542,,S,,,\\nM0895,3,1,\"Johnson, Master. Harold Theodor\",male,4,1,1,347742,11.1333,,S,15,,\\nM0896,3,1,\"Johnson, Miss. Eleanor Ileen\",female,1,1,1,347742,11.1333,,S,15,,\\nM0897,3,0,\"Johnson, Mr. Alfred\",male,49,0,0,LINE,0,,S,,,\\nM0898,3,0,\"Johnson, Mr. Malkolm Joackim\",male,33,0,0,347062,7.775,,S,,37,\\nM0899,3,0,\"Johnson, Mr. William Cahoone Jr\",male,19,0,0,LINE,0,,S,,,\\nM0900,3,1,\"Johnson, Mrs. Oscar W (Elisabeth Vilhelmina Berg)\",female,27,0,2,347742,11.1333,,S,15,,\\nM0901,3,0,\"Johnston, Master. William Arthur \"\"Willie\"\"\",male,,1,2,W./C. 6607,23.45,,S,,,\\nM0902,3,0,\"Johnston, Miss. Catherine Helen \"\"Carrie\"\"\",female,,1,2,W./C. 6607,23.45,,S,,,\\nM0903,3,0,\"Johnston, Mr. Andrew G\",male,,1,2,W./C. 6607,23.45,,S,,,\\nM0904,3,0,\"Johnston, Mrs. Andrew G (Elizabeth \"\"Lily\"\" Watson)\",female,,1,2,W./C. 6607,23.45,,S,,,\\nM0905,3,0,\"Jonkoff, Mr. Lalio\",male,23,0,0,349204,7.8958,,S,,,\\nM0906,3,1,\"Jonsson, Mr. Carl\",male,32,0,0,350417,7.8542,,S,15,,\\nM0907,3,0,\"Jonsson, Mr. Nils Hilding\",male,27,0,0,350408,7.8542,,S,,,\\nM0908,3,0,\"Jussila, Miss. Katriina\",female,20,1,0,4136,9.825,,S,,,\\nM0909,3,0,\"Jussila, Miss. Mari Aina\",female,21,1,0,4137,9.825,,S,,,\\nM0910,3,1,\"Jussila, Mr. Eiriik\",male,32,0,0,STON/O 2. 3101286,7.925,,S,15,,\\nM0911,3,0,\"Kallio, Mr. Nikolai Erland\",male,17,0,0,STON/O 2. 3101274,7.125,,S,,,\\nM0912,3,0,\"Kalvik, Mr. Johannes Halvorsen\",male,21,0,0,8475,8.4333,,S,,,\\nM0913,3,0,\"Karaic, Mr. Milan\",male,30,0,0,349246,7.8958,,S,,,\\nM0914,3,1,\"Karlsson, Mr. Einar Gervasius\",male,21,0,0,350053,7.7958,,S,13,,\\nM0915,3,0,\"Karlsson, Mr. Julius Konrad Eugen\",male,33,0,0,347465,7.8542,,S,,,\\nM0916,3,0,\"Karlsson, Mr. Nils August\",male,22,0,0,350060,7.5208,,S,,,\\nM0917,3,1,\"Karun, Miss. Manca\",female,4,0,1,349256,13.4167,,C,15,,\\nM0918,3,1,\"Karun, Mr. Franz\",male,39,0,1,349256,13.4167,,C,15,,\\nM0919,3,0,\"Kassem, Mr. Fared\",male,,0,0,2700,7.2292,,C,,,\\nM0920,3,0,\"Katavelas, Mr. Vassilios (\"\"Catavelas Vassilios\"\")\",male,18.5,0,0,2682,7.2292,,C,,58,\\nM0921,3,0,\"Keane, Mr. Andrew \"\"Andy\"\"\",male,,0,0,12460,7.75,,Q,,,\\nM0922,3,0,\"Keefe, Mr. Arthur\",male,,0,0,323592,7.25,,S,A,,\\nM0923,3,1,\"Kelly, Miss. Anna Katherine \"\"Annie Kate\"\"\",female,,0,0,9234,7.75,,Q,16,,\\nM0924,3,1,\"Kelly, Miss. Mary\",female,,0,0,14312,7.75,,Q,D,,\\nM0925,3,0,\"Kelly, Mr. James\",male,34.5,0,0,330911,7.8292,,Q,,70,\\nM0926,3,0,\"Kelly, Mr. James\",male,44,0,0,363592,8.05,,S,,,\\nM0927,3,1,\"Kennedy, Mr. John\",male,,0,0,368783,7.75,,Q,,,\\nM0928,3,0,\"Khalil, Mr. Betros\",male,,1,0,2660,14.4542,,C,,,\\nM0929,3,0,\"Khalil, Mrs. Betros (Zahie \"\"Maria\"\" Elias)\",female,,1,0,2660,14.4542,,C,,,\\nM0930,3,0,\"Kiernan, Mr. John\",male,,1,0,367227,7.75,,Q,,,\\nM0931,3,0,\"Kiernan, Mr. Philip\",male,,1,0,367229,7.75,,Q,,,\\nM0932,3,0,\"Kilgannon, Mr. Thomas J\",male,,0,0,36865,7.7375,,Q,,,\\nM0933,3,0,\"Kink, Miss. Maria\",female,22,2,0,315152,8.6625,,S,,,\\nM0934,3,0,\"Kink, Mr. Vincenz\",male,26,2,0,315151,8.6625,,S,,,\\nM0935,3,1,\"Kink-Heilmann, Miss. Luise Gretchen\",female,4,0,2,315153,22.025,,S,2,,\\nM0936,3,1,\"Kink-Heilmann, Mr. Anton\",male,29,3,1,315153,22.025,,S,2,,\\nM0937,3,1,\"Kink-Heilmann, Mrs. Anton (Luise Heilmann)\",female,26,1,1,315153,22.025,,S,2,,\\nM0938,3,0,\"Klasen, Miss. Gertrud Emilia\",female,1,1,1,350405,12.1833,,S,,,\\nM0939,3,0,\"Klasen, Mr. Klas Albin\",male,18,1,1,350404,7.8542,,S,,,\\nM0940,3,0,\"Klasen, Mrs. (Hulda Kristina Eugenia Lofqvist)\",female,36,0,2,350405,12.1833,,S,,,\\nM0941,3,0,\"Kraeff, Mr. Theodor\",male,,0,0,349253,7.8958,,C,,,\\nM0942,3,1,\"Krekorian, Mr. Neshan\",male,25,0,0,2654,7.2292,F E57,C,10,,\\nM0943,3,0,\"Lahoud, Mr. Sarkis\",male,,0,0,2624,7.225,,C,,,\\nM0944,3,0,\"Laitinen, Miss. Kristina Sofia\",female,37,0,0,4135,9.5875,,S,,,\\nM0945,3,0,\"Laleff, Mr. Kristo\",male,,0,0,349217,7.8958,,S,,,\\nM0946,3,1,\"Lam, Mr. Ali\",male,,0,0,1601,56.4958,,S,C,,\\nM0947,3,0,\"Lam, Mr. Len\",male,,0,0,1601,56.4958,,S,,,\\nM0948,3,1,\"Landergren, Miss. Aurora Adelia\",female,22,0,0,C 7077,7.25,,S,13,,\\nM0949,3,0,\"Lane, Mr. Patrick\",male,,0,0,7935,7.75,,Q,,,\\nM0950,3,1,\"Lang, Mr. Fang\",male,26,0,0,1601,56.4958,,S,14,,\\nM0951,3,0,\"Larsson, Mr. August Viktor\",male,29,0,0,7545,9.4833,,S,,,\\nM0952,3,0,\"Larsson, Mr. Bengt Edvin\",male,29,0,0,347067,7.775,,S,,,\\nM0953,3,0,\"Larsson-Rondberg, Mr. Edvard A\",male,22,0,0,347065,7.775,,S,,,\\nM0954,3,1,\"Leeni, Mr. Fahim (\"\"Philip Zenni\"\")\",male,22,0,0,2620,7.225,,C,6,,\\nM0955,3,0,\"Lefebre, Master. Henry Forbes\",male,,3,1,4133,25.4667,,S,,,\\nM0956,3,0,\"Lefebre, Miss. Ida\",female,,3,1,4133,25.4667,,S,,,\\nM0957,3,0,\"Lefebre, Miss. Jeannie\",female,,3,1,4133,25.4667,,S,,,\\nM0958,3,0,\"Lefebre, Miss. Mathilde\",female,,3,1,4133,25.4667,,S,,,\\nM0959,3,0,\"Lefebre, Mrs. Frank (Frances)\",female,,0,4,4133,25.4667,,S,,,\\nM0960,3,0,\"Leinonen, Mr. Antti Gustaf\",male,32,0,0,STON/O 2. 3101292,7.925,,S,,,\\nM0961,3,0,\"Lemberopolous, Mr. Peter L\",male,34.5,0,0,2683,6.4375,,C,,196,\\nM0962,3,0,\"Lennon, Miss. Mary\",female,,1,0,370371,15.5,,Q,,,\\nM0963,3,0,\"Lennon, Mr. Denis\",male,,1,0,370371,15.5,,Q,,,\\nM0964,3,0,\"Leonard, Mr. Lionel\",male,36,0,0,LINE,0,,S,,,\\nM0965,3,0,\"Lester, Mr. James\",male,39,0,0,A/4 48871,24.15,,S,,,\\nM0966,3,0,\"Lievens, Mr. Rene Aime\",male,24,0,0,345781,9.5,,S,,,\\nM0967,3,0,\"Lindahl, Miss. Agda Thorilda Viktoria\",female,25,0,0,347071,7.775,,S,,,\\nM0968,3,0,\"Lindblom, Miss. Augusta Charlotta\",female,45,0,0,347073,7.75,,S,,,\\nM0969,3,0,\"Lindell, Mr. Edvard Bengtsson\",male,36,1,0,349910,15.55,,S,A,,\\nM0970,3,0,\"Lindell, Mrs. Edvard Bengtsson (Elin Gerda Persson)\",female,30,1,0,349910,15.55,,S,A,,\\nM0971,3,1,\"Lindqvist, Mr. Eino William\",male,20,1,0,STON/O 2. 3101285,7.925,,S,15,,\\nM0972,3,0,\"Linehan, Mr. Michael\",male,,0,0,330971,7.8792,,Q,,,\\nM0973,3,0,\"Ling, Mr. Lee\",male,28,0,0,1601,56.4958,,S,,,\\nM0974,3,0,\"Lithman, Mr. Simon\",male,,0,0,S.O./P.P. 251,7.55,,S,,,\\nM0975,3,0,\"Lobb, Mr. William Arthur\",male,30,1,0,A/5. 3336,16.1,,S,,,\\nM0976,3,0,\"Lobb, Mrs. William Arthur (Cordelia K Stanlick)\",female,26,1,0,A/5. 3336,16.1,,S,,,\\nM0977,3,0,\"Lockyer, Mr. Edward\",male,,0,0,1222,7.8792,,S,,153,\\nM0978,3,0,\"Lovell, Mr. John Hall (\"\"Henry\"\")\",male,20.5,0,0,A/5 21173,7.25,,S,,,\\nM0979,3,1,\"Lulic, Mr. Nikola\",male,27,0,0,315098,8.6625,,S,15,,\\nM0980,3,0,\"Lundahl, Mr. Johan Svensson\",male,51,0,0,347743,7.0542,,S,,,\\nM0981,3,1,\"Lundin, Miss. Olga Elida\",female,23,0,0,347469,7.8542,,S,10,,\\nM0982,3,1,\"Lundstrom, Mr. Thure Edvin\",male,32,0,0,350403,7.5792,,S,15,,\\nM0983,3,0,\"Lyntakoff, Mr. Stanko\",male,,0,0,349235,7.8958,,S,,,\\nM0984,3,0,\"MacKay, Mr. George William\",male,,0,0,C.A. 42795,7.55,,S,,,\\nM0985,3,1,\"Madigan, Miss. Margaret \"\"Maggie\"\"\",female,,0,0,370370,7.75,,Q,15,,\\nM0986,3,1,\"Madsen, Mr. Fridtjof Arne\",male,24,0,0,C 17369,7.1417,,S,13,,\\nM0987,3,0,\"Maenpaa, Mr. Matti Alexanteri\",male,22,0,0,STON/O 2. 3101275,7.125,,S,,,\\nM0988,3,0,\"Mahon, Miss. Bridget Delia\",female,,0,0,330924,7.8792,,Q,,,\\nM0989,3,0,\"Mahon, Mr. John\",male,,0,0,AQ/4 3130,7.75,,Q,,,\\nM0990,3,0,\"Maisner, Mr. Simon\",male,,0,0,A/S 2816,8.05,,S,,,\\nM0991,3,0,\"Makinen, Mr. Kalle Edvard\",male,29,0,0,STON/O 2. 3101268,7.925,,S,,,\\nM0992,3,1,\"Mamee, Mr. Hanna\",male,,0,0,2677,7.2292,,C,15,,\\nM0993,3,0,\"Mangan, Miss. Mary\",female,30.5,0,0,364850,7.75,,Q,,61,\\nM0994,3,1,\"Mannion, Miss. Margareth\",female,,0,0,36866,7.7375,,Q,16,,\\nM0995,3,0,\"Mardirosian, Mr. Sarkis\",male,,0,0,2655,7.2292,F E46,C,,,\\nM0996,3,0,\"Markoff, Mr. Marin\",male,35,0,0,349213,7.8958,,C,,,\\nM0997,3,0,\"Markun, Mr. Johann\",male,33,0,0,349257,7.8958,,S,,,\\nM0998,3,1,\"Masselmani, Mrs. Fatima\",female,,0,0,2649,7.225,,C,C,,\\nM0999,3,0,\"Matinoff, Mr. Nicola\",male,,0,0,349255,7.8958,,C,,,\\nM1000,3,1,\"McCarthy, Miss. Catherine \"\"Katie\"\"\",female,,0,0,383123,7.75,,Q,15 16,,\\nM1001,3,1,\"McCormack, Mr. Thomas Joseph\",male,,0,0,367228,7.75,,Q,,,\\nM1002,3,1,\"McCoy, Miss. Agnes\",female,,2,0,367226,23.25,,Q,16,,\\nM1003,3,1,\"McCoy, Miss. Alicia\",female,,2,0,367226,23.25,,Q,16,,\\nM1004,3,1,\"McCoy, Mr. Bernard\",male,,2,0,367226,23.25,,Q,16,,\\nM1005,3,1,\"McDermott, Miss. Brigdet Delia\",female,,0,0,330932,7.7875,,Q,13,,\\nM1006,3,0,\"McEvoy, Mr. Michael\",male,,0,0,36568,15.5,,Q,,,\\nM1007,3,1,\"McGovern, Miss. Mary\",female,,0,0,330931,7.8792,,Q,13,,\\nM1008,3,1,\"McGowan, Miss. Anna \"\"Annie\"\"\",female,15,0,0,330923,8.0292,,Q,,,\\nM1009,3,0,\"McGowan, Miss. Katherine\",female,35,0,0,9232,7.75,,Q,,,\\nM1010,3,0,\"McMahon, Mr. Martin\",male,,0,0,370372,7.75,,Q,,,\\nM1011,3,0,\"McNamee, Mr. Neal\",male,24,1,0,376566,16.1,,S,,,\\nM1012,3,0,\"McNamee, Mrs. Neal (Eileen O\\'Leary)\",female,19,1,0,376566,16.1,,S,,53,\\nM1013,3,0,\"McNeill, Miss. Bridget\",female,,0,0,370368,7.75,,Q,,,\\nM1014,3,0,\"Meanwell, Miss. (Marion Ogden)\",female,,0,0,SOTON/O.Q. 392087,8.05,,S,,,\\nM1015,3,0,\"Meek, Mrs. Thomas (Annie Louise Rowley)\",female,,0,0,343095,8.05,,S,,,\\nM1016,3,0,\"Meo, Mr. Alfonzo\",male,55.5,0,0,A.5. 11206,8.05,,S,,201,\\nM1017,3,0,\"Mernagh, Mr. Robert\",male,,0,0,368703,7.75,,Q,,,\\nM1018,3,1,\"Midtsjo, Mr. Karl Albert\",male,21,0,0,345501,7.775,,S,15,,\\nM1019,3,0,\"Miles, Mr. Frank\",male,,0,0,359306,8.05,,S,,,\\nM1020,3,0,\"Mineff, Mr. Ivan\",male,24,0,0,349233,7.8958,,S,,,\\nM1021,3,0,\"Minkoff, Mr. Lazar\",male,21,0,0,349211,7.8958,,S,,,\\nM1022,3,0,\"Mionoff, Mr. Stoytcho\",male,28,0,0,349207,7.8958,,S,,,\\nM1023,3,0,\"Mitkoff, Mr. Mito\",male,,0,0,349221,7.8958,,S,,,\\nM1024,3,1,\"Mockler, Miss. Helen Mary \"\"Ellie\"\"\",female,,0,0,330980,7.8792,,Q,16,,\\nM1025,3,0,\"Moen, Mr. Sigurd Hansen\",male,25,0,0,348123,7.65,F G73,S,,309,\\nM1026,3,1,\"Moor, Master. Meier\",male,6,0,1,392096,12.475,E121,S,14,,\\nM1027,3,1,\"Moor, Mrs. (Beila)\",female,27,0,1,392096,12.475,E121,S,14,,\\nM1028,3,0,\"Moore, Mr. Leonard Charles\",male,,0,0,A4. 54510,8.05,,S,,,\\nM1029,3,1,\"Moran, Miss. Bertha\",female,,1,0,371110,24.15,,Q,16,,\\nM1030,3,0,\"Moran, Mr. Daniel J\",male,,1,0,371110,24.15,,Q,,,\\nM1031,3,0,\"Moran, Mr. James\",male,,0,0,330877,8.4583,,Q,,,\\nM1032,3,0,\"Morley, Mr. William\",male,34,0,0,364506,8.05,,S,,,\\nM1033,3,0,\"Morrow, Mr. Thomas Rowan\",male,,0,0,372622,7.75,,Q,,,\\nM1034,3,1,\"Moss, Mr. Albert Johan\",male,,0,0,312991,7.775,,S,B,,\\nM1035,3,1,\"Moubarek, Master. Gerios\",male,,1,1,2661,15.2458,,C,C,,\\nM1036,3,1,\"Moubarek, Master. Halim Gonios (\"\"William George\"\")\",male,,1,1,2661,15.2458,,C,C,,\\nM1037,3,1,\"Moubarek, Mrs. George (Omine \"\"Amenia\"\" Alexander)\",female,,0,2,2661,15.2458,,C,C,,\\nM1038,3,1,\"Moussa, Mrs. (Mantoura Boulos)\",female,,0,0,2626,7.2292,,C,,,\\nM1039,3,0,\"Moutal, Mr. Rahamin Haim\",male,,0,0,374746,8.05,,S,,,\\nM1040,3,1,\"Mullens, Miss. Katherine \"\"Katie\"\"\",female,,0,0,35852,7.7333,,Q,16,,\\nM1041,3,1,\"Mulvihill, Miss. Bertha E\",female,24,0,0,382653,7.75,,Q,15,,\\nM1042,3,0,\"Murdlin, Mr. Joseph\",male,,0,0,A./5. 3235,8.05,,S,,,\\nM1043,3,1,\"Murphy, Miss. Katherine \"\"Kate\"\"\",female,,1,0,367230,15.5,,Q,16,,\\nM1044,3,1,\"Murphy, Miss. Margaret Jane\",female,,1,0,367230,15.5,,Q,16,,\\nM1045,3,1,\"Murphy, Miss. Nora\",female,,0,0,36568,15.5,,Q,16,,\\nM1046,3,0,\"Myhrman, Mr. Pehr Fabian Oliver Malkolm\",male,18,0,0,347078,7.75,,S,,,\\nM1047,3,0,\"Naidenoff, Mr. Penko\",male,22,0,0,349206,7.8958,,S,,,\\nM1048,3,1,\"Najib, Miss. Adele Kiamie \"\"Jane\"\"\",female,15,0,0,2667,7.225,,C,C,,\\nM1049,3,1,\"Nakid, Miss. Maria (\"\"Mary\"\")\",female,1,0,2,2653,15.7417,,C,C,,\\nM1050,3,1,\"Nakid, Mr. Sahid\",male,20,1,1,2653,15.7417,,C,C,,\\nM1051,3,1,\"Nakid, Mrs. Said (Waika \"\"Mary\"\" Mowad)\",female,19,1,1,2653,15.7417,,C,C,,\\nM1052,3,0,\"Nancarrow, Mr. William Henry\",male,33,0,0,A./5. 3338,8.05,,S,,,\\nM1053,3,0,\"Nankoff, Mr. Minko\",male,,0,0,349218,7.8958,,S,,,\\nM1054,3,0,\"Nasr, Mr. Mustafa\",male,,0,0,2652,7.2292,,C,,,\\nM1055,3,0,\"Naughton, Miss. Hannah\",female,,0,0,365237,7.75,,Q,,,\\nM1056,3,0,\"Nenkoff, Mr. Christo\",male,,0,0,349234,7.8958,,S,,,\\nM1057,3,1,\"Nicola-Yarred, Master. Elias\",male,12,1,0,2651,11.2417,,C,C,,\\nM1058,3,1,\"Nicola-Yarred, Miss. Jamila\",female,14,1,0,2651,11.2417,,C,C,,\\nM1059,3,0,\"Nieminen, Miss. Manta Josefina\",female,29,0,0,3101297,7.925,,S,,,\\nM1060,3,0,\"Niklasson, Mr. Samuel\",male,28,0,0,363611,8.05,,S,,,\\nM1061,3,1,\"Nilsson, Miss. Berta Olivia\",female,18,0,0,347066,7.775,,S,D,,\\nM1062,3,1,\"Nilsson, Miss. Helmina Josefina\",female,26,0,0,347470,7.8542,,S,13,,\\nM1063,3,0,\"Nilsson, Mr. August Ferdinand\",male,21,0,0,350410,7.8542,,S,,,\\nM1064,3,0,\"Nirva, Mr. Iisakki Antino Aijo\",male,41,0,0,SOTON/O2 3101272,7.125,,S,,,\"Finland Sudbury, ON\"\\nM1065,3,1,\"Niskanen, Mr. Juha\",male,39,0,0,STON/O 2. 3101289,7.925,,S,9,,\\nM1066,3,0,\"Nosworthy, Mr. Richard Cater\",male,21,0,0,A/4. 39886,7.8,,S,,,\\nM1067,3,0,\"Novel, Mr. Mansouer\",male,28.5,0,0,2697,7.2292,,C,,181,\\nM1068,3,1,\"Nysten, Miss. Anna Sofia\",female,22,0,0,347081,7.75,,S,13,,\\nM1069,3,0,\"Nysveen, Mr. Johan Hansen\",male,61,0,0,345364,6.2375,,S,,,\\nM1070,3,0,\"O\\'Brien, Mr. Thomas\",male,,1,0,370365,15.5,,Q,,,\\nM1071,3,0,\"O\\'Brien, Mr. Timothy\",male,,0,0,330979,7.8292,,Q,,,\\nM1072,3,1,\"O\\'Brien, Mrs. Thomas (Johanna \"\"Hannah\"\" Godfrey)\",female,,1,0,370365,15.5,,Q,,,\\nM1073,3,0,\"O\\'Connell, Mr. Patrick D\",male,,0,0,334912,7.7333,,Q,,,\\nM1074,3,0,\"O\\'Connor, Mr. Maurice\",male,,0,0,371060,7.75,,Q,,,\\nM1075,3,0,\"O\\'Connor, Mr. Patrick\",male,,0,0,366713,7.75,,Q,,,\\nM1076,3,0,\"Odahl, Mr. Nils Martin\",male,23,0,0,7267,9.225,,S,,,\\nM1077,3,0,\"O\\'Donoghue, Ms. Bridget\",female,,0,0,364856,7.75,,Q,,,\\nM1078,3,1,\"O\\'Driscoll, Miss. Bridget\",female,,0,0,14311,7.75,,Q,D,,\\nM1079,3,1,\"O\\'Dwyer, Miss. Ellen \"\"Nellie\"\"\",female,,0,0,330959,7.8792,,Q,,,\\nM1080,3,1,\"Ohman, Miss. Velin\",female,22,0,0,347085,7.775,,S,C,,\\nM1081,3,1,\"O\\'Keefe, Mr. Patrick\",male,,0,0,368402,7.75,,Q,B,,\\nM1082,3,1,\"O\\'Leary, Miss. Hanora \"\"Norah\"\"\",female,,0,0,330919,7.8292,,Q,13,,\\nM1083,3,1,\"Olsen, Master. Artur Karl\",male,9,0,1,C 17368,3.1708,,S,13,,\\nM1084,3,0,\"Olsen, Mr. Henry Margido\",male,28,0,0,C 4001,22.525,,S,,173,\\nM1085,3,0,\"Olsen, Mr. Karl Siegwart Andreas\",male,42,0,1,4579,8.4042,,S,,,\\nM1086,3,0,\"Olsen, Mr. Ole Martin\",male,,0,0,Fa 265302,7.3125,,S,,,\\nM1087,3,0,\"Olsson, Miss. Elina\",female,31,0,0,350407,7.8542,,S,,,\\nM1088,3,0,\"Olsson, Mr. Nils Johan Goransson\",male,28,0,0,347464,7.8542,,S,,,\\nM1089,3,1,\"Olsson, Mr. Oscar Wilhelm\",male,32,0,0,347079,7.775,,S,A,,\\nM1090,3,0,\"Olsvigen, Mr. Thor Anderson\",male,20,0,0,6563,9.225,,S,,89,\"Oslo, Norway Cameron, WI\"\\nM1091,3,0,\"Oreskovic, Miss. Jelka\",female,23,0,0,315085,8.6625,,S,,,\\nM1092,3,0,\"Oreskovic, Miss. Marija\",female,20,0,0,315096,8.6625,,S,,,\\nM1093,3,0,\"Oreskovic, Mr. Luka\",male,20,0,0,315094,8.6625,,S,,,\\nM1094,3,0,\"Osen, Mr. Olaf Elon\",male,16,0,0,7534,9.2167,,S,,,\\nM1095,3,1,\"Osman, Mrs. Mara\",female,31,0,0,349244,8.6833,,S,,,\\nM1096,3,0,\"O\\'Sullivan, Miss. Bridget Mary\",female,,0,0,330909,7.6292,,Q,,,\\nM1097,3,0,\"Palsson, Master. Gosta Leonard\",male,2,3,1,349909,21.075,,S,,4,\\nM1098,3,0,\"Palsson, Master. Paul Folke\",male,6,3,1,349909,21.075,,S,,,\\nM1099,3,0,\"Palsson, Miss. Stina Viola\",female,3,3,1,349909,21.075,,S,,,\\nM1100,3,0,\"Palsson, Miss. Torborg Danira\",female,8,3,1,349909,21.075,,S,,,\\nM1101,3,0,\"Palsson, Mrs. Nils (Alma Cornelia Berglund)\",female,29,0,4,349909,21.075,,S,,206,\\nM1102,3,0,\"Panula, Master. Eino Viljami\",male,1,4,1,3101295,39.6875,,S,,,\\nM1103,3,0,\"Panula, Master. Juha Niilo\",male,7,4,1,3101295,39.6875,,S,,,\\nM1104,3,0,\"Panula, Master. Urho Abraham\",male,2,4,1,3101295,39.6875,,S,,,\\nM1105,3,0,\"Panula, Mr. Ernesti Arvid\",male,16,4,1,3101295,39.6875,,S,,,\\nM1106,3,0,\"Panula, Mr. Jaako Arnold\",male,14,4,1,3101295,39.6875,,S,,,\\nM1107,3,0,\"Panula, Mrs. Juha (Maria Emilia Ojala)\",female,41,0,5,3101295,39.6875,,S,,,\\nM1108,3,0,\"Pasic, Mr. Jakob\",male,21,0,0,315097,8.6625,,S,,,\\nM1109,3,0,\"Patchett, Mr. George\",male,19,0,0,358585,14.5,,S,,,\\nM1110,3,0,\"Paulner, Mr. Uscher\",male,,0,0,3411,8.7125,,C,,,\\nM1111,3,0,\"Pavlovic, Mr. Stefo\",male,32,0,0,349242,7.8958,,S,,,\\nM1112,3,0,\"Peacock, Master. Alfred Edward\",male,0.75,1,1,SOTON/O.Q. 3101315,13.775,,S,,,\\nM1113,3,0,\"Peacock, Miss. Treasteall\",female,3,1,1,SOTON/O.Q. 3101315,13.775,,S,,,\\nM1114,3,0,\"Peacock, Mrs. Benjamin (Edith Nile)\",female,26,0,2,SOTON/O.Q. 3101315,13.775,,S,,,\\nM1115,3,0,\"Pearce, Mr. Ernest\",male,,0,0,343271,7,,S,,,\\nM1116,3,0,\"Pedersen, Mr. Olaf\",male,,0,0,345498,7.775,,S,,,\\nM1117,3,0,\"Peduzzi, Mr. Joseph\",male,,0,0,A/5 2817,8.05,,S,,,\\nM1118,3,0,\"Pekoniemi, Mr. Edvard\",male,21,0,0,STON/O 2. 3101294,7.925,,S,,,\\nM1119,3,0,\"Peltomaki, Mr. Nikolai Johannes\",male,25,0,0,STON/O 2. 3101291,7.925,,S,,,\\nM1120,3,0,\"Perkin, Mr. John Henry\",male,22,0,0,A/5 21174,7.25,,S,,,\\nM1121,3,1,\"Persson, Mr. Ernst Ulrik\",male,25,1,0,347083,7.775,,S,15,,\\nM1122,3,1,\"Peter, Master. Michael J\",male,,1,1,2668,22.3583,,C,C,,\\nM1123,3,1,\"Peter, Miss. Anna\",female,,1,1,2668,22.3583,F E69,C,D,,\\nM1124,3,1,\"Peter, Mrs. Catherine (Catherine Rizk)\",female,,0,2,2668,22.3583,,C,D,,\\nM1125,3,0,\"Peters, Miss. Katie\",female,,0,0,330935,8.1375,,Q,,,\\nM1126,3,0,\"Petersen, Mr. Marius\",male,24,0,0,342441,8.05,,S,,,\\nM1127,3,0,\"Petranec, Miss. Matilda\",female,28,0,0,349245,7.8958,,S,,,\\nM1128,3,0,\"Petroff, Mr. Nedelio\",male,19,0,0,349212,7.8958,,S,,,\\nM1129,3,0,\"Petroff, Mr. Pastcho (\"\"Pentcho\"\")\",male,,0,0,349215,7.8958,,S,,,\\nM1130,3,0,\"Petterson, Mr. Johan Emil\",male,25,1,0,347076,7.775,,S,,,\\nM1131,3,0,\"Pettersson, Miss. Ellen Natalia\",female,18,0,0,347087,7.775,,S,,,\\nM1132,3,1,\"Pickard, Mr. Berk (Berk Trembisky)\",male,32,0,0,SOTON/O.Q. 392078,8.05,E10,S,9,,\\nM1133,3,0,\"Plotcharsky, Mr. Vasil\",male,,0,0,349227,7.8958,,S,,,\\nM1134,3,0,\"Pokrnic, Mr. Mate\",male,17,0,0,315095,8.6625,,S,,,\\nM1135,3,0,\"Pokrnic, Mr. Tome\",male,24,0,0,315092,8.6625,,S,,,\\nM1136,3,0,\"Radeff, Mr. Alexander\",male,,0,0,349223,7.8958,,S,,,\\nM1137,3,0,\"Rasmussen, Mrs. (Lena Jacobsen Solvang)\",female,,0,0,65305,8.1125,,S,,,\\nM1138,3,0,\"Razi, Mr. Raihed\",male,,0,0,2629,7.2292,,C,,,\\nM1139,3,0,\"Reed, Mr. James George\",male,,0,0,362316,7.25,,S,,,\\nM1140,3,0,\"Rekic, Mr. Tido\",male,38,0,0,349249,7.8958,,S,,,\\nM1141,3,0,\"Reynolds, Mr. Harold J\",male,21,0,0,342684,8.05,,S,,,\\nM1142,3,0,\"Rice, Master. Albert\",male,10,4,1,382652,29.125,,Q,,,\\nM1143,3,0,\"Rice, Master. Arthur\",male,4,4,1,382652,29.125,,Q,,,\\nM1144,3,0,\"Rice, Master. Eric\",male,7,4,1,382652,29.125,,Q,,,\\nM1145,3,0,\"Rice, Master. Eugene\",male,2,4,1,382652,29.125,,Q,,,\\nM1146,3,0,\"Rice, Master. George Hugh\",male,8,4,1,382652,29.125,,Q,,,\\nM1147,3,0,\"Rice, Mrs. William (Margaret Norton)\",female,39,0,5,382652,29.125,,Q,,327,\\nM1148,3,0,\"Riihivouri, Miss. Susanna Juhantytar \"\"Sanni\"\"\",female,22,0,0,3101295,39.6875,,S,,,\\nM1149,3,0,\"Rintamaki, Mr. Matti\",male,35,0,0,STON/O 2. 3101273,7.125,,S,,,\\nM1150,3,1,\"Riordan, Miss. Johanna \"\"Hannah\"\"\",female,,0,0,334915,7.7208,,Q,13,,\\nM1151,3,0,\"Risien, Mr. Samuel Beard\",male,,0,0,364498,14.5,,S,,,\\nM1152,3,0,\"Risien, Mrs. Samuel (Emma)\",female,,0,0,364498,14.5,,S,,,\\nM1153,3,0,\"Robins, Mr. Alexander A\",male,50,1,0,A/5. 3337,14.5,,S,,119,\\nM1154,3,0,\"Robins, Mrs. Alexander A (Grace Charity Laury)\",female,47,1,0,A/5. 3337,14.5,,S,,7,\\nM1155,3,0,\"Rogers, Mr. William John\",male,,0,0,S.C./A.4. 23567,8.05,,S,,,\\nM1156,3,0,\"Rommetvedt, Mr. Knud Paust\",male,,0,0,312993,7.775,,S,,,\\nM1157,3,0,\"Rosblom, Miss. Salli Helena\",female,2,1,1,370129,20.2125,,S,,,\\nM1158,3,0,\"Rosblom, Mr. Viktor Richard\",male,18,1,1,370129,20.2125,,S,,,\\nM1159,3,0,\"Rosblom, Mrs. Viktor (Helena Wilhelmina)\",female,41,0,2,370129,20.2125,,S,,,\\nM1160,3,1,\"Roth, Miss. Sarah A\",female,,0,0,342712,8.05,,S,C,,\\nM1161,3,0,\"Rouse, Mr. Richard Henry\",male,50,0,0,A/5 3594,8.05,,S,,,\\nM1162,3,0,\"Rush, Mr. Alfred George John\",male,16,0,0,A/4. 20589,8.05,,S,,,\\nM1163,3,1,\"Ryan, Mr. Edward\",male,,0,0,383162,7.75,,Q,14,,\\nM1164,3,0,\"Ryan, Mr. Patrick\",male,,0,0,371110,24.15,,Q,,,\\nM1165,3,0,\"Saad, Mr. Amin\",male,,0,0,2671,7.2292,,C,,,\\nM1166,3,0,\"Saad, Mr. Khalil\",male,25,0,0,2672,7.225,,C,,,\\nM1167,3,0,\"Saade, Mr. Jean Nassr\",male,,0,0,2676,7.225,,C,,,\\nM1168,3,0,\"Sadlier, Mr. Matthew\",male,,0,0,367655,7.7292,,Q,,,\\nM1169,3,0,\"Sadowitz, Mr. Harry\",male,,0,0,LP 1588,7.575,,S,,,\\nM1170,3,0,\"Saether, Mr. Simon Sivertsen\",male,38.5,0,0,SOTON/O.Q. 3101262,7.25,,S,,32,\\nM1171,3,0,\"Sage, Master. Thomas Henry\",male,,8,2,CA. 2343,69.55,,S,,,\\nM1172,3,0,\"Sage, Master. William Henry\",male,14.5,8,2,CA. 2343,69.55,,S,,67,\\nM1173,3,0,\"Sage, Miss. Ada\",female,,8,2,CA. 2343,69.55,,S,,,\\nM1174,3,0,\"Sage, Miss. Constance Gladys\",female,,8,2,CA. 2343,69.55,,S,,,\\nM1175,3,0,\"Sage, Miss. Dorothy Edith \"\"Dolly\"\"\",female,,8,2,CA. 2343,69.55,,S,,,\\nM1176,3,0,\"Sage, Miss. Stella Anna\",female,,8,2,CA. 2343,69.55,,S,,,\\nM1177,3,0,\"Sage, Mr. Douglas Bullen\",male,,8,2,CA. 2343,69.55,,S,,,\\nM1178,3,0,\"Sage, Mr. Frederick\",male,,8,2,CA. 2343,69.55,,S,,,\\nM1179,3,0,\"Sage, Mr. George John Jr\",male,,8,2,CA. 2343,69.55,,S,,,\\nM1180,3,0,\"Sage, Mr. John George\",male,,1,9,CA. 2343,69.55,,S,,,\\nM1181,3,0,\"Sage, Mrs. John (Annie Bullen)\",female,,1,9,CA. 2343,69.55,,S,,,\\nM1182,3,0,\"Salander, Mr. Karl Johan\",male,24,0,0,7266,9.325,,S,,,\\nM1183,3,1,\"Salkjelsvik, Miss. Anna Kristine\",female,21,0,0,343120,7.65,,S,C,,\\nM1184,3,0,\"Salonen, Mr. Johan Werner\",male,39,0,0,3101296,7.925,,S,,,\\nM1185,3,0,\"Samaan, Mr. Elias\",male,,2,0,2662,21.6792,,C,,,\\nM1186,3,0,\"Samaan, Mr. Hanna\",male,,2,0,2662,21.6792,,C,,,\\nM1187,3,0,\"Samaan, Mr. Youssef\",male,,2,0,2662,21.6792,,C,,,\\nM1188,3,1,\"Sandstrom, Miss. Beatrice Irene\",female,1,1,1,PP 9549,16.7,G6,S,13,,\\nM1189,3,1,\"Sandstrom, Mrs. Hjalmar (Agnes Charlotta Bengtsson)\",female,24,0,2,PP 9549,16.7,G6,S,13,,\\nM1190,3,1,\"Sandstrom, Miss. Marguerite Rut\",female,4,1,1,PP 9549,16.7,G6,S,13,,\\nM1191,3,1,\"Sap, Mr. Julius\",male,25,0,0,345768,9.5,,S,11,,\\nM1192,3,0,\"Saundercock, Mr. William Henry\",male,20,0,0,A/5. 2151,8.05,,S,,,\\nM1193,3,0,\"Sawyer, Mr. Frederick Charles\",male,24.5,0,0,342826,8.05,,S,,284,\\nM1194,3,0,\"Scanlan, Mr. James\",male,,0,0,36209,7.725,,Q,,,\\nM1195,3,0,\"Sdycoff, Mr. Todor\",male,,0,0,349222,7.8958,,S,,,\\nM1196,3,0,\"Shaughnessy, Mr. Patrick\",male,,0,0,370374,7.75,,Q,,,\\nM1197,3,1,\"Sheerlinck, Mr. Jan Baptist\",male,29,0,0,345779,9.5,,S,11,,\\nM1198,3,0,\"Shellard, Mr. Frederick William\",male,,0,0,C.A. 6212,15.1,,S,,,\\nM1199,3,1,\"Shine, Miss. Ellen Natalia\",female,,0,0,330968,7.7792,,Q,,,\\nM1200,3,0,\"Shorney, Mr. Charles Joseph\",male,,0,0,374910,8.05,,S,,,\\nM1201,3,0,\"Simmons, Mr. John\",male,,0,0,SOTON/OQ 392082,8.05,,S,,,\\nM1202,3,0,\"Sirayanian, Mr. Orsen\",male,22,0,0,2669,7.2292,,C,,,\\nM1203,3,0,\"Sirota, Mr. Maurice\",male,,0,0,392092,8.05,,S,,,\\nM1204,3,0,\"Sivic, Mr. Husein\",male,40,0,0,349251,7.8958,,S,,,\\nM1205,3,0,\"Sivola, Mr. Antti Wilhelm\",male,21,0,0,STON/O 2. 3101280,7.925,,S,,,\\nM1206,3,1,\"Sjoblom, Miss. Anna Sofia\",female,18,0,0,3101265,7.4958,,S,16,,\\nM1207,3,0,\"Skoog, Master. Harald\",male,4,3,2,347088,27.9,,S,,,\\nM1208,3,0,\"Skoog, Master. Karl Thorsten\",male,10,3,2,347088,27.9,,S,,,\\nM1209,3,0,\"Skoog, Miss. Mabel\",female,9,3,2,347088,27.9,,S,,,\\nM1210,3,0,\"Skoog, Miss. Margit Elizabeth\",female,2,3,2,347088,27.9,,S,,,\\nM1211,3,0,\"Skoog, Mr. Wilhelm\",male,40,1,4,347088,27.9,,S,,,\\nM1212,3,0,\"Skoog, Mrs. William (Anna Bernhardina Karlsson)\",female,45,1,4,347088,27.9,,S,,,\\nM1213,3,0,\"Slabenoff, Mr. Petco\",male,,0,0,349214,7.8958,,S,,,\\nM1214,3,0,\"Slocovski, Mr. Selman Francis\",male,,0,0,SOTON/OQ 392086,8.05,,S,,,\\nM1215,3,0,\"Smiljanic, Mr. Mile\",male,,0,0,315037,8.6625,,S,,,\\nM1216,3,0,\"Smith, Mr. Thomas\",male,,0,0,384461,7.75,,Q,,,\\nM1217,3,1,\"Smyth, Miss. Julia\",female,,0,0,335432,7.7333,,Q,13,,\\nM1218,3,0,\"Soholt, Mr. Peter Andreas Lauritz Andersen\",male,19,0,0,348124,7.65,F G73,S,,,\\nM1219,3,0,\"Somerton, Mr. Francis William\",male,30,0,0,A.5. 18509,8.05,,S,,,\\nM1220,3,0,\"Spector, Mr. Woolf\",male,,0,0,A.5. 3236,8.05,,S,,,\\nM1221,3,0,\"Spinner, Mr. Henry John\",male,32,0,0,STON/OQ. 369943,8.05,,S,,,\\nM1222,3,0,\"Staneff, Mr. Ivan\",male,,0,0,349208,7.8958,,S,,,\\nM1223,3,0,\"Stankovic, Mr. Ivan\",male,33,0,0,349239,8.6625,,C,,,\\nM1224,3,1,\"Stanley, Miss. Amy Zillah Elsie\",female,23,0,0,CA. 2314,7.55,,S,C,,\\nM1225,3,0,\"Stanley, Mr. Edward Roland\",male,21,0,0,A/4 45380,8.05,,S,,,\\nM1226,3,0,\"Storey, Mr. Thomas\",male,60.5,0,0,3701,,,S,,261,\\nM1227,3,0,\"Stoytcheff, Mr. Ilia\",male,19,0,0,349205,7.8958,,S,,,\\nM1228,3,0,\"Strandberg, Miss. Ida Sofia\",female,22,0,0,7553,9.8375,,S,,,\\nM1229,3,1,\"Stranden, Mr. Juho\",male,31,0,0,STON/O 2. 3101288,7.925,,S,9,,\\nM1230,3,0,\"Strilic, Mr. Ivan\",male,27,0,0,315083,8.6625,,S,,,\\nM1231,3,0,\"Strom, Miss. Telma Matilda\",female,2,0,1,347054,10.4625,G6,S,,,\\nM1232,3,0,\"Strom, Mrs. Wilhelm (Elna Matilda Persson)\",female,29,1,1,347054,10.4625,G6,S,,,\\nM1233,3,1,\"Sunderland, Mr. Victor Francis\",male,16,0,0,SOTON/OQ 392089,8.05,,S,B,,\\nM1234,3,1,\"Sundman, Mr. Johan Julian\",male,44,0,0,STON/O 2. 3101269,7.925,,S,15,,\\nM1235,3,0,\"Sutehall, Mr. Henry Jr\",male,25,0,0,SOTON/OQ 392076,7.05,,S,,,\\nM1236,3,0,\"Svensson, Mr. Johan\",male,74,0,0,347060,7.775,,S,,,\\nM1237,3,1,\"Svensson, Mr. Johan Cervin\",male,14,0,0,7538,9.225,,S,13,,\\nM1238,3,0,\"Svensson, Mr. Olof\",male,24,0,0,350035,7.7958,,S,,,\\nM1239,3,1,\"Tenglin, Mr. Gunnar Isidor\",male,25,0,0,350033,7.7958,,S,13 15,,\\nM1240,3,0,\"Theobald, Mr. Thomas Leonard\",male,34,0,0,363294,8.05,,S,,176,\\nM1241,3,1,\"Thomas, Master. Assad Alexander\",male,0.42,0,1,2625,8.5167,,C,16,,\\nM1242,3,0,\"Thomas, Mr. Charles P\",male,,1,0,2621,6.4375,,C,,,\\nM1243,3,0,\"Thomas, Mr. John\",male,,0,0,2681,6.4375,,C,,,\\nM1244,3,0,\"Thomas, Mr. Tannous\",male,,0,0,2684,7.225,,C,,,\\nM1245,3,1,\"Thomas, Mrs. Alexander (Thamine \"\"Thelma\"\")\",female,16,1,1,2625,8.5167,,C,14,,\\nM1246,3,0,\"Thomson, Mr. Alexander Morrison\",male,,0,0,32302,8.05,,S,,,\\nM1247,3,0,\"Thorneycroft, Mr. Percival\",male,,1,0,376564,16.1,,S,,,\\nM1248,3,1,\"Thorneycroft, Mrs. Percival (Florence Kate White)\",female,,1,0,376564,16.1,,S,10,,\\nM1249,3,0,\"Tikkanen, Mr. Juho\",male,32,0,0,STON/O 2. 3101293,7.925,,S,,,\\nM1250,3,0,\"Tobin, Mr. Roger\",male,,0,0,383121,7.75,F38,Q,,,\\nM1251,3,0,\"Todoroff, Mr. Lalio\",male,,0,0,349216,7.8958,,S,,,\\nM1252,3,0,\"Tomlin, Mr. Ernest Portage\",male,30.5,0,0,364499,8.05,,S,,50,\\nM1253,3,0,\"Torber, Mr. Ernst William\",male,44,0,0,364511,8.05,,S,,,\\nM1254,3,0,\"Torfa, Mr. Assad\",male,,0,0,2673,7.2292,,C,,,\\nM1255,3,1,\"Tornquist, Mr. William Henry\",male,25,0,0,LINE,0,,S,15,,\\nM1256,3,0,\"Toufik, Mr. Nakli\",male,,0,0,2641,7.2292,,C,,,\\nM1257,3,1,\"Touma, Master. Georges Youssef\",male,7,1,1,2650,15.2458,,C,C,,\\nM1258,3,1,\"Touma, Miss. Maria Youssef\",female,9,1,1,2650,15.2458,,C,C,,\\nM1259,3,1,\"Touma, Mrs. Darwis (Hanne Youssef Razi)\",female,29,0,2,2650,15.2458,,C,C,,\\nM1260,3,0,\"Turcin, Mr. Stjepan\",male,36,0,0,349247,7.8958,,S,,,\\nM1261,3,1,\"Turja, Miss. Anna Sofia\",female,18,0,0,4138,9.8417,,S,15,,\\nM1262,3,1,\"Turkula, Mrs. (Hedwig)\",female,63,0,0,4134,9.5875,,S,15,,\\nM1263,3,0,\"van Billiard, Master. James William\",male,,1,1,A/5. 851,14.5,,S,,,\\nM1264,3,0,\"van Billiard, Master. Walter John\",male,11.5,1,1,A/5. 851,14.5,,S,,1,\\nM1265,3,0,\"van Billiard, Mr. Austin Blyler\",male,40.5,0,2,A/5. 851,14.5,,S,,255,\\nM1266,3,0,\"Van Impe, Miss. Catharina\",female,10,0,2,345773,24.15,,S,,,\\nM1267,3,0,\"Van Impe, Mr. Jean Baptiste\",male,36,1,1,345773,24.15,,S,,,\\nM1268,3,0,\"Van Impe, Mrs. Jean Baptiste (Rosalie Paula Govaert)\",female,30,1,1,345773,24.15,,S,,,\\nM1269,3,0,\"van Melkebeke, Mr. Philemon\",male,,0,0,345777,9.5,,S,,,\\nM1270,3,0,\"Vande Velde, Mr. Johannes Joseph\",male,33,0,0,345780,9.5,,S,,,\\nM1271,3,0,\"Vande Walle, Mr. Nestor Cyriel\",male,28,0,0,345770,9.5,,S,,,\\nM1272,3,0,\"Vanden Steen, Mr. Leo Peter\",male,28,0,0,345783,9.5,,S,,,\\nM1273,3,0,\"Vander Cruyssen, Mr. Victor\",male,47,0,0,345765,9,,S,,,\\nM1274,3,0,\"Vander Planke, Miss. Augusta Maria\",female,18,2,0,345764,18,,S,,,\\nM1275,3,0,\"Vander Planke, Mr. Julius\",male,31,3,0,345763,18,,S,,,\\nM1276,3,0,\"Vander Planke, Mr. Leo Edmondus\",male,16,2,0,345764,18,,S,,,\\nM1277,3,0,\"Vander Planke, Mrs. Julius (Emelia Maria Vandemoortele)\",female,31,1,0,345763,18,,S,,,\\nM1278,3,1,\"Vartanian, Mr. David\",male,22,0,0,2658,7.225,,C,13 15,,\\nM1279,3,0,\"Vendel, Mr. Olof Edvin\",male,20,0,0,350416,7.8542,,S,,,\\nM1280,3,0,\"Vestrom, Miss. Hulda Amanda Adolfina\",female,14,0,0,350406,7.8542,,S,,,\\nM1281,3,0,\"Vovk, Mr. Janko\",male,22,0,0,349252,7.8958,,S,,,\\nM1282,3,0,\"Waelens, Mr. Achille\",male,22,0,0,345767,9,,S,,,\"Antwerp, Belgium / Stanton, OH\"\\nM1283,3,0,\"Ware, Mr. Frederick\",male,,0,0,359309,8.05,,S,,,\\nM1284,3,0,\"Warren, Mr. Charles William\",male,,0,0,C.A. 49867,7.55,,S,,,\\nM1285,3,0,\"Webber, Mr. James\",male,,0,0,SOTON/OQ 3101316,8.05,,S,,,\\nM1286,3,0,\"Wenzel, Mr. Linhart\",male,32.5,0,0,345775,9.5,,S,,298,\\nM1287,3,1,\"Whabee, Mrs. George Joseph (Shawneene Abi-Saab)\",female,38,0,0,2688,7.2292,,C,C,,\\nM1288,3,0,\"Widegren, Mr. Carl/Charles Peter\",male,51,0,0,347064,7.75,,S,,,\\nM1289,3,0,\"Wiklund, Mr. Jakob Alfred\",male,18,1,0,3101267,6.4958,,S,,314,\\nM1290,3,0,\"Wiklund, Mr. Karl Johan\",male,21,1,0,3101266,6.4958,,S,,,\\nM1291,3,1,\"Wilkes, Mrs. James (Ellen Needs)\",female,47,1,0,363272,7,,S,,,\\nM1292,3,0,\"Willer, Mr. Aaron (\"\"Abi Weller\"\")\",male,,0,0,3410,8.7125,,S,,,\\nM1293,3,0,\"Willey, Mr. Edward\",male,,0,0,S.O./P.P. 751,7.55,,S,,,\\nM1294,3,0,\"Williams, Mr. Howard Hugh \"\"Harry\"\"\",male,,0,0,A/5 2466,8.05,,S,,,\\nM1295,3,0,\"Williams, Mr. Leslie\",male,28.5,0,0,54636,16.1,,S,,14,\\nM1296,3,0,\"Windelov, Mr. Einar\",male,21,0,0,SOTON/OQ 3101317,7.25,,S,,,\\nM1297,3,0,\"Wirz, Mr. Albert\",male,27,0,0,315154,8.6625,,S,,131,\\nM1298,3,0,\"Wiseman, Mr. Phillippe\",male,,0,0,A/4. 34244,7.25,,S,,,\\nM1299,3,0,\"Wittevrongel, Mr. Camille\",male,36,0,0,345771,9.5,,S,,,\\nM1300,3,0,\"Yasbeck, Mr. Antoni\",male,27,1,0,2659,14.4542,,C,C,,\\nM1301,3,1,\"Yasbeck, Mrs. Antoni (Selini Alexander)\",female,15,1,0,2659,14.4542,,C,,,\\nM1302,3,0,\"Youseff, Mr. Gerious\",male,45.5,0,0,2628,7.225,,C,,312,\\nM1303,3,0,\"Yousif, Mr. Wazli\",male,,0,0,2647,7.225,,C,,,\\nM1304,3,0,\"Yousseff, Mr. Gerious\",male,,0,0,2627,14.4583,,C,,,\\nM1305,3,0,\"Zabour, Miss. Hileni\",female,14.5,1,0,2665,14.4542,,C,,328,\\nM1306,3,0,\"Zabour, Miss. Thamine\",female,,1,0,2665,14.4542,,C,,,\\nM1307,3,0,\"Zakarian, Mr. Mapriededer\",male,26.5,0,0,2656,7.225,,C,,304,\\nM1308,3,0,\"Zakarian, Mr. Ortin\",male,27,0,0,2670,7.225,,C,,,\\nM1309,3,0,\"Zimmerman, Mr. Leo\",male,29,0,0,315082,7.875,,S,,,\\n'}"
            ]
          },
          "metadata": {},
          "execution_count": 3
        }
      ],
      "source": [
        "from google.colab import files\n",
        "files.upload()"
      ]
    },
    {
      "cell_type": "markdown",
      "source": [
        "##**ANALISA**\n",
        "\n",
        "##**Import file yang akan digunakan kedalam google drive dengan menampilkan preview data.**"
      ],
      "metadata": {
        "id": "bkrCv9lsEF52"
      }
    },
    {
      "cell_type": "markdown",
      "source": [
        "##**Identifikasi data**"
      ],
      "metadata": {
        "id": "svo0BELIlVav"
      }
    },
    {
      "cell_type": "code",
      "execution_count": 4,
      "metadata": {
        "colab": {
          "base_uri": "https://localhost:8080/",
          "height": 206
        },
        "id": "ZnJi7UhJusRa",
        "outputId": "e35c9884-4378-4e92-d703-bd18b496151b"
      },
      "outputs": [
        {
          "output_type": "execute_result",
          "data": {
            "text/plain": [
              "  user_id  pclass  survived                                             name  \\\n",
              "0   M0001       1         1                    Allen, Miss. Elisabeth Walton   \n",
              "1   M0002       1         1                   Allison, Master. Hudson Trevor   \n",
              "2   M0003       1         0                     Allison, Miss. Helen Loraine   \n",
              "3   M0004       1         0             Allison, Mr. Hudson Joshua Creighton   \n",
              "4   M0005       1         0  Allison, Mrs. Hudson J C (Bessie Waldo Daniels)   \n",
              "\n",
              "      sex    age  sibsp  parch  ticket      fare    cabin embarked boat  \\\n",
              "0  female  29.00      0      0   24160  211.3375       B5        S    2   \n",
              "1    male   0.92      1      2  113781  151.5500  C22 C26        S   11   \n",
              "2  female   2.00      1      2  113781  151.5500  C22 C26        S  NaN   \n",
              "3    male  30.00      1      2  113781  151.5500  C22 C26        S  NaN   \n",
              "4  female  25.00      1      2  113781  151.5500  C22 C26        S  NaN   \n",
              "\n",
              "    body                        home.dest  \n",
              "0    NaN                     St Louis, MO  \n",
              "1    NaN  Montreal, PQ / Chesterville, ON  \n",
              "2    NaN  Montreal, PQ / Chesterville, ON  \n",
              "3  135.0  Montreal, PQ / Chesterville, ON  \n",
              "4    NaN  Montreal, PQ / Chesterville, ON  "
            ],
            "text/html": [
              "\n",
              "  <div id=\"df-349c7636-1b3e-44ee-b945-b0cea1d85e39\">\n",
              "    <div class=\"colab-df-container\">\n",
              "      <div>\n",
              "<style scoped>\n",
              "    .dataframe tbody tr th:only-of-type {\n",
              "        vertical-align: middle;\n",
              "    }\n",
              "\n",
              "    .dataframe tbody tr th {\n",
              "        vertical-align: top;\n",
              "    }\n",
              "\n",
              "    .dataframe thead th {\n",
              "        text-align: right;\n",
              "    }\n",
              "</style>\n",
              "<table border=\"1\" class=\"dataframe\">\n",
              "  <thead>\n",
              "    <tr style=\"text-align: right;\">\n",
              "      <th></th>\n",
              "      <th>user_id</th>\n",
              "      <th>pclass</th>\n",
              "      <th>survived</th>\n",
              "      <th>name</th>\n",
              "      <th>sex</th>\n",
              "      <th>age</th>\n",
              "      <th>sibsp</th>\n",
              "      <th>parch</th>\n",
              "      <th>ticket</th>\n",
              "      <th>fare</th>\n",
              "      <th>cabin</th>\n",
              "      <th>embarked</th>\n",
              "      <th>boat</th>\n",
              "      <th>body</th>\n",
              "      <th>home.dest</th>\n",
              "    </tr>\n",
              "  </thead>\n",
              "  <tbody>\n",
              "    <tr>\n",
              "      <th>0</th>\n",
              "      <td>M0001</td>\n",
              "      <td>1</td>\n",
              "      <td>1</td>\n",
              "      <td>Allen, Miss. Elisabeth Walton</td>\n",
              "      <td>female</td>\n",
              "      <td>29.00</td>\n",
              "      <td>0</td>\n",
              "      <td>0</td>\n",
              "      <td>24160</td>\n",
              "      <td>211.3375</td>\n",
              "      <td>B5</td>\n",
              "      <td>S</td>\n",
              "      <td>2</td>\n",
              "      <td>NaN</td>\n",
              "      <td>St Louis, MO</td>\n",
              "    </tr>\n",
              "    <tr>\n",
              "      <th>1</th>\n",
              "      <td>M0002</td>\n",
              "      <td>1</td>\n",
              "      <td>1</td>\n",
              "      <td>Allison, Master. Hudson Trevor</td>\n",
              "      <td>male</td>\n",
              "      <td>0.92</td>\n",
              "      <td>1</td>\n",
              "      <td>2</td>\n",
              "      <td>113781</td>\n",
              "      <td>151.5500</td>\n",
              "      <td>C22 C26</td>\n",
              "      <td>S</td>\n",
              "      <td>11</td>\n",
              "      <td>NaN</td>\n",
              "      <td>Montreal, PQ / Chesterville, ON</td>\n",
              "    </tr>\n",
              "    <tr>\n",
              "      <th>2</th>\n",
              "      <td>M0003</td>\n",
              "      <td>1</td>\n",
              "      <td>0</td>\n",
              "      <td>Allison, Miss. Helen Loraine</td>\n",
              "      <td>female</td>\n",
              "      <td>2.00</td>\n",
              "      <td>1</td>\n",
              "      <td>2</td>\n",
              "      <td>113781</td>\n",
              "      <td>151.5500</td>\n",
              "      <td>C22 C26</td>\n",
              "      <td>S</td>\n",
              "      <td>NaN</td>\n",
              "      <td>NaN</td>\n",
              "      <td>Montreal, PQ / Chesterville, ON</td>\n",
              "    </tr>\n",
              "    <tr>\n",
              "      <th>3</th>\n",
              "      <td>M0004</td>\n",
              "      <td>1</td>\n",
              "      <td>0</td>\n",
              "      <td>Allison, Mr. Hudson Joshua Creighton</td>\n",
              "      <td>male</td>\n",
              "      <td>30.00</td>\n",
              "      <td>1</td>\n",
              "      <td>2</td>\n",
              "      <td>113781</td>\n",
              "      <td>151.5500</td>\n",
              "      <td>C22 C26</td>\n",
              "      <td>S</td>\n",
              "      <td>NaN</td>\n",
              "      <td>135.0</td>\n",
              "      <td>Montreal, PQ / Chesterville, ON</td>\n",
              "    </tr>\n",
              "    <tr>\n",
              "      <th>4</th>\n",
              "      <td>M0005</td>\n",
              "      <td>1</td>\n",
              "      <td>0</td>\n",
              "      <td>Allison, Mrs. Hudson J C (Bessie Waldo Daniels)</td>\n",
              "      <td>female</td>\n",
              "      <td>25.00</td>\n",
              "      <td>1</td>\n",
              "      <td>2</td>\n",
              "      <td>113781</td>\n",
              "      <td>151.5500</td>\n",
              "      <td>C22 C26</td>\n",
              "      <td>S</td>\n",
              "      <td>NaN</td>\n",
              "      <td>NaN</td>\n",
              "      <td>Montreal, PQ / Chesterville, ON</td>\n",
              "    </tr>\n",
              "  </tbody>\n",
              "</table>\n",
              "</div>\n",
              "      <button class=\"colab-df-convert\" onclick=\"convertToInteractive('df-349c7636-1b3e-44ee-b945-b0cea1d85e39')\"\n",
              "              title=\"Convert this dataframe to an interactive table.\"\n",
              "              style=\"display:none;\">\n",
              "        \n",
              "  <svg xmlns=\"http://www.w3.org/2000/svg\" height=\"24px\"viewBox=\"0 0 24 24\"\n",
              "       width=\"24px\">\n",
              "    <path d=\"M0 0h24v24H0V0z\" fill=\"none\"/>\n",
              "    <path d=\"M18.56 5.44l.94 2.06.94-2.06 2.06-.94-2.06-.94-.94-2.06-.94 2.06-2.06.94zm-11 1L8.5 8.5l.94-2.06 2.06-.94-2.06-.94L8.5 2.5l-.94 2.06-2.06.94zm10 10l.94 2.06.94-2.06 2.06-.94-2.06-.94-.94-2.06-.94 2.06-2.06.94z\"/><path d=\"M17.41 7.96l-1.37-1.37c-.4-.4-.92-.59-1.43-.59-.52 0-1.04.2-1.43.59L10.3 9.45l-7.72 7.72c-.78.78-.78 2.05 0 2.83L4 21.41c.39.39.9.59 1.41.59.51 0 1.02-.2 1.41-.59l7.78-7.78 2.81-2.81c.8-.78.8-2.07 0-2.86zM5.41 20L4 18.59l7.72-7.72 1.47 1.35L5.41 20z\"/>\n",
              "  </svg>\n",
              "      </button>\n",
              "      \n",
              "  <style>\n",
              "    .colab-df-container {\n",
              "      display:flex;\n",
              "      flex-wrap:wrap;\n",
              "      gap: 12px;\n",
              "    }\n",
              "\n",
              "    .colab-df-convert {\n",
              "      background-color: #E8F0FE;\n",
              "      border: none;\n",
              "      border-radius: 50%;\n",
              "      cursor: pointer;\n",
              "      display: none;\n",
              "      fill: #1967D2;\n",
              "      height: 32px;\n",
              "      padding: 0 0 0 0;\n",
              "      width: 32px;\n",
              "    }\n",
              "\n",
              "    .colab-df-convert:hover {\n",
              "      background-color: #E2EBFA;\n",
              "      box-shadow: 0px 1px 2px rgba(60, 64, 67, 0.3), 0px 1px 3px 1px rgba(60, 64, 67, 0.15);\n",
              "      fill: #174EA6;\n",
              "    }\n",
              "\n",
              "    [theme=dark] .colab-df-convert {\n",
              "      background-color: #3B4455;\n",
              "      fill: #D2E3FC;\n",
              "    }\n",
              "\n",
              "    [theme=dark] .colab-df-convert:hover {\n",
              "      background-color: #434B5C;\n",
              "      box-shadow: 0px 1px 3px 1px rgba(0, 0, 0, 0.15);\n",
              "      filter: drop-shadow(0px 1px 2px rgba(0, 0, 0, 0.3));\n",
              "      fill: #FFFFFF;\n",
              "    }\n",
              "  </style>\n",
              "\n",
              "      <script>\n",
              "        const buttonEl =\n",
              "          document.querySelector('#df-349c7636-1b3e-44ee-b945-b0cea1d85e39 button.colab-df-convert');\n",
              "        buttonEl.style.display =\n",
              "          google.colab.kernel.accessAllowed ? 'block' : 'none';\n",
              "\n",
              "        async function convertToInteractive(key) {\n",
              "          const element = document.querySelector('#df-349c7636-1b3e-44ee-b945-b0cea1d85e39');\n",
              "          const dataTable =\n",
              "            await google.colab.kernel.invokeFunction('convertToInteractive',\n",
              "                                                     [key], {});\n",
              "          if (!dataTable) return;\n",
              "\n",
              "          const docLinkHtml = 'Like what you see? Visit the ' +\n",
              "            '<a target=\"_blank\" href=https://colab.research.google.com/notebooks/data_table.ipynb>data table notebook</a>'\n",
              "            + ' to learn more about interactive tables.';\n",
              "          element.innerHTML = '';\n",
              "          dataTable['output_type'] = 'display_data';\n",
              "          await google.colab.output.renderOutput(dataTable, element);\n",
              "          const docLink = document.createElement('div');\n",
              "          docLink.innerHTML = docLinkHtml;\n",
              "          element.appendChild(docLink);\n",
              "        }\n",
              "      </script>\n",
              "    </div>\n",
              "  </div>\n",
              "  "
            ]
          },
          "metadata": {},
          "execution_count": 4
        }
      ],
      "source": [
        "##Load and preview the data\n",
        "user_data = pd.read_csv('titanic-passenger-list.csv')\n",
        "user_data.head()"
      ]
    },
    {
      "cell_type": "markdown",
      "source": [
        "##**ANALISA**\n",
        "\n",
        "##**deklarasi user_data untuk membaca data dengan bantuan pandas supaya bisa membaca jenis file csv dengan csv titanic-passenger-list. Kemudian perintah head berfungsi untuk panggil 5 data pertama.**"
      ],
      "metadata": {
        "id": "qi18tO2XDyxA"
      }
    },
    {
      "cell_type": "code",
      "source": [
        "user_data.tail()"
      ],
      "metadata": {
        "colab": {
          "base_uri": "https://localhost:8080/",
          "height": 206
        },
        "id": "5HT-tNLYlfl5",
        "outputId": "cdcd3c09-16f4-413b-e1aa-f9f783325e5e"
      },
      "execution_count": 5,
      "outputs": [
        {
          "output_type": "execute_result",
          "data": {
            "text/plain": [
              "     user_id  pclass  survived                       name     sex   age  \\\n",
              "1304   M1305       3         0       Zabour, Miss. Hileni  female  14.5   \n",
              "1305   M1306       3         0      Zabour, Miss. Thamine  female   NaN   \n",
              "1306   M1307       3         0  Zakarian, Mr. Mapriededer    male  26.5   \n",
              "1307   M1308       3         0        Zakarian, Mr. Ortin    male  27.0   \n",
              "1308   M1309       3         0         Zimmerman, Mr. Leo    male  29.0   \n",
              "\n",
              "      sibsp  parch  ticket     fare cabin embarked boat   body home.dest  \n",
              "1304      1      0    2665  14.4542   NaN        C  NaN  328.0       NaN  \n",
              "1305      1      0    2665  14.4542   NaN        C  NaN    NaN       NaN  \n",
              "1306      0      0    2656   7.2250   NaN        C  NaN  304.0       NaN  \n",
              "1307      0      0    2670   7.2250   NaN        C  NaN    NaN       NaN  \n",
              "1308      0      0  315082   7.8750   NaN        S  NaN    NaN       NaN  "
            ],
            "text/html": [
              "\n",
              "  <div id=\"df-3b056304-b72f-43eb-97df-bbd60713bc54\">\n",
              "    <div class=\"colab-df-container\">\n",
              "      <div>\n",
              "<style scoped>\n",
              "    .dataframe tbody tr th:only-of-type {\n",
              "        vertical-align: middle;\n",
              "    }\n",
              "\n",
              "    .dataframe tbody tr th {\n",
              "        vertical-align: top;\n",
              "    }\n",
              "\n",
              "    .dataframe thead th {\n",
              "        text-align: right;\n",
              "    }\n",
              "</style>\n",
              "<table border=\"1\" class=\"dataframe\">\n",
              "  <thead>\n",
              "    <tr style=\"text-align: right;\">\n",
              "      <th></th>\n",
              "      <th>user_id</th>\n",
              "      <th>pclass</th>\n",
              "      <th>survived</th>\n",
              "      <th>name</th>\n",
              "      <th>sex</th>\n",
              "      <th>age</th>\n",
              "      <th>sibsp</th>\n",
              "      <th>parch</th>\n",
              "      <th>ticket</th>\n",
              "      <th>fare</th>\n",
              "      <th>cabin</th>\n",
              "      <th>embarked</th>\n",
              "      <th>boat</th>\n",
              "      <th>body</th>\n",
              "      <th>home.dest</th>\n",
              "    </tr>\n",
              "  </thead>\n",
              "  <tbody>\n",
              "    <tr>\n",
              "      <th>1304</th>\n",
              "      <td>M1305</td>\n",
              "      <td>3</td>\n",
              "      <td>0</td>\n",
              "      <td>Zabour, Miss. Hileni</td>\n",
              "      <td>female</td>\n",
              "      <td>14.5</td>\n",
              "      <td>1</td>\n",
              "      <td>0</td>\n",
              "      <td>2665</td>\n",
              "      <td>14.4542</td>\n",
              "      <td>NaN</td>\n",
              "      <td>C</td>\n",
              "      <td>NaN</td>\n",
              "      <td>328.0</td>\n",
              "      <td>NaN</td>\n",
              "    </tr>\n",
              "    <tr>\n",
              "      <th>1305</th>\n",
              "      <td>M1306</td>\n",
              "      <td>3</td>\n",
              "      <td>0</td>\n",
              "      <td>Zabour, Miss. Thamine</td>\n",
              "      <td>female</td>\n",
              "      <td>NaN</td>\n",
              "      <td>1</td>\n",
              "      <td>0</td>\n",
              "      <td>2665</td>\n",
              "      <td>14.4542</td>\n",
              "      <td>NaN</td>\n",
              "      <td>C</td>\n",
              "      <td>NaN</td>\n",
              "      <td>NaN</td>\n",
              "      <td>NaN</td>\n",
              "    </tr>\n",
              "    <tr>\n",
              "      <th>1306</th>\n",
              "      <td>M1307</td>\n",
              "      <td>3</td>\n",
              "      <td>0</td>\n",
              "      <td>Zakarian, Mr. Mapriededer</td>\n",
              "      <td>male</td>\n",
              "      <td>26.5</td>\n",
              "      <td>0</td>\n",
              "      <td>0</td>\n",
              "      <td>2656</td>\n",
              "      <td>7.2250</td>\n",
              "      <td>NaN</td>\n",
              "      <td>C</td>\n",
              "      <td>NaN</td>\n",
              "      <td>304.0</td>\n",
              "      <td>NaN</td>\n",
              "    </tr>\n",
              "    <tr>\n",
              "      <th>1307</th>\n",
              "      <td>M1308</td>\n",
              "      <td>3</td>\n",
              "      <td>0</td>\n",
              "      <td>Zakarian, Mr. Ortin</td>\n",
              "      <td>male</td>\n",
              "      <td>27.0</td>\n",
              "      <td>0</td>\n",
              "      <td>0</td>\n",
              "      <td>2670</td>\n",
              "      <td>7.2250</td>\n",
              "      <td>NaN</td>\n",
              "      <td>C</td>\n",
              "      <td>NaN</td>\n",
              "      <td>NaN</td>\n",
              "      <td>NaN</td>\n",
              "    </tr>\n",
              "    <tr>\n",
              "      <th>1308</th>\n",
              "      <td>M1309</td>\n",
              "      <td>3</td>\n",
              "      <td>0</td>\n",
              "      <td>Zimmerman, Mr. Leo</td>\n",
              "      <td>male</td>\n",
              "      <td>29.0</td>\n",
              "      <td>0</td>\n",
              "      <td>0</td>\n",
              "      <td>315082</td>\n",
              "      <td>7.8750</td>\n",
              "      <td>NaN</td>\n",
              "      <td>S</td>\n",
              "      <td>NaN</td>\n",
              "      <td>NaN</td>\n",
              "      <td>NaN</td>\n",
              "    </tr>\n",
              "  </tbody>\n",
              "</table>\n",
              "</div>\n",
              "      <button class=\"colab-df-convert\" onclick=\"convertToInteractive('df-3b056304-b72f-43eb-97df-bbd60713bc54')\"\n",
              "              title=\"Convert this dataframe to an interactive table.\"\n",
              "              style=\"display:none;\">\n",
              "        \n",
              "  <svg xmlns=\"http://www.w3.org/2000/svg\" height=\"24px\"viewBox=\"0 0 24 24\"\n",
              "       width=\"24px\">\n",
              "    <path d=\"M0 0h24v24H0V0z\" fill=\"none\"/>\n",
              "    <path d=\"M18.56 5.44l.94 2.06.94-2.06 2.06-.94-2.06-.94-.94-2.06-.94 2.06-2.06.94zm-11 1L8.5 8.5l.94-2.06 2.06-.94-2.06-.94L8.5 2.5l-.94 2.06-2.06.94zm10 10l.94 2.06.94-2.06 2.06-.94-2.06-.94-.94-2.06-.94 2.06-2.06.94z\"/><path d=\"M17.41 7.96l-1.37-1.37c-.4-.4-.92-.59-1.43-.59-.52 0-1.04.2-1.43.59L10.3 9.45l-7.72 7.72c-.78.78-.78 2.05 0 2.83L4 21.41c.39.39.9.59 1.41.59.51 0 1.02-.2 1.41-.59l7.78-7.78 2.81-2.81c.8-.78.8-2.07 0-2.86zM5.41 20L4 18.59l7.72-7.72 1.47 1.35L5.41 20z\"/>\n",
              "  </svg>\n",
              "      </button>\n",
              "      \n",
              "  <style>\n",
              "    .colab-df-container {\n",
              "      display:flex;\n",
              "      flex-wrap:wrap;\n",
              "      gap: 12px;\n",
              "    }\n",
              "\n",
              "    .colab-df-convert {\n",
              "      background-color: #E8F0FE;\n",
              "      border: none;\n",
              "      border-radius: 50%;\n",
              "      cursor: pointer;\n",
              "      display: none;\n",
              "      fill: #1967D2;\n",
              "      height: 32px;\n",
              "      padding: 0 0 0 0;\n",
              "      width: 32px;\n",
              "    }\n",
              "\n",
              "    .colab-df-convert:hover {\n",
              "      background-color: #E2EBFA;\n",
              "      box-shadow: 0px 1px 2px rgba(60, 64, 67, 0.3), 0px 1px 3px 1px rgba(60, 64, 67, 0.15);\n",
              "      fill: #174EA6;\n",
              "    }\n",
              "\n",
              "    [theme=dark] .colab-df-convert {\n",
              "      background-color: #3B4455;\n",
              "      fill: #D2E3FC;\n",
              "    }\n",
              "\n",
              "    [theme=dark] .colab-df-convert:hover {\n",
              "      background-color: #434B5C;\n",
              "      box-shadow: 0px 1px 3px 1px rgba(0, 0, 0, 0.15);\n",
              "      filter: drop-shadow(0px 1px 2px rgba(0, 0, 0, 0.3));\n",
              "      fill: #FFFFFF;\n",
              "    }\n",
              "  </style>\n",
              "\n",
              "      <script>\n",
              "        const buttonEl =\n",
              "          document.querySelector('#df-3b056304-b72f-43eb-97df-bbd60713bc54 button.colab-df-convert');\n",
              "        buttonEl.style.display =\n",
              "          google.colab.kernel.accessAllowed ? 'block' : 'none';\n",
              "\n",
              "        async function convertToInteractive(key) {\n",
              "          const element = document.querySelector('#df-3b056304-b72f-43eb-97df-bbd60713bc54');\n",
              "          const dataTable =\n",
              "            await google.colab.kernel.invokeFunction('convertToInteractive',\n",
              "                                                     [key], {});\n",
              "          if (!dataTable) return;\n",
              "\n",
              "          const docLinkHtml = 'Like what you see? Visit the ' +\n",
              "            '<a target=\"_blank\" href=https://colab.research.google.com/notebooks/data_table.ipynb>data table notebook</a>'\n",
              "            + ' to learn more about interactive tables.';\n",
              "          element.innerHTML = '';\n",
              "          dataTable['output_type'] = 'display_data';\n",
              "          await google.colab.output.renderOutput(dataTable, element);\n",
              "          const docLink = document.createElement('div');\n",
              "          docLink.innerHTML = docLinkHtml;\n",
              "          element.appendChild(docLink);\n",
              "        }\n",
              "      </script>\n",
              "    </div>\n",
              "  </div>\n",
              "  "
            ]
          },
          "metadata": {},
          "execution_count": 5
        }
      ]
    },
    {
      "cell_type": "markdown",
      "source": [
        "##**ANALISA**\n",
        "\n",
        "##**Menampilkan data dengan panggil user_data. tail berfungsi untuk panggil 5 data terakhir.**"
      ],
      "metadata": {
        "id": "PdtPW0UGEc4E"
      }
    },
    {
      "cell_type": "code",
      "source": [
        "user_data.shape"
      ],
      "metadata": {
        "colab": {
          "base_uri": "https://localhost:8080/",
          "height": 0
        },
        "id": "FyKo7M4-lrA1",
        "outputId": "129e95f0-5f54-49e0-995d-a4d19f517651"
      },
      "execution_count": 6,
      "outputs": [
        {
          "output_type": "execute_result",
          "data": {
            "text/plain": [
              "(1309, 15)"
            ]
          },
          "metadata": {},
          "execution_count": 6
        }
      ]
    },
    {
      "cell_type": "markdown",
      "source": [
        "##**ANALISA**\n",
        "\n",
        "##**Shape digunakan untuk menampilkan dimensi data terapat 1309 baris dan 15 kolom.**"
      ],
      "metadata": {
        "id": "xOPNGBEpEoeS"
      }
    },
    {
      "cell_type": "code",
      "source": [
        "##Check the data types\n",
        "user_data.info()"
      ],
      "metadata": {
        "colab": {
          "base_uri": "https://localhost:8080/",
          "height": 0
        },
        "id": "sTLO5wXZl2RT",
        "outputId": "6239259e-695d-45c6-e1c0-d2172fbf63c3"
      },
      "execution_count": 7,
      "outputs": [
        {
          "output_type": "stream",
          "name": "stdout",
          "text": [
            "<class 'pandas.core.frame.DataFrame'>\n",
            "RangeIndex: 1309 entries, 0 to 1308\n",
            "Data columns (total 15 columns):\n",
            " #   Column     Non-Null Count  Dtype  \n",
            "---  ------     --------------  -----  \n",
            " 0   user_id    1309 non-null   object \n",
            " 1   pclass     1309 non-null   int64  \n",
            " 2   survived   1309 non-null   int64  \n",
            " 3   name       1309 non-null   object \n",
            " 4   sex        1309 non-null   object \n",
            " 5   age        1046 non-null   float64\n",
            " 6   sibsp      1309 non-null   int64  \n",
            " 7   parch      1309 non-null   int64  \n",
            " 8   ticket     1309 non-null   object \n",
            " 9   fare       1308 non-null   float64\n",
            " 10  cabin      295 non-null    object \n",
            " 11  embarked   1307 non-null   object \n",
            " 12  boat       486 non-null    object \n",
            " 13  body       121 non-null    float64\n",
            " 14  home.dest  745 non-null    object \n",
            "dtypes: float64(3), int64(4), object(8)\n",
            "memory usage: 153.5+ KB\n"
          ]
        }
      ]
    },
    {
      "cell_type": "markdown",
      "source": [
        "##**ANALISA**\n",
        "\n",
        "##**info() untuk mengetahui informasi data berupa menampilkan tipe data kolom dan ditampilkan dengan secara vertikal**"
      ],
      "metadata": {
        "id": "lAyurlQWFed3"
      }
    },
    {
      "cell_type": "code",
      "source": [
        "##Generate summary statistics for numerical data only\n",
        "user_data.describe()"
      ],
      "metadata": {
        "colab": {
          "base_uri": "https://localhost:8080/",
          "height": 300
        },
        "id": "nfhyREgPmJSD",
        "outputId": "91162ad8-13c2-48a8-97eb-78e0df7a4faa"
      },
      "execution_count": 8,
      "outputs": [
        {
          "output_type": "execute_result",
          "data": {
            "text/plain": [
              "            pclass     survived          age        sibsp        parch  \\\n",
              "count  1309.000000  1309.000000  1046.000000  1309.000000  1309.000000   \n",
              "mean      2.294882     0.381971    29.881138     0.498854     0.385027   \n",
              "std       0.837836     0.486055    14.413493     1.041658     0.865560   \n",
              "min       1.000000     0.000000     0.170000     0.000000     0.000000   \n",
              "25%       2.000000     0.000000    21.000000     0.000000     0.000000   \n",
              "50%       3.000000     0.000000    28.000000     0.000000     0.000000   \n",
              "75%       3.000000     1.000000    39.000000     1.000000     0.000000   \n",
              "max       3.000000     1.000000    80.000000     8.000000     9.000000   \n",
              "\n",
              "              fare        body  \n",
              "count  1308.000000  121.000000  \n",
              "mean     33.295479  160.809917  \n",
              "std      51.758668   97.696922  \n",
              "min       0.000000    1.000000  \n",
              "25%       7.895800   72.000000  \n",
              "50%      14.454200  155.000000  \n",
              "75%      31.275000  256.000000  \n",
              "max     512.329200  328.000000  "
            ],
            "text/html": [
              "\n",
              "  <div id=\"df-e3c3c9bb-fd99-444d-b1cc-6bacc0c32c11\">\n",
              "    <div class=\"colab-df-container\">\n",
              "      <div>\n",
              "<style scoped>\n",
              "    .dataframe tbody tr th:only-of-type {\n",
              "        vertical-align: middle;\n",
              "    }\n",
              "\n",
              "    .dataframe tbody tr th {\n",
              "        vertical-align: top;\n",
              "    }\n",
              "\n",
              "    .dataframe thead th {\n",
              "        text-align: right;\n",
              "    }\n",
              "</style>\n",
              "<table border=\"1\" class=\"dataframe\">\n",
              "  <thead>\n",
              "    <tr style=\"text-align: right;\">\n",
              "      <th></th>\n",
              "      <th>pclass</th>\n",
              "      <th>survived</th>\n",
              "      <th>age</th>\n",
              "      <th>sibsp</th>\n",
              "      <th>parch</th>\n",
              "      <th>fare</th>\n",
              "      <th>body</th>\n",
              "    </tr>\n",
              "  </thead>\n",
              "  <tbody>\n",
              "    <tr>\n",
              "      <th>count</th>\n",
              "      <td>1309.000000</td>\n",
              "      <td>1309.000000</td>\n",
              "      <td>1046.000000</td>\n",
              "      <td>1309.000000</td>\n",
              "      <td>1309.000000</td>\n",
              "      <td>1308.000000</td>\n",
              "      <td>121.000000</td>\n",
              "    </tr>\n",
              "    <tr>\n",
              "      <th>mean</th>\n",
              "      <td>2.294882</td>\n",
              "      <td>0.381971</td>\n",
              "      <td>29.881138</td>\n",
              "      <td>0.498854</td>\n",
              "      <td>0.385027</td>\n",
              "      <td>33.295479</td>\n",
              "      <td>160.809917</td>\n",
              "    </tr>\n",
              "    <tr>\n",
              "      <th>std</th>\n",
              "      <td>0.837836</td>\n",
              "      <td>0.486055</td>\n",
              "      <td>14.413493</td>\n",
              "      <td>1.041658</td>\n",
              "      <td>0.865560</td>\n",
              "      <td>51.758668</td>\n",
              "      <td>97.696922</td>\n",
              "    </tr>\n",
              "    <tr>\n",
              "      <th>min</th>\n",
              "      <td>1.000000</td>\n",
              "      <td>0.000000</td>\n",
              "      <td>0.170000</td>\n",
              "      <td>0.000000</td>\n",
              "      <td>0.000000</td>\n",
              "      <td>0.000000</td>\n",
              "      <td>1.000000</td>\n",
              "    </tr>\n",
              "    <tr>\n",
              "      <th>25%</th>\n",
              "      <td>2.000000</td>\n",
              "      <td>0.000000</td>\n",
              "      <td>21.000000</td>\n",
              "      <td>0.000000</td>\n",
              "      <td>0.000000</td>\n",
              "      <td>7.895800</td>\n",
              "      <td>72.000000</td>\n",
              "    </tr>\n",
              "    <tr>\n",
              "      <th>50%</th>\n",
              "      <td>3.000000</td>\n",
              "      <td>0.000000</td>\n",
              "      <td>28.000000</td>\n",
              "      <td>0.000000</td>\n",
              "      <td>0.000000</td>\n",
              "      <td>14.454200</td>\n",
              "      <td>155.000000</td>\n",
              "    </tr>\n",
              "    <tr>\n",
              "      <th>75%</th>\n",
              "      <td>3.000000</td>\n",
              "      <td>1.000000</td>\n",
              "      <td>39.000000</td>\n",
              "      <td>1.000000</td>\n",
              "      <td>0.000000</td>\n",
              "      <td>31.275000</td>\n",
              "      <td>256.000000</td>\n",
              "    </tr>\n",
              "    <tr>\n",
              "      <th>max</th>\n",
              "      <td>3.000000</td>\n",
              "      <td>1.000000</td>\n",
              "      <td>80.000000</td>\n",
              "      <td>8.000000</td>\n",
              "      <td>9.000000</td>\n",
              "      <td>512.329200</td>\n",
              "      <td>328.000000</td>\n",
              "    </tr>\n",
              "  </tbody>\n",
              "</table>\n",
              "</div>\n",
              "      <button class=\"colab-df-convert\" onclick=\"convertToInteractive('df-e3c3c9bb-fd99-444d-b1cc-6bacc0c32c11')\"\n",
              "              title=\"Convert this dataframe to an interactive table.\"\n",
              "              style=\"display:none;\">\n",
              "        \n",
              "  <svg xmlns=\"http://www.w3.org/2000/svg\" height=\"24px\"viewBox=\"0 0 24 24\"\n",
              "       width=\"24px\">\n",
              "    <path d=\"M0 0h24v24H0V0z\" fill=\"none\"/>\n",
              "    <path d=\"M18.56 5.44l.94 2.06.94-2.06 2.06-.94-2.06-.94-.94-2.06-.94 2.06-2.06.94zm-11 1L8.5 8.5l.94-2.06 2.06-.94-2.06-.94L8.5 2.5l-.94 2.06-2.06.94zm10 10l.94 2.06.94-2.06 2.06-.94-2.06-.94-.94-2.06-.94 2.06-2.06.94z\"/><path d=\"M17.41 7.96l-1.37-1.37c-.4-.4-.92-.59-1.43-.59-.52 0-1.04.2-1.43.59L10.3 9.45l-7.72 7.72c-.78.78-.78 2.05 0 2.83L4 21.41c.39.39.9.59 1.41.59.51 0 1.02-.2 1.41-.59l7.78-7.78 2.81-2.81c.8-.78.8-2.07 0-2.86zM5.41 20L4 18.59l7.72-7.72 1.47 1.35L5.41 20z\"/>\n",
              "  </svg>\n",
              "      </button>\n",
              "      \n",
              "  <style>\n",
              "    .colab-df-container {\n",
              "      display:flex;\n",
              "      flex-wrap:wrap;\n",
              "      gap: 12px;\n",
              "    }\n",
              "\n",
              "    .colab-df-convert {\n",
              "      background-color: #E8F0FE;\n",
              "      border: none;\n",
              "      border-radius: 50%;\n",
              "      cursor: pointer;\n",
              "      display: none;\n",
              "      fill: #1967D2;\n",
              "      height: 32px;\n",
              "      padding: 0 0 0 0;\n",
              "      width: 32px;\n",
              "    }\n",
              "\n",
              "    .colab-df-convert:hover {\n",
              "      background-color: #E2EBFA;\n",
              "      box-shadow: 0px 1px 2px rgba(60, 64, 67, 0.3), 0px 1px 3px 1px rgba(60, 64, 67, 0.15);\n",
              "      fill: #174EA6;\n",
              "    }\n",
              "\n",
              "    [theme=dark] .colab-df-convert {\n",
              "      background-color: #3B4455;\n",
              "      fill: #D2E3FC;\n",
              "    }\n",
              "\n",
              "    [theme=dark] .colab-df-convert:hover {\n",
              "      background-color: #434B5C;\n",
              "      box-shadow: 0px 1px 3px 1px rgba(0, 0, 0, 0.15);\n",
              "      filter: drop-shadow(0px 1px 2px rgba(0, 0, 0, 0.3));\n",
              "      fill: #FFFFFF;\n",
              "    }\n",
              "  </style>\n",
              "\n",
              "      <script>\n",
              "        const buttonEl =\n",
              "          document.querySelector('#df-e3c3c9bb-fd99-444d-b1cc-6bacc0c32c11 button.colab-df-convert');\n",
              "        buttonEl.style.display =\n",
              "          google.colab.kernel.accessAllowed ? 'block' : 'none';\n",
              "\n",
              "        async function convertToInteractive(key) {\n",
              "          const element = document.querySelector('#df-e3c3c9bb-fd99-444d-b1cc-6bacc0c32c11');\n",
              "          const dataTable =\n",
              "            await google.colab.kernel.invokeFunction('convertToInteractive',\n",
              "                                                     [key], {});\n",
              "          if (!dataTable) return;\n",
              "\n",
              "          const docLinkHtml = 'Like what you see? Visit the ' +\n",
              "            '<a target=\"_blank\" href=https://colab.research.google.com/notebooks/data_table.ipynb>data table notebook</a>'\n",
              "            + ' to learn more about interactive tables.';\n",
              "          element.innerHTML = '';\n",
              "          dataTable['output_type'] = 'display_data';\n",
              "          await google.colab.output.renderOutput(dataTable, element);\n",
              "          const docLink = document.createElement('div');\n",
              "          docLink.innerHTML = docLinkHtml;\n",
              "          element.appendChild(docLink);\n",
              "        }\n",
              "      </script>\n",
              "    </div>\n",
              "  </div>\n",
              "  "
            ]
          },
          "metadata": {},
          "execution_count": 8
        }
      ]
    },
    {
      "cell_type": "markdown",
      "source": [
        "##**ANALISA**\n",
        "\n",
        "##**Describe() untuk mengetahui statistik deskriptif data. Hanya kolom yang bertipe numerik yang akan ditampilkan statistiknya.**"
      ],
      "metadata": {
        "id": "LwCns3zYFzQ7"
      }
    },
    {
      "cell_type": "code",
      "execution_count": 9,
      "metadata": {
        "colab": {
          "base_uri": "https://localhost:8080/",
          "height": 0
        },
        "id": "1REyuCScMrxn",
        "outputId": "af3951a0-e10a-4f6b-e1cb-3ddc5ac2c73f"
      },
      "outputs": [
        {
          "output_type": "execute_result",
          "data": {
            "text/plain": [
              "1309"
            ]
          },
          "metadata": {},
          "execution_count": 9
        }
      ],
      "source": [
        "##Check the number of unique users\n",
        "len(np.unique(user_data.user_id)) #len, untuk menghitung banyaknya data pada file yang digunakan"
      ]
    },
    {
      "cell_type": "code",
      "execution_count": 10,
      "metadata": {
        "colab": {
          "base_uri": "https://localhost:8080/",
          "height": 0
        },
        "id": "0PyEHZu2vHwO",
        "outputId": "80b04151-1874-492c-e9a4-3f51d3e7aa43"
      },
      "outputs": [
        {
          "output_type": "execute_result",
          "data": {
            "text/plain": [
              "{int64: ['pclass', 'survived', 'sibsp', 'parch'], float64: ['age', 'fare', 'body'], object: ['user_id', 'name', 'sex', 'ticket', 'cabin', 'embarked', 'boat', 'home.dest']}"
            ]
          },
          "metadata": {},
          "execution_count": 10
        }
      ],
      "source": [
        "user_data.columns.to_series().groupby(user_data.dtypes).groups"
      ]
    },
    {
      "cell_type": "markdown",
      "source": [
        "##**ANALISA**\n",
        "\n",
        "##**Menampilkan tipe data int64 sesuai dengan kolomnya dan groupby tipe data nya dan ditampilkan secara horizontal**"
      ],
      "metadata": {
        "id": "fzDi-Ut6GP7L"
      }
    },
    {
      "cell_type": "code",
      "execution_count": 11,
      "metadata": {
        "colab": {
          "base_uri": "https://localhost:8080/",
          "height": 269
        },
        "id": "LI752F9zvH0B",
        "outputId": "d2461dfd-ee3d-4e4c-df21-d74f64e57e4b"
      },
      "outputs": [
        {
          "output_type": "execute_result",
          "data": {
            "text/plain": [
              "            pclass  survived       age     sibsp     parch      fare      body\n",
              "pclass    1.000000  0.312469  0.408106  0.060832  0.018322  0.558629  0.034642\n",
              "survived  0.312469  1.000000  0.055512  0.027825  0.082660  0.244265       NaN\n",
              "age       0.408106  0.055512  1.000000  0.243699  0.150917  0.178740  0.058809\n",
              "sibsp     0.060832  0.027825  0.243699  1.000000  0.373587  0.160238  0.099961\n",
              "parch     0.018322  0.082660  0.150917  0.373587  1.000000  0.221539  0.051099\n",
              "fare      0.558629  0.244265  0.178740  0.160238  0.221539  1.000000  0.043110\n",
              "body      0.034642       NaN  0.058809  0.099961  0.051099  0.043110  1.000000"
            ],
            "text/html": [
              "\n",
              "  <div id=\"df-2222420f-f3d6-4396-9d19-dda8ac1359fe\">\n",
              "    <div class=\"colab-df-container\">\n",
              "      <div>\n",
              "<style scoped>\n",
              "    .dataframe tbody tr th:only-of-type {\n",
              "        vertical-align: middle;\n",
              "    }\n",
              "\n",
              "    .dataframe tbody tr th {\n",
              "        vertical-align: top;\n",
              "    }\n",
              "\n",
              "    .dataframe thead th {\n",
              "        text-align: right;\n",
              "    }\n",
              "</style>\n",
              "<table border=\"1\" class=\"dataframe\">\n",
              "  <thead>\n",
              "    <tr style=\"text-align: right;\">\n",
              "      <th></th>\n",
              "      <th>pclass</th>\n",
              "      <th>survived</th>\n",
              "      <th>age</th>\n",
              "      <th>sibsp</th>\n",
              "      <th>parch</th>\n",
              "      <th>fare</th>\n",
              "      <th>body</th>\n",
              "    </tr>\n",
              "  </thead>\n",
              "  <tbody>\n",
              "    <tr>\n",
              "      <th>pclass</th>\n",
              "      <td>1.000000</td>\n",
              "      <td>0.312469</td>\n",
              "      <td>0.408106</td>\n",
              "      <td>0.060832</td>\n",
              "      <td>0.018322</td>\n",
              "      <td>0.558629</td>\n",
              "      <td>0.034642</td>\n",
              "    </tr>\n",
              "    <tr>\n",
              "      <th>survived</th>\n",
              "      <td>0.312469</td>\n",
              "      <td>1.000000</td>\n",
              "      <td>0.055512</td>\n",
              "      <td>0.027825</td>\n",
              "      <td>0.082660</td>\n",
              "      <td>0.244265</td>\n",
              "      <td>NaN</td>\n",
              "    </tr>\n",
              "    <tr>\n",
              "      <th>age</th>\n",
              "      <td>0.408106</td>\n",
              "      <td>0.055512</td>\n",
              "      <td>1.000000</td>\n",
              "      <td>0.243699</td>\n",
              "      <td>0.150917</td>\n",
              "      <td>0.178740</td>\n",
              "      <td>0.058809</td>\n",
              "    </tr>\n",
              "    <tr>\n",
              "      <th>sibsp</th>\n",
              "      <td>0.060832</td>\n",
              "      <td>0.027825</td>\n",
              "      <td>0.243699</td>\n",
              "      <td>1.000000</td>\n",
              "      <td>0.373587</td>\n",
              "      <td>0.160238</td>\n",
              "      <td>0.099961</td>\n",
              "    </tr>\n",
              "    <tr>\n",
              "      <th>parch</th>\n",
              "      <td>0.018322</td>\n",
              "      <td>0.082660</td>\n",
              "      <td>0.150917</td>\n",
              "      <td>0.373587</td>\n",
              "      <td>1.000000</td>\n",
              "      <td>0.221539</td>\n",
              "      <td>0.051099</td>\n",
              "    </tr>\n",
              "    <tr>\n",
              "      <th>fare</th>\n",
              "      <td>0.558629</td>\n",
              "      <td>0.244265</td>\n",
              "      <td>0.178740</td>\n",
              "      <td>0.160238</td>\n",
              "      <td>0.221539</td>\n",
              "      <td>1.000000</td>\n",
              "      <td>0.043110</td>\n",
              "    </tr>\n",
              "    <tr>\n",
              "      <th>body</th>\n",
              "      <td>0.034642</td>\n",
              "      <td>NaN</td>\n",
              "      <td>0.058809</td>\n",
              "      <td>0.099961</td>\n",
              "      <td>0.051099</td>\n",
              "      <td>0.043110</td>\n",
              "      <td>1.000000</td>\n",
              "    </tr>\n",
              "  </tbody>\n",
              "</table>\n",
              "</div>\n",
              "      <button class=\"colab-df-convert\" onclick=\"convertToInteractive('df-2222420f-f3d6-4396-9d19-dda8ac1359fe')\"\n",
              "              title=\"Convert this dataframe to an interactive table.\"\n",
              "              style=\"display:none;\">\n",
              "        \n",
              "  <svg xmlns=\"http://www.w3.org/2000/svg\" height=\"24px\"viewBox=\"0 0 24 24\"\n",
              "       width=\"24px\">\n",
              "    <path d=\"M0 0h24v24H0V0z\" fill=\"none\"/>\n",
              "    <path d=\"M18.56 5.44l.94 2.06.94-2.06 2.06-.94-2.06-.94-.94-2.06-.94 2.06-2.06.94zm-11 1L8.5 8.5l.94-2.06 2.06-.94-2.06-.94L8.5 2.5l-.94 2.06-2.06.94zm10 10l.94 2.06.94-2.06 2.06-.94-2.06-.94-.94-2.06-.94 2.06-2.06.94z\"/><path d=\"M17.41 7.96l-1.37-1.37c-.4-.4-.92-.59-1.43-.59-.52 0-1.04.2-1.43.59L10.3 9.45l-7.72 7.72c-.78.78-.78 2.05 0 2.83L4 21.41c.39.39.9.59 1.41.59.51 0 1.02-.2 1.41-.59l7.78-7.78 2.81-2.81c.8-.78.8-2.07 0-2.86zM5.41 20L4 18.59l7.72-7.72 1.47 1.35L5.41 20z\"/>\n",
              "  </svg>\n",
              "      </button>\n",
              "      \n",
              "  <style>\n",
              "    .colab-df-container {\n",
              "      display:flex;\n",
              "      flex-wrap:wrap;\n",
              "      gap: 12px;\n",
              "    }\n",
              "\n",
              "    .colab-df-convert {\n",
              "      background-color: #E8F0FE;\n",
              "      border: none;\n",
              "      border-radius: 50%;\n",
              "      cursor: pointer;\n",
              "      display: none;\n",
              "      fill: #1967D2;\n",
              "      height: 32px;\n",
              "      padding: 0 0 0 0;\n",
              "      width: 32px;\n",
              "    }\n",
              "\n",
              "    .colab-df-convert:hover {\n",
              "      background-color: #E2EBFA;\n",
              "      box-shadow: 0px 1px 2px rgba(60, 64, 67, 0.3), 0px 1px 3px 1px rgba(60, 64, 67, 0.15);\n",
              "      fill: #174EA6;\n",
              "    }\n",
              "\n",
              "    [theme=dark] .colab-df-convert {\n",
              "      background-color: #3B4455;\n",
              "      fill: #D2E3FC;\n",
              "    }\n",
              "\n",
              "    [theme=dark] .colab-df-convert:hover {\n",
              "      background-color: #434B5C;\n",
              "      box-shadow: 0px 1px 3px 1px rgba(0, 0, 0, 0.15);\n",
              "      filter: drop-shadow(0px 1px 2px rgba(0, 0, 0, 0.3));\n",
              "      fill: #FFFFFF;\n",
              "    }\n",
              "  </style>\n",
              "\n",
              "      <script>\n",
              "        const buttonEl =\n",
              "          document.querySelector('#df-2222420f-f3d6-4396-9d19-dda8ac1359fe button.colab-df-convert');\n",
              "        buttonEl.style.display =\n",
              "          google.colab.kernel.accessAllowed ? 'block' : 'none';\n",
              "\n",
              "        async function convertToInteractive(key) {\n",
              "          const element = document.querySelector('#df-2222420f-f3d6-4396-9d19-dda8ac1359fe');\n",
              "          const dataTable =\n",
              "            await google.colab.kernel.invokeFunction('convertToInteractive',\n",
              "                                                     [key], {});\n",
              "          if (!dataTable) return;\n",
              "\n",
              "          const docLinkHtml = 'Like what you see? Visit the ' +\n",
              "            '<a target=\"_blank\" href=https://colab.research.google.com/notebooks/data_table.ipynb>data table notebook</a>'\n",
              "            + ' to learn more about interactive tables.';\n",
              "          element.innerHTML = '';\n",
              "          dataTable['output_type'] = 'display_data';\n",
              "          await google.colab.output.renderOutput(dataTable, element);\n",
              "          const docLink = document.createElement('div');\n",
              "          docLink.innerHTML = docLinkHtml;\n",
              "          element.appendChild(docLink);\n",
              "        }\n",
              "      </script>\n",
              "    </div>\n",
              "  </div>\n",
              "  "
            ]
          },
          "metadata": {},
          "execution_count": 11
        }
      ],
      "source": [
        "##Check for correlations\n",
        "user_data.corr().abs()"
      ]
    },
    {
      "cell_type": "markdown",
      "source": [
        "##**ANALISA**\n",
        "\n",
        "##**Fungsi corr() untuk menemukan korelasi antar kolom dalam Dataframe menggunakan metode 'Pearson'. Pearson-> koefisien korelasi standar.**"
      ],
      "metadata": {
        "id": "EWBBa4trHNFM"
      }
    },
    {
      "cell_type": "code",
      "execution_count": 12,
      "metadata": {
        "colab": {
          "base_uri": "https://localhost:8080/",
          "height": 394
        },
        "id": "CbY1puwFxDud",
        "outputId": "cbcc53d1-5ad8-4961-879c-e5bd4d602dc2"
      },
      "outputs": [
        {
          "output_type": "execute_result",
          "data": {
            "text/plain": [
              "       user_id       pclass     survived                  name   sex  \\\n",
              "count     1309  1309.000000  1309.000000                  1309  1309   \n",
              "unique    1309          NaN          NaN                  1307     2   \n",
              "top      M0001          NaN          NaN  Connolly, Miss. Kate  male   \n",
              "freq         1          NaN          NaN                     2   843   \n",
              "mean       NaN     2.294882     0.381971                   NaN   NaN   \n",
              "std        NaN     0.837836     0.486055                   NaN   NaN   \n",
              "min        NaN     1.000000     0.000000                   NaN   NaN   \n",
              "25%        NaN     2.000000     0.000000                   NaN   NaN   \n",
              "50%        NaN     3.000000     0.000000                   NaN   NaN   \n",
              "75%        NaN     3.000000     1.000000                   NaN   NaN   \n",
              "max        NaN     3.000000     1.000000                   NaN   NaN   \n",
              "\n",
              "                age        sibsp        parch    ticket         fare  \\\n",
              "count   1046.000000  1309.000000  1309.000000      1309  1308.000000   \n",
              "unique          NaN          NaN          NaN       929          NaN   \n",
              "top             NaN          NaN          NaN  CA. 2343          NaN   \n",
              "freq            NaN          NaN          NaN        11          NaN   \n",
              "mean      29.881138     0.498854     0.385027       NaN    33.295479   \n",
              "std       14.413493     1.041658     0.865560       NaN    51.758668   \n",
              "min        0.170000     0.000000     0.000000       NaN     0.000000   \n",
              "25%       21.000000     0.000000     0.000000       NaN     7.895800   \n",
              "50%       28.000000     0.000000     0.000000       NaN    14.454200   \n",
              "75%       39.000000     1.000000     0.000000       NaN    31.275000   \n",
              "max       80.000000     8.000000     9.000000       NaN   512.329200   \n",
              "\n",
              "              cabin embarked boat        body     home.dest  \n",
              "count           295     1307  486  121.000000           745  \n",
              "unique          186        3   27         NaN           369  \n",
              "top     C23 C25 C27        S   13         NaN  New York, NY  \n",
              "freq              6      914   39         NaN            64  \n",
              "mean            NaN      NaN  NaN  160.809917           NaN  \n",
              "std             NaN      NaN  NaN   97.696922           NaN  \n",
              "min             NaN      NaN  NaN    1.000000           NaN  \n",
              "25%             NaN      NaN  NaN   72.000000           NaN  \n",
              "50%             NaN      NaN  NaN  155.000000           NaN  \n",
              "75%             NaN      NaN  NaN  256.000000           NaN  \n",
              "max             NaN      NaN  NaN  328.000000           NaN  "
            ],
            "text/html": [
              "\n",
              "  <div id=\"df-4836f7ae-0d2e-40a6-a5d2-12c88c8db69e\">\n",
              "    <div class=\"colab-df-container\">\n",
              "      <div>\n",
              "<style scoped>\n",
              "    .dataframe tbody tr th:only-of-type {\n",
              "        vertical-align: middle;\n",
              "    }\n",
              "\n",
              "    .dataframe tbody tr th {\n",
              "        vertical-align: top;\n",
              "    }\n",
              "\n",
              "    .dataframe thead th {\n",
              "        text-align: right;\n",
              "    }\n",
              "</style>\n",
              "<table border=\"1\" class=\"dataframe\">\n",
              "  <thead>\n",
              "    <tr style=\"text-align: right;\">\n",
              "      <th></th>\n",
              "      <th>user_id</th>\n",
              "      <th>pclass</th>\n",
              "      <th>survived</th>\n",
              "      <th>name</th>\n",
              "      <th>sex</th>\n",
              "      <th>age</th>\n",
              "      <th>sibsp</th>\n",
              "      <th>parch</th>\n",
              "      <th>ticket</th>\n",
              "      <th>fare</th>\n",
              "      <th>cabin</th>\n",
              "      <th>embarked</th>\n",
              "      <th>boat</th>\n",
              "      <th>body</th>\n",
              "      <th>home.dest</th>\n",
              "    </tr>\n",
              "  </thead>\n",
              "  <tbody>\n",
              "    <tr>\n",
              "      <th>count</th>\n",
              "      <td>1309</td>\n",
              "      <td>1309.000000</td>\n",
              "      <td>1309.000000</td>\n",
              "      <td>1309</td>\n",
              "      <td>1309</td>\n",
              "      <td>1046.000000</td>\n",
              "      <td>1309.000000</td>\n",
              "      <td>1309.000000</td>\n",
              "      <td>1309</td>\n",
              "      <td>1308.000000</td>\n",
              "      <td>295</td>\n",
              "      <td>1307</td>\n",
              "      <td>486</td>\n",
              "      <td>121.000000</td>\n",
              "      <td>745</td>\n",
              "    </tr>\n",
              "    <tr>\n",
              "      <th>unique</th>\n",
              "      <td>1309</td>\n",
              "      <td>NaN</td>\n",
              "      <td>NaN</td>\n",
              "      <td>1307</td>\n",
              "      <td>2</td>\n",
              "      <td>NaN</td>\n",
              "      <td>NaN</td>\n",
              "      <td>NaN</td>\n",
              "      <td>929</td>\n",
              "      <td>NaN</td>\n",
              "      <td>186</td>\n",
              "      <td>3</td>\n",
              "      <td>27</td>\n",
              "      <td>NaN</td>\n",
              "      <td>369</td>\n",
              "    </tr>\n",
              "    <tr>\n",
              "      <th>top</th>\n",
              "      <td>M0001</td>\n",
              "      <td>NaN</td>\n",
              "      <td>NaN</td>\n",
              "      <td>Connolly, Miss. Kate</td>\n",
              "      <td>male</td>\n",
              "      <td>NaN</td>\n",
              "      <td>NaN</td>\n",
              "      <td>NaN</td>\n",
              "      <td>CA. 2343</td>\n",
              "      <td>NaN</td>\n",
              "      <td>C23 C25 C27</td>\n",
              "      <td>S</td>\n",
              "      <td>13</td>\n",
              "      <td>NaN</td>\n",
              "      <td>New York, NY</td>\n",
              "    </tr>\n",
              "    <tr>\n",
              "      <th>freq</th>\n",
              "      <td>1</td>\n",
              "      <td>NaN</td>\n",
              "      <td>NaN</td>\n",
              "      <td>2</td>\n",
              "      <td>843</td>\n",
              "      <td>NaN</td>\n",
              "      <td>NaN</td>\n",
              "      <td>NaN</td>\n",
              "      <td>11</td>\n",
              "      <td>NaN</td>\n",
              "      <td>6</td>\n",
              "      <td>914</td>\n",
              "      <td>39</td>\n",
              "      <td>NaN</td>\n",
              "      <td>64</td>\n",
              "    </tr>\n",
              "    <tr>\n",
              "      <th>mean</th>\n",
              "      <td>NaN</td>\n",
              "      <td>2.294882</td>\n",
              "      <td>0.381971</td>\n",
              "      <td>NaN</td>\n",
              "      <td>NaN</td>\n",
              "      <td>29.881138</td>\n",
              "      <td>0.498854</td>\n",
              "      <td>0.385027</td>\n",
              "      <td>NaN</td>\n",
              "      <td>33.295479</td>\n",
              "      <td>NaN</td>\n",
              "      <td>NaN</td>\n",
              "      <td>NaN</td>\n",
              "      <td>160.809917</td>\n",
              "      <td>NaN</td>\n",
              "    </tr>\n",
              "    <tr>\n",
              "      <th>std</th>\n",
              "      <td>NaN</td>\n",
              "      <td>0.837836</td>\n",
              "      <td>0.486055</td>\n",
              "      <td>NaN</td>\n",
              "      <td>NaN</td>\n",
              "      <td>14.413493</td>\n",
              "      <td>1.041658</td>\n",
              "      <td>0.865560</td>\n",
              "      <td>NaN</td>\n",
              "      <td>51.758668</td>\n",
              "      <td>NaN</td>\n",
              "      <td>NaN</td>\n",
              "      <td>NaN</td>\n",
              "      <td>97.696922</td>\n",
              "      <td>NaN</td>\n",
              "    </tr>\n",
              "    <tr>\n",
              "      <th>min</th>\n",
              "      <td>NaN</td>\n",
              "      <td>1.000000</td>\n",
              "      <td>0.000000</td>\n",
              "      <td>NaN</td>\n",
              "      <td>NaN</td>\n",
              "      <td>0.170000</td>\n",
              "      <td>0.000000</td>\n",
              "      <td>0.000000</td>\n",
              "      <td>NaN</td>\n",
              "      <td>0.000000</td>\n",
              "      <td>NaN</td>\n",
              "      <td>NaN</td>\n",
              "      <td>NaN</td>\n",
              "      <td>1.000000</td>\n",
              "      <td>NaN</td>\n",
              "    </tr>\n",
              "    <tr>\n",
              "      <th>25%</th>\n",
              "      <td>NaN</td>\n",
              "      <td>2.000000</td>\n",
              "      <td>0.000000</td>\n",
              "      <td>NaN</td>\n",
              "      <td>NaN</td>\n",
              "      <td>21.000000</td>\n",
              "      <td>0.000000</td>\n",
              "      <td>0.000000</td>\n",
              "      <td>NaN</td>\n",
              "      <td>7.895800</td>\n",
              "      <td>NaN</td>\n",
              "      <td>NaN</td>\n",
              "      <td>NaN</td>\n",
              "      <td>72.000000</td>\n",
              "      <td>NaN</td>\n",
              "    </tr>\n",
              "    <tr>\n",
              "      <th>50%</th>\n",
              "      <td>NaN</td>\n",
              "      <td>3.000000</td>\n",
              "      <td>0.000000</td>\n",
              "      <td>NaN</td>\n",
              "      <td>NaN</td>\n",
              "      <td>28.000000</td>\n",
              "      <td>0.000000</td>\n",
              "      <td>0.000000</td>\n",
              "      <td>NaN</td>\n",
              "      <td>14.454200</td>\n",
              "      <td>NaN</td>\n",
              "      <td>NaN</td>\n",
              "      <td>NaN</td>\n",
              "      <td>155.000000</td>\n",
              "      <td>NaN</td>\n",
              "    </tr>\n",
              "    <tr>\n",
              "      <th>75%</th>\n",
              "      <td>NaN</td>\n",
              "      <td>3.000000</td>\n",
              "      <td>1.000000</td>\n",
              "      <td>NaN</td>\n",
              "      <td>NaN</td>\n",
              "      <td>39.000000</td>\n",
              "      <td>1.000000</td>\n",
              "      <td>0.000000</td>\n",
              "      <td>NaN</td>\n",
              "      <td>31.275000</td>\n",
              "      <td>NaN</td>\n",
              "      <td>NaN</td>\n",
              "      <td>NaN</td>\n",
              "      <td>256.000000</td>\n",
              "      <td>NaN</td>\n",
              "    </tr>\n",
              "    <tr>\n",
              "      <th>max</th>\n",
              "      <td>NaN</td>\n",
              "      <td>3.000000</td>\n",
              "      <td>1.000000</td>\n",
              "      <td>NaN</td>\n",
              "      <td>NaN</td>\n",
              "      <td>80.000000</td>\n",
              "      <td>8.000000</td>\n",
              "      <td>9.000000</td>\n",
              "      <td>NaN</td>\n",
              "      <td>512.329200</td>\n",
              "      <td>NaN</td>\n",
              "      <td>NaN</td>\n",
              "      <td>NaN</td>\n",
              "      <td>328.000000</td>\n",
              "      <td>NaN</td>\n",
              "    </tr>\n",
              "  </tbody>\n",
              "</table>\n",
              "</div>\n",
              "      <button class=\"colab-df-convert\" onclick=\"convertToInteractive('df-4836f7ae-0d2e-40a6-a5d2-12c88c8db69e')\"\n",
              "              title=\"Convert this dataframe to an interactive table.\"\n",
              "              style=\"display:none;\">\n",
              "        \n",
              "  <svg xmlns=\"http://www.w3.org/2000/svg\" height=\"24px\"viewBox=\"0 0 24 24\"\n",
              "       width=\"24px\">\n",
              "    <path d=\"M0 0h24v24H0V0z\" fill=\"none\"/>\n",
              "    <path d=\"M18.56 5.44l.94 2.06.94-2.06 2.06-.94-2.06-.94-.94-2.06-.94 2.06-2.06.94zm-11 1L8.5 8.5l.94-2.06 2.06-.94-2.06-.94L8.5 2.5l-.94 2.06-2.06.94zm10 10l.94 2.06.94-2.06 2.06-.94-2.06-.94-.94-2.06-.94 2.06-2.06.94z\"/><path d=\"M17.41 7.96l-1.37-1.37c-.4-.4-.92-.59-1.43-.59-.52 0-1.04.2-1.43.59L10.3 9.45l-7.72 7.72c-.78.78-.78 2.05 0 2.83L4 21.41c.39.39.9.59 1.41.59.51 0 1.02-.2 1.41-.59l7.78-7.78 2.81-2.81c.8-.78.8-2.07 0-2.86zM5.41 20L4 18.59l7.72-7.72 1.47 1.35L5.41 20z\"/>\n",
              "  </svg>\n",
              "      </button>\n",
              "      \n",
              "  <style>\n",
              "    .colab-df-container {\n",
              "      display:flex;\n",
              "      flex-wrap:wrap;\n",
              "      gap: 12px;\n",
              "    }\n",
              "\n",
              "    .colab-df-convert {\n",
              "      background-color: #E8F0FE;\n",
              "      border: none;\n",
              "      border-radius: 50%;\n",
              "      cursor: pointer;\n",
              "      display: none;\n",
              "      fill: #1967D2;\n",
              "      height: 32px;\n",
              "      padding: 0 0 0 0;\n",
              "      width: 32px;\n",
              "    }\n",
              "\n",
              "    .colab-df-convert:hover {\n",
              "      background-color: #E2EBFA;\n",
              "      box-shadow: 0px 1px 2px rgba(60, 64, 67, 0.3), 0px 1px 3px 1px rgba(60, 64, 67, 0.15);\n",
              "      fill: #174EA6;\n",
              "    }\n",
              "\n",
              "    [theme=dark] .colab-df-convert {\n",
              "      background-color: #3B4455;\n",
              "      fill: #D2E3FC;\n",
              "    }\n",
              "\n",
              "    [theme=dark] .colab-df-convert:hover {\n",
              "      background-color: #434B5C;\n",
              "      box-shadow: 0px 1px 3px 1px rgba(0, 0, 0, 0.15);\n",
              "      filter: drop-shadow(0px 1px 2px rgba(0, 0, 0, 0.3));\n",
              "      fill: #FFFFFF;\n",
              "    }\n",
              "  </style>\n",
              "\n",
              "      <script>\n",
              "        const buttonEl =\n",
              "          document.querySelector('#df-4836f7ae-0d2e-40a6-a5d2-12c88c8db69e button.colab-df-convert');\n",
              "        buttonEl.style.display =\n",
              "          google.colab.kernel.accessAllowed ? 'block' : 'none';\n",
              "\n",
              "        async function convertToInteractive(key) {\n",
              "          const element = document.querySelector('#df-4836f7ae-0d2e-40a6-a5d2-12c88c8db69e');\n",
              "          const dataTable =\n",
              "            await google.colab.kernel.invokeFunction('convertToInteractive',\n",
              "                                                     [key], {});\n",
              "          if (!dataTable) return;\n",
              "\n",
              "          const docLinkHtml = 'Like what you see? Visit the ' +\n",
              "            '<a target=\"_blank\" href=https://colab.research.google.com/notebooks/data_table.ipynb>data table notebook</a>'\n",
              "            + ' to learn more about interactive tables.';\n",
              "          element.innerHTML = '';\n",
              "          dataTable['output_type'] = 'display_data';\n",
              "          await google.colab.output.renderOutput(dataTable, element);\n",
              "          const docLink = document.createElement('div');\n",
              "          docLink.innerHTML = docLinkHtml;\n",
              "          element.appendChild(docLink);\n",
              "        }\n",
              "      </script>\n",
              "    </div>\n",
              "  </div>\n",
              "  "
            ]
          },
          "metadata": {},
          "execution_count": 12
        }
      ],
      "source": [
        "##Generate summary statistics for all of the data\n",
        "\n",
        "user_data.describe(datetime_is_numeric=True, include='all')\n",
        " #NaN: Not a Number\n",
        "# std menunjukkan kondisi over fitting/under fitting"
      ]
    },
    {
      "cell_type": "markdown",
      "source": [
        "##**ANALISA**\n",
        "\n",
        "##**Pandas description() digunakan untuk melihat beberapa detail statistik dasar dimana datetimenya numeric itu True dan data didalamnya termasuk semua dan NaN merupakan data kosong atau null.**"
      ],
      "metadata": {
        "id": "tdiz1yj4IOw8"
      }
    },
    {
      "cell_type": "code",
      "execution_count": 13,
      "metadata": {
        "colab": {
          "base_uri": "https://localhost:8080/",
          "height": 0
        },
        "id": "Y_SdHB1KkK4d",
        "outputId": "1a99f435-67d9-4e98-ca16-5ee3cee39846"
      },
      "outputs": [
        {
          "output_type": "stream",
          "name": "stderr",
          "text": [
            "<ipython-input-13-f9de9c8cc610>:2: FutureWarning: Dropping of nuisance columns in DataFrame reductions (with 'numeric_only=None') is deprecated; in a future version this will raise TypeError.  Select only valid columns before calling the reduction.\n",
            "  user_data.skew()\n"
          ]
        },
        {
          "output_type": "execute_result",
          "data": {
            "text/plain": [
              "pclass     -0.598647\n",
              "survived    0.486404\n",
              "age         0.407675\n",
              "sibsp       3.844220\n",
              "parch       3.669078\n",
              "fare        4.367709\n",
              "body        0.091739\n",
              "dtype: float64"
            ]
          },
          "metadata": {},
          "execution_count": 13
        }
      ],
      "source": [
        "##Generate skewnes and kurtosis measurements\n",
        "user_data.skew()"
      ]
    },
    {
      "cell_type": "markdown",
      "source": [
        "##**ANALISA**\n",
        "\n",
        "##**Skewness adalah asimetri dalam distribusi data karena tidak menunjukkan simetri apa pun dalam data kontinu. Data miring dapat terdiri dari 2 jenis Data miring kanan disebut juga sebagai data miring positif atau data miring kiri disebut juga data miring negatif.**\n",
        "##**- Kemiringan negatif menunjukkan bahwa ekor berada di sisi kiri distribusi sehingga nilainya negatif.**\n",
        "##**- Kemiringan positif menunjukkan bahwa ekor berada di sisi kanan distribusi sehingga nilainya positif.**\n"
      ],
      "metadata": {
        "id": "ZpAKZcCRIaEq"
      }
    },
    {
      "cell_type": "code",
      "execution_count": 14,
      "metadata": {
        "colab": {
          "base_uri": "https://localhost:8080/",
          "height": 0
        },
        "id": "h9r_aCHKkbE3",
        "outputId": "802f0402-c8d2-4641-ca0a-1996d4459ed5"
      },
      "outputs": [
        {
          "output_type": "stream",
          "name": "stderr",
          "text": [
            "<ipython-input-14-e9bacc564ac7>:1: FutureWarning: Dropping of nuisance columns in DataFrame reductions (with 'numeric_only=None') is deprecated; in a future version this will raise TypeError.  Select only valid columns before calling the reduction.\n",
            "  user_data.kurt()\n"
          ]
        },
        {
          "output_type": "execute_result",
          "data": {
            "text/plain": [
              "pclass      -1.315079\n",
              "survived    -1.766112\n",
              "age          0.146948\n",
              "sibsp       20.043251\n",
              "parch       21.541079\n",
              "fare        27.027986\n",
              "body        -1.254052\n",
              "dtype: float64"
            ]
          },
          "metadata": {},
          "execution_count": 14
        }
      ],
      "source": [
        "user_data.kurt()"
      ]
    },
    {
      "cell_type": "markdown",
      "source": [
        "##**ANALISA**\n",
        "\n",
        "##**Kurtosis adalah ukuran apakah suatu distribusi berekor berat atau berekor ringan relatif terhadap distribusi normal.**"
      ],
      "metadata": {
        "id": "zhqBN-9GKe6g"
      }
    },
    {
      "cell_type": "markdown",
      "source": [
        "# **Data Visualisasi**"
      ],
      "metadata": {
        "id": "xomvWK0Co533"
      }
    },
    {
      "cell_type": "markdown",
      "metadata": {
        "id": "vxhKDCQmxlme"
      },
      "source": [
        "##1. Generate a **Box Plot** for age"
      ]
    },
    {
      "cell_type": "markdown",
      "source": [
        "##**Boxplot adalah suatu metode yang digunakan untuk mendeteksi adanya outliers pada suatu data. Outliers adalah perbedaan sebuah data yang tidak sama seperti kebanyakan data lainnya.**"
      ],
      "metadata": {
        "id": "3P-9gNp1LQFs"
      }
    },
    {
      "cell_type": "code",
      "execution_count": 15,
      "metadata": {
        "colab": {
          "base_uri": "https://localhost:8080/",
          "height": 0
        },
        "id": "w6f8Ks7UxnR2",
        "outputId": "df68f684-b0cd-4807-dfb9-4ffd2143efe2"
      },
      "outputs": [
        {
          "output_type": "execute_result",
          "data": {
            "text/plain": [
              "count    1046.000000\n",
              "mean       29.881138\n",
              "std        14.413493\n",
              "min         0.170000\n",
              "25%        21.000000\n",
              "50%        28.000000\n",
              "75%        39.000000\n",
              "max        80.000000\n",
              "Name: age, dtype: float64"
            ]
          },
          "metadata": {},
          "execution_count": 15
        }
      ],
      "source": [
        "user_data['age'].describe()"
      ]
    },
    {
      "cell_type": "markdown",
      "source": [
        "##**ANALISA**\n",
        "\n",
        "##**describe() untuk mengetahui statistik deskriptif age atau umur.**"
      ],
      "metadata": {
        "id": "tZ89vk5mLica"
      }
    },
    {
      "cell_type": "code",
      "execution_count": 16,
      "metadata": {
        "colab": {
          "base_uri": "https://localhost:8080/",
          "height": 225
        },
        "id": "Danyq2GsxosJ",
        "outputId": "3f57c357-9b11-4e60-ab3b-30d2c8131afd"
      },
      "outputs": [
        {
          "output_type": "display_data",
          "data": {
            "text/plain": [
              "<Figure size 432x216 with 1 Axes>"
            ],
            "image/png": "[encoded data removed]"
          },
          "metadata": {
            "needs_background": "light"
          }
        }
      ],
      "source": [
        "plt.figure(figsize=(6,3))\n",
        "sns.boxplot(x=user_data['age'], linewidth=1.0);\n",
        "\n",
        "#Informasi yang bisa dibaca dari boxplot pada age:\n",
        "#nilai terendah di parameter usia kisaran 0\n",
        "#nilai median diantara 28/29\n",
        "#nilai maksimal adalah 67, tetapi di data di atas max 80\n",
        "# jika mau komputasi, nilai 80 adalah nilai max. Yang disampaikan ke client bisa keduanya.\n",
        "#kenapa outliers, karena sebaran dari 77 - 80 itu yang beda sendiri, yang lainnya merata berkumpul"
      ]
    },
    {
      "cell_type": "code",
      "source": [
        "##Generate a box plot for fare\n",
        "user_data['fare'].describe()"
      ],
      "metadata": {
        "colab": {
          "base_uri": "https://localhost:8080/",
          "height": 0
        },
        "id": "z1kUVfmqp9ih",
        "outputId": "a7aa2bac-c868-441a-843f-2f69ad092396"
      },
      "execution_count": 17,
      "outputs": [
        {
          "output_type": "execute_result",
          "data": {
            "text/plain": [
              "count    1308.000000\n",
              "mean       33.295479\n",
              "std        51.758668\n",
              "min         0.000000\n",
              "25%         7.895800\n",
              "50%        14.454200\n",
              "75%        31.275000\n",
              "max       512.329200\n",
              "Name: fare, dtype: float64"
            ]
          },
          "metadata": {},
          "execution_count": 17
        }
      ]
    },
    {
      "cell_type": "markdown",
      "source": [
        "##**ANALISA**\n",
        "\n",
        "##**Describe() untuk mengetahui statistik deskriptif fare atau tiket.**"
      ],
      "metadata": {
        "id": "0siZkQFzMPv1"
      }
    },
    {
      "cell_type": "code",
      "source": [
        "plt.figure(figsize=(6,4)) #figsize ini untuk mengatur ukuran diagramnya\n",
        "sns.boxplot(x=user_data['fare'], linewidth=1);"
      ],
      "metadata": {
        "colab": {
          "base_uri": "https://localhost:8080/",
          "height": 279
        },
        "id": "bRNmDKLeqCpi",
        "outputId": "e04d5b36-aecb-4946-b1b5-4cc74801c8ee"
      },
      "execution_count": 18,
      "outputs": [
        {
          "output_type": "display_data",
          "data": {
            "text/plain": [
              "<Figure size 432x288 with 1 Axes>"
            ],
            "image/png": "[encoded data removed]"
          },
          "metadata": {
            "needs_background": "light"
          }
        }
      ]
    },
    {
      "cell_type": "markdown",
      "source": [
        "##**ANALISA**\n",
        "\n",
        "##**Informasi yang bisa dibaca dari boxplot pada fare:**\n",
        "\n",
        "##**nilai terendah di parameter usia kisaran 0**\n",
        "##**nilai median diantara 15/20**\n",
        "##**nilai maksimal adalah 67, tetapi di data di atas max 80**\n",
        "##**jika mau komputasi, nilai 80 adalah nilai max. Yang disampaikan ke client bisa keduanya.**\n",
        "##**kenapa outliers, karena sebaran dari 82 - 510 itu yang beda sendiri, yang lainnya merata berkumpul.**"
      ],
      "metadata": {
        "id": "4oSxG8k_OAUN"
      }
    },
    {
      "cell_type": "markdown",
      "metadata": {
        "id": "1PqLJurTxsZW"
      },
      "source": [
        "##2. Generate a **violin plot** for age"
      ]
    },
    {
      "cell_type": "markdown",
      "source": [
        "##**Violin Plot merupakan penggabungan antara dua metode yaitu boxplot dan Estimasi.**\n",
        "##**Kepadatan Kernel (KDE). KDE sendiri merupakan sebuah cara yang berguna untuk menganalisa data non-parametrik dengan cara menghitung mengkalkulasikan fungsi kepadatan peluang dari suatu peubah yang acak. Tujuan dari violin plot yaitu untuk memudahkan pengguna menganalisis distribusi data yang kontinyu untuk setiap kategori.**"
      ],
      "metadata": {
        "id": "-KIiBYN4RCfc"
      }
    },
    {
      "cell_type": "code",
      "execution_count": 19,
      "metadata": {
        "colab": {
          "base_uri": "https://localhost:8080/",
          "height": 279
        },
        "id": "PTtiNxjNxqd1",
        "outputId": "a47a6105-8286-4a65-b59f-cfc516b9aef7"
      },
      "outputs": [
        {
          "output_type": "display_data",
          "data": {
            "text/plain": [
              "<Figure size 432x288 with 1 Axes>"
            ],
            "image/png": "[encoded data removed]"
          },
          "metadata": {
            "needs_background": "light"
          }
        }
      ],
      "source": [
        "sns.violinplot(x = user_data['age'], linewidth=1.0);\n",
        "##Informasi yang bisa dibaca dari violinplot di bawah ini:\n",
        "# yang hitam di tengah itu median\n",
        "# semakin lebar, berarti semakin tinggi probabilitasnya.\n",
        "# High probability di angka 30an artinya menunjukkan densiti.\n",
        "#Densiti adalah jarak sebaran data di parameter usia ini."
      ]
    },
    {
      "cell_type": "code",
      "execution_count": 20,
      "metadata": {
        "colab": {
          "base_uri": "https://localhost:8080/",
          "height": 296
        },
        "id": "V8KfNawgyTi_",
        "outputId": "d68fec64-e6c6-4815-e3f2-3921ad068163"
      },
      "outputs": [
        {
          "output_type": "execute_result",
          "data": {
            "text/plain": [
              "<matplotlib.axes._subplots.AxesSubplot at 0x7fc452149a30>"
            ]
          },
          "metadata": {},
          "execution_count": 20
        },
        {
          "output_type": "display_data",
          "data": {
            "text/plain": [
              "<Figure size 432x288 with 1 Axes>"
            ],
            "image/png": "[encoded data removed]"
          },
          "metadata": {
            "needs_background": "light"
          }
        }
      ],
      "source": [
        "##Generate a violin plot for fare\n",
        "sns.violinplot(x = user_data['fare'], linewidth=1)"
      ]
    },
    {
      "cell_type": "markdown",
      "source": [
        "##**ANALISA**\n",
        "\n",
        "##**Informasi yang bisa dibaca dari violinplot di bawah ini:**\n",
        "##**yang hitam di tengah itu median**\n",
        "##**semakin lebar, berarti semakin tinggi probabilitasnya.**\n",
        "##**High probability di angka 10an artinya menunjukkan densiti.**\n",
        "##**Densiti adalah jarak sebaran data di parameter usia ini.**"
      ],
      "metadata": {
        "id": "niA3h5f-RUMx"
      }
    },
    {
      "cell_type": "markdown",
      "metadata": {
        "id": "5iZyDlDvyVT_"
      },
      "source": [
        "##3. Generate a **subplot** data survived pclass dan parch"
      ]
    },
    {
      "cell_type": "markdown",
      "source": [
        "##**Fungsi subplots() mengambil tiga argumen yang menjelaskan layout gambar.**\n",
        "##-**Layout diatur dalam baris dan kolom, yang diwakili oleh argumen pertama dan kedua.**\n",
        "##- **Argumen ketiga mewakili indeks plot saat ini.**"
      ],
      "metadata": {
        "id": "zCCGogSSRxcl"
      }
    },
    {
      "cell_type": "code",
      "execution_count": 21,
      "metadata": {
        "colab": {
          "base_uri": "https://localhost:8080/",
          "height": 265
        },
        "id": "wk--7yPjyXN2",
        "outputId": "0969464c-cf5f-4a2b-e591-6b84fc88f97a"
      },
      "outputs": [
        {
          "output_type": "display_data",
          "data": {
            "text/plain": [
              "<Figure size 432x288 with 2 Axes>"
            ],
            "image/png": "[encoded data removed]"
          },
          "metadata": {
            "needs_background": "light"
          }
        }
      ],
      "source": [
        "plt.subplot(1,2,1)\n",
        "user_data['pclass'].hist()\n",
        "user_data['survived'].hist()\n",
        "\n",
        "plt.subplot(1,2,2)\n",
        "user_data['pclass'].hist()\n",
        "user_data['parch'].hist()\n",
        "\n",
        "plt.show()"
      ]
    },
    {
      "cell_type": "markdown",
      "source": [
        "##**ANALISA**\n",
        "\n",
        "##**Menampilkan dengan menggunakan sublot.**\n",
        "##**(1,2,1) -> memiliki 1 baris, 2 kolom, dan plot ini adalah plot pertama.**\n",
        "##**(1,2,2) -> memiliki 1 baris, 2 kolom, dan plot ini adalah plot kedua.**\n",
        "\n",
        "##**pada plot 1 menampilkan grafik berwarna oren untuk survived dan biru untuk pclass. sedangkan pada plot kedua, warna biru untuk pclass dan oren untuk parch nya.**"
      ],
      "metadata": {
        "id": "Kln6DhrLR19G"
      }
    },
    {
      "cell_type": "markdown",
      "source": [
        "##4. Generate a **Line Plot** data survived dan pclass"
      ],
      "metadata": {
        "id": "C52yRK4Aqf0I"
      }
    },
    {
      "cell_type": "markdown",
      "source": [
        "##**Line Plot menampilkan informasi berupa rangkaian titik data yang terhubung dengan segmen garis lurus. Line plot dapat digunakan pada dataset yang memiliki nilai kontinu untuk melihat pergerakan data dari waktu ke waktu**"
      ],
      "metadata": {
        "id": "ovX1UI7SSOSq"
      }
    },
    {
      "cell_type": "code",
      "source": [
        "sns.lineplot(data=user_data, x='embarked',\n",
        "            y='fare', estimator=np.mean);\n",
        "\n",
        "# Cara baca line plot\n",
        "#bisa digunakan untuk melihat rasio tarif setiap pemberangkatan.\n",
        "#biru muda, itu prediksi\n",
        "#rata rata tarif untuk embarked S sekitar 28\n",
        "# rata rata tarif untuk embarked C sekitar 60\n",
        "# rata rata tarif untuk embarked Q sekitar 10"
      ],
      "metadata": {
        "colab": {
          "base_uri": "https://localhost:8080/",
          "height": 279
        },
        "id": "CyGJ5cSO73Qi",
        "outputId": "775a931b-05c2-4fdb-b170-04e77bcf298a"
      },
      "execution_count": 22,
      "outputs": [
        {
          "output_type": "display_data",
          "data": {
            "text/plain": [
              "<Figure size 432x288 with 1 Axes>"
            ],
            "image/png": "[encoded data removed]"
          },
          "metadata": {
            "needs_background": "light"
          }
        }
      ]
    },
    {
      "cell_type": "markdown",
      "metadata": {
        "id": "lA4dDIVWya5X"
      },
      "source": [
        "##5. Generate **Scatter plots** comparing tsurvived to sibsp"
      ]
    },
    {
      "cell_type": "markdown",
      "source": [
        "## **Scatter Plot menunjukan hubungan antar dua variabel yang ditampilkan pada suatu grafik. Pada scatter plot hubungan antar dua variabel ini dapat direpresentasikan dalam pola linear maupun non linear yang menyatakan hubungan dua variabel tersebut positif atau negatif**"
      ],
      "metadata": {
        "id": "QOGE4I2nSl4q"
      }
    },
    {
      "cell_type": "code",
      "execution_count": 23,
      "metadata": {
        "colab": {
          "base_uri": "https://localhost:8080/",
          "height": 279
        },
        "id": "bQKSEAjMycHj",
        "outputId": "69ee2ad4-8cc4-45d2-cca5-21b6af26d70a"
      },
      "outputs": [
        {
          "output_type": "display_data",
          "data": {
            "text/plain": [
              "<Figure size 432x288 with 1 Axes>"
            ],
            "image/png": "[encoded data removed]"
          },
          "metadata": {
            "needs_background": "light"
          }
        }
      ],
      "source": [
        "sns.scatterplot(data =user_data, x='fare',\n",
        "y='sibsp',hue='pclass');"
      ]
    },
    {
      "cell_type": "markdown",
      "source": [
        "## **pada sscatter plot diatas menjadikan fare sebagai x dan  sibsp sebagai y dan hue nya yaitu pclass. Dengan menggunakan hue, scatterplot menjadi informatif atau ada variasi warnanya. Outliernya terdapat pada tarif 50 an,90 an, 510 an,270 an dll**"
      ],
      "metadata": {
        "id": "z5kRPD0ZS0TC"
      }
    },
    {
      "cell_type": "markdown",
      "source": [
        "#6. **Simple Barchart** "
      ],
      "metadata": {
        "id": "6p1JzqVsrE-A"
      }
    },
    {
      "cell_type": "code",
      "source": [
        "# menyiapkan data untuk simple barplot\n",
        "count_sex = user_data['sex'].value_counts()\n",
        "index_sex = count_sex.index\n",
        "value_sex = count_sex.values\n",
        "\n",
        "\n",
        "# pembuatan simple barplot \n",
        "fig = plt.figure(figsize = (10, 5) )\n",
        "plt.bar(index_sex, value_sex , color = \"maroon\",  width = 0.7) \n",
        "\n",
        "\n",
        "plt.title(\"Chart Jumlah Total Jenis Kelamin\") # menambahkan judul\n",
        "plt.xlabel(\"Jenis Kelamin\")  # menambahkan judul di sumbu-x\n",
        "plt.ylabel(\"Jumlah\") # menambahkan judul di sumbu-y\n",
        "\n",
        "\n",
        "\n",
        "plt.show()"
      ],
      "metadata": {
        "colab": {
          "base_uri": "https://localhost:8080/",
          "height": 350
        },
        "id": "06tMV1egroO5",
        "outputId": "dccebffa-a72e-4be1-a105-ca8952ab9f61"
      },
      "execution_count": 24,
      "outputs": [
        {
          "output_type": "display_data",
          "data": {
            "text/plain": [
              "<Figure size 720x360 with 1 Axes>"
            ],
            "image/png": "[encoded data removed]"
          },
          "metadata": {
            "needs_background": "light"
          }
        }
      ]
    },
    {
      "cell_type": "markdown",
      "source": [
        "## **menampilkan barchart dengan membandingkan jenis kelamin female dan male. dengan total female 466, dan total male sebanyak 843**"
      ],
      "metadata": {
        "id": "fcyXiGszTLyc"
      }
    },
    {
      "cell_type": "code",
      "source": [
        "# membuat function untuk simple barchart\n",
        "\n",
        "def bar_chart(column):\n",
        "  count = user_data[column].value_counts()\n",
        "\n",
        "  index = count.index \n",
        "  values = count.values \n",
        "\n",
        "  fig = plt.figure(figsize = (10,  5))\n",
        "  plt.bar(index, values , color = \"maroon\", width = 0.7)\n",
        "\n",
        "  plt.show()"
      ],
      "metadata": {
        "id": "fTXK1wdTryEU"
      },
      "execution_count": 25,
      "outputs": []
    },
    {
      "cell_type": "code",
      "source": [
        "## bar chart kelas kapal\n",
        "bar_chart(\"pclass\")"
      ],
      "metadata": {
        "colab": {
          "base_uri": "https://localhost:8080/",
          "height": 320
        },
        "id": "4LcuWauPsLA9",
        "outputId": "7447a3c2-e31d-430b-f179-d9fa21f6b6a1"
      },
      "execution_count": 26,
      "outputs": [
        {
          "output_type": "display_data",
          "data": {
            "text/plain": [
              "<Figure size 720x360 with 1 Axes>"
            ],
            "image/png": "[encoded data removed]"
          },
          "metadata": {
            "needs_background": "light"
          }
        }
      ]
    },
    {
      "cell_type": "markdown",
      "source": [
        "## **menampilkan barchart dengan menampilkan pclass yang terdiri dari class 1,2, dan 3. class 1 330, class 2 280, dan class 3 710**"
      ],
      "metadata": {
        "id": "MLFlTdGzjND_"
      }
    },
    {
      "cell_type": "code",
      "source": [
        "bar_chart(\"embarked\")"
      ],
      "metadata": {
        "colab": {
          "base_uri": "https://localhost:8080/",
          "height": 320
        },
        "id": "9B6OIOFnsa8X",
        "outputId": "794c64ff-8efe-44d4-fb1d-13140e4c0cc1"
      },
      "execution_count": 27,
      "outputs": [
        {
          "output_type": "display_data",
          "data": {
            "text/plain": [
              "<Figure size 720x360 with 1 Axes>"
            ],
            "image/png": "[encoded data removed]"
          },
          "metadata": {
            "needs_background": "light"
          }
        }
      ]
    },
    {
      "cell_type": "markdown",
      "source": [
        "##**Menampilkan barchart dengan menampilkan keberangkatan yang terdiri dari 3 kategori, yaitu S,C, dan Q. pada S sebanyak 850, C sebanyak 240, dan Q sebanyak 100**"
      ],
      "metadata": {
        "id": "1jOr8BIFTkO5"
      }
    },
    {
      "cell_type": "code",
      "source": [
        "bar_chart(\"sibsp\")"
      ],
      "metadata": {
        "colab": {
          "base_uri": "https://localhost:8080/",
          "height": 320
        },
        "id": "SKQ_1OPZsmfL",
        "outputId": "446aea7a-c300-4b3e-b3ce-7cb78ea1dcd8"
      },
      "execution_count": 28,
      "outputs": [
        {
          "output_type": "display_data",
          "data": {
            "text/plain": [
              "<Figure size 720x360 with 1 Axes>"
            ],
            "image/png": "[encoded data removed]"
          },
          "metadata": {
            "needs_background": "light"
          }
        }
      ]
    },
    {
      "cell_type": "markdown",
      "source": [
        "##**Menampilkan barchart dengan menampilkan sibsp yang terdiri dari 7 kategori, dimana 0 sebanyak 850an, 1 300 an, 2 sebanyak 20 an, 3 10 an, 4 sebanyak 15an,5 sebanyak 7 an dan 8 sebanyak 8 an**"
      ],
      "metadata": {
        "id": "kdGRFsTcj_uj"
      }
    },
    {
      "cell_type": "code",
      "source": [
        "bar_chart(\"parch\")"
      ],
      "metadata": {
        "colab": {
          "base_uri": "https://localhost:8080/",
          "height": 320
        },
        "id": "bmXTP0GfsujQ",
        "outputId": "800ff425-b108-4bf8-99ed-f287218c4239"
      },
      "execution_count": 29,
      "outputs": [
        {
          "output_type": "display_data",
          "data": {
            "text/plain": [
              "<Figure size 720x360 with 1 Axes>"
            ],
            "image/png": "[encoded data removed]"
          },
          "metadata": {
            "needs_background": "light"
          }
        }
      ]
    },
    {
      "cell_type": "markdown",
      "source": [
        "##**Menampilkan barchart dengan menampilkan parch yang terdiri dari 8 kategori, dimana 0 sebanyak 980an, 1 110 an, 2 sebanyak 80 an, 3 15 an, 4 sebanyak 25an ,5 sebanyak 20 an, 6 sebanyak 10 an dan 8 sebanyak 8 an**"
      ],
      "metadata": {
        "id": "lPyXSA3XkbhZ"
      }
    },
    {
      "cell_type": "code",
      "execution_count": 30,
      "metadata": {
        "colab": {
          "base_uri": "https://localhost:8080/",
          "height": 0
        },
        "id": "tju0LcUNyxnG",
        "outputId": "561e9311-ddf8-49b7-b681-0c9091c12601"
      },
      "outputs": [
        {
          "output_type": "execute_result",
          "data": {
            "text/plain": [
              "S      914\n",
              "C      270\n",
              "Q      123\n",
              "NaN      2\n",
              "Name: embarked, dtype: int64"
            ]
          },
          "metadata": {},
          "execution_count": 30
        }
      ],
      "source": [
        "## Generate **bar charts** for embarked\n",
        "user_embarked = user_data['embarked'].value_counts(dropna=False)\n",
        "\n",
        "user_embarked"
      ]
    },
    {
      "cell_type": "markdown",
      "source": [
        "##**menampilkan value dari embarked dimana terdapat null sebanyak 2 buah dan menampilkan tipe datanya**"
      ],
      "metadata": {
        "id": "4ZBLY7OgTu29"
      }
    },
    {
      "cell_type": "code",
      "execution_count": 31,
      "metadata": {
        "colab": {
          "base_uri": "https://localhost:8080/",
          "height": 298
        },
        "id": "LE_adRJQzJrB",
        "outputId": "a4224b93-6fb5-4e23-cf96-4e7458298b65"
      },
      "outputs": [
        {
          "output_type": "execute_result",
          "data": {
            "text/plain": [
              "Text(0, 0.5, 'jumlah')"
            ]
          },
          "metadata": {},
          "execution_count": 31
        },
        {
          "output_type": "display_data",
          "data": {
            "text/plain": [
              "<Figure size 432x288 with 1 Axes>"
            ],
            "image/png": "[encoded data removed]"
          },
          "metadata": {
            "needs_background": "light"
          }
        }
      ],
      "source": [
        "# Horizontal bar chart\n",
        "user_embarked.plot(kind='barh')\n",
        "plt.title('Distribution embarked');\n",
        "plt.ylabel(\"jumlah\")"
      ]
    },
    {
      "cell_type": "markdown",
      "source": [
        "##**menampilkan bar chart untuk embarked secara horizontal. dimana S sebanyak 900 an, C sebanyak 230 an, dan Q sebanyak 70 an**"
      ],
      "metadata": {
        "id": "1vthmWtPUApw"
      }
    },
    {
      "cell_type": "code",
      "execution_count": 32,
      "metadata": {
        "colab": {
          "base_uri": "https://localhost:8080/",
          "height": 0
        },
        "id": "w8bJt4hFA_cp",
        "outputId": "381a4467-a813-4ca6-c950-6113b3acf2bb"
      },
      "outputs": [
        {
          "output_type": "execute_result",
          "data": {
            "text/plain": [
              "S    914\n",
              "C    270\n",
              "Q    123\n",
              "Name: embarked, dtype: int64"
            ]
          },
          "metadata": {},
          "execution_count": 32
        }
      ],
      "source": [
        "# Exclude Missing Value (Cek lagi)\n",
        "user_embarked = user_data['embarked'].value_counts()\n",
        "\n",
        "user_embarked"
      ]
    },
    {
      "cell_type": "markdown",
      "source": [
        "## **kemudian pada embarked nilai null nya sudah tidak ada lagi**"
      ],
      "metadata": {
        "id": "-_WCXPo1UQR_"
      }
    },
    {
      "cell_type": "code",
      "source": [
        "## Generate **bar charts** for sex\n",
        "user_sex = user_data['sex'].value_counts(dropna=False)\n",
        "user_sex"
      ],
      "metadata": {
        "id": "qEOGaeVlU4kE",
        "colab": {
          "base_uri": "https://localhost:8080/",
          "height": 0
        },
        "outputId": "25cd731e-1f88-481e-ae45-984e05fe0f3e"
      },
      "execution_count": 33,
      "outputs": [
        {
          "output_type": "execute_result",
          "data": {
            "text/plain": [
              "male      843\n",
              "female    466\n",
              "Name: sex, dtype: int64"
            ]
          },
          "metadata": {},
          "execution_count": 33
        }
      ]
    },
    {
      "cell_type": "code",
      "execution_count": 34,
      "metadata": {
        "colab": {
          "base_uri": "https://localhost:8080/",
          "height": 282
        },
        "id": "jfdmryPazL2l",
        "outputId": "db073904-0672-4e09-aec1-6ddd9e38d713"
      },
      "outputs": [
        {
          "output_type": "execute_result",
          "data": {
            "text/plain": [
              "<matplotlib.axes._subplots.AxesSubplot at 0x7fc451cab700>"
            ]
          },
          "metadata": {},
          "execution_count": 34
        },
        {
          "output_type": "display_data",
          "data": {
            "text/plain": [
              "<Figure size 432x288 with 1 Axes>"
            ],
            "image/png": "[encoded data removed]"
          },
          "metadata": {
            "needs_background": "light"
          }
        }
      ],
      "source": [
        "#Exclude missing values\n",
        "user_data['sex'].value_counts().plot(kind='barh')"
      ]
    },
    {
      "cell_type": "markdown",
      "source": [
        "## **menampilkan jumlah data jenis kelamin menggunakan plot. total female 466, dan total male sebanyak 843**"
      ],
      "metadata": {
        "id": "A9Us4xTaVw5S"
      }
    },
    {
      "cell_type": "code",
      "source": [
        "# Exclude Missing Value (Cek lagi)\n",
        "user_sex = user_data['sex'].value_counts()\n",
        "\n",
        "user_sex"
      ],
      "metadata": {
        "colab": {
          "base_uri": "https://localhost:8080/",
          "height": 0
        },
        "id": "sBbYF3yAsqaw",
        "outputId": "3aa6d232-7605-4341-ff3b-d4da1bd48410"
      },
      "execution_count": 35,
      "outputs": [
        {
          "output_type": "execute_result",
          "data": {
            "text/plain": [
              "male      843\n",
              "female    466\n",
              "Name: sex, dtype: int64"
            ]
          },
          "metadata": {},
          "execution_count": 35
        }
      ]
    },
    {
      "cell_type": "markdown",
      "source": [
        "## **Maka nilai missing value nya sudah tidak ada**"
      ],
      "metadata": {
        "id": "CUAsyTELV3--"
      }
    },
    {
      "cell_type": "code",
      "execution_count": 36,
      "metadata": {
        "colab": {
          "base_uri": "https://localhost:8080/",
          "height": 0
        },
        "id": "5TK7qhAG6ptA",
        "outputId": "8d694c88-05ee-4f81-cba2-bb336cf1793b"
      },
      "outputs": [
        {
          "output_type": "execute_result",
          "data": {
            "text/plain": [
              "0    891\n",
              "1    319\n",
              "2     42\n",
              "4     22\n",
              "3     20\n",
              "8      9\n",
              "5      6\n",
              "Name: sibsp, dtype: int64"
            ]
          },
          "metadata": {},
          "execution_count": 36
        }
      ],
      "source": [
        "## Generate a bar chart for sibsp\n",
        "user_sibsp = user_data['sibsp'].value_counts(dropna=False)\n",
        "user_sibsp"
      ]
    },
    {
      "cell_type": "code",
      "execution_count": 37,
      "metadata": {
        "colab": {
          "base_uri": "https://localhost:8080/",
          "height": 309
        },
        "id": "q9lulZ5w736Q",
        "outputId": "9e8e359d-6f54-41ae-8eab-1e2d4f737046"
      },
      "outputs": [
        {
          "output_type": "execute_result",
          "data": {
            "text/plain": [
              "Text(0, 0.5, 'jumlah')"
            ]
          },
          "metadata": {},
          "execution_count": 37
        },
        {
          "output_type": "display_data",
          "data": {
            "text/plain": [
              "<Figure size 432x288 with 1 Axes>"
            ],
            "image/png": "[encoded data removed]"
          },
          "metadata": {
            "needs_background": "light"
          }
        }
      ],
      "source": [
        "#Vertical bar chart\n",
        "user_sibsp.plot(kind='bar')\n",
        "plt.title('Distribution jumlah saudara /pasangan');\n",
        "plt.xlabel(\"sibsp\")\n",
        "plt.ylabel(\"jumlah\")"
      ]
    },
    {
      "cell_type": "markdown",
      "source": [
        "## **menampilkan meggunakan bar chart. dimana 0 sebanyak 850an, 1 300 an, 2 sebanyak 20 an, 3 10 an, 4 sebanyak 15an,5 sebanyak 7 an dan 8 sebanyak 8**"
      ],
      "metadata": {
        "id": "a3RZhhYGlaC2"
      }
    },
    {
      "cell_type": "code",
      "execution_count": 38,
      "metadata": {
        "colab": {
          "base_uri": "https://localhost:8080/",
          "height": 281
        },
        "id": "2_KEFFXF8D51",
        "outputId": "8e0f24b4-1de8-4a64-f52e-f92a38614a51"
      },
      "outputs": [
        {
          "output_type": "display_data",
          "data": {
            "text/plain": [
              "<Figure size 432x288 with 1 Axes>"
            ],
            "image/png": "[encoded data removed]"
          },
          "metadata": {
            "needs_background": "light"
          }
        }
      ],
      "source": [
        "# Horizontal bar chart\n",
        "user_sibsp.plot(kind='barh')\n",
        "plt.title('Distribution jumlah saudara /pasangan');"
      ]
    },
    {
      "cell_type": "code",
      "execution_count": 39,
      "metadata": {
        "colab": {
          "base_uri": "https://localhost:8080/",
          "height": 282
        },
        "id": "pz6N3iZM8NT7",
        "outputId": "0a543dfd-8673-4a68-8e1c-63d5836f7e39"
      },
      "outputs": [
        {
          "output_type": "execute_result",
          "data": {
            "text/plain": [
              "<matplotlib.axes._subplots.AxesSubplot at 0x7fc451edfb80>"
            ]
          },
          "metadata": {},
          "execution_count": 39
        },
        {
          "output_type": "display_data",
          "data": {
            "text/plain": [
              "<Figure size 432x288 with 1 Axes>"
            ],
            "image/png": "[encoded data removed]"
          },
          "metadata": {
            "needs_background": "light"
          }
        }
      ],
      "source": [
        "#Exclude missing values\n",
        "user_data['pclass'].value_counts().plot(kind='barh')"
      ]
    },
    {
      "cell_type": "markdown",
      "source": [
        "## **Menampilkan pclass yang terdiri dari kategori 1,2, dan 3. class 330, class 2 280, dan class 3 710**"
      ],
      "metadata": {
        "id": "HOxuc9q9l4w1"
      }
    },
    {
      "cell_type": "markdown",
      "metadata": {
        "id": "OgXGJ4eAFI5D"
      },
      "source": [
        "**Grouped Barchart / Clustered Barchart**"
      ]
    },
    {
      "cell_type": "code",
      "source": [
        "user_data.head()"
      ],
      "metadata": {
        "colab": {
          "base_uri": "https://localhost:8080/",
          "height": 206
        },
        "id": "pJC-Wxnpgv2_",
        "outputId": "2d687194-576c-421a-86ac-0f9f48ab0129"
      },
      "execution_count": 40,
      "outputs": [
        {
          "output_type": "execute_result",
          "data": {
            "text/plain": [
              "  user_id  pclass  survived                                             name  \\\n",
              "0   M0001       1         1                    Allen, Miss. Elisabeth Walton   \n",
              "1   M0002       1         1                   Allison, Master. Hudson Trevor   \n",
              "2   M0003       1         0                     Allison, Miss. Helen Loraine   \n",
              "3   M0004       1         0             Allison, Mr. Hudson Joshua Creighton   \n",
              "4   M0005       1         0  Allison, Mrs. Hudson J C (Bessie Waldo Daniels)   \n",
              "\n",
              "      sex    age  sibsp  parch  ticket      fare    cabin embarked boat  \\\n",
              "0  female  29.00      0      0   24160  211.3375       B5        S    2   \n",
              "1    male   0.92      1      2  113781  151.5500  C22 C26        S   11   \n",
              "2  female   2.00      1      2  113781  151.5500  C22 C26        S  NaN   \n",
              "3    male  30.00      1      2  113781  151.5500  C22 C26        S  NaN   \n",
              "4  female  25.00      1      2  113781  151.5500  C22 C26        S  NaN   \n",
              "\n",
              "    body                        home.dest  \n",
              "0    NaN                     St Louis, MO  \n",
              "1    NaN  Montreal, PQ / Chesterville, ON  \n",
              "2    NaN  Montreal, PQ / Chesterville, ON  \n",
              "3  135.0  Montreal, PQ / Chesterville, ON  \n",
              "4    NaN  Montreal, PQ / Chesterville, ON  "
            ],
            "text/html": [
              "\n",
              "  <div id=\"df-4d83cc57-e11c-49ec-bebd-1027402973f8\">\n",
              "    <div class=\"colab-df-container\">\n",
              "      <div>\n",
              "<style scoped>\n",
              "    .dataframe tbody tr th:only-of-type {\n",
              "        vertical-align: middle;\n",
              "    }\n",
              "\n",
              "    .dataframe tbody tr th {\n",
              "        vertical-align: top;\n",
              "    }\n",
              "\n",
              "    .dataframe thead th {\n",
              "        text-align: right;\n",
              "    }\n",
              "</style>\n",
              "<table border=\"1\" class=\"dataframe\">\n",
              "  <thead>\n",
              "    <tr style=\"text-align: right;\">\n",
              "      <th></th>\n",
              "      <th>user_id</th>\n",
              "      <th>pclass</th>\n",
              "      <th>survived</th>\n",
              "      <th>name</th>\n",
              "      <th>sex</th>\n",
              "      <th>age</th>\n",
              "      <th>sibsp</th>\n",
              "      <th>parch</th>\n",
              "      <th>ticket</th>\n",
              "      <th>fare</th>\n",
              "      <th>cabin</th>\n",
              "      <th>embarked</th>\n",
              "      <th>boat</th>\n",
              "      <th>body</th>\n",
              "      <th>home.dest</th>\n",
              "    </tr>\n",
              "  </thead>\n",
              "  <tbody>\n",
              "    <tr>\n",
              "      <th>0</th>\n",
              "      <td>M0001</td>\n",
              "      <td>1</td>\n",
              "      <td>1</td>\n",
              "      <td>Allen, Miss. Elisabeth Walton</td>\n",
              "      <td>female</td>\n",
              "      <td>29.00</td>\n",
              "      <td>0</td>\n",
              "      <td>0</td>\n",
              "      <td>24160</td>\n",
              "      <td>211.3375</td>\n",
              "      <td>B5</td>\n",
              "      <td>S</td>\n",
              "      <td>2</td>\n",
              "      <td>NaN</td>\n",
              "      <td>St Louis, MO</td>\n",
              "    </tr>\n",
              "    <tr>\n",
              "      <th>1</th>\n",
              "      <td>M0002</td>\n",
              "      <td>1</td>\n",
              "      <td>1</td>\n",
              "      <td>Allison, Master. Hudson Trevor</td>\n",
              "      <td>male</td>\n",
              "      <td>0.92</td>\n",
              "      <td>1</td>\n",
              "      <td>2</td>\n",
              "      <td>113781</td>\n",
              "      <td>151.5500</td>\n",
              "      <td>C22 C26</td>\n",
              "      <td>S</td>\n",
              "      <td>11</td>\n",
              "      <td>NaN</td>\n",
              "      <td>Montreal, PQ / Chesterville, ON</td>\n",
              "    </tr>\n",
              "    <tr>\n",
              "      <th>2</th>\n",
              "      <td>M0003</td>\n",
              "      <td>1</td>\n",
              "      <td>0</td>\n",
              "      <td>Allison, Miss. Helen Loraine</td>\n",
              "      <td>female</td>\n",
              "      <td>2.00</td>\n",
              "      <td>1</td>\n",
              "      <td>2</td>\n",
              "      <td>113781</td>\n",
              "      <td>151.5500</td>\n",
              "      <td>C22 C26</td>\n",
              "      <td>S</td>\n",
              "      <td>NaN</td>\n",
              "      <td>NaN</td>\n",
              "      <td>Montreal, PQ / Chesterville, ON</td>\n",
              "    </tr>\n",
              "    <tr>\n",
              "      <th>3</th>\n",
              "      <td>M0004</td>\n",
              "      <td>1</td>\n",
              "      <td>0</td>\n",
              "      <td>Allison, Mr. Hudson Joshua Creighton</td>\n",
              "      <td>male</td>\n",
              "      <td>30.00</td>\n",
              "      <td>1</td>\n",
              "      <td>2</td>\n",
              "      <td>113781</td>\n",
              "      <td>151.5500</td>\n",
              "      <td>C22 C26</td>\n",
              "      <td>S</td>\n",
              "      <td>NaN</td>\n",
              "      <td>135.0</td>\n",
              "      <td>Montreal, PQ / Chesterville, ON</td>\n",
              "    </tr>\n",
              "    <tr>\n",
              "      <th>4</th>\n",
              "      <td>M0005</td>\n",
              "      <td>1</td>\n",
              "      <td>0</td>\n",
              "      <td>Allison, Mrs. Hudson J C (Bessie Waldo Daniels)</td>\n",
              "      <td>female</td>\n",
              "      <td>25.00</td>\n",
              "      <td>1</td>\n",
              "      <td>2</td>\n",
              "      <td>113781</td>\n",
              "      <td>151.5500</td>\n",
              "      <td>C22 C26</td>\n",
              "      <td>S</td>\n",
              "      <td>NaN</td>\n",
              "      <td>NaN</td>\n",
              "      <td>Montreal, PQ / Chesterville, ON</td>\n",
              "    </tr>\n",
              "  </tbody>\n",
              "</table>\n",
              "</div>\n",
              "      <button class=\"colab-df-convert\" onclick=\"convertToInteractive('df-4d83cc57-e11c-49ec-bebd-1027402973f8')\"\n",
              "              title=\"Convert this dataframe to an interactive table.\"\n",
              "              style=\"display:none;\">\n",
              "        \n",
              "  <svg xmlns=\"http://www.w3.org/2000/svg\" height=\"24px\"viewBox=\"0 0 24 24\"\n",
              "       width=\"24px\">\n",
              "    <path d=\"M0 0h24v24H0V0z\" fill=\"none\"/>\n",
              "    <path d=\"M18.56 5.44l.94 2.06.94-2.06 2.06-.94-2.06-.94-.94-2.06-.94 2.06-2.06.94zm-11 1L8.5 8.5l.94-2.06 2.06-.94-2.06-.94L8.5 2.5l-.94 2.06-2.06.94zm10 10l.94 2.06.94-2.06 2.06-.94-2.06-.94-.94-2.06-.94 2.06-2.06.94z\"/><path d=\"M17.41 7.96l-1.37-1.37c-.4-.4-.92-.59-1.43-.59-.52 0-1.04.2-1.43.59L10.3 9.45l-7.72 7.72c-.78.78-.78 2.05 0 2.83L4 21.41c.39.39.9.59 1.41.59.51 0 1.02-.2 1.41-.59l7.78-7.78 2.81-2.81c.8-.78.8-2.07 0-2.86zM5.41 20L4 18.59l7.72-7.72 1.47 1.35L5.41 20z\"/>\n",
              "  </svg>\n",
              "      </button>\n",
              "      \n",
              "  <style>\n",
              "    .colab-df-container {\n",
              "      display:flex;\n",
              "      flex-wrap:wrap;\n",
              "      gap: 12px;\n",
              "    }\n",
              "\n",
              "    .colab-df-convert {\n",
              "      background-color: #E8F0FE;\n",
              "      border: none;\n",
              "      border-radius: 50%;\n",
              "      cursor: pointer;\n",
              "      display: none;\n",
              "      fill: #1967D2;\n",
              "      height: 32px;\n",
              "      padding: 0 0 0 0;\n",
              "      width: 32px;\n",
              "    }\n",
              "\n",
              "    .colab-df-convert:hover {\n",
              "      background-color: #E2EBFA;\n",
              "      box-shadow: 0px 1px 2px rgba(60, 64, 67, 0.3), 0px 1px 3px 1px rgba(60, 64, 67, 0.15);\n",
              "      fill: #174EA6;\n",
              "    }\n",
              "\n",
              "    [theme=dark] .colab-df-convert {\n",
              "      background-color: #3B4455;\n",
              "      fill: #D2E3FC;\n",
              "    }\n",
              "\n",
              "    [theme=dark] .colab-df-convert:hover {\n",
              "      background-color: #434B5C;\n",
              "      box-shadow: 0px 1px 3px 1px rgba(0, 0, 0, 0.15);\n",
              "      filter: drop-shadow(0px 1px 2px rgba(0, 0, 0, 0.3));\n",
              "      fill: #FFFFFF;\n",
              "    }\n",
              "  </style>\n",
              "\n",
              "      <script>\n",
              "        const buttonEl =\n",
              "          document.querySelector('#df-4d83cc57-e11c-49ec-bebd-1027402973f8 button.colab-df-convert');\n",
              "        buttonEl.style.display =\n",
              "          google.colab.kernel.accessAllowed ? 'block' : 'none';\n",
              "\n",
              "        async function convertToInteractive(key) {\n",
              "          const element = document.querySelector('#df-4d83cc57-e11c-49ec-bebd-1027402973f8');\n",
              "          const dataTable =\n",
              "            await google.colab.kernel.invokeFunction('convertToInteractive',\n",
              "                                                     [key], {});\n",
              "          if (!dataTable) return;\n",
              "\n",
              "          const docLinkHtml = 'Like what you see? Visit the ' +\n",
              "            '<a target=\"_blank\" href=https://colab.research.google.com/notebooks/data_table.ipynb>data table notebook</a>'\n",
              "            + ' to learn more about interactive tables.';\n",
              "          element.innerHTML = '';\n",
              "          dataTable['output_type'] = 'display_data';\n",
              "          await google.colab.output.renderOutput(dataTable, element);\n",
              "          const docLink = document.createElement('div');\n",
              "          docLink.innerHTML = docLinkHtml;\n",
              "          element.appendChild(docLink);\n",
              "        }\n",
              "      </script>\n",
              "    </div>\n",
              "  </div>\n",
              "  "
            ]
          },
          "metadata": {},
          "execution_count": 40
        }
      ]
    },
    {
      "cell_type": "markdown",
      "source": [
        "## **head digunakan untuk menampilkan 5 data pertama**"
      ],
      "metadata": {
        "id": "O9nnpDQHW1jq"
      }
    },
    {
      "cell_type": "code",
      "execution_count": 41,
      "metadata": {
        "id": "HFdbPZ5EFQWa",
        "colab": {
          "base_uri": "https://localhost:8080/",
          "height": 175
        },
        "outputId": "dd996c31-69e2-4da2-904c-f9766f89bf5e"
      },
      "outputs": [
        {
          "output_type": "execute_result",
          "data": {
            "text/plain": [
              "   survived     sex  user_id\n",
              "0         0  female      127\n",
              "1         0    male      682\n",
              "2         1  female      339\n",
              "3         1    male      161"
            ],
            "text/html": [
              "\n",
              "  <div id=\"df-3780086a-4d81-4e72-b8e5-54f4628b710a\">\n",
              "    <div class=\"colab-df-container\">\n",
              "      <div>\n",
              "<style scoped>\n",
              "    .dataframe tbody tr th:only-of-type {\n",
              "        vertical-align: middle;\n",
              "    }\n",
              "\n",
              "    .dataframe tbody tr th {\n",
              "        vertical-align: top;\n",
              "    }\n",
              "\n",
              "    .dataframe thead th {\n",
              "        text-align: right;\n",
              "    }\n",
              "</style>\n",
              "<table border=\"1\" class=\"dataframe\">\n",
              "  <thead>\n",
              "    <tr style=\"text-align: right;\">\n",
              "      <th></th>\n",
              "      <th>survived</th>\n",
              "      <th>sex</th>\n",
              "      <th>user_id</th>\n",
              "    </tr>\n",
              "  </thead>\n",
              "  <tbody>\n",
              "    <tr>\n",
              "      <th>0</th>\n",
              "      <td>0</td>\n",
              "      <td>female</td>\n",
              "      <td>127</td>\n",
              "    </tr>\n",
              "    <tr>\n",
              "      <th>1</th>\n",
              "      <td>0</td>\n",
              "      <td>male</td>\n",
              "      <td>682</td>\n",
              "    </tr>\n",
              "    <tr>\n",
              "      <th>2</th>\n",
              "      <td>1</td>\n",
              "      <td>female</td>\n",
              "      <td>339</td>\n",
              "    </tr>\n",
              "    <tr>\n",
              "      <th>3</th>\n",
              "      <td>1</td>\n",
              "      <td>male</td>\n",
              "      <td>161</td>\n",
              "    </tr>\n",
              "  </tbody>\n",
              "</table>\n",
              "</div>\n",
              "      <button class=\"colab-df-convert\" onclick=\"convertToInteractive('df-3780086a-4d81-4e72-b8e5-54f4628b710a')\"\n",
              "              title=\"Convert this dataframe to an interactive table.\"\n",
              "              style=\"display:none;\">\n",
              "        \n",
              "  <svg xmlns=\"http://www.w3.org/2000/svg\" height=\"24px\"viewBox=\"0 0 24 24\"\n",
              "       width=\"24px\">\n",
              "    <path d=\"M0 0h24v24H0V0z\" fill=\"none\"/>\n",
              "    <path d=\"M18.56 5.44l.94 2.06.94-2.06 2.06-.94-2.06-.94-.94-2.06-.94 2.06-2.06.94zm-11 1L8.5 8.5l.94-2.06 2.06-.94-2.06-.94L8.5 2.5l-.94 2.06-2.06.94zm10 10l.94 2.06.94-2.06 2.06-.94-2.06-.94-.94-2.06-.94 2.06-2.06.94z\"/><path d=\"M17.41 7.96l-1.37-1.37c-.4-.4-.92-.59-1.43-.59-.52 0-1.04.2-1.43.59L10.3 9.45l-7.72 7.72c-.78.78-.78 2.05 0 2.83L4 21.41c.39.39.9.59 1.41.59.51 0 1.02-.2 1.41-.59l7.78-7.78 2.81-2.81c.8-.78.8-2.07 0-2.86zM5.41 20L4 18.59l7.72-7.72 1.47 1.35L5.41 20z\"/>\n",
              "  </svg>\n",
              "      </button>\n",
              "      \n",
              "  <style>\n",
              "    .colab-df-container {\n",
              "      display:flex;\n",
              "      flex-wrap:wrap;\n",
              "      gap: 12px;\n",
              "    }\n",
              "\n",
              "    .colab-df-convert {\n",
              "      background-color: #E8F0FE;\n",
              "      border: none;\n",
              "      border-radius: 50%;\n",
              "      cursor: pointer;\n",
              "      display: none;\n",
              "      fill: #1967D2;\n",
              "      height: 32px;\n",
              "      padding: 0 0 0 0;\n",
              "      width: 32px;\n",
              "    }\n",
              "\n",
              "    .colab-df-convert:hover {\n",
              "      background-color: #E2EBFA;\n",
              "      box-shadow: 0px 1px 2px rgba(60, 64, 67, 0.3), 0px 1px 3px 1px rgba(60, 64, 67, 0.15);\n",
              "      fill: #174EA6;\n",
              "    }\n",
              "\n",
              "    [theme=dark] .colab-df-convert {\n",
              "      background-color: #3B4455;\n",
              "      fill: #D2E3FC;\n",
              "    }\n",
              "\n",
              "    [theme=dark] .colab-df-convert:hover {\n",
              "      background-color: #434B5C;\n",
              "      box-shadow: 0px 1px 3px 1px rgba(0, 0, 0, 0.15);\n",
              "      filter: drop-shadow(0px 1px 2px rgba(0, 0, 0, 0.3));\n",
              "      fill: #FFFFFF;\n",
              "    }\n",
              "  </style>\n",
              "\n",
              "      <script>\n",
              "        const buttonEl =\n",
              "          document.querySelector('#df-3780086a-4d81-4e72-b8e5-54f4628b710a button.colab-df-convert');\n",
              "        buttonEl.style.display =\n",
              "          google.colab.kernel.accessAllowed ? 'block' : 'none';\n",
              "\n",
              "        async function convertToInteractive(key) {\n",
              "          const element = document.querySelector('#df-3780086a-4d81-4e72-b8e5-54f4628b710a');\n",
              "          const dataTable =\n",
              "            await google.colab.kernel.invokeFunction('convertToInteractive',\n",
              "                                                     [key], {});\n",
              "          if (!dataTable) return;\n",
              "\n",
              "          const docLinkHtml = 'Like what you see? Visit the ' +\n",
              "            '<a target=\"_blank\" href=https://colab.research.google.com/notebooks/data_table.ipynb>data table notebook</a>'\n",
              "            + ' to learn more about interactive tables.';\n",
              "          element.innerHTML = '';\n",
              "          dataTable['output_type'] = 'display_data';\n",
              "          await google.colab.output.renderOutput(dataTable, element);\n",
              "          const docLink = document.createElement('div');\n",
              "          docLink.innerHTML = docLinkHtml;\n",
              "          element.appendChild(docLink);\n",
              "        }\n",
              "      </script>\n",
              "    </div>\n",
              "  </div>\n",
              "  "
            ]
          },
          "metadata": {},
          "execution_count": 41
        }
      ],
      "source": [
        "survived_sex = user_data.groupby(['survived', \"sex\"]).count()['user_id'].reset_index()\n",
        "survived_sex"
      ]
    },
    {
      "cell_type": "markdown",
      "source": [
        "## **adanya groupby pada survived, dan jumlah dari user_id nya**"
      ],
      "metadata": {
        "id": "iwAtIYf3W9rA"
      }
    },
    {
      "cell_type": "markdown",
      "source": [
        "#**Grouped barchart**"
      ],
      "metadata": {
        "id": "u3InUs82oxtL"
      }
    },
    {
      "cell_type": "code",
      "source": [
        "def grouped_barchart(column): \n",
        "  survived = user_data.groupby(['survived', column]).count()['user_id'].reset_index()\n",
        "\n",
        "  g = sns.catplot(\n",
        "      data = survived, kind = \"bar\", \n",
        "      x = \"survived\", y = \"user_id\", hue = column, \n",
        "      palette = \"dark\" , height = 6\n",
        "  )"
      ],
      "metadata": {
        "id": "icWkujvGgW_3"
      },
      "execution_count": 42,
      "outputs": []
    },
    {
      "cell_type": "markdown",
      "source": [
        "## **Dalam melakukan pengrupan dengan menjadikan survived sebagai induk yang akan digunakan sebagai pembandingnya**"
      ],
      "metadata": {
        "id": "J208r9btYGeN"
      }
    },
    {
      "cell_type": "code",
      "source": [
        "grouped_barchart(\"sex\")"
      ],
      "metadata": {
        "colab": {
          "base_uri": "https://localhost:8080/",
          "height": 441
        },
        "id": "rKeyklvvgdEn",
        "outputId": "d8af093f-fffb-4670-eda0-c3eb531261a3"
      },
      "execution_count": 43,
      "outputs": [
        {
          "output_type": "display_data",
          "data": {
            "text/plain": [
              "<Figure size 502.5x432 with 1 Axes>"
            ],
            "image/png": "[encoded data removed]"
          },
          "metadata": {
            "needs_background": "light"
          }
        }
      ]
    },
    {
      "cell_type": "markdown",
      "source": [
        "## **melakukan pengrupan dimana menampilkan setiap pengrupan survived pada jenis kelamin. pada survived 0 total male sebanyak 670, female sebanyak 130 an, dan pada survived 1 total female sebanyak 330 an dan male sebanyak 150 an**"
      ],
      "metadata": {
        "id": "F0Ubtr3IYWWv"
      }
    },
    {
      "cell_type": "code",
      "source": [
        "grouped_barchart(\"pclass\")"
      ],
      "metadata": {
        "colab": {
          "base_uri": "https://localhost:8080/",
          "height": 441
        },
        "id": "Y8H0yScqh60P",
        "outputId": "8ea9ec53-2f3b-45d7-ace5-a8b50da64fbf"
      },
      "execution_count": 44,
      "outputs": [
        {
          "output_type": "display_data",
          "data": {
            "text/plain": [
              "<Figure size 474.375x432 with 1 Axes>"
            ],
            "image/png": "[encoded data removed]"
          },
          "metadata": {
            "needs_background": "light"
          }
        }
      ]
    },
    {
      "cell_type": "markdown",
      "source": [
        "## **Melakukan pengrupan pada survived. dimana pada survived 0 memiliki 3 kategori pclasss. class 1 120, class 2 150, dan class 3 530. pada survived 2 memiliki 3 kategori pclasss. class 1 200, class 2 sebanyak 110, dan class 3 180 an**"
      ],
      "metadata": {
        "id": "iUQhNX1aYeg2"
      }
    },
    {
      "cell_type": "markdown",
      "source": [
        "#**7. Histogram**"
      ],
      "metadata": {
        "id": "xYz0ntA5iLdt"
      }
    },
    {
      "cell_type": "markdown",
      "source": [
        "##**Plot histograms for all numerical columns**"
      ],
      "metadata": {
        "id": "HmvoGy17nkFo"
      }
    },
    {
      "cell_type": "markdown",
      "source": [
        "## **Histogram adalah grafik yang menunjukkan distribusi frekuensi. dimana grafik yang menunjukkan jumlah pengamatan dalam setiap interval yang diberikan.**\n",
        "##**Fungsi hist() akan menggunakan array angka untuk membuat histogram, array dikirim ke fungsi sebagai argumen.**"
      ],
      "metadata": {
        "id": "wb4lyIWJiLRT"
      }
    },
    {
      "cell_type": "code",
      "source": [
        "user_data_for_hist = \\\n",
        "user_data.select_dtypes(exclude=['object'])"
      ],
      "metadata": {
        "id": "7FDdo7ALnu7V"
      },
      "execution_count": 45,
      "outputs": []
    },
    {
      "cell_type": "code",
      "source": [
        "user_data_for_hist.hist(figsize = (10,10), alpha = 0.5,edgecolor='black', grid= False);"
      ],
      "metadata": {
        "colab": {
          "base_uri": "https://localhost:8080/",
          "height": 607
        },
        "id": "BYUwjXt6n20K",
        "outputId": "22a52640-9c8a-4541-866e-cb071b1ae86b"
      },
      "execution_count": 46,
      "outputs": [
        {
          "output_type": "display_data",
          "data": {
            "text/plain": [
              "<Figure size 720x720 with 9 Axes>"
            ],
            "image/png": "[encoded data removed]"
          },
          "metadata": {
            "needs_background": "light"
          }
        }
      ]
    },
    {
      "cell_type": "markdown",
      "source": [
        "## **menampilkan semua jenis tipe data yang tidak termasuk object**\n",
        "## **pada age terdapat 70 an yang berumur 0-7. terdapat 60 an yang berumur 8- 15. terdapat 280 an yang berumur 16-23. terdapat 245 an yang berumur 24-33. terdapat 155 an yang berumur 33-40. terdapat 110 an yang berumur 48-53. terdapat 50 an yang berumur 54-63. terdapat 30 an yang berumur 64-74, dan terdapat 10 yang berumur 75-80**"
      ],
      "metadata": {
        "id": "udrYWaTiYnI-"
      }
    },
    {
      "cell_type": "code",
      "source": [
        "fig, ax = plt.subplots(figsize = (10, 7))\n",
        "ax.hist(user_data.age)\n",
        "\n",
        "plt.show()"
      ],
      "metadata": {
        "colab": {
          "base_uri": "https://localhost:8080/",
          "height": 428
        },
        "id": "6v4J8xmuiXAY",
        "outputId": "2fe83c1e-1c58-4099-89f8-ef0608ebd221"
      },
      "execution_count": 47,
      "outputs": [
        {
          "output_type": "display_data",
          "data": {
            "text/plain": [
              "<Figure size 720x504 with 1 Axes>"
            ],
            "image/png": "[encoded data removed]"
          },
          "metadata": {
            "needs_background": "light"
          }
        }
      ]
    },
    {
      "cell_type": "markdown",
      "source": [
        "\n",
        "## **menampilkan data age dengan menggunakan subplot. terdapat 70 an yag berumur 1-8. terdapat 60 an yang berumur 9-16. terdapat 280 an yang berumur 17-25. terdapat 235 an yang berumur 26-32. terdapat 180 an yang berumur 33-40. terdapat 110 an yang berumur 41-47. terdapat 55 an yang berumur 47-53. terdapat 30 an yang berumur 54-63. terdapat 15 an yang berumur 64-72. dan terdapat 7 yang berumur 73-79.**"
      ],
      "metadata": {
        "id": "k0K07-4QYtv9"
      }
    },
    {
      "cell_type": "code",
      "source": [
        "fig, ax = plt.subplots(figsize = (10, 7))\n",
        "ax.hist(user_data.fare)\n",
        "\n",
        "plt.show()"
      ],
      "metadata": {
        "colab": {
          "base_uri": "https://localhost:8080/",
          "height": 428
        },
        "id": "XIyqqbNDifp9",
        "outputId": "d873445c-c811-4eb2-e2bb-996db049a9b5"
      },
      "execution_count": 48,
      "outputs": [
        {
          "output_type": "display_data",
          "data": {
            "text/plain": [
              "<Figure size 720x504 with 1 Axes>"
            ],
            "image/png": "[encoded data removed]"
          },
          "metadata": {
            "needs_background": "light"
          }
        }
      ]
    },
    {
      "cell_type": "markdown",
      "source": [
        "## **menampilkan data fare. terdapat 1100 an antara 0-45. terdapat 80 an antara 46-100. terdapat 30 an antara 101-150. terdapat 15 antara 151-205. terdapat 20 an antara 206-250. terdapat 18 antara 251-305. terdapat 10 an antara 460-510 an**"
      ],
      "metadata": {
        "id": "eS4bJZhtY0S8"
      }
    },
    {
      "cell_type": "markdown",
      "source": [
        "# **8. KDE Plot (Kernel Density Estimate)**\n",
        "## **mewakili data menggunakan kurva kepadatan probabilitas kontinu dalam satu atau lebih dimensi. Cara non-parametrik untuk memperkirakan fungsi kepadatan probabilitas (PDF) dari variabel acak.**"
      ],
      "metadata": {
        "id": "7OFTkXADiror"
      }
    },
    {
      "cell_type": "code",
      "source": [
        "facet = sns.FacetGrid(user_data, hue=\"survived\",aspect=4)\n",
        "facet.map(sns.kdeplot,'age',shade= True)\n",
        "facet.set(xlim=(0, user_data['age'].max()))\n",
        "facet.add_legend()\n",
        " \n",
        "plt.show() "
      ],
      "metadata": {
        "colab": {
          "base_uri": "https://localhost:8080/",
          "height": 226
        },
        "id": "mKhxBOA_ixsv",
        "outputId": "7268ec50-bec8-4475-afff-95f8b5c269df"
      },
      "execution_count": 49,
      "outputs": [
        {
          "output_type": "display_data",
          "data": {
            "text/plain": [
              "<Figure size 914.875x216 with 1 Axes>"
            ],
            "image/png": "[encoded data removed]"
          },
          "metadata": {
            "needs_background": "light"
          }
        }
      ]
    },
    {
      "cell_type": "markdown",
      "source": [
        "## **dimana menampilkan density max age dengan survived. pada umur 0-15 survived 0 terdapat pada max 0,007. pada umur 61-77 max densitynya mencapai 0,003. pada survived 1 umur 16-33 max densitynya mencapai 0,033. pada umur 35-43 max densitynya mencapai 0,0018.**"
      ],
      "metadata": {
        "id": "bDSj8usIZnTm"
      }
    },
    {
      "cell_type": "code",
      "source": [
        "facet = sns.FacetGrid(user_data, hue=\"survived\",aspect=4)\n",
        "facet.map(sns.kdeplot,'fare',shade= True)\n",
        "facet.set(xlim=(0, user_data['fare'].max()))\n",
        "facet.add_legend()\n",
        " \n",
        "plt.show() "
      ],
      "metadata": {
        "colab": {
          "base_uri": "https://localhost:8080/",
          "height": 225
        },
        "id": "8Zrl11noi-N4",
        "outputId": "b81aecbb-a055-4f47-da47-3ad5af930b4f"
      },
      "execution_count": 50,
      "outputs": [
        {
          "output_type": "display_data",
          "data": {
            "text/plain": [
              "<Figure size 914.875x216 with 1 Axes>"
            ],
            "image/png": "[encoded data removed]"
          },
          "metadata": {
            "needs_background": "light"
          }
        }
      ]
    },
    {
      "cell_type": "markdown",
      "source": [
        "## **dimana menampilkan density max fare dengan survived. pada survived 0 fare 0-30 an max density nya 0,029. pada survived 1 max densitynya 0,009**"
      ],
      "metadata": {
        "id": "kPebQKoBaBvP"
      }
    },
    {
      "cell_type": "markdown",
      "source": [
        "#**Generate a heatmap for the feature correlations**"
      ],
      "metadata": {
        "id": "VlbEdpfMTQDt"
      }
    },
    {
      "cell_type": "markdown",
      "source": [
        "## **Heatmap merupakan pemetaan dengan menampilkan data dengan cara representasi warna yang berbeda-beda**"
      ],
      "metadata": {
        "id": "OQh_vXhHahxL"
      }
    },
    {
      "cell_type": "code",
      "source": [
        "corr_matrix=user_data.corr()\n",
        "corr_matrix"
      ],
      "metadata": {
        "colab": {
          "base_uri": "https://localhost:8080/",
          "height": 269
        },
        "id": "YFd_e-oqTWyl",
        "outputId": "846ce877-9790-4c8a-dfbe-3fb8436c4899"
      },
      "execution_count": 51,
      "outputs": [
        {
          "output_type": "execute_result",
          "data": {
            "text/plain": [
              "            pclass  survived       age     sibsp     parch      fare      body\n",
              "pclass    1.000000 -0.312469 -0.408106  0.060832  0.018322 -0.558629 -0.034642\n",
              "survived -0.312469  1.000000 -0.055512 -0.027825  0.082660  0.244265       NaN\n",
              "age      -0.408106 -0.055512  1.000000 -0.243699 -0.150917  0.178740  0.058809\n",
              "sibsp     0.060832 -0.027825 -0.243699  1.000000  0.373587  0.160238 -0.099961\n",
              "parch     0.018322  0.082660 -0.150917  0.373587  1.000000  0.221539  0.051099\n",
              "fare     -0.558629  0.244265  0.178740  0.160238  0.221539  1.000000 -0.043110\n",
              "body     -0.034642       NaN  0.058809 -0.099961  0.051099 -0.043110  1.000000"
            ],
            "text/html": [
              "\n",
              "  <div id=\"df-2c8bd492-a674-4e2b-ba83-f38f8561f91e\">\n",
              "    <div class=\"colab-df-container\">\n",
              "      <div>\n",
              "<style scoped>\n",
              "    .dataframe tbody tr th:only-of-type {\n",
              "        vertical-align: middle;\n",
              "    }\n",
              "\n",
              "    .dataframe tbody tr th {\n",
              "        vertical-align: top;\n",
              "    }\n",
              "\n",
              "    .dataframe thead th {\n",
              "        text-align: right;\n",
              "    }\n",
              "</style>\n",
              "<table border=\"1\" class=\"dataframe\">\n",
              "  <thead>\n",
              "    <tr style=\"text-align: right;\">\n",
              "      <th></th>\n",
              "      <th>pclass</th>\n",
              "      <th>survived</th>\n",
              "      <th>age</th>\n",
              "      <th>sibsp</th>\n",
              "      <th>parch</th>\n",
              "      <th>fare</th>\n",
              "      <th>body</th>\n",
              "    </tr>\n",
              "  </thead>\n",
              "  <tbody>\n",
              "    <tr>\n",
              "      <th>pclass</th>\n",
              "      <td>1.000000</td>\n",
              "      <td>-0.312469</td>\n",
              "      <td>-0.408106</td>\n",
              "      <td>0.060832</td>\n",
              "      <td>0.018322</td>\n",
              "      <td>-0.558629</td>\n",
              "      <td>-0.034642</td>\n",
              "    </tr>\n",
              "    <tr>\n",
              "      <th>survived</th>\n",
              "      <td>-0.312469</td>\n",
              "      <td>1.000000</td>\n",
              "      <td>-0.055512</td>\n",
              "      <td>-0.027825</td>\n",
              "      <td>0.082660</td>\n",
              "      <td>0.244265</td>\n",
              "      <td>NaN</td>\n",
              "    </tr>\n",
              "    <tr>\n",
              "      <th>age</th>\n",
              "      <td>-0.408106</td>\n",
              "      <td>-0.055512</td>\n",
              "      <td>1.000000</td>\n",
              "      <td>-0.243699</td>\n",
              "      <td>-0.150917</td>\n",
              "      <td>0.178740</td>\n",
              "      <td>0.058809</td>\n",
              "    </tr>\n",
              "    <tr>\n",
              "      <th>sibsp</th>\n",
              "      <td>0.060832</td>\n",
              "      <td>-0.027825</td>\n",
              "      <td>-0.243699</td>\n",
              "      <td>1.000000</td>\n",
              "      <td>0.373587</td>\n",
              "      <td>0.160238</td>\n",
              "      <td>-0.099961</td>\n",
              "    </tr>\n",
              "    <tr>\n",
              "      <th>parch</th>\n",
              "      <td>0.018322</td>\n",
              "      <td>0.082660</td>\n",
              "      <td>-0.150917</td>\n",
              "      <td>0.373587</td>\n",
              "      <td>1.000000</td>\n",
              "      <td>0.221539</td>\n",
              "      <td>0.051099</td>\n",
              "    </tr>\n",
              "    <tr>\n",
              "      <th>fare</th>\n",
              "      <td>-0.558629</td>\n",
              "      <td>0.244265</td>\n",
              "      <td>0.178740</td>\n",
              "      <td>0.160238</td>\n",
              "      <td>0.221539</td>\n",
              "      <td>1.000000</td>\n",
              "      <td>-0.043110</td>\n",
              "    </tr>\n",
              "    <tr>\n",
              "      <th>body</th>\n",
              "      <td>-0.034642</td>\n",
              "      <td>NaN</td>\n",
              "      <td>0.058809</td>\n",
              "      <td>-0.099961</td>\n",
              "      <td>0.051099</td>\n",
              "      <td>-0.043110</td>\n",
              "      <td>1.000000</td>\n",
              "    </tr>\n",
              "  </tbody>\n",
              "</table>\n",
              "</div>\n",
              "      <button class=\"colab-df-convert\" onclick=\"convertToInteractive('df-2c8bd492-a674-4e2b-ba83-f38f8561f91e')\"\n",
              "              title=\"Convert this dataframe to an interactive table.\"\n",
              "              style=\"display:none;\">\n",
              "        \n",
              "  <svg xmlns=\"http://www.w3.org/2000/svg\" height=\"24px\"viewBox=\"0 0 24 24\"\n",
              "       width=\"24px\">\n",
              "    <path d=\"M0 0h24v24H0V0z\" fill=\"none\"/>\n",
              "    <path d=\"M18.56 5.44l.94 2.06.94-2.06 2.06-.94-2.06-.94-.94-2.06-.94 2.06-2.06.94zm-11 1L8.5 8.5l.94-2.06 2.06-.94-2.06-.94L8.5 2.5l-.94 2.06-2.06.94zm10 10l.94 2.06.94-2.06 2.06-.94-2.06-.94-.94-2.06-.94 2.06-2.06.94z\"/><path d=\"M17.41 7.96l-1.37-1.37c-.4-.4-.92-.59-1.43-.59-.52 0-1.04.2-1.43.59L10.3 9.45l-7.72 7.72c-.78.78-.78 2.05 0 2.83L4 21.41c.39.39.9.59 1.41.59.51 0 1.02-.2 1.41-.59l7.78-7.78 2.81-2.81c.8-.78.8-2.07 0-2.86zM5.41 20L4 18.59l7.72-7.72 1.47 1.35L5.41 20z\"/>\n",
              "  </svg>\n",
              "      </button>\n",
              "      \n",
              "  <style>\n",
              "    .colab-df-container {\n",
              "      display:flex;\n",
              "      flex-wrap:wrap;\n",
              "      gap: 12px;\n",
              "    }\n",
              "\n",
              "    .colab-df-convert {\n",
              "      background-color: #E8F0FE;\n",
              "      border: none;\n",
              "      border-radius: 50%;\n",
              "      cursor: pointer;\n",
              "      display: none;\n",
              "      fill: #1967D2;\n",
              "      height: 32px;\n",
              "      padding: 0 0 0 0;\n",
              "      width: 32px;\n",
              "    }\n",
              "\n",
              "    .colab-df-convert:hover {\n",
              "      background-color: #E2EBFA;\n",
              "      box-shadow: 0px 1px 2px rgba(60, 64, 67, 0.3), 0px 1px 3px 1px rgba(60, 64, 67, 0.15);\n",
              "      fill: #174EA6;\n",
              "    }\n",
              "\n",
              "    [theme=dark] .colab-df-convert {\n",
              "      background-color: #3B4455;\n",
              "      fill: #D2E3FC;\n",
              "    }\n",
              "\n",
              "    [theme=dark] .colab-df-convert:hover {\n",
              "      background-color: #434B5C;\n",
              "      box-shadow: 0px 1px 3px 1px rgba(0, 0, 0, 0.15);\n",
              "      filter: drop-shadow(0px 1px 2px rgba(0, 0, 0, 0.3));\n",
              "      fill: #FFFFFF;\n",
              "    }\n",
              "  </style>\n",
              "\n",
              "      <script>\n",
              "        const buttonEl =\n",
              "          document.querySelector('#df-2c8bd492-a674-4e2b-ba83-f38f8561f91e button.colab-df-convert');\n",
              "        buttonEl.style.display =\n",
              "          google.colab.kernel.accessAllowed ? 'block' : 'none';\n",
              "\n",
              "        async function convertToInteractive(key) {\n",
              "          const element = document.querySelector('#df-2c8bd492-a674-4e2b-ba83-f38f8561f91e');\n",
              "          const dataTable =\n",
              "            await google.colab.kernel.invokeFunction('convertToInteractive',\n",
              "                                                     [key], {});\n",
              "          if (!dataTable) return;\n",
              "\n",
              "          const docLinkHtml = 'Like what you see? Visit the ' +\n",
              "            '<a target=\"_blank\" href=https://colab.research.google.com/notebooks/data_table.ipynb>data table notebook</a>'\n",
              "            + ' to learn more about interactive tables.';\n",
              "          element.innerHTML = '';\n",
              "          dataTable['output_type'] = 'display_data';\n",
              "          await google.colab.output.renderOutput(dataTable, element);\n",
              "          const docLink = document.createElement('div');\n",
              "          docLink.innerHTML = docLinkHtml;\n",
              "          element.appendChild(docLink);\n",
              "        }\n",
              "      </script>\n",
              "    </div>\n",
              "  </div>\n",
              "  "
            ]
          },
          "metadata": {},
          "execution_count": 51
        }
      ]
    },
    {
      "cell_type": "markdown",
      "source": [
        "## **menampilkan korelasi yang tipe datanya numerik**"
      ],
      "metadata": {
        "id": "DiXbY4BxamY_"
      }
    },
    {
      "cell_type": "code",
      "source": [
        "fig = plt.figure(figsize=(10,7.5))\n",
        "sns.heatmap(corr_matrix);"
      ],
      "metadata": {
        "colab": {
          "base_uri": "https://localhost:8080/",
          "height": 460
        },
        "id": "88iILjPxT6ev",
        "outputId": "15bc09f0-6248-41bf-f5c0-1ad4a966987c"
      },
      "execution_count": 52,
      "outputs": [
        {
          "output_type": "display_data",
          "data": {
            "text/plain": [
              "<Figure size 720x540 with 2 Axes>"
            ],
            "image/png": "[encoded data removed]"
          },
          "metadata": {
            "needs_background": "light"
          }
        }
      ]
    },
    {
      "cell_type": "markdown",
      "source": [
        "## **Format the heatmap to make it easier to read**"
      ],
      "metadata": {
        "id": "NeCuMN6BUgS8"
      }
    },
    {
      "cell_type": "code",
      "source": [
        "fig = plt.figure(figsize=(10, 7.5))\n",
        "\n",
        "sns.heatmap(corr_matrix,\n",
        "           cmap='seismic',\n",
        "            linewidths=0.75,\n",
        "            linecolor='black',\n",
        "            cbar=True,\n",
        "            vmin=-1,\n",
        "            vmax=1,\n",
        "            annot=True,\n",
        "            annot_kws={'size':8, 'color': 'black'}) #besar tulisan dalam kotak\n",
        "plt.tick_params(labelsize=10, rotation=45)\n",
        "plt.title('Correlation Plot', size = 14);\n",
        "\n",
        "# maksud dari diagonal(ygn warna merah marun, korelasi pada dirinya sendiri.\n",
        "# maksud dari term duration dan term deposit warnanya merah merekah, karena korelasi nya tinggi"
      ],
      "metadata": {
        "colab": {
          "base_uri": "https://localhost:8080/",
          "height": 500
        },
        "id": "s3WzhmNXUj49",
        "outputId": "4fc64d15-205c-4e2d-9721-62042adf7063"
      },
      "execution_count": 53,
      "outputs": [
        {
          "output_type": "display_data",
          "data": {
            "text/plain": [
              "<Figure size 720x540 with 2 Axes>"
            ],
            "image/png": "[encoded data removed]"
          },
          "metadata": {
            "needs_background": "light"
          }
        }
      ]
    },
    {
      "cell_type": "code",
      "source": [
        "sns.heatmap(user_data.corr(), cmap=\"YlGnBu\")\n",
        "plt.show()"
      ],
      "metadata": {
        "colab": {
          "base_uri": "https://localhost:8080/",
          "height": 269
        },
        "id": "KiF0ceejfr4f",
        "outputId": "7b8148b5-7f2d-46cf-d918-7a1196b14caf"
      },
      "execution_count": 54,
      "outputs": [
        {
          "output_type": "display_data",
          "data": {
            "text/plain": [
              "<Figure size 432x288 with 2 Axes>"
            ],
            "image/png": "[encoded data removed]"
          },
          "metadata": {
            "needs_background": "light"
          }
        }
      ]
    },
    {
      "cell_type": "markdown",
      "source": [
        "### **Mengisi Missing Value**"
      ],
      "metadata": {
        "id": "cKTsKkNafvtY"
      }
    },
    {
      "cell_type": "code",
      "source": [
        "user_data.shape"
      ],
      "metadata": {
        "colab": {
          "base_uri": "https://localhost:8080/",
          "height": 0
        },
        "id": "0dAjHcuSurhh",
        "outputId": "050bb251-d00e-4ee1-94fa-fe28a0535ca9"
      },
      "execution_count": 55,
      "outputs": [
        {
          "output_type": "execute_result",
          "data": {
            "text/plain": [
              "(1309, 15)"
            ]
          },
          "metadata": {},
          "execution_count": 55
        }
      ]
    },
    {
      "cell_type": "code",
      "source": [
        "user_data.isnull().sum()"
      ],
      "metadata": {
        "colab": {
          "base_uri": "https://localhost:8080/",
          "height": 0
        },
        "id": "AwsrBqrOU-0I",
        "outputId": "b6ee5a9e-52d2-478e-a4a6-1045825fedb1"
      },
      "execution_count": 56,
      "outputs": [
        {
          "output_type": "execute_result",
          "data": {
            "text/plain": [
              "user_id         0\n",
              "pclass          0\n",
              "survived        0\n",
              "name            0\n",
              "sex             0\n",
              "age           263\n",
              "sibsp           0\n",
              "parch           0\n",
              "ticket          0\n",
              "fare            1\n",
              "cabin        1014\n",
              "embarked        2\n",
              "boat          823\n",
              "body         1188\n",
              "home.dest     564\n",
              "dtype: int64"
            ]
          },
          "metadata": {},
          "execution_count": 56
        }
      ]
    },
    {
      "cell_type": "markdown",
      "source": [
        "## **disini terdapat missing value sebanyak 7 dan nilai nya dijumlahkan**"
      ],
      "metadata": {
        "id": "dlpSe-FReEe3"
      }
    },
    {
      "cell_type": "markdown",
      "metadata": {
        "id": "zeLbL-jRz2KK"
      },
      "source": [
        "##**Identify the percentage of missing values for each feature**"
      ]
    },
    {
      "cell_type": "code",
      "execution_count": 57,
      "metadata": {
        "id": "eAHLCuS_z4qw",
        "colab": {
          "base_uri": "https://localhost:8080/",
          "height": 0
        },
        "outputId": "c1368305-1ac3-4019-ed4f-becbeebed854"
      },
      "outputs": [
        {
          "output_type": "execute_result",
          "data": {
            "text/plain": [
              "user_id      0.000000\n",
              "pclass       0.000000\n",
              "survived     0.000000\n",
              "name         0.000000\n",
              "sex          0.000000\n",
              "age          0.200917\n",
              "sibsp        0.000000\n",
              "parch        0.000000\n",
              "ticket       0.000000\n",
              "fare         0.000764\n",
              "cabin        0.774637\n",
              "embarked     0.001528\n",
              "boat         0.628724\n",
              "body         0.907563\n",
              "home.dest    0.430863\n",
              "dtype: float64"
            ]
          },
          "metadata": {},
          "execution_count": 57
        }
      ],
      "source": [
        "percent_missing = user_data.isnull().mean()\n",
        "percent_missing"
      ]
    },
    {
      "cell_type": "markdown",
      "source": [
        "## **menampilkan rata-rata dari setiap kolom menggunakan persen sehingga diketahui missing valuenya ada 7**"
      ],
      "metadata": {
        "id": "t-yW7Dxjh9HJ"
      }
    },
    {
      "cell_type": "markdown",
      "metadata": {
        "id": "IOSZxR__z4ER"
      },
      "source": [
        "##**Generate a missing value report**"
      ]
    },
    {
      "cell_type": "code",
      "execution_count": 58,
      "metadata": {
        "id": "C6TFuJixz8nC"
      },
      "outputs": [],
      "source": [
        "def missing_value_pct_df(data):\n",
        "    \"\"\"Create a DataFrame to summarize missing values.\"\"\"\n",
        "    percent_missing = data.isnull().mean()\n",
        "    missing_value_df = pd.DataFrame(percent_missing).reset_index()\n",
        "    missing_value_df = missing_value_df.rename(columns = {'index': 'column_name',\n",
        "    0: 'percent_missing'})\n",
        "    # Multiply by 100 and round to 2 decimal places.\n",
        "    missing_value_df['percent_missing'] = missing_value_df['percent_missing'].apply(lambda x: round(x * 100, 2))\n",
        "    missing_value_df = missing_value_df.sort_values(by = ['percent_missing'],ascending = False)\n",
        "    return missing_value_df"
      ]
    },
    {
      "cell_type": "code",
      "execution_count": 59,
      "metadata": {
        "id": "AbMLFV-9z_s1",
        "colab": {
          "base_uri": "https://localhost:8080/",
          "height": 520
        },
        "outputId": "5078190b-71da-4254-c05c-2dcce948ac65"
      },
      "outputs": [
        {
          "output_type": "execute_result",
          "data": {
            "text/plain": [
              "   column_name  percent_missing\n",
              "13        body            90.76\n",
              "10       cabin            77.46\n",
              "12        boat            62.87\n",
              "14   home.dest            43.09\n",
              "5          age            20.09\n",
              "11    embarked             0.15\n",
              "9         fare             0.08\n",
              "0      user_id             0.00\n",
              "1       pclass             0.00\n",
              "2     survived             0.00\n",
              "3         name             0.00\n",
              "4          sex             0.00\n",
              "6        sibsp             0.00\n",
              "7        parch             0.00\n",
              "8       ticket             0.00"
            ],
            "text/html": [
              "\n",
              "  <div id=\"df-b44bca83-7586-4671-9e0a-2112e314b340\">\n",
              "    <div class=\"colab-df-container\">\n",
              "      <div>\n",
              "<style scoped>\n",
              "    .dataframe tbody tr th:only-of-type {\n",
              "        vertical-align: middle;\n",
              "    }\n",
              "\n",
              "    .dataframe tbody tr th {\n",
              "        vertical-align: top;\n",
              "    }\n",
              "\n",
              "    .dataframe thead th {\n",
              "        text-align: right;\n",
              "    }\n",
              "</style>\n",
              "<table border=\"1\" class=\"dataframe\">\n",
              "  <thead>\n",
              "    <tr style=\"text-align: right;\">\n",
              "      <th></th>\n",
              "      <th>column_name</th>\n",
              "      <th>percent_missing</th>\n",
              "    </tr>\n",
              "  </thead>\n",
              "  <tbody>\n",
              "    <tr>\n",
              "      <th>13</th>\n",
              "      <td>body</td>\n",
              "      <td>90.76</td>\n",
              "    </tr>\n",
              "    <tr>\n",
              "      <th>10</th>\n",
              "      <td>cabin</td>\n",
              "      <td>77.46</td>\n",
              "    </tr>\n",
              "    <tr>\n",
              "      <th>12</th>\n",
              "      <td>boat</td>\n",
              "      <td>62.87</td>\n",
              "    </tr>\n",
              "    <tr>\n",
              "      <th>14</th>\n",
              "      <td>home.dest</td>\n",
              "      <td>43.09</td>\n",
              "    </tr>\n",
              "    <tr>\n",
              "      <th>5</th>\n",
              "      <td>age</td>\n",
              "      <td>20.09</td>\n",
              "    </tr>\n",
              "    <tr>\n",
              "      <th>11</th>\n",
              "      <td>embarked</td>\n",
              "      <td>0.15</td>\n",
              "    </tr>\n",
              "    <tr>\n",
              "      <th>9</th>\n",
              "      <td>fare</td>\n",
              "      <td>0.08</td>\n",
              "    </tr>\n",
              "    <tr>\n",
              "      <th>0</th>\n",
              "      <td>user_id</td>\n",
              "      <td>0.00</td>\n",
              "    </tr>\n",
              "    <tr>\n",
              "      <th>1</th>\n",
              "      <td>pclass</td>\n",
              "      <td>0.00</td>\n",
              "    </tr>\n",
              "    <tr>\n",
              "      <th>2</th>\n",
              "      <td>survived</td>\n",
              "      <td>0.00</td>\n",
              "    </tr>\n",
              "    <tr>\n",
              "      <th>3</th>\n",
              "      <td>name</td>\n",
              "      <td>0.00</td>\n",
              "    </tr>\n",
              "    <tr>\n",
              "      <th>4</th>\n",
              "      <td>sex</td>\n",
              "      <td>0.00</td>\n",
              "    </tr>\n",
              "    <tr>\n",
              "      <th>6</th>\n",
              "      <td>sibsp</td>\n",
              "      <td>0.00</td>\n",
              "    </tr>\n",
              "    <tr>\n",
              "      <th>7</th>\n",
              "      <td>parch</td>\n",
              "      <td>0.00</td>\n",
              "    </tr>\n",
              "    <tr>\n",
              "      <th>8</th>\n",
              "      <td>ticket</td>\n",
              "      <td>0.00</td>\n",
              "    </tr>\n",
              "  </tbody>\n",
              "</table>\n",
              "</div>\n",
              "      <button class=\"colab-df-convert\" onclick=\"convertToInteractive('df-b44bca83-7586-4671-9e0a-2112e314b340')\"\n",
              "              title=\"Convert this dataframe to an interactive table.\"\n",
              "              style=\"display:none;\">\n",
              "        \n",
              "  <svg xmlns=\"http://www.w3.org/2000/svg\" height=\"24px\"viewBox=\"0 0 24 24\"\n",
              "       width=\"24px\">\n",
              "    <path d=\"M0 0h24v24H0V0z\" fill=\"none\"/>\n",
              "    <path d=\"M18.56 5.44l.94 2.06.94-2.06 2.06-.94-2.06-.94-.94-2.06-.94 2.06-2.06.94zm-11 1L8.5 8.5l.94-2.06 2.06-.94-2.06-.94L8.5 2.5l-.94 2.06-2.06.94zm10 10l.94 2.06.94-2.06 2.06-.94-2.06-.94-.94-2.06-.94 2.06-2.06.94z\"/><path d=\"M17.41 7.96l-1.37-1.37c-.4-.4-.92-.59-1.43-.59-.52 0-1.04.2-1.43.59L10.3 9.45l-7.72 7.72c-.78.78-.78 2.05 0 2.83L4 21.41c.39.39.9.59 1.41.59.51 0 1.02-.2 1.41-.59l7.78-7.78 2.81-2.81c.8-.78.8-2.07 0-2.86zM5.41 20L4 18.59l7.72-7.72 1.47 1.35L5.41 20z\"/>\n",
              "  </svg>\n",
              "      </button>\n",
              "      \n",
              "  <style>\n",
              "    .colab-df-container {\n",
              "      display:flex;\n",
              "      flex-wrap:wrap;\n",
              "      gap: 12px;\n",
              "    }\n",
              "\n",
              "    .colab-df-convert {\n",
              "      background-color: #E8F0FE;\n",
              "      border: none;\n",
              "      border-radius: 50%;\n",
              "      cursor: pointer;\n",
              "      display: none;\n",
              "      fill: #1967D2;\n",
              "      height: 32px;\n",
              "      padding: 0 0 0 0;\n",
              "      width: 32px;\n",
              "    }\n",
              "\n",
              "    .colab-df-convert:hover {\n",
              "      background-color: #E2EBFA;\n",
              "      box-shadow: 0px 1px 2px rgba(60, 64, 67, 0.3), 0px 1px 3px 1px rgba(60, 64, 67, 0.15);\n",
              "      fill: #174EA6;\n",
              "    }\n",
              "\n",
              "    [theme=dark] .colab-df-convert {\n",
              "      background-color: #3B4455;\n",
              "      fill: #D2E3FC;\n",
              "    }\n",
              "\n",
              "    [theme=dark] .colab-df-convert:hover {\n",
              "      background-color: #434B5C;\n",
              "      box-shadow: 0px 1px 3px 1px rgba(0, 0, 0, 0.15);\n",
              "      filter: drop-shadow(0px 1px 2px rgba(0, 0, 0, 0.3));\n",
              "      fill: #FFFFFF;\n",
              "    }\n",
              "  </style>\n",
              "\n",
              "      <script>\n",
              "        const buttonEl =\n",
              "          document.querySelector('#df-b44bca83-7586-4671-9e0a-2112e314b340 button.colab-df-convert');\n",
              "        buttonEl.style.display =\n",
              "          google.colab.kernel.accessAllowed ? 'block' : 'none';\n",
              "\n",
              "        async function convertToInteractive(key) {\n",
              "          const element = document.querySelector('#df-b44bca83-7586-4671-9e0a-2112e314b340');\n",
              "          const dataTable =\n",
              "            await google.colab.kernel.invokeFunction('convertToInteractive',\n",
              "                                                     [key], {});\n",
              "          if (!dataTable) return;\n",
              "\n",
              "          const docLinkHtml = 'Like what you see? Visit the ' +\n",
              "            '<a target=\"_blank\" href=https://colab.research.google.com/notebooks/data_table.ipynb>data table notebook</a>'\n",
              "            + ' to learn more about interactive tables.';\n",
              "          element.innerHTML = '';\n",
              "          dataTable['output_type'] = 'display_data';\n",
              "          await google.colab.output.renderOutput(dataTable, element);\n",
              "          const docLink = document.createElement('div');\n",
              "          docLink.innerHTML = docLinkHtml;\n",
              "          element.appendChild(docLink);\n",
              "        }\n",
              "      </script>\n",
              "    </div>\n",
              "  </div>\n",
              "  "
            ]
          },
          "metadata": {},
          "execution_count": 59
        }
      ],
      "source": [
        "missing_value_df = missing_value_pct_df(user_data)\n",
        "missing_value_df"
      ]
    },
    {
      "cell_type": "markdown",
      "source": [
        "# **Menampilkan missing value dengan persen dari yang paling besar ke yang paling kecil**"
      ],
      "metadata": {
        "id": "tn04WRAtiwx-"
      }
    },
    {
      "cell_type": "markdown",
      "metadata": {
        "id": "GJUo2_l81xfQ"
      },
      "source": [
        "# **bold text**##Remove features with a high percentage of missing values"
      ]
    },
    {
      "cell_type": "code",
      "execution_count": 60,
      "metadata": {
        "id": "fN88PZps10OZ",
        "colab": {
          "base_uri": "https://localhost:8080/",
          "height": 0
        },
        "outputId": "0a4fc6bc-34ff-49a6-9973-2c29d6ca4dee"
      },
      "outputs": [
        {
          "output_type": "stream",
          "name": "stdout",
          "text": [
            "Number of features to drop: 1\n",
            "Features with missing values greater than 80%: ['body']\n"
          ]
        }
      ],
      "source": [
        "# Threshold above which to drop feature.\n",
        "threshold = 80\n",
        "cols_to_drop = list(missing_value_df[missing_value_df['percent_missing'] \\\n",
        "> threshold]['column_name'])\n",
        "print('Number of features to drop:',\n",
        "missing_value_df[missing_value_df['percent_missing'] > threshold].shape[0])\n",
        "print(f'Features with missing values greater than {threshold}%:',cols_to_drop)"
      ]
    },
    {
      "cell_type": "markdown",
      "source": [
        "Disini menghapus kolom yang missing valuenya besar dari 80. sehingga kolom body akan dihapus"
      ],
      "metadata": {
        "id": "oMe-bLNCjDqK"
      }
    },
    {
      "cell_type": "code",
      "execution_count": 61,
      "metadata": {
        "id": "2WPah0JM11_4"
      },
      "outputs": [],
      "source": [
        "user_data_cleaned = user_data.drop(cols_to_drop, axis = 1)"
      ]
    },
    {
      "cell_type": "markdown",
      "source": [
        "## **Fungsi drop() digunakan untuk menghapus label tertentu dari baris atau kolom.**\n",
        "\n",
        "## **Hapus baris atau kolom dengan menentukan nama label dan sumbu yang sesuai, atau dengan menentukan langsung indeks atau nama kolom dengan menghapus label dari indeks 1**"
      ],
      "metadata": {
        "id": "PqPXciwfl3vA"
      }
    },
    {
      "cell_type": "code",
      "execution_count": 62,
      "metadata": {
        "id": "bMDLOpR_14oy",
        "colab": {
          "base_uri": "https://localhost:8080/",
          "height": 0
        },
        "outputId": "b272e82e-2e5c-4478-d1a7-60e3805fff1b"
      },
      "outputs": [
        {
          "output_type": "stream",
          "name": "stdout",
          "text": [
            "Number of features with missing values: 6\n"
          ]
        }
      ],
      "source": [
        "# Confirm feature was dropped.\n",
        "# Kemudian mengecek kembali apakah drop value tadi sudah tidak ada\n",
        "missing_value_df = missing_value_pct_df(user_data_cleaned)\n",
        "missing_columns = list(missing_value_df[missing_value_df['percent_missing'] \\\n",
        "> 0]['column_name'])\n",
        "print('Number of features with missing values:',len(missing_columns))"
      ]
    },
    {
      "cell_type": "markdown",
      "metadata": {
        "id": "hCjKqFYI150H"
      },
      "source": [
        "##**Identify numerical data with missing values**"
      ]
    },
    {
      "cell_type": "code",
      "execution_count": 63,
      "metadata": {
        "id": "DOf6akO818e-",
        "colab": {
          "base_uri": "https://localhost:8080/",
          "height": 0
        },
        "outputId": "c0de4543-0bcb-489a-9923-d4a0167f3864"
      },
      "outputs": [
        {
          "output_type": "stream",
          "name": "stdout",
          "text": [
            "Numerical features with missing values: ['age', 'fare']\n"
          ]
        }
      ],
      "source": [
        "dtypes = ['int64', 'float64']\n",
        "numerical_columns = list(user_data_cleaned.select_dtypes(dtypes).columns)\n",
        "print('Numerical features with missing values:',\n",
        "list(set(numerical_columns).intersection(missing_columns)))"
      ]
    },
    {
      "cell_type": "markdown",
      "source": [
        "## **disini menampilkan missing value yang numerical seperti int64 dan float64**"
      ],
      "metadata": {
        "id": "KfIX9-hzlPrI"
      }
    },
    {
      "cell_type": "markdown",
      "metadata": {
        "id": "rsnKcby02DAm"
      },
      "source": [
        "##**Impute missing data values for age**"
      ]
    },
    {
      "cell_type": "code",
      "execution_count": 64,
      "metadata": {
        "id": "DE-gqv7H2NVO",
        "colab": {
          "base_uri": "https://localhost:8080/",
          "height": 0
        },
        "outputId": "da782641-541b-4a30-d846-64a06901a097"
      },
      "outputs": [
        {
          "output_type": "execute_result",
          "data": {
            "text/plain": [
              "672    M0673\n",
              "Name: user_id, dtype: object"
            ]
          },
          "metadata": {},
          "execution_count": 64
        }
      ],
      "source": [
        "# Find a sample user with missing value\n",
        "sample_user = user_data_cleaned[user_data_cleaned['age']. \\\n",
        "isnull()].sample(1).user_id\n",
        "sample_user"
      ]
    },
    {
      "cell_type": "markdown",
      "source": [
        "## **Menampilkan sample_user dengan user_data_cleaned dengan fungsi isnull( ) memberikan nilai sample dengan menggunakan user_id**"
      ],
      "metadata": {
        "id": "0_W9boetmT7k"
      }
    },
    {
      "cell_type": "code",
      "execution_count": 65,
      "metadata": {
        "id": "d6ArnuQ_2HrX",
        "colab": {
          "base_uri": "https://localhost:8080/",
          "height": 0
        },
        "outputId": "8ade2690-8deb-4746-8abd-29ba44c7a27a"
      },
      "outputs": [
        {
          "output_type": "stream",
          "name": "stdout",
          "text": [
            "Mean age: 29.88\n"
          ]
        }
      ],
      "source": [
        "# Print mean of age.\n",
        "print('Mean age:',round(user_data_cleaned['age'].mean(), 2))\n",
        "# Impute missing values for age with mean.\n",
        "user_data_cleaned['age'].fillna(round(user_data_cleaned['age'].mean(),2),\n",
        "inplace = True)"
      ]
    },
    {
      "cell_type": "markdown",
      "source": [
        "## **Menampilkan rata-rata age**"
      ],
      "metadata": {
        "id": "qXLfHFOZljvT"
      }
    },
    {
      "cell_type": "code",
      "execution_count": 66,
      "metadata": {
        "id": "2JA6z_Go2Q4L",
        "colab": {
          "base_uri": "https://localhost:8080/",
          "height": 0
        },
        "outputId": "3a0b5e64-dd05-4c37-d83c-6d999c8709b9"
      },
      "outputs": [
        {
          "output_type": "execute_result",
          "data": {
            "text/plain": [
              "672    29.88\n",
              "Name: age, dtype: float64"
            ]
          },
          "metadata": {},
          "execution_count": 66
        }
      ],
      "source": [
        "user_data_cleaned[user_data_cleaned.user_id.isin(sample_user)]['age']"
      ]
    },
    {
      "cell_type": "markdown",
      "metadata": {
        "id": "QESuWsAW5wgo"
      },
      "source": [
        "##**Replace missing values for Fare with 0**"
      ]
    },
    {
      "cell_type": "code",
      "execution_count": 67,
      "metadata": {
        "id": "mk_JLdXl53pB"
      },
      "outputs": [],
      "source": [
        "user_data_cleaned['fare'].fillna(0, inplace = True)"
      ]
    },
    {
      "cell_type": "code",
      "execution_count": 68,
      "metadata": {
        "id": "bB-isONt56bw",
        "colab": {
          "base_uri": "https://localhost:8080/",
          "height": 0
        },
        "outputId": "3f479065-6de5-4254-bf8d-3d1c1d4a4309"
      },
      "outputs": [
        {
          "output_type": "execute_result",
          "data": {
            "text/plain": [
              "672    7.2292\n",
              "Name: fare, dtype: float64"
            ]
          },
          "metadata": {},
          "execution_count": 68
        }
      ],
      "source": [
        "user_data_cleaned[user_data_cleaned.user_id.isin(sample_user)]['fare']"
      ]
    },
    {
      "cell_type": "markdown",
      "metadata": {
        "id": "qWeNr7uU58qs"
      },
      "source": [
        "##**Identify categorical data with missing values**"
      ]
    },
    {
      "cell_type": "code",
      "execution_count": 69,
      "metadata": {
        "id": "AMvwJ69c59xb",
        "colab": {
          "base_uri": "https://localhost:8080/",
          "height": 0
        },
        "outputId": "29aa18eb-1ef2-4409-a8dd-fa8fc496cfe1"
      },
      "outputs": [
        {
          "output_type": "stream",
          "name": "stdout",
          "text": [
            "Categorical features with missing values: ['home.dest', 'cabin', 'boat', 'embarked']\n"
          ]
        }
      ],
      "source": [
        "categorical_columns = list(user_data_cleaned.select_dtypes(['object']).columns)\n",
        "print('Categorical features with missing values:',\n",
        "list(set(categorical_columns).intersection(missing_columns)))"
      ]
    },
    {
      "cell_type": "markdown",
      "source": [
        "## **Menampilkan missing value yang kategorical kolomnya tipe datanya object yaitu home.dest, cabin, embarked, dan juga boat**"
      ],
      "metadata": {
        "id": "MOV3qvYBmrNg"
      }
    },
    {
      "cell_type": "markdown",
      "metadata": {
        "id": "tactgwaE5_et"
      },
      "source": [
        "##**Replace categorical missing values with 'Unknown'**"
      ]
    },
    {
      "cell_type": "code",
      "execution_count": 70,
      "metadata": {
        "id": "XZfnyzE26DQ5"
      },
      "outputs": [],
      "source": [
        "user_data_cleaned.cabin.fillna('Unknown', inplace = True)\n",
        "user_data_cleaned.boat.fillna('Unknown', inplace = True)\n",
        "user_data_cleaned.embarked.fillna('Unknown', inplace = True)"
      ]
    },
    {
      "cell_type": "markdown",
      "source": [
        "##**mengganti missing value dengan nilai unknown dari cabin, boat, dan embarked**"
      ],
      "metadata": {
        "id": "lSuQMOgEnXzO"
      }
    },
    {
      "cell_type": "code",
      "execution_count": 71,
      "metadata": {
        "id": "x2mnD4su6GJN",
        "colab": {
          "base_uri": "https://localhost:8080/",
          "height": 0
        },
        "outputId": "9cadb3ec-c55a-4441-afd5-fb606474a316"
      },
      "outputs": [
        {
          "output_type": "execute_result",
          "data": {
            "text/plain": [
              "Unknown            1014\n",
              "C23 C25 C27           6\n",
              "G6                    5\n",
              "B57 B59 B63 B66       5\n",
              "C22 C26               4\n",
              "                   ... \n",
              "E63                   1\n",
              "B102                  1\n",
              "B39                   1\n",
              "D40                   1\n",
              "F38                   1\n",
              "Name: cabin, Length: 187, dtype: int64"
            ]
          },
          "metadata": {},
          "execution_count": 71
        }
      ],
      "source": [
        "user_data_cleaned.cabin.value_counts()"
      ]
    },
    {
      "cell_type": "markdown",
      "source": [
        "##**menampilkan nilai unknown dari cabin**"
      ],
      "metadata": {
        "id": "m1NA0VernLiD"
      }
    },
    {
      "cell_type": "markdown",
      "metadata": {
        "id": "-68XlYBb6HY-"
      },
      "source": [
        "##**Check if there are any other missing values**"
      ]
    },
    {
      "cell_type": "code",
      "execution_count": 72,
      "metadata": {
        "id": "Eqt3o_bx6JJN",
        "colab": {
          "base_uri": "https://localhost:8080/",
          "height": 0
        },
        "outputId": "378bcb35-7f61-4488-8381-b67506be5b56"
      },
      "outputs": [
        {
          "output_type": "stream",
          "name": "stdout",
          "text": [
            "Number of features with missing values: 1\n",
            "Features with missing values: ['home.dest']\n"
          ]
        }
      ],
      "source": [
        "missing_value_df = missing_value_pct_df(user_data_cleaned)\n",
        "missing_columns = list(missing_value_df[missing_value_df['percent_missing'] \\\n",
        "> 0]['column_name'])\n",
        "print('Number of features with missing values:', len(missing_columns))\n",
        "print('Features with missing values:', missing_columns)"
      ]
    },
    {
      "cell_type": "markdown",
      "source": [
        "## **Mengecek kembali apakah masih ada yang missing value. yaitu masih ada 1 home.dest**"
      ],
      "metadata": {
        "id": "ANiLjtBsnloL"
      }
    },
    {
      "cell_type": "markdown",
      "metadata": {
        "id": "v8_Rx6pU6LVE"
      },
      "source": [
        "##**Remove all rows where home.dist is missing**"
      ]
    },
    {
      "cell_type": "code",
      "execution_count": 73,
      "metadata": {
        "id": "e5jFGUmk6Mx0",
        "colab": {
          "base_uri": "https://localhost:8080/",
          "height": 0
        },
        "outputId": "73332b3f-96cd-4ded-c3f1-2e5b48dfa857"
      },
      "outputs": [
        {
          "output_type": "stream",
          "name": "stdout",
          "text": [
            "Number of users with corrupted data: 564\n"
          ]
        }
      ],
      "source": [
        "print('Number of users with corrupted data:',\n",
        "user_data_cleaned[user_data_cleaned['home.dest']. \\\n",
        "isnull()].shape[0])"
      ]
    },
    {
      "cell_type": "code",
      "execution_count": 74,
      "metadata": {
        "id": "qXEd5hDY6PE-"
      },
      "outputs": [],
      "source": [
        "# Remove corrupted data.\n",
        "users_data_cleaned = \\\n",
        "user_data_cleaned[~user_data_cleaned['home.dest'].isnull()]"
      ]
    },
    {
      "cell_type": "markdown",
      "source": [
        "## **Menghapus corrupte data pada kolom home.dest yang nilainya null**"
      ],
      "metadata": {
        "id": "Wt9wOW3kn7-a"
      }
    },
    {
      "cell_type": "code",
      "execution_count": 75,
      "metadata": {
        "id": "Idk7pSt46RNo",
        "colab": {
          "base_uri": "https://localhost:8080/",
          "height": 0
        },
        "outputId": "0535c187-2895-4a07-d478-ba5ab8f61ff1"
      },
      "outputs": [
        {
          "output_type": "stream",
          "name": "stdout",
          "text": [
            "Number of users with corrupted data: 564\n"
          ]
        }
      ],
      "source": [
        "# Check to see if any corrupted rows remain.\n",
        "print('Number of users with corrupted data:',\n",
        "user_data_cleaned[user_data_cleaned['home.dest']. \\\n",
        "isnull()].shape[0])"
      ]
    },
    {
      "cell_type": "markdown",
      "metadata": {
        "id": "emex-3Nq6WIN"
      },
      "source": [
        "##**Perform one last check for missing values**"
      ]
    },
    {
      "cell_type": "code",
      "execution_count": 76,
      "metadata": {
        "id": "6x34KzpD6Yd4",
        "colab": {
          "base_uri": "https://localhost:8080/",
          "height": 0
        },
        "outputId": "04fcb6c7-3535-428e-d176-140b28a1f5d5"
      },
      "outputs": [
        {
          "output_type": "stream",
          "name": "stdout",
          "text": [
            "Number of features with missing values: 1\n"
          ]
        }
      ],
      "source": [
        "missing_value_df = missing_value_pct_df(user_data_cleaned)\n",
        "missing_columns = \\\n",
        "list(missing_value_df[missing_value_df['percent_missing'] \\\n",
        "> 0]['column_name'])\n",
        "print('Number of features with missing values:',\n",
        "len(missing_columns))"
      ]
    },
    {
      "cell_type": "code",
      "source": [
        "user_data.isnull().sum()"
      ],
      "metadata": {
        "colab": {
          "base_uri": "https://localhost:8080/",
          "height": 0
        },
        "id": "Wrk3ieZRvNcS",
        "outputId": "118e8143-8004-40f3-8697-2345d840cb3b"
      },
      "execution_count": 77,
      "outputs": [
        {
          "output_type": "execute_result",
          "data": {
            "text/plain": [
              "user_id         0\n",
              "pclass          0\n",
              "survived        0\n",
              "name            0\n",
              "sex             0\n",
              "age           263\n",
              "sibsp           0\n",
              "parch           0\n",
              "ticket          0\n",
              "fare            1\n",
              "cabin        1014\n",
              "embarked        2\n",
              "boat          823\n",
              "body         1188\n",
              "home.dest     564\n",
              "dtype: int64"
            ]
          },
          "metadata": {},
          "execution_count": 77
        }
      ]
    },
    {
      "cell_type": "markdown",
      "source": [
        "## **Kemudian masih ada 7 yang masih missing value**"
      ],
      "metadata": {
        "id": "wOAAfcsMoPJu"
      }
    },
    {
      "cell_type": "markdown",
      "source": [
        "### **Missing Value Data Age**"
      ],
      "metadata": {
        "id": "74mDPuGZzWrc"
      }
    },
    {
      "cell_type": "code",
      "source": [
        "user_data[user_data['age'].isnull()]"
      ],
      "metadata": {
        "colab": {
          "base_uri": "https://localhost:8080/",
          "height": 424
        },
        "id": "QcQQe2d3x8YY",
        "outputId": "c58ebf98-55c2-46ff-a7ab-30cae4fd254e"
      },
      "execution_count": 78,
      "outputs": [
        {
          "output_type": "execute_result",
          "data": {
            "text/plain": [
              "     user_id  pclass  survived  \\\n",
              "15     M0016       1         0   \n",
              "37     M0038       1         1   \n",
              "40     M0041       1         0   \n",
              "46     M0047       1         0   \n",
              "59     M0060       1         1   \n",
              "...      ...     ...       ...   \n",
              "1293   M1294       3         0   \n",
              "1297   M1298       3         0   \n",
              "1302   M1303       3         0   \n",
              "1303   M1304       3         0   \n",
              "1305   M1306       3         0   \n",
              "\n",
              "                                                   name     sex  age  sibsp  \\\n",
              "15                                  Baumann, Mr. John D    male  NaN      0   \n",
              "37        Bradley, Mr. George (\"George Arthur Brayton\")    male  NaN      0   \n",
              "40                            Brewe, Dr. Arthur Jackson    male  NaN      0   \n",
              "46                                Cairns, Mr. Alexander    male  NaN      0   \n",
              "59    Cassebeer, Mrs. Henry Arthur Jr (Eleanor Genev...  female  NaN      0   \n",
              "...                                                 ...     ...  ...    ...   \n",
              "1293                  Williams, Mr. Howard Hugh \"Harry\"    male  NaN      0   \n",
              "1297                             Wiseman, Mr. Phillippe    male  NaN      0   \n",
              "1302                                  Yousif, Mr. Wazli    male  NaN      0   \n",
              "1303                              Yousseff, Mr. Gerious    male  NaN      0   \n",
              "1305                              Zabour, Miss. Thamine  female  NaN      1   \n",
              "\n",
              "      parch      ticket     fare cabin embarked boat  body         home.dest  \n",
              "15        0    PC 17318  25.9250   NaN        S  NaN   NaN      New York, NY  \n",
              "37        0      111427  26.5500   NaN        S    9   NaN   Los Angeles, CA  \n",
              "40        0      112379  39.6000   NaN        C  NaN   NaN  Philadelphia, PA  \n",
              "46        0      113798  31.0000   NaN        S  NaN   NaN               NaN  \n",
              "59        0       17770  27.7208   NaN        C    5   NaN      New York, NY  \n",
              "...     ...         ...      ...   ...      ...  ...   ...               ...  \n",
              "1293      0    A/5 2466   8.0500   NaN        S  NaN   NaN               NaN  \n",
              "1297      0  A/4. 34244   7.2500   NaN        S  NaN   NaN               NaN  \n",
              "1302      0        2647   7.2250   NaN        C  NaN   NaN               NaN  \n",
              "1303      0        2627  14.4583   NaN        C  NaN   NaN               NaN  \n",
              "1305      0        2665  14.4542   NaN        C  NaN   NaN               NaN  \n",
              "\n",
              "[263 rows x 15 columns]"
            ],
            "text/html": [
              "\n",
              "  <div id=\"df-96f8cca9-21e7-4bf9-95e6-c95969c50c6b\">\n",
              "    <div class=\"colab-df-container\">\n",
              "      <div>\n",
              "<style scoped>\n",
              "    .dataframe tbody tr th:only-of-type {\n",
              "        vertical-align: middle;\n",
              "    }\n",
              "\n",
              "    .dataframe tbody tr th {\n",
              "        vertical-align: top;\n",
              "    }\n",
              "\n",
              "    .dataframe thead th {\n",
              "        text-align: right;\n",
              "    }\n",
              "</style>\n",
              "<table border=\"1\" class=\"dataframe\">\n",
              "  <thead>\n",
              "    <tr style=\"text-align: right;\">\n",
              "      <th></th>\n",
              "      <th>user_id</th>\n",
              "      <th>pclass</th>\n",
              "      <th>survived</th>\n",
              "      <th>name</th>\n",
              "      <th>sex</th>\n",
              "      <th>age</th>\n",
              "      <th>sibsp</th>\n",
              "      <th>parch</th>\n",
              "      <th>ticket</th>\n",
              "      <th>fare</th>\n",
              "      <th>cabin</th>\n",
              "      <th>embarked</th>\n",
              "      <th>boat</th>\n",
              "      <th>body</th>\n",
              "      <th>home.dest</th>\n",
              "    </tr>\n",
              "  </thead>\n",
              "  <tbody>\n",
              "    <tr>\n",
              "      <th>15</th>\n",
              "      <td>M0016</td>\n",
              "      <td>1</td>\n",
              "      <td>0</td>\n",
              "      <td>Baumann, Mr. John D</td>\n",
              "      <td>male</td>\n",
              "      <td>NaN</td>\n",
              "      <td>0</td>\n",
              "      <td>0</td>\n",
              "      <td>PC 17318</td>\n",
              "      <td>25.9250</td>\n",
              "      <td>NaN</td>\n",
              "      <td>S</td>\n",
              "      <td>NaN</td>\n",
              "      <td>NaN</td>\n",
              "      <td>New York, NY</td>\n",
              "    </tr>\n",
              "    <tr>\n",
              "      <th>37</th>\n",
              "      <td>M0038</td>\n",
              "      <td>1</td>\n",
              "      <td>1</td>\n",
              "      <td>Bradley, Mr. George (\"George Arthur Brayton\")</td>\n",
              "      <td>male</td>\n",
              "      <td>NaN</td>\n",
              "      <td>0</td>\n",
              "      <td>0</td>\n",
              "      <td>111427</td>\n",
              "      <td>26.5500</td>\n",
              "      <td>NaN</td>\n",
              "      <td>S</td>\n",
              "      <td>9</td>\n",
              "      <td>NaN</td>\n",
              "      <td>Los Angeles, CA</td>\n",
              "    </tr>\n",
              "    <tr>\n",
              "      <th>40</th>\n",
              "      <td>M0041</td>\n",
              "      <td>1</td>\n",
              "      <td>0</td>\n",
              "      <td>Brewe, Dr. Arthur Jackson</td>\n",
              "      <td>male</td>\n",
              "      <td>NaN</td>\n",
              "      <td>0</td>\n",
              "      <td>0</td>\n",
              "      <td>112379</td>\n",
              "      <td>39.6000</td>\n",
              "      <td>NaN</td>\n",
              "      <td>C</td>\n",
              "      <td>NaN</td>\n",
              "      <td>NaN</td>\n",
              "      <td>Philadelphia, PA</td>\n",
              "    </tr>\n",
              "    <tr>\n",
              "      <th>46</th>\n",
              "      <td>M0047</td>\n",
              "      <td>1</td>\n",
              "      <td>0</td>\n",
              "      <td>Cairns, Mr. Alexander</td>\n",
              "      <td>male</td>\n",
              "      <td>NaN</td>\n",
              "      <td>0</td>\n",
              "      <td>0</td>\n",
              "      <td>113798</td>\n",
              "      <td>31.0000</td>\n",
              "      <td>NaN</td>\n",
              "      <td>S</td>\n",
              "      <td>NaN</td>\n",
              "      <td>NaN</td>\n",
              "      <td>NaN</td>\n",
              "    </tr>\n",
              "    <tr>\n",
              "      <th>59</th>\n",
              "      <td>M0060</td>\n",
              "      <td>1</td>\n",
              "      <td>1</td>\n",
              "      <td>Cassebeer, Mrs. Henry Arthur Jr (Eleanor Genev...</td>\n",
              "      <td>female</td>\n",
              "      <td>NaN</td>\n",
              "      <td>0</td>\n",
              "      <td>0</td>\n",
              "      <td>17770</td>\n",
              "      <td>27.7208</td>\n",
              "      <td>NaN</td>\n",
              "      <td>C</td>\n",
              "      <td>5</td>\n",
              "      <td>NaN</td>\n",
              "      <td>New York, NY</td>\n",
              "    </tr>\n",
              "    <tr>\n",
              "      <th>...</th>\n",
              "      <td>...</td>\n",
              "      <td>...</td>\n",
              "      <td>...</td>\n",
              "      <td>...</td>\n",
              "      <td>...</td>\n",
              "      <td>...</td>\n",
              "      <td>...</td>\n",
              "      <td>...</td>\n",
              "      <td>...</td>\n",
              "      <td>...</td>\n",
              "      <td>...</td>\n",
              "      <td>...</td>\n",
              "      <td>...</td>\n",
              "      <td>...</td>\n",
              "      <td>...</td>\n",
              "    </tr>\n",
              "    <tr>\n",
              "      <th>1293</th>\n",
              "      <td>M1294</td>\n",
              "      <td>3</td>\n",
              "      <td>0</td>\n",
              "      <td>Williams, Mr. Howard Hugh \"Harry\"</td>\n",
              "      <td>male</td>\n",
              "      <td>NaN</td>\n",
              "      <td>0</td>\n",
              "      <td>0</td>\n",
              "      <td>A/5 2466</td>\n",
              "      <td>8.0500</td>\n",
              "      <td>NaN</td>\n",
              "      <td>S</td>\n",
              "      <td>NaN</td>\n",
              "      <td>NaN</td>\n",
              "      <td>NaN</td>\n",
              "    </tr>\n",
              "    <tr>\n",
              "      <th>1297</th>\n",
              "      <td>M1298</td>\n",
              "      <td>3</td>\n",
              "      <td>0</td>\n",
              "      <td>Wiseman, Mr. Phillippe</td>\n",
              "      <td>male</td>\n",
              "      <td>NaN</td>\n",
              "      <td>0</td>\n",
              "      <td>0</td>\n",
              "      <td>A/4. 34244</td>\n",
              "      <td>7.2500</td>\n",
              "      <td>NaN</td>\n",
              "      <td>S</td>\n",
              "      <td>NaN</td>\n",
              "      <td>NaN</td>\n",
              "      <td>NaN</td>\n",
              "    </tr>\n",
              "    <tr>\n",
              "      <th>1302</th>\n",
              "      <td>M1303</td>\n",
              "      <td>3</td>\n",
              "      <td>0</td>\n",
              "      <td>Yousif, Mr. Wazli</td>\n",
              "      <td>male</td>\n",
              "      <td>NaN</td>\n",
              "      <td>0</td>\n",
              "      <td>0</td>\n",
              "      <td>2647</td>\n",
              "      <td>7.2250</td>\n",
              "      <td>NaN</td>\n",
              "      <td>C</td>\n",
              "      <td>NaN</td>\n",
              "      <td>NaN</td>\n",
              "      <td>NaN</td>\n",
              "    </tr>\n",
              "    <tr>\n",
              "      <th>1303</th>\n",
              "      <td>M1304</td>\n",
              "      <td>3</td>\n",
              "      <td>0</td>\n",
              "      <td>Yousseff, Mr. Gerious</td>\n",
              "      <td>male</td>\n",
              "      <td>NaN</td>\n",
              "      <td>0</td>\n",
              "      <td>0</td>\n",
              "      <td>2627</td>\n",
              "      <td>14.4583</td>\n",
              "      <td>NaN</td>\n",
              "      <td>C</td>\n",
              "      <td>NaN</td>\n",
              "      <td>NaN</td>\n",
              "      <td>NaN</td>\n",
              "    </tr>\n",
              "    <tr>\n",
              "      <th>1305</th>\n",
              "      <td>M1306</td>\n",
              "      <td>3</td>\n",
              "      <td>0</td>\n",
              "      <td>Zabour, Miss. Thamine</td>\n",
              "      <td>female</td>\n",
              "      <td>NaN</td>\n",
              "      <td>1</td>\n",
              "      <td>0</td>\n",
              "      <td>2665</td>\n",
              "      <td>14.4542</td>\n",
              "      <td>NaN</td>\n",
              "      <td>C</td>\n",
              "      <td>NaN</td>\n",
              "      <td>NaN</td>\n",
              "      <td>NaN</td>\n",
              "    </tr>\n",
              "  </tbody>\n",
              "</table>\n",
              "<p>263 rows × 15 columns</p>\n",
              "</div>\n",
              "      <button class=\"colab-df-convert\" onclick=\"convertToInteractive('df-96f8cca9-21e7-4bf9-95e6-c95969c50c6b')\"\n",
              "              title=\"Convert this dataframe to an interactive table.\"\n",
              "              style=\"display:none;\">\n",
              "        \n",
              "  <svg xmlns=\"http://www.w3.org/2000/svg\" height=\"24px\"viewBox=\"0 0 24 24\"\n",
              "       width=\"24px\">\n",
              "    <path d=\"M0 0h24v24H0V0z\" fill=\"none\"/>\n",
              "    <path d=\"M18.56 5.44l.94 2.06.94-2.06 2.06-.94-2.06-.94-.94-2.06-.94 2.06-2.06.94zm-11 1L8.5 8.5l.94-2.06 2.06-.94-2.06-.94L8.5 2.5l-.94 2.06-2.06.94zm10 10l.94 2.06.94-2.06 2.06-.94-2.06-.94-.94-2.06-.94 2.06-2.06.94z\"/><path d=\"M17.41 7.96l-1.37-1.37c-.4-.4-.92-.59-1.43-.59-.52 0-1.04.2-1.43.59L10.3 9.45l-7.72 7.72c-.78.78-.78 2.05 0 2.83L4 21.41c.39.39.9.59 1.41.59.51 0 1.02-.2 1.41-.59l7.78-7.78 2.81-2.81c.8-.78.8-2.07 0-2.86zM5.41 20L4 18.59l7.72-7.72 1.47 1.35L5.41 20z\"/>\n",
              "  </svg>\n",
              "      </button>\n",
              "      \n",
              "  <style>\n",
              "    .colab-df-container {\n",
              "      display:flex;\n",
              "      flex-wrap:wrap;\n",
              "      gap: 12px;\n",
              "    }\n",
              "\n",
              "    .colab-df-convert {\n",
              "      background-color: #E8F0FE;\n",
              "      border: none;\n",
              "      border-radius: 50%;\n",
              "      cursor: pointer;\n",
              "      display: none;\n",
              "      fill: #1967D2;\n",
              "      height: 32px;\n",
              "      padding: 0 0 0 0;\n",
              "      width: 32px;\n",
              "    }\n",
              "\n",
              "    .colab-df-convert:hover {\n",
              "      background-color: #E2EBFA;\n",
              "      box-shadow: 0px 1px 2px rgba(60, 64, 67, 0.3), 0px 1px 3px 1px rgba(60, 64, 67, 0.15);\n",
              "      fill: #174EA6;\n",
              "    }\n",
              "\n",
              "    [theme=dark] .colab-df-convert {\n",
              "      background-color: #3B4455;\n",
              "      fill: #D2E3FC;\n",
              "    }\n",
              "\n",
              "    [theme=dark] .colab-df-convert:hover {\n",
              "      background-color: #434B5C;\n",
              "      box-shadow: 0px 1px 3px 1px rgba(0, 0, 0, 0.15);\n",
              "      filter: drop-shadow(0px 1px 2px rgba(0, 0, 0, 0.3));\n",
              "      fill: #FFFFFF;\n",
              "    }\n",
              "  </style>\n",
              "\n",
              "      <script>\n",
              "        const buttonEl =\n",
              "          document.querySelector('#df-96f8cca9-21e7-4bf9-95e6-c95969c50c6b button.colab-df-convert');\n",
              "        buttonEl.style.display =\n",
              "          google.colab.kernel.accessAllowed ? 'block' : 'none';\n",
              "\n",
              "        async function convertToInteractive(key) {\n",
              "          const element = document.querySelector('#df-96f8cca9-21e7-4bf9-95e6-c95969c50c6b');\n",
              "          const dataTable =\n",
              "            await google.colab.kernel.invokeFunction('convertToInteractive',\n",
              "                                                     [key], {});\n",
              "          if (!dataTable) return;\n",
              "\n",
              "          const docLinkHtml = 'Like what you see? Visit the ' +\n",
              "            '<a target=\"_blank\" href=https://colab.research.google.com/notebooks/data_table.ipynb>data table notebook</a>'\n",
              "            + ' to learn more about interactive tables.';\n",
              "          element.innerHTML = '';\n",
              "          dataTable['output_type'] = 'display_data';\n",
              "          await google.colab.output.renderOutput(dataTable, element);\n",
              "          const docLink = document.createElement('div');\n",
              "          docLink.innerHTML = docLinkHtml;\n",
              "          element.appendChild(docLink);\n",
              "        }\n",
              "      </script>\n",
              "    </div>\n",
              "  </div>\n",
              "  "
            ]
          },
          "metadata": {},
          "execution_count": 78
        }
      ]
    },
    {
      "cell_type": "code",
      "source": [
        "mean_age = user_data['age'].mean()\n",
        "mean_age"
      ],
      "metadata": {
        "colab": {
          "base_uri": "https://localhost:8080/",
          "height": 0
        },
        "id": "2O7BQDOOyNoY",
        "outputId": "8c3169c7-618f-440f-8ad3-de7cb4927efb"
      },
      "execution_count": 79,
      "outputs": [
        {
          "output_type": "execute_result",
          "data": {
            "text/plain": [
              "29.881137667304014"
            ]
          },
          "metadata": {},
          "execution_count": 79
        }
      ]
    },
    {
      "cell_type": "markdown",
      "source": [
        "## **Menampilkan rata rata age atau umur**"
      ],
      "metadata": {
        "id": "zeW_-gNboVV-"
      }
    },
    {
      "cell_type": "code",
      "source": [
        "user_data['age'] = user_data[\"age\"].fillna(mean_age)"
      ],
      "metadata": {
        "id": "tpzWOIOeyW0U"
      },
      "execution_count": 80,
      "outputs": []
    },
    {
      "cell_type": "code",
      "source": [
        "user_data[user_data['age'].isnull()]"
      ],
      "metadata": {
        "colab": {
          "base_uri": "https://localhost:8080/",
          "height": 50
        },
        "id": "lDQ7SNPOywWQ",
        "outputId": "193a3fcf-620a-477e-b854-e99793108fe0"
      },
      "execution_count": 81,
      "outputs": [
        {
          "output_type": "execute_result",
          "data": {
            "text/plain": [
              "Empty DataFrame\n",
              "Columns: [user_id, pclass, survived, name, sex, age, sibsp, parch, ticket, fare, cabin, embarked, boat, body, home.dest]\n",
              "Index: []"
            ],
            "text/html": [
              "\n",
              "  <div id=\"df-68639f00-4ef0-495b-81be-2c92cec79170\">\n",
              "    <div class=\"colab-df-container\">\n",
              "      <div>\n",
              "<style scoped>\n",
              "    .dataframe tbody tr th:only-of-type {\n",
              "        vertical-align: middle;\n",
              "    }\n",
              "\n",
              "    .dataframe tbody tr th {\n",
              "        vertical-align: top;\n",
              "    }\n",
              "\n",
              "    .dataframe thead th {\n",
              "        text-align: right;\n",
              "    }\n",
              "</style>\n",
              "<table border=\"1\" class=\"dataframe\">\n",
              "  <thead>\n",
              "    <tr style=\"text-align: right;\">\n",
              "      <th></th>\n",
              "      <th>user_id</th>\n",
              "      <th>pclass</th>\n",
              "      <th>survived</th>\n",
              "      <th>name</th>\n",
              "      <th>sex</th>\n",
              "      <th>age</th>\n",
              "      <th>sibsp</th>\n",
              "      <th>parch</th>\n",
              "      <th>ticket</th>\n",
              "      <th>fare</th>\n",
              "      <th>cabin</th>\n",
              "      <th>embarked</th>\n",
              "      <th>boat</th>\n",
              "      <th>body</th>\n",
              "      <th>home.dest</th>\n",
              "    </tr>\n",
              "  </thead>\n",
              "  <tbody>\n",
              "  </tbody>\n",
              "</table>\n",
              "</div>\n",
              "      <button class=\"colab-df-convert\" onclick=\"convertToInteractive('df-68639f00-4ef0-495b-81be-2c92cec79170')\"\n",
              "              title=\"Convert this dataframe to an interactive table.\"\n",
              "              style=\"display:none;\">\n",
              "        \n",
              "  <svg xmlns=\"http://www.w3.org/2000/svg\" height=\"24px\"viewBox=\"0 0 24 24\"\n",
              "       width=\"24px\">\n",
              "    <path d=\"M0 0h24v24H0V0z\" fill=\"none\"/>\n",
              "    <path d=\"M18.56 5.44l.94 2.06.94-2.06 2.06-.94-2.06-.94-.94-2.06-.94 2.06-2.06.94zm-11 1L8.5 8.5l.94-2.06 2.06-.94-2.06-.94L8.5 2.5l-.94 2.06-2.06.94zm10 10l.94 2.06.94-2.06 2.06-.94-2.06-.94-.94-2.06-.94 2.06-2.06.94z\"/><path d=\"M17.41 7.96l-1.37-1.37c-.4-.4-.92-.59-1.43-.59-.52 0-1.04.2-1.43.59L10.3 9.45l-7.72 7.72c-.78.78-.78 2.05 0 2.83L4 21.41c.39.39.9.59 1.41.59.51 0 1.02-.2 1.41-.59l7.78-7.78 2.81-2.81c.8-.78.8-2.07 0-2.86zM5.41 20L4 18.59l7.72-7.72 1.47 1.35L5.41 20z\"/>\n",
              "  </svg>\n",
              "      </button>\n",
              "      \n",
              "  <style>\n",
              "    .colab-df-container {\n",
              "      display:flex;\n",
              "      flex-wrap:wrap;\n",
              "      gap: 12px;\n",
              "    }\n",
              "\n",
              "    .colab-df-convert {\n",
              "      background-color: #E8F0FE;\n",
              "      border: none;\n",
              "      border-radius: 50%;\n",
              "      cursor: pointer;\n",
              "      display: none;\n",
              "      fill: #1967D2;\n",
              "      height: 32px;\n",
              "      padding: 0 0 0 0;\n",
              "      width: 32px;\n",
              "    }\n",
              "\n",
              "    .colab-df-convert:hover {\n",
              "      background-color: #E2EBFA;\n",
              "      box-shadow: 0px 1px 2px rgba(60, 64, 67, 0.3), 0px 1px 3px 1px rgba(60, 64, 67, 0.15);\n",
              "      fill: #174EA6;\n",
              "    }\n",
              "\n",
              "    [theme=dark] .colab-df-convert {\n",
              "      background-color: #3B4455;\n",
              "      fill: #D2E3FC;\n",
              "    }\n",
              "\n",
              "    [theme=dark] .colab-df-convert:hover {\n",
              "      background-color: #434B5C;\n",
              "      box-shadow: 0px 1px 3px 1px rgba(0, 0, 0, 0.15);\n",
              "      filter: drop-shadow(0px 1px 2px rgba(0, 0, 0, 0.3));\n",
              "      fill: #FFFFFF;\n",
              "    }\n",
              "  </style>\n",
              "\n",
              "      <script>\n",
              "        const buttonEl =\n",
              "          document.querySelector('#df-68639f00-4ef0-495b-81be-2c92cec79170 button.colab-df-convert');\n",
              "        buttonEl.style.display =\n",
              "          google.colab.kernel.accessAllowed ? 'block' : 'none';\n",
              "\n",
              "        async function convertToInteractive(key) {\n",
              "          const element = document.querySelector('#df-68639f00-4ef0-495b-81be-2c92cec79170');\n",
              "          const dataTable =\n",
              "            await google.colab.kernel.invokeFunction('convertToInteractive',\n",
              "                                                     [key], {});\n",
              "          if (!dataTable) return;\n",
              "\n",
              "          const docLinkHtml = 'Like what you see? Visit the ' +\n",
              "            '<a target=\"_blank\" href=https://colab.research.google.com/notebooks/data_table.ipynb>data table notebook</a>'\n",
              "            + ' to learn more about interactive tables.';\n",
              "          element.innerHTML = '';\n",
              "          dataTable['output_type'] = 'display_data';\n",
              "          await google.colab.output.renderOutput(dataTable, element);\n",
              "          const docLink = document.createElement('div');\n",
              "          docLink.innerHTML = docLinkHtml;\n",
              "          element.appendChild(docLink);\n",
              "        }\n",
              "      </script>\n",
              "    </div>\n",
              "  </div>\n",
              "  "
            ]
          },
          "metadata": {},
          "execution_count": 81
        }
      ]
    },
    {
      "cell_type": "code",
      "source": [
        "user_data[user_data['age'].index == 15]"
      ],
      "metadata": {
        "colab": {
          "base_uri": "https://localhost:8080/",
          "height": 81
        },
        "id": "q_lUuXLvzEJf",
        "outputId": "24e9e97f-e742-4c40-e3ca-482e8643c734"
      },
      "execution_count": 82,
      "outputs": [
        {
          "output_type": "execute_result",
          "data": {
            "text/plain": [
              "   user_id  pclass  survived                 name   sex        age  sibsp  \\\n",
              "15   M0016       1         0  Baumann, Mr. John D  male  29.881138      0   \n",
              "\n",
              "    parch    ticket    fare cabin embarked boat  body     home.dest  \n",
              "15      0  PC 17318  25.925   NaN        S  NaN   NaN  New York, NY  "
            ],
            "text/html": [
              "\n",
              "  <div id=\"df-305c2467-e8bf-48bf-ae28-9bbe40c9ea16\">\n",
              "    <div class=\"colab-df-container\">\n",
              "      <div>\n",
              "<style scoped>\n",
              "    .dataframe tbody tr th:only-of-type {\n",
              "        vertical-align: middle;\n",
              "    }\n",
              "\n",
              "    .dataframe tbody tr th {\n",
              "        vertical-align: top;\n",
              "    }\n",
              "\n",
              "    .dataframe thead th {\n",
              "        text-align: right;\n",
              "    }\n",
              "</style>\n",
              "<table border=\"1\" class=\"dataframe\">\n",
              "  <thead>\n",
              "    <tr style=\"text-align: right;\">\n",
              "      <th></th>\n",
              "      <th>user_id</th>\n",
              "      <th>pclass</th>\n",
              "      <th>survived</th>\n",
              "      <th>name</th>\n",
              "      <th>sex</th>\n",
              "      <th>age</th>\n",
              "      <th>sibsp</th>\n",
              "      <th>parch</th>\n",
              "      <th>ticket</th>\n",
              "      <th>fare</th>\n",
              "      <th>cabin</th>\n",
              "      <th>embarked</th>\n",
              "      <th>boat</th>\n",
              "      <th>body</th>\n",
              "      <th>home.dest</th>\n",
              "    </tr>\n",
              "  </thead>\n",
              "  <tbody>\n",
              "    <tr>\n",
              "      <th>15</th>\n",
              "      <td>M0016</td>\n",
              "      <td>1</td>\n",
              "      <td>0</td>\n",
              "      <td>Baumann, Mr. John D</td>\n",
              "      <td>male</td>\n",
              "      <td>29.881138</td>\n",
              "      <td>0</td>\n",
              "      <td>0</td>\n",
              "      <td>PC 17318</td>\n",
              "      <td>25.925</td>\n",
              "      <td>NaN</td>\n",
              "      <td>S</td>\n",
              "      <td>NaN</td>\n",
              "      <td>NaN</td>\n",
              "      <td>New York, NY</td>\n",
              "    </tr>\n",
              "  </tbody>\n",
              "</table>\n",
              "</div>\n",
              "      <button class=\"colab-df-convert\" onclick=\"convertToInteractive('df-305c2467-e8bf-48bf-ae28-9bbe40c9ea16')\"\n",
              "              title=\"Convert this dataframe to an interactive table.\"\n",
              "              style=\"display:none;\">\n",
              "        \n",
              "  <svg xmlns=\"http://www.w3.org/2000/svg\" height=\"24px\"viewBox=\"0 0 24 24\"\n",
              "       width=\"24px\">\n",
              "    <path d=\"M0 0h24v24H0V0z\" fill=\"none\"/>\n",
              "    <path d=\"M18.56 5.44l.94 2.06.94-2.06 2.06-.94-2.06-.94-.94-2.06-.94 2.06-2.06.94zm-11 1L8.5 8.5l.94-2.06 2.06-.94-2.06-.94L8.5 2.5l-.94 2.06-2.06.94zm10 10l.94 2.06.94-2.06 2.06-.94-2.06-.94-.94-2.06-.94 2.06-2.06.94z\"/><path d=\"M17.41 7.96l-1.37-1.37c-.4-.4-.92-.59-1.43-.59-.52 0-1.04.2-1.43.59L10.3 9.45l-7.72 7.72c-.78.78-.78 2.05 0 2.83L4 21.41c.39.39.9.59 1.41.59.51 0 1.02-.2 1.41-.59l7.78-7.78 2.81-2.81c.8-.78.8-2.07 0-2.86zM5.41 20L4 18.59l7.72-7.72 1.47 1.35L5.41 20z\"/>\n",
              "  </svg>\n",
              "      </button>\n",
              "      \n",
              "  <style>\n",
              "    .colab-df-container {\n",
              "      display:flex;\n",
              "      flex-wrap:wrap;\n",
              "      gap: 12px;\n",
              "    }\n",
              "\n",
              "    .colab-df-convert {\n",
              "      background-color: #E8F0FE;\n",
              "      border: none;\n",
              "      border-radius: 50%;\n",
              "      cursor: pointer;\n",
              "      display: none;\n",
              "      fill: #1967D2;\n",
              "      height: 32px;\n",
              "      padding: 0 0 0 0;\n",
              "      width: 32px;\n",
              "    }\n",
              "\n",
              "    .colab-df-convert:hover {\n",
              "      background-color: #E2EBFA;\n",
              "      box-shadow: 0px 1px 2px rgba(60, 64, 67, 0.3), 0px 1px 3px 1px rgba(60, 64, 67, 0.15);\n",
              "      fill: #174EA6;\n",
              "    }\n",
              "\n",
              "    [theme=dark] .colab-df-convert {\n",
              "      background-color: #3B4455;\n",
              "      fill: #D2E3FC;\n",
              "    }\n",
              "\n",
              "    [theme=dark] .colab-df-convert:hover {\n",
              "      background-color: #434B5C;\n",
              "      box-shadow: 0px 1px 3px 1px rgba(0, 0, 0, 0.15);\n",
              "      filter: drop-shadow(0px 1px 2px rgba(0, 0, 0, 0.3));\n",
              "      fill: #FFFFFF;\n",
              "    }\n",
              "  </style>\n",
              "\n",
              "      <script>\n",
              "        const buttonEl =\n",
              "          document.querySelector('#df-305c2467-e8bf-48bf-ae28-9bbe40c9ea16 button.colab-df-convert');\n",
              "        buttonEl.style.display =\n",
              "          google.colab.kernel.accessAllowed ? 'block' : 'none';\n",
              "\n",
              "        async function convertToInteractive(key) {\n",
              "          const element = document.querySelector('#df-305c2467-e8bf-48bf-ae28-9bbe40c9ea16');\n",
              "          const dataTable =\n",
              "            await google.colab.kernel.invokeFunction('convertToInteractive',\n",
              "                                                     [key], {});\n",
              "          if (!dataTable) return;\n",
              "\n",
              "          const docLinkHtml = 'Like what you see? Visit the ' +\n",
              "            '<a target=\"_blank\" href=https://colab.research.google.com/notebooks/data_table.ipynb>data table notebook</a>'\n",
              "            + ' to learn more about interactive tables.';\n",
              "          element.innerHTML = '';\n",
              "          dataTable['output_type'] = 'display_data';\n",
              "          await google.colab.output.renderOutput(dataTable, element);\n",
              "          const docLink = document.createElement('div');\n",
              "          docLink.innerHTML = docLinkHtml;\n",
              "          element.appendChild(docLink);\n",
              "        }\n",
              "      </script>\n",
              "    </div>\n",
              "  </div>\n",
              "  "
            ]
          },
          "metadata": {},
          "execution_count": 82
        }
      ]
    },
    {
      "cell_type": "markdown",
      "source": [
        "## **Menampilkan value index yang ke 15**"
      ],
      "metadata": {
        "id": "jwbG4xm3oamF"
      }
    },
    {
      "cell_type": "code",
      "source": [
        "user_data.isnull().sum()"
      ],
      "metadata": {
        "colab": {
          "base_uri": "https://localhost:8080/",
          "height": 0
        },
        "id": "BPTf3Pi51IS5",
        "outputId": "1be6c4e3-bf1c-43ad-8cc5-867fe21de939"
      },
      "execution_count": 83,
      "outputs": [
        {
          "output_type": "execute_result",
          "data": {
            "text/plain": [
              "user_id         0\n",
              "pclass          0\n",
              "survived        0\n",
              "name            0\n",
              "sex             0\n",
              "age             0\n",
              "sibsp           0\n",
              "parch           0\n",
              "ticket          0\n",
              "fare            1\n",
              "cabin        1014\n",
              "embarked        2\n",
              "boat          823\n",
              "body         1188\n",
              "home.dest     564\n",
              "dtype: int64"
            ]
          },
          "metadata": {},
          "execution_count": 83
        }
      ]
    },
    {
      "cell_type": "markdown",
      "source": [
        "## **Maka missing value pada age sudah tidak ada lagi **"
      ],
      "metadata": {
        "id": "s80HBiN6ol3s"
      }
    },
    {
      "cell_type": "markdown",
      "source": [
        "## **Missing Value Data Fare**"
      ],
      "metadata": {
        "id": "IjQjfyAu1YFp"
      }
    },
    {
      "cell_type": "code",
      "source": [
        "mean_fare = user_data['fare'].mean()\n",
        "\n",
        "user_data['fare'] = user_data['fare'].fillna(mean_fare)"
      ],
      "metadata": {
        "id": "VCRWmf6u1fSC"
      },
      "execution_count": 84,
      "outputs": []
    },
    {
      "cell_type": "markdown",
      "source": [
        "## **Kemudian menampilkan rata-rata dari fare dan mengecek missing value fare**"
      ],
      "metadata": {
        "id": "053Y43XmotrM"
      }
    },
    {
      "cell_type": "code",
      "source": [
        "user_data.isnull().sum()"
      ],
      "metadata": {
        "colab": {
          "base_uri": "https://localhost:8080/",
          "height": 0
        },
        "id": "CrHflWIw1r9F",
        "outputId": "c6f37a55-e329-463f-ef88-2d59fcd52a66"
      },
      "execution_count": 85,
      "outputs": [
        {
          "output_type": "execute_result",
          "data": {
            "text/plain": [
              "user_id         0\n",
              "pclass          0\n",
              "survived        0\n",
              "name            0\n",
              "sex             0\n",
              "age             0\n",
              "sibsp           0\n",
              "parch           0\n",
              "ticket          0\n",
              "fare            0\n",
              "cabin        1014\n",
              "embarked        2\n",
              "boat          823\n",
              "body         1188\n",
              "home.dest     564\n",
              "dtype: int64"
            ]
          },
          "metadata": {},
          "execution_count": 85
        }
      ]
    },
    {
      "cell_type": "markdown",
      "source": [
        "## **Maka missing value pada fare sudah tidak ada**"
      ],
      "metadata": {
        "id": "I1JtPvpTo0Ok"
      }
    },
    {
      "cell_type": "markdown",
      "source": [
        "## **Missing Value Data Cabin**"
      ],
      "metadata": {
        "id": "NONYymUD2oO4"
      }
    },
    {
      "cell_type": "code",
      "source": [
        "user_data[user_data['cabin'].isnull()]"
      ],
      "metadata": {
        "colab": {
          "base_uri": "https://localhost:8080/",
          "height": 424
        },
        "id": "6Es2ddjX1wVj",
        "outputId": "92d121c8-69b6-47a3-ffa2-46be2efe7c93"
      },
      "execution_count": 86,
      "outputs": [
        {
          "output_type": "execute_result",
          "data": {
            "text/plain": [
              "     user_id  pclass  survived                          name     sex  \\\n",
              "9      M0010       1         0       Artagaveytia, Mr. Ramon    male   \n",
              "13     M0014       1         1  Barber, Miss. Ellen \"Nellie\"  female   \n",
              "15     M0016       1         0           Baumann, Mr. John D    male   \n",
              "23     M0024       1         1         Bidois, Miss. Rosalie  female   \n",
              "25     M0026       1         0           Birnbaum, Mr. Jakob    male   \n",
              "...      ...     ...       ...                           ...     ...   \n",
              "1304   M1305       3         0          Zabour, Miss. Hileni  female   \n",
              "1305   M1306       3         0         Zabour, Miss. Thamine  female   \n",
              "1306   M1307       3         0     Zakarian, Mr. Mapriededer    male   \n",
              "1307   M1308       3         0           Zakarian, Mr. Ortin    male   \n",
              "1308   M1309       3         0            Zimmerman, Mr. Leo    male   \n",
              "\n",
              "            age  sibsp  parch    ticket      fare cabin embarked boat   body  \\\n",
              "9     71.000000      0      0  PC 17609   49.5042   NaN        C  NaN   22.0   \n",
              "13    26.000000      0      0     19877   78.8500   NaN        S    6    NaN   \n",
              "15    29.881138      0      0  PC 17318   25.9250   NaN        S  NaN    NaN   \n",
              "23    42.000000      0      0  PC 17757  227.5250   NaN        C    4    NaN   \n",
              "25    25.000000      0      0     13905   26.0000   NaN        C  NaN  148.0   \n",
              "...         ...    ...    ...       ...       ...   ...      ...  ...    ...   \n",
              "1304  14.500000      1      0      2665   14.4542   NaN        C  NaN  328.0   \n",
              "1305  29.881138      1      0      2665   14.4542   NaN        C  NaN    NaN   \n",
              "1306  26.500000      0      0      2656    7.2250   NaN        C  NaN  304.0   \n",
              "1307  27.000000      0      0      2670    7.2250   NaN        C  NaN    NaN   \n",
              "1308  29.000000      0      0    315082    7.8750   NaN        S  NaN    NaN   \n",
              "\n",
              "                home.dest  \n",
              "9     Montevideo, Uruguay  \n",
              "13                    NaN  \n",
              "15           New York, NY  \n",
              "23                    NaN  \n",
              "25      San Francisco, CA  \n",
              "...                   ...  \n",
              "1304                  NaN  \n",
              "1305                  NaN  \n",
              "1306                  NaN  \n",
              "1307                  NaN  \n",
              "1308                  NaN  \n",
              "\n",
              "[1014 rows x 15 columns]"
            ],
            "text/html": [
              "\n",
              "  <div id=\"df-230560f2-6968-4652-9f2b-22c67287bb17\">\n",
              "    <div class=\"colab-df-container\">\n",
              "      <div>\n",
              "<style scoped>\n",
              "    .dataframe tbody tr th:only-of-type {\n",
              "        vertical-align: middle;\n",
              "    }\n",
              "\n",
              "    .dataframe tbody tr th {\n",
              "        vertical-align: top;\n",
              "    }\n",
              "\n",
              "    .dataframe thead th {\n",
              "        text-align: right;\n",
              "    }\n",
              "</style>\n",
              "<table border=\"1\" class=\"dataframe\">\n",
              "  <thead>\n",
              "    <tr style=\"text-align: right;\">\n",
              "      <th></th>\n",
              "      <th>user_id</th>\n",
              "      <th>pclass</th>\n",
              "      <th>survived</th>\n",
              "      <th>name</th>\n",
              "      <th>sex</th>\n",
              "      <th>age</th>\n",
              "      <th>sibsp</th>\n",
              "      <th>parch</th>\n",
              "      <th>ticket</th>\n",
              "      <th>fare</th>\n",
              "      <th>cabin</th>\n",
              "      <th>embarked</th>\n",
              "      <th>boat</th>\n",
              "      <th>body</th>\n",
              "      <th>home.dest</th>\n",
              "    </tr>\n",
              "  </thead>\n",
              "  <tbody>\n",
              "    <tr>\n",
              "      <th>9</th>\n",
              "      <td>M0010</td>\n",
              "      <td>1</td>\n",
              "      <td>0</td>\n",
              "      <td>Artagaveytia, Mr. Ramon</td>\n",
              "      <td>male</td>\n",
              "      <td>71.000000</td>\n",
              "      <td>0</td>\n",
              "      <td>0</td>\n",
              "      <td>PC 17609</td>\n",
              "      <td>49.5042</td>\n",
              "      <td>NaN</td>\n",
              "      <td>C</td>\n",
              "      <td>NaN</td>\n",
              "      <td>22.0</td>\n",
              "      <td>Montevideo, Uruguay</td>\n",
              "    </tr>\n",
              "    <tr>\n",
              "      <th>13</th>\n",
              "      <td>M0014</td>\n",
              "      <td>1</td>\n",
              "      <td>1</td>\n",
              "      <td>Barber, Miss. Ellen \"Nellie\"</td>\n",
              "      <td>female</td>\n",
              "      <td>26.000000</td>\n",
              "      <td>0</td>\n",
              "      <td>0</td>\n",
              "      <td>19877</td>\n",
              "      <td>78.8500</td>\n",
              "      <td>NaN</td>\n",
              "      <td>S</td>\n",
              "      <td>6</td>\n",
              "      <td>NaN</td>\n",
              "      <td>NaN</td>\n",
              "    </tr>\n",
              "    <tr>\n",
              "      <th>15</th>\n",
              "      <td>M0016</td>\n",
              "      <td>1</td>\n",
              "      <td>0</td>\n",
              "      <td>Baumann, Mr. John D</td>\n",
              "      <td>male</td>\n",
              "      <td>29.881138</td>\n",
              "      <td>0</td>\n",
              "      <td>0</td>\n",
              "      <td>PC 17318</td>\n",
              "      <td>25.9250</td>\n",
              "      <td>NaN</td>\n",
              "      <td>S</td>\n",
              "      <td>NaN</td>\n",
              "      <td>NaN</td>\n",
              "      <td>New York, NY</td>\n",
              "    </tr>\n",
              "    <tr>\n",
              "      <th>23</th>\n",
              "      <td>M0024</td>\n",
              "      <td>1</td>\n",
              "      <td>1</td>\n",
              "      <td>Bidois, Miss. Rosalie</td>\n",
              "      <td>female</td>\n",
              "      <td>42.000000</td>\n",
              "      <td>0</td>\n",
              "      <td>0</td>\n",
              "      <td>PC 17757</td>\n",
              "      <td>227.5250</td>\n",
              "      <td>NaN</td>\n",
              "      <td>C</td>\n",
              "      <td>4</td>\n",
              "      <td>NaN</td>\n",
              "      <td>NaN</td>\n",
              "    </tr>\n",
              "    <tr>\n",
              "      <th>25</th>\n",
              "      <td>M0026</td>\n",
              "      <td>1</td>\n",
              "      <td>0</td>\n",
              "      <td>Birnbaum, Mr. Jakob</td>\n",
              "      <td>male</td>\n",
              "      <td>25.000000</td>\n",
              "      <td>0</td>\n",
              "      <td>0</td>\n",
              "      <td>13905</td>\n",
              "      <td>26.0000</td>\n",
              "      <td>NaN</td>\n",
              "      <td>C</td>\n",
              "      <td>NaN</td>\n",
              "      <td>148.0</td>\n",
              "      <td>San Francisco, CA</td>\n",
              "    </tr>\n",
              "    <tr>\n",
              "      <th>...</th>\n",
              "      <td>...</td>\n",
              "      <td>...</td>\n",
              "      <td>...</td>\n",
              "      <td>...</td>\n",
              "      <td>...</td>\n",
              "      <td>...</td>\n",
              "      <td>...</td>\n",
              "      <td>...</td>\n",
              "      <td>...</td>\n",
              "      <td>...</td>\n",
              "      <td>...</td>\n",
              "      <td>...</td>\n",
              "      <td>...</td>\n",
              "      <td>...</td>\n",
              "      <td>...</td>\n",
              "    </tr>\n",
              "    <tr>\n",
              "      <th>1304</th>\n",
              "      <td>M1305</td>\n",
              "      <td>3</td>\n",
              "      <td>0</td>\n",
              "      <td>Zabour, Miss. Hileni</td>\n",
              "      <td>female</td>\n",
              "      <td>14.500000</td>\n",
              "      <td>1</td>\n",
              "      <td>0</td>\n",
              "      <td>2665</td>\n",
              "      <td>14.4542</td>\n",
              "      <td>NaN</td>\n",
              "      <td>C</td>\n",
              "      <td>NaN</td>\n",
              "      <td>328.0</td>\n",
              "      <td>NaN</td>\n",
              "    </tr>\n",
              "    <tr>\n",
              "      <th>1305</th>\n",
              "      <td>M1306</td>\n",
              "      <td>3</td>\n",
              "      <td>0</td>\n",
              "      <td>Zabour, Miss. Thamine</td>\n",
              "      <td>female</td>\n",
              "      <td>29.881138</td>\n",
              "      <td>1</td>\n",
              "      <td>0</td>\n",
              "      <td>2665</td>\n",
              "      <td>14.4542</td>\n",
              "      <td>NaN</td>\n",
              "      <td>C</td>\n",
              "      <td>NaN</td>\n",
              "      <td>NaN</td>\n",
              "      <td>NaN</td>\n",
              "    </tr>\n",
              "    <tr>\n",
              "      <th>1306</th>\n",
              "      <td>M1307</td>\n",
              "      <td>3</td>\n",
              "      <td>0</td>\n",
              "      <td>Zakarian, Mr. Mapriededer</td>\n",
              "      <td>male</td>\n",
              "      <td>26.500000</td>\n",
              "      <td>0</td>\n",
              "      <td>0</td>\n",
              "      <td>2656</td>\n",
              "      <td>7.2250</td>\n",
              "      <td>NaN</td>\n",
              "      <td>C</td>\n",
              "      <td>NaN</td>\n",
              "      <td>304.0</td>\n",
              "      <td>NaN</td>\n",
              "    </tr>\n",
              "    <tr>\n",
              "      <th>1307</th>\n",
              "      <td>M1308</td>\n",
              "      <td>3</td>\n",
              "      <td>0</td>\n",
              "      <td>Zakarian, Mr. Ortin</td>\n",
              "      <td>male</td>\n",
              "      <td>27.000000</td>\n",
              "      <td>0</td>\n",
              "      <td>0</td>\n",
              "      <td>2670</td>\n",
              "      <td>7.2250</td>\n",
              "      <td>NaN</td>\n",
              "      <td>C</td>\n",
              "      <td>NaN</td>\n",
              "      <td>NaN</td>\n",
              "      <td>NaN</td>\n",
              "    </tr>\n",
              "    <tr>\n",
              "      <th>1308</th>\n",
              "      <td>M1309</td>\n",
              "      <td>3</td>\n",
              "      <td>0</td>\n",
              "      <td>Zimmerman, Mr. Leo</td>\n",
              "      <td>male</td>\n",
              "      <td>29.000000</td>\n",
              "      <td>0</td>\n",
              "      <td>0</td>\n",
              "      <td>315082</td>\n",
              "      <td>7.8750</td>\n",
              "      <td>NaN</td>\n",
              "      <td>S</td>\n",
              "      <td>NaN</td>\n",
              "      <td>NaN</td>\n",
              "      <td>NaN</td>\n",
              "    </tr>\n",
              "  </tbody>\n",
              "</table>\n",
              "<p>1014 rows × 15 columns</p>\n",
              "</div>\n",
              "      <button class=\"colab-df-convert\" onclick=\"convertToInteractive('df-230560f2-6968-4652-9f2b-22c67287bb17')\"\n",
              "              title=\"Convert this dataframe to an interactive table.\"\n",
              "              style=\"display:none;\">\n",
              "        \n",
              "  <svg xmlns=\"http://www.w3.org/2000/svg\" height=\"24px\"viewBox=\"0 0 24 24\"\n",
              "       width=\"24px\">\n",
              "    <path d=\"M0 0h24v24H0V0z\" fill=\"none\"/>\n",
              "    <path d=\"M18.56 5.44l.94 2.06.94-2.06 2.06-.94-2.06-.94-.94-2.06-.94 2.06-2.06.94zm-11 1L8.5 8.5l.94-2.06 2.06-.94-2.06-.94L8.5 2.5l-.94 2.06-2.06.94zm10 10l.94 2.06.94-2.06 2.06-.94-2.06-.94-.94-2.06-.94 2.06-2.06.94z\"/><path d=\"M17.41 7.96l-1.37-1.37c-.4-.4-.92-.59-1.43-.59-.52 0-1.04.2-1.43.59L10.3 9.45l-7.72 7.72c-.78.78-.78 2.05 0 2.83L4 21.41c.39.39.9.59 1.41.59.51 0 1.02-.2 1.41-.59l7.78-7.78 2.81-2.81c.8-.78.8-2.07 0-2.86zM5.41 20L4 18.59l7.72-7.72 1.47 1.35L5.41 20z\"/>\n",
              "  </svg>\n",
              "      </button>\n",
              "      \n",
              "  <style>\n",
              "    .colab-df-container {\n",
              "      display:flex;\n",
              "      flex-wrap:wrap;\n",
              "      gap: 12px;\n",
              "    }\n",
              "\n",
              "    .colab-df-convert {\n",
              "      background-color: #E8F0FE;\n",
              "      border: none;\n",
              "      border-radius: 50%;\n",
              "      cursor: pointer;\n",
              "      display: none;\n",
              "      fill: #1967D2;\n",
              "      height: 32px;\n",
              "      padding: 0 0 0 0;\n",
              "      width: 32px;\n",
              "    }\n",
              "\n",
              "    .colab-df-convert:hover {\n",
              "      background-color: #E2EBFA;\n",
              "      box-shadow: 0px 1px 2px rgba(60, 64, 67, 0.3), 0px 1px 3px 1px rgba(60, 64, 67, 0.15);\n",
              "      fill: #174EA6;\n",
              "    }\n",
              "\n",
              "    [theme=dark] .colab-df-convert {\n",
              "      background-color: #3B4455;\n",
              "      fill: #D2E3FC;\n",
              "    }\n",
              "\n",
              "    [theme=dark] .colab-df-convert:hover {\n",
              "      background-color: #434B5C;\n",
              "      box-shadow: 0px 1px 3px 1px rgba(0, 0, 0, 0.15);\n",
              "      filter: drop-shadow(0px 1px 2px rgba(0, 0, 0, 0.3));\n",
              "      fill: #FFFFFF;\n",
              "    }\n",
              "  </style>\n",
              "\n",
              "      <script>\n",
              "        const buttonEl =\n",
              "          document.querySelector('#df-230560f2-6968-4652-9f2b-22c67287bb17 button.colab-df-convert');\n",
              "        buttonEl.style.display =\n",
              "          google.colab.kernel.accessAllowed ? 'block' : 'none';\n",
              "\n",
              "        async function convertToInteractive(key) {\n",
              "          const element = document.querySelector('#df-230560f2-6968-4652-9f2b-22c67287bb17');\n",
              "          const dataTable =\n",
              "            await google.colab.kernel.invokeFunction('convertToInteractive',\n",
              "                                                     [key], {});\n",
              "          if (!dataTable) return;\n",
              "\n",
              "          const docLinkHtml = 'Like what you see? Visit the ' +\n",
              "            '<a target=\"_blank\" href=https://colab.research.google.com/notebooks/data_table.ipynb>data table notebook</a>'\n",
              "            + ' to learn more about interactive tables.';\n",
              "          element.innerHTML = '';\n",
              "          dataTable['output_type'] = 'display_data';\n",
              "          await google.colab.output.renderOutput(dataTable, element);\n",
              "          const docLink = document.createElement('div');\n",
              "          docLink.innerHTML = docLinkHtml;\n",
              "          element.appendChild(docLink);\n",
              "        }\n",
              "      </script>\n",
              "    </div>\n",
              "  </div>\n",
              "  "
            ]
          },
          "metadata": {},
          "execution_count": 86
        }
      ]
    },
    {
      "cell_type": "markdown",
      "source": [
        "##**Menampilkan data yang value cabinnya null atau kosong**\n",
        "\n"
      ],
      "metadata": {
        "id": "xkzcZSSmo7Iu"
      }
    },
    {
      "cell_type": "code",
      "source": [
        "user_data['cabin'].value_counts()"
      ],
      "metadata": {
        "colab": {
          "base_uri": "https://localhost:8080/",
          "height": 0
        },
        "id": "OzMe-y9E28vw",
        "outputId": "ce81ec76-712e-4de4-fbb7-3847b318c858"
      },
      "execution_count": 87,
      "outputs": [
        {
          "output_type": "execute_result",
          "data": {
            "text/plain": [
              "C23 C25 C27        6\n",
              "G6                 5\n",
              "B57 B59 B63 B66    5\n",
              "F4                 4\n",
              "F33                4\n",
              "                  ..\n",
              "C132               1\n",
              "E60                1\n",
              "B52 B54 B56        1\n",
              "C49                1\n",
              "F38                1\n",
              "Name: cabin, Length: 186, dtype: int64"
            ]
          },
          "metadata": {},
          "execution_count": 87
        }
      ]
    },
    {
      "cell_type": "markdown",
      "source": [
        "##**Menampilkan jenis cabin dengan panjang data dan tipe data**"
      ],
      "metadata": {
        "id": "tWs8UNU3pBvO"
      }
    },
    {
      "cell_type": "code",
      "source": [
        "mode_cabin = user_data['cabin'].mode()[0]\n",
        "mode_cabin"
      ],
      "metadata": {
        "colab": {
          "base_uri": "https://localhost:8080/",
          "height": 36
        },
        "id": "OhexKgsg3GKK",
        "outputId": "f2596a98-35c0-402f-ce9a-ba89523fd1b5"
      },
      "execution_count": 88,
      "outputs": [
        {
          "output_type": "execute_result",
          "data": {
            "text/plain": [
              "'C23 C25 C27'"
            ],
            "application/vnd.google.colaboratory.intrinsic+json": {
              "type": "string"
            }
          },
          "metadata": {},
          "execution_count": 88
        }
      ]
    },
    {
      "cell_type": "code",
      "source": [
        "user_data['cabin'] = user_data['cabin'].fillna(mode_cabin)"
      ],
      "metadata": {
        "id": "HIpO483c3Sj7"
      },
      "execution_count": 89,
      "outputs": []
    },
    {
      "cell_type": "code",
      "source": [
        "user_data[user_data['cabin'].isnull()]"
      ],
      "metadata": {
        "colab": {
          "base_uri": "https://localhost:8080/",
          "height": 50
        },
        "id": "4k-hfVJb3e31",
        "outputId": "663b8bad-e893-471e-afe6-648732f2f825"
      },
      "execution_count": 90,
      "outputs": [
        {
          "output_type": "execute_result",
          "data": {
            "text/plain": [
              "Empty DataFrame\n",
              "Columns: [user_id, pclass, survived, name, sex, age, sibsp, parch, ticket, fare, cabin, embarked, boat, body, home.dest]\n",
              "Index: []"
            ],
            "text/html": [
              "\n",
              "  <div id=\"df-3380cfdd-cbf0-43a1-9c55-2f96504aadaa\">\n",
              "    <div class=\"colab-df-container\">\n",
              "      <div>\n",
              "<style scoped>\n",
              "    .dataframe tbody tr th:only-of-type {\n",
              "        vertical-align: middle;\n",
              "    }\n",
              "\n",
              "    .dataframe tbody tr th {\n",
              "        vertical-align: top;\n",
              "    }\n",
              "\n",
              "    .dataframe thead th {\n",
              "        text-align: right;\n",
              "    }\n",
              "</style>\n",
              "<table border=\"1\" class=\"dataframe\">\n",
              "  <thead>\n",
              "    <tr style=\"text-align: right;\">\n",
              "      <th></th>\n",
              "      <th>user_id</th>\n",
              "      <th>pclass</th>\n",
              "      <th>survived</th>\n",
              "      <th>name</th>\n",
              "      <th>sex</th>\n",
              "      <th>age</th>\n",
              "      <th>sibsp</th>\n",
              "      <th>parch</th>\n",
              "      <th>ticket</th>\n",
              "      <th>fare</th>\n",
              "      <th>cabin</th>\n",
              "      <th>embarked</th>\n",
              "      <th>boat</th>\n",
              "      <th>body</th>\n",
              "      <th>home.dest</th>\n",
              "    </tr>\n",
              "  </thead>\n",
              "  <tbody>\n",
              "  </tbody>\n",
              "</table>\n",
              "</div>\n",
              "      <button class=\"colab-df-convert\" onclick=\"convertToInteractive('df-3380cfdd-cbf0-43a1-9c55-2f96504aadaa')\"\n",
              "              title=\"Convert this dataframe to an interactive table.\"\n",
              "              style=\"display:none;\">\n",
              "        \n",
              "  <svg xmlns=\"http://www.w3.org/2000/svg\" height=\"24px\"viewBox=\"0 0 24 24\"\n",
              "       width=\"24px\">\n",
              "    <path d=\"M0 0h24v24H0V0z\" fill=\"none\"/>\n",
              "    <path d=\"M18.56 5.44l.94 2.06.94-2.06 2.06-.94-2.06-.94-.94-2.06-.94 2.06-2.06.94zm-11 1L8.5 8.5l.94-2.06 2.06-.94-2.06-.94L8.5 2.5l-.94 2.06-2.06.94zm10 10l.94 2.06.94-2.06 2.06-.94-2.06-.94-.94-2.06-.94 2.06-2.06.94z\"/><path d=\"M17.41 7.96l-1.37-1.37c-.4-.4-.92-.59-1.43-.59-.52 0-1.04.2-1.43.59L10.3 9.45l-7.72 7.72c-.78.78-.78 2.05 0 2.83L4 21.41c.39.39.9.59 1.41.59.51 0 1.02-.2 1.41-.59l7.78-7.78 2.81-2.81c.8-.78.8-2.07 0-2.86zM5.41 20L4 18.59l7.72-7.72 1.47 1.35L5.41 20z\"/>\n",
              "  </svg>\n",
              "      </button>\n",
              "      \n",
              "  <style>\n",
              "    .colab-df-container {\n",
              "      display:flex;\n",
              "      flex-wrap:wrap;\n",
              "      gap: 12px;\n",
              "    }\n",
              "\n",
              "    .colab-df-convert {\n",
              "      background-color: #E8F0FE;\n",
              "      border: none;\n",
              "      border-radius: 50%;\n",
              "      cursor: pointer;\n",
              "      display: none;\n",
              "      fill: #1967D2;\n",
              "      height: 32px;\n",
              "      padding: 0 0 0 0;\n",
              "      width: 32px;\n",
              "    }\n",
              "\n",
              "    .colab-df-convert:hover {\n",
              "      background-color: #E2EBFA;\n",
              "      box-shadow: 0px 1px 2px rgba(60, 64, 67, 0.3), 0px 1px 3px 1px rgba(60, 64, 67, 0.15);\n",
              "      fill: #174EA6;\n",
              "    }\n",
              "\n",
              "    [theme=dark] .colab-df-convert {\n",
              "      background-color: #3B4455;\n",
              "      fill: #D2E3FC;\n",
              "    }\n",
              "\n",
              "    [theme=dark] .colab-df-convert:hover {\n",
              "      background-color: #434B5C;\n",
              "      box-shadow: 0px 1px 3px 1px rgba(0, 0, 0, 0.15);\n",
              "      filter: drop-shadow(0px 1px 2px rgba(0, 0, 0, 0.3));\n",
              "      fill: #FFFFFF;\n",
              "    }\n",
              "  </style>\n",
              "\n",
              "      <script>\n",
              "        const buttonEl =\n",
              "          document.querySelector('#df-3380cfdd-cbf0-43a1-9c55-2f96504aadaa button.colab-df-convert');\n",
              "        buttonEl.style.display =\n",
              "          google.colab.kernel.accessAllowed ? 'block' : 'none';\n",
              "\n",
              "        async function convertToInteractive(key) {\n",
              "          const element = document.querySelector('#df-3380cfdd-cbf0-43a1-9c55-2f96504aadaa');\n",
              "          const dataTable =\n",
              "            await google.colab.kernel.invokeFunction('convertToInteractive',\n",
              "                                                     [key], {});\n",
              "          if (!dataTable) return;\n",
              "\n",
              "          const docLinkHtml = 'Like what you see? Visit the ' +\n",
              "            '<a target=\"_blank\" href=https://colab.research.google.com/notebooks/data_table.ipynb>data table notebook</a>'\n",
              "            + ' to learn more about interactive tables.';\n",
              "          element.innerHTML = '';\n",
              "          dataTable['output_type'] = 'display_data';\n",
              "          await google.colab.output.renderOutput(dataTable, element);\n",
              "          const docLink = document.createElement('div');\n",
              "          docLink.innerHTML = docLinkHtml;\n",
              "          element.appendChild(docLink);\n",
              "        }\n",
              "      </script>\n",
              "    </div>\n",
              "  </div>\n",
              "  "
            ]
          },
          "metadata": {},
          "execution_count": 90
        }
      ]
    },
    {
      "cell_type": "code",
      "source": [
        "user_data.isnull().sum()"
      ],
      "metadata": {
        "colab": {
          "base_uri": "https://localhost:8080/",
          "height": 0
        },
        "id": "JUtTJTFC3oBo",
        "outputId": "3e95ea2c-ba44-49e6-ac55-46ea4a8252e4"
      },
      "execution_count": 91,
      "outputs": [
        {
          "output_type": "execute_result",
          "data": {
            "text/plain": [
              "user_id         0\n",
              "pclass          0\n",
              "survived        0\n",
              "name            0\n",
              "sex             0\n",
              "age             0\n",
              "sibsp           0\n",
              "parch           0\n",
              "ticket          0\n",
              "fare            0\n",
              "cabin           0\n",
              "embarked        2\n",
              "boat          823\n",
              "body         1188\n",
              "home.dest     564\n",
              "dtype: int64"
            ]
          },
          "metadata": {},
          "execution_count": 91
        }
      ]
    },
    {
      "cell_type": "markdown",
      "source": [
        "## **Maka missing value pada cabin sudah tidak ada**"
      ],
      "metadata": {
        "id": "8EDwzzSFpSaK"
      }
    },
    {
      "cell_type": "markdown",
      "source": [
        "##**Missing Value Data Embarked**"
      ],
      "metadata": {
        "id": "sVXk1cug300A"
      }
    },
    {
      "cell_type": "code",
      "source": [
        "user_data[user_data['embarked'].isnull()]"
      ],
      "metadata": {
        "colab": {
          "base_uri": "https://localhost:8080/",
          "height": 112
        },
        "id": "850HQUEC30Tw",
        "outputId": "d1befe69-c25b-477d-e966-4fb74cd1cfc2"
      },
      "execution_count": 92,
      "outputs": [
        {
          "output_type": "execute_result",
          "data": {
            "text/plain": [
              "    user_id  pclass  survived                                       name  \\\n",
              "168   M0169       1         1                        Icard, Miss. Amelie   \n",
              "284   M0285       1         1  Stone, Mrs. George Nelson (Martha Evelyn)   \n",
              "\n",
              "        sex   age  sibsp  parch  ticket  fare cabin embarked boat  body  \\\n",
              "168  female  38.0      0      0  113572  80.0   B28      NaN    6   NaN   \n",
              "284  female  62.0      0      0  113572  80.0   B28      NaN    6   NaN   \n",
              "\n",
              "          home.dest  \n",
              "168             NaN  \n",
              "284  Cincinatti, OH  "
            ],
            "text/html": [
              "\n",
              "  <div id=\"df-55aa9ca4-4ce1-4e98-8f45-8903fb84537c\">\n",
              "    <div class=\"colab-df-container\">\n",
              "      <div>\n",
              "<style scoped>\n",
              "    .dataframe tbody tr th:only-of-type {\n",
              "        vertical-align: middle;\n",
              "    }\n",
              "\n",
              "    .dataframe tbody tr th {\n",
              "        vertical-align: top;\n",
              "    }\n",
              "\n",
              "    .dataframe thead th {\n",
              "        text-align: right;\n",
              "    }\n",
              "</style>\n",
              "<table border=\"1\" class=\"dataframe\">\n",
              "  <thead>\n",
              "    <tr style=\"text-align: right;\">\n",
              "      <th></th>\n",
              "      <th>user_id</th>\n",
              "      <th>pclass</th>\n",
              "      <th>survived</th>\n",
              "      <th>name</th>\n",
              "      <th>sex</th>\n",
              "      <th>age</th>\n",
              "      <th>sibsp</th>\n",
              "      <th>parch</th>\n",
              "      <th>ticket</th>\n",
              "      <th>fare</th>\n",
              "      <th>cabin</th>\n",
              "      <th>embarked</th>\n",
              "      <th>boat</th>\n",
              "      <th>body</th>\n",
              "      <th>home.dest</th>\n",
              "    </tr>\n",
              "  </thead>\n",
              "  <tbody>\n",
              "    <tr>\n",
              "      <th>168</th>\n",
              "      <td>M0169</td>\n",
              "      <td>1</td>\n",
              "      <td>1</td>\n",
              "      <td>Icard, Miss. Amelie</td>\n",
              "      <td>female</td>\n",
              "      <td>38.0</td>\n",
              "      <td>0</td>\n",
              "      <td>0</td>\n",
              "      <td>113572</td>\n",
              "      <td>80.0</td>\n",
              "      <td>B28</td>\n",
              "      <td>NaN</td>\n",
              "      <td>6</td>\n",
              "      <td>NaN</td>\n",
              "      <td>NaN</td>\n",
              "    </tr>\n",
              "    <tr>\n",
              "      <th>284</th>\n",
              "      <td>M0285</td>\n",
              "      <td>1</td>\n",
              "      <td>1</td>\n",
              "      <td>Stone, Mrs. George Nelson (Martha Evelyn)</td>\n",
              "      <td>female</td>\n",
              "      <td>62.0</td>\n",
              "      <td>0</td>\n",
              "      <td>0</td>\n",
              "      <td>113572</td>\n",
              "      <td>80.0</td>\n",
              "      <td>B28</td>\n",
              "      <td>NaN</td>\n",
              "      <td>6</td>\n",
              "      <td>NaN</td>\n",
              "      <td>Cincinatti, OH</td>\n",
              "    </tr>\n",
              "  </tbody>\n",
              "</table>\n",
              "</div>\n",
              "      <button class=\"colab-df-convert\" onclick=\"convertToInteractive('df-55aa9ca4-4ce1-4e98-8f45-8903fb84537c')\"\n",
              "              title=\"Convert this dataframe to an interactive table.\"\n",
              "              style=\"display:none;\">\n",
              "        \n",
              "  <svg xmlns=\"http://www.w3.org/2000/svg\" height=\"24px\"viewBox=\"0 0 24 24\"\n",
              "       width=\"24px\">\n",
              "    <path d=\"M0 0h24v24H0V0z\" fill=\"none\"/>\n",
              "    <path d=\"M18.56 5.44l.94 2.06.94-2.06 2.06-.94-2.06-.94-.94-2.06-.94 2.06-2.06.94zm-11 1L8.5 8.5l.94-2.06 2.06-.94-2.06-.94L8.5 2.5l-.94 2.06-2.06.94zm10 10l.94 2.06.94-2.06 2.06-.94-2.06-.94-.94-2.06-.94 2.06-2.06.94z\"/><path d=\"M17.41 7.96l-1.37-1.37c-.4-.4-.92-.59-1.43-.59-.52 0-1.04.2-1.43.59L10.3 9.45l-7.72 7.72c-.78.78-.78 2.05 0 2.83L4 21.41c.39.39.9.59 1.41.59.51 0 1.02-.2 1.41-.59l7.78-7.78 2.81-2.81c.8-.78.8-2.07 0-2.86zM5.41 20L4 18.59l7.72-7.72 1.47 1.35L5.41 20z\"/>\n",
              "  </svg>\n",
              "      </button>\n",
              "      \n",
              "  <style>\n",
              "    .colab-df-container {\n",
              "      display:flex;\n",
              "      flex-wrap:wrap;\n",
              "      gap: 12px;\n",
              "    }\n",
              "\n",
              "    .colab-df-convert {\n",
              "      background-color: #E8F0FE;\n",
              "      border: none;\n",
              "      border-radius: 50%;\n",
              "      cursor: pointer;\n",
              "      display: none;\n",
              "      fill: #1967D2;\n",
              "      height: 32px;\n",
              "      padding: 0 0 0 0;\n",
              "      width: 32px;\n",
              "    }\n",
              "\n",
              "    .colab-df-convert:hover {\n",
              "      background-color: #E2EBFA;\n",
              "      box-shadow: 0px 1px 2px rgba(60, 64, 67, 0.3), 0px 1px 3px 1px rgba(60, 64, 67, 0.15);\n",
              "      fill: #174EA6;\n",
              "    }\n",
              "\n",
              "    [theme=dark] .colab-df-convert {\n",
              "      background-color: #3B4455;\n",
              "      fill: #D2E3FC;\n",
              "    }\n",
              "\n",
              "    [theme=dark] .colab-df-convert:hover {\n",
              "      background-color: #434B5C;\n",
              "      box-shadow: 0px 1px 3px 1px rgba(0, 0, 0, 0.15);\n",
              "      filter: drop-shadow(0px 1px 2px rgba(0, 0, 0, 0.3));\n",
              "      fill: #FFFFFF;\n",
              "    }\n",
              "  </style>\n",
              "\n",
              "      <script>\n",
              "        const buttonEl =\n",
              "          document.querySelector('#df-55aa9ca4-4ce1-4e98-8f45-8903fb84537c button.colab-df-convert');\n",
              "        buttonEl.style.display =\n",
              "          google.colab.kernel.accessAllowed ? 'block' : 'none';\n",
              "\n",
              "        async function convertToInteractive(key) {\n",
              "          const element = document.querySelector('#df-55aa9ca4-4ce1-4e98-8f45-8903fb84537c');\n",
              "          const dataTable =\n",
              "            await google.colab.kernel.invokeFunction('convertToInteractive',\n",
              "                                                     [key], {});\n",
              "          if (!dataTable) return;\n",
              "\n",
              "          const docLinkHtml = 'Like what you see? Visit the ' +\n",
              "            '<a target=\"_blank\" href=https://colab.research.google.com/notebooks/data_table.ipynb>data table notebook</a>'\n",
              "            + ' to learn more about interactive tables.';\n",
              "          element.innerHTML = '';\n",
              "          dataTable['output_type'] = 'display_data';\n",
              "          await google.colab.output.renderOutput(dataTable, element);\n",
              "          const docLink = document.createElement('div');\n",
              "          docLink.innerHTML = docLinkHtml;\n",
              "          element.appendChild(docLink);\n",
              "        }\n",
              "      </script>\n",
              "    </div>\n",
              "  </div>\n",
              "  "
            ]
          },
          "metadata": {},
          "execution_count": 92
        }
      ]
    },
    {
      "cell_type": "markdown",
      "source": [
        "## **Menampilkan data yang embarked nya null**"
      ],
      "metadata": {
        "id": "Af3cwPKJpXNK"
      }
    },
    {
      "cell_type": "code",
      "source": [
        "user_data['embarked'].value_counts()"
      ],
      "metadata": {
        "colab": {
          "base_uri": "https://localhost:8080/",
          "height": 0
        },
        "id": "YwqLJlN_4Ebq",
        "outputId": "c00a0bd3-5117-4a85-ec3a-fcc3fa695dbf"
      },
      "execution_count": 93,
      "outputs": [
        {
          "output_type": "execute_result",
          "data": {
            "text/plain": [
              "S    914\n",
              "C    270\n",
              "Q    123\n",
              "Name: embarked, dtype: int64"
            ]
          },
          "metadata": {},
          "execution_count": 93
        }
      ]
    },
    {
      "cell_type": "markdown",
      "source": [
        "## **Menampilkan jumlah nilai embarked dan tipe datanya**"
      ],
      "metadata": {
        "id": "8H4BS4xCpdos"
      }
    },
    {
      "cell_type": "code",
      "source": [
        "mode_embarked = user_data['embarked'].mode()[0]\n",
        "mode_embarked"
      ],
      "metadata": {
        "colab": {
          "base_uri": "https://localhost:8080/",
          "height": 36
        },
        "id": "8nH-64aq4KRT",
        "outputId": "52ff8acf-12f2-4121-a4f7-0343f5470847"
      },
      "execution_count": 94,
      "outputs": [
        {
          "output_type": "execute_result",
          "data": {
            "text/plain": [
              "'S'"
            ],
            "application/vnd.google.colaboratory.intrinsic+json": {
              "type": "string"
            }
          },
          "metadata": {},
          "execution_count": 94
        }
      ]
    },
    {
      "cell_type": "code",
      "source": [
        "user_data['embarked'] = user_data['embarked'].fillna(mode_embarked)"
      ],
      "metadata": {
        "id": "OgV0mmft4PCD"
      },
      "execution_count": 95,
      "outputs": []
    },
    {
      "cell_type": "code",
      "source": [
        "user_data.isnull().sum()"
      ],
      "metadata": {
        "id": "D8XYDGFd4bK7",
        "outputId": "646d2d13-10f4-4ecb-8c70-662b0bd6ea05",
        "colab": {
          "base_uri": "https://localhost:8080/",
          "height": 0
        }
      },
      "execution_count": 96,
      "outputs": [
        {
          "output_type": "execute_result",
          "data": {
            "text/plain": [
              "user_id         0\n",
              "pclass          0\n",
              "survived        0\n",
              "name            0\n",
              "sex             0\n",
              "age             0\n",
              "sibsp           0\n",
              "parch           0\n",
              "ticket          0\n",
              "fare            0\n",
              "cabin           0\n",
              "embarked        0\n",
              "boat          823\n",
              "body         1188\n",
              "home.dest     564\n",
              "dtype: int64"
            ]
          },
          "metadata": {},
          "execution_count": 96
        }
      ]
    },
    {
      "cell_type": "markdown",
      "source": [
        "## **Maka missing value pada embarked sudah tidak ada**"
      ],
      "metadata": {
        "id": "aSkT2R7Nplfd"
      }
    },
    {
      "cell_type": "markdown",
      "source": [
        "##**Missing Value Data Boat**"
      ],
      "metadata": {
        "id": "om1IARle6Wch"
      }
    },
    {
      "cell_type": "code",
      "source": [
        "user_data[user_data['boat'].isnull()]"
      ],
      "metadata": {
        "colab": {
          "base_uri": "https://localhost:8080/",
          "height": 424
        },
        "id": "EDODVJHH9Ky-",
        "outputId": "3b10d124-07e3-4062-d664-cd96c72c5ecd"
      },
      "execution_count": 97,
      "outputs": [
        {
          "output_type": "execute_result",
          "data": {
            "text/plain": [
              "     user_id  pclass  survived  \\\n",
              "2      M0003       1         0   \n",
              "3      M0004       1         0   \n",
              "4      M0005       1         0   \n",
              "7      M0008       1         0   \n",
              "9      M0010       1         0   \n",
              "...      ...     ...       ...   \n",
              "1304   M1305       3         0   \n",
              "1305   M1306       3         0   \n",
              "1306   M1307       3         0   \n",
              "1307   M1308       3         0   \n",
              "1308   M1309       3         0   \n",
              "\n",
              "                                                 name     sex        age  \\\n",
              "2                        Allison, Miss. Helen Loraine  female   2.000000   \n",
              "3                Allison, Mr. Hudson Joshua Creighton    male  30.000000   \n",
              "4     Allison, Mrs. Hudson J C (Bessie Waldo Daniels)  female  25.000000   \n",
              "7                              Andrews, Mr. Thomas Jr    male  39.000000   \n",
              "9                             Artagaveytia, Mr. Ramon    male  71.000000   \n",
              "...                                               ...     ...        ...   \n",
              "1304                             Zabour, Miss. Hileni  female  14.500000   \n",
              "1305                            Zabour, Miss. Thamine  female  29.881138   \n",
              "1306                        Zakarian, Mr. Mapriededer    male  26.500000   \n",
              "1307                              Zakarian, Mr. Ortin    male  27.000000   \n",
              "1308                               Zimmerman, Mr. Leo    male  29.000000   \n",
              "\n",
              "      sibsp  parch    ticket      fare        cabin embarked boat   body  \\\n",
              "2         1      2    113781  151.5500      C22 C26        S  NaN    NaN   \n",
              "3         1      2    113781  151.5500      C22 C26        S  NaN  135.0   \n",
              "4         1      2    113781  151.5500      C22 C26        S  NaN    NaN   \n",
              "7         0      0    112050    0.0000          A36        S  NaN    NaN   \n",
              "9         0      0  PC 17609   49.5042  C23 C25 C27        C  NaN   22.0   \n",
              "...     ...    ...       ...       ...          ...      ...  ...    ...   \n",
              "1304      1      0      2665   14.4542  C23 C25 C27        C  NaN  328.0   \n",
              "1305      1      0      2665   14.4542  C23 C25 C27        C  NaN    NaN   \n",
              "1306      0      0      2656    7.2250  C23 C25 C27        C  NaN  304.0   \n",
              "1307      0      0      2670    7.2250  C23 C25 C27        C  NaN    NaN   \n",
              "1308      0      0    315082    7.8750  C23 C25 C27        S  NaN    NaN   \n",
              "\n",
              "                            home.dest  \n",
              "2     Montreal, PQ / Chesterville, ON  \n",
              "3     Montreal, PQ / Chesterville, ON  \n",
              "4     Montreal, PQ / Chesterville, ON  \n",
              "7                         Belfast, NI  \n",
              "9                 Montevideo, Uruguay  \n",
              "...                               ...  \n",
              "1304                              NaN  \n",
              "1305                              NaN  \n",
              "1306                              NaN  \n",
              "1307                              NaN  \n",
              "1308                              NaN  \n",
              "\n",
              "[823 rows x 15 columns]"
            ],
            "text/html": [
              "\n",
              "  <div id=\"df-25aa9b6c-ef41-40c1-9c1a-e74282d77af8\">\n",
              "    <div class=\"colab-df-container\">\n",
              "      <div>\n",
              "<style scoped>\n",
              "    .dataframe tbody tr th:only-of-type {\n",
              "        vertical-align: middle;\n",
              "    }\n",
              "\n",
              "    .dataframe tbody tr th {\n",
              "        vertical-align: top;\n",
              "    }\n",
              "\n",
              "    .dataframe thead th {\n",
              "        text-align: right;\n",
              "    }\n",
              "</style>\n",
              "<table border=\"1\" class=\"dataframe\">\n",
              "  <thead>\n",
              "    <tr style=\"text-align: right;\">\n",
              "      <th></th>\n",
              "      <th>user_id</th>\n",
              "      <th>pclass</th>\n",
              "      <th>survived</th>\n",
              "      <th>name</th>\n",
              "      <th>sex</th>\n",
              "      <th>age</th>\n",
              "      <th>sibsp</th>\n",
              "      <th>parch</th>\n",
              "      <th>ticket</th>\n",
              "      <th>fare</th>\n",
              "      <th>cabin</th>\n",
              "      <th>embarked</th>\n",
              "      <th>boat</th>\n",
              "      <th>body</th>\n",
              "      <th>home.dest</th>\n",
              "    </tr>\n",
              "  </thead>\n",
              "  <tbody>\n",
              "    <tr>\n",
              "      <th>2</th>\n",
              "      <td>M0003</td>\n",
              "      <td>1</td>\n",
              "      <td>0</td>\n",
              "      <td>Allison, Miss. Helen Loraine</td>\n",
              "      <td>female</td>\n",
              "      <td>2.000000</td>\n",
              "      <td>1</td>\n",
              "      <td>2</td>\n",
              "      <td>113781</td>\n",
              "      <td>151.5500</td>\n",
              "      <td>C22 C26</td>\n",
              "      <td>S</td>\n",
              "      <td>NaN</td>\n",
              "      <td>NaN</td>\n",
              "      <td>Montreal, PQ / Chesterville, ON</td>\n",
              "    </tr>\n",
              "    <tr>\n",
              "      <th>3</th>\n",
              "      <td>M0004</td>\n",
              "      <td>1</td>\n",
              "      <td>0</td>\n",
              "      <td>Allison, Mr. Hudson Joshua Creighton</td>\n",
              "      <td>male</td>\n",
              "      <td>30.000000</td>\n",
              "      <td>1</td>\n",
              "      <td>2</td>\n",
              "      <td>113781</td>\n",
              "      <td>151.5500</td>\n",
              "      <td>C22 C26</td>\n",
              "      <td>S</td>\n",
              "      <td>NaN</td>\n",
              "      <td>135.0</td>\n",
              "      <td>Montreal, PQ / Chesterville, ON</td>\n",
              "    </tr>\n",
              "    <tr>\n",
              "      <th>4</th>\n",
              "      <td>M0005</td>\n",
              "      <td>1</td>\n",
              "      <td>0</td>\n",
              "      <td>Allison, Mrs. Hudson J C (Bessie Waldo Daniels)</td>\n",
              "      <td>female</td>\n",
              "      <td>25.000000</td>\n",
              "      <td>1</td>\n",
              "      <td>2</td>\n",
              "      <td>113781</td>\n",
              "      <td>151.5500</td>\n",
              "      <td>C22 C26</td>\n",
              "      <td>S</td>\n",
              "      <td>NaN</td>\n",
              "      <td>NaN</td>\n",
              "      <td>Montreal, PQ / Chesterville, ON</td>\n",
              "    </tr>\n",
              "    <tr>\n",
              "      <th>7</th>\n",
              "      <td>M0008</td>\n",
              "      <td>1</td>\n",
              "      <td>0</td>\n",
              "      <td>Andrews, Mr. Thomas Jr</td>\n",
              "      <td>male</td>\n",
              "      <td>39.000000</td>\n",
              "      <td>0</td>\n",
              "      <td>0</td>\n",
              "      <td>112050</td>\n",
              "      <td>0.0000</td>\n",
              "      <td>A36</td>\n",
              "      <td>S</td>\n",
              "      <td>NaN</td>\n",
              "      <td>NaN</td>\n",
              "      <td>Belfast, NI</td>\n",
              "    </tr>\n",
              "    <tr>\n",
              "      <th>9</th>\n",
              "      <td>M0010</td>\n",
              "      <td>1</td>\n",
              "      <td>0</td>\n",
              "      <td>Artagaveytia, Mr. Ramon</td>\n",
              "      <td>male</td>\n",
              "      <td>71.000000</td>\n",
              "      <td>0</td>\n",
              "      <td>0</td>\n",
              "      <td>PC 17609</td>\n",
              "      <td>49.5042</td>\n",
              "      <td>C23 C25 C27</td>\n",
              "      <td>C</td>\n",
              "      <td>NaN</td>\n",
              "      <td>22.0</td>\n",
              "      <td>Montevideo, Uruguay</td>\n",
              "    </tr>\n",
              "    <tr>\n",
              "      <th>...</th>\n",
              "      <td>...</td>\n",
              "      <td>...</td>\n",
              "      <td>...</td>\n",
              "      <td>...</td>\n",
              "      <td>...</td>\n",
              "      <td>...</td>\n",
              "      <td>...</td>\n",
              "      <td>...</td>\n",
              "      <td>...</td>\n",
              "      <td>...</td>\n",
              "      <td>...</td>\n",
              "      <td>...</td>\n",
              "      <td>...</td>\n",
              "      <td>...</td>\n",
              "      <td>...</td>\n",
              "    </tr>\n",
              "    <tr>\n",
              "      <th>1304</th>\n",
              "      <td>M1305</td>\n",
              "      <td>3</td>\n",
              "      <td>0</td>\n",
              "      <td>Zabour, Miss. Hileni</td>\n",
              "      <td>female</td>\n",
              "      <td>14.500000</td>\n",
              "      <td>1</td>\n",
              "      <td>0</td>\n",
              "      <td>2665</td>\n",
              "      <td>14.4542</td>\n",
              "      <td>C23 C25 C27</td>\n",
              "      <td>C</td>\n",
              "      <td>NaN</td>\n",
              "      <td>328.0</td>\n",
              "      <td>NaN</td>\n",
              "    </tr>\n",
              "    <tr>\n",
              "      <th>1305</th>\n",
              "      <td>M1306</td>\n",
              "      <td>3</td>\n",
              "      <td>0</td>\n",
              "      <td>Zabour, Miss. Thamine</td>\n",
              "      <td>female</td>\n",
              "      <td>29.881138</td>\n",
              "      <td>1</td>\n",
              "      <td>0</td>\n",
              "      <td>2665</td>\n",
              "      <td>14.4542</td>\n",
              "      <td>C23 C25 C27</td>\n",
              "      <td>C</td>\n",
              "      <td>NaN</td>\n",
              "      <td>NaN</td>\n",
              "      <td>NaN</td>\n",
              "    </tr>\n",
              "    <tr>\n",
              "      <th>1306</th>\n",
              "      <td>M1307</td>\n",
              "      <td>3</td>\n",
              "      <td>0</td>\n",
              "      <td>Zakarian, Mr. Mapriededer</td>\n",
              "      <td>male</td>\n",
              "      <td>26.500000</td>\n",
              "      <td>0</td>\n",
              "      <td>0</td>\n",
              "      <td>2656</td>\n",
              "      <td>7.2250</td>\n",
              "      <td>C23 C25 C27</td>\n",
              "      <td>C</td>\n",
              "      <td>NaN</td>\n",
              "      <td>304.0</td>\n",
              "      <td>NaN</td>\n",
              "    </tr>\n",
              "    <tr>\n",
              "      <th>1307</th>\n",
              "      <td>M1308</td>\n",
              "      <td>3</td>\n",
              "      <td>0</td>\n",
              "      <td>Zakarian, Mr. Ortin</td>\n",
              "      <td>male</td>\n",
              "      <td>27.000000</td>\n",
              "      <td>0</td>\n",
              "      <td>0</td>\n",
              "      <td>2670</td>\n",
              "      <td>7.2250</td>\n",
              "      <td>C23 C25 C27</td>\n",
              "      <td>C</td>\n",
              "      <td>NaN</td>\n",
              "      <td>NaN</td>\n",
              "      <td>NaN</td>\n",
              "    </tr>\n",
              "    <tr>\n",
              "      <th>1308</th>\n",
              "      <td>M1309</td>\n",
              "      <td>3</td>\n",
              "      <td>0</td>\n",
              "      <td>Zimmerman, Mr. Leo</td>\n",
              "      <td>male</td>\n",
              "      <td>29.000000</td>\n",
              "      <td>0</td>\n",
              "      <td>0</td>\n",
              "      <td>315082</td>\n",
              "      <td>7.8750</td>\n",
              "      <td>C23 C25 C27</td>\n",
              "      <td>S</td>\n",
              "      <td>NaN</td>\n",
              "      <td>NaN</td>\n",
              "      <td>NaN</td>\n",
              "    </tr>\n",
              "  </tbody>\n",
              "</table>\n",
              "<p>823 rows × 15 columns</p>\n",
              "</div>\n",
              "      <button class=\"colab-df-convert\" onclick=\"convertToInteractive('df-25aa9b6c-ef41-40c1-9c1a-e74282d77af8')\"\n",
              "              title=\"Convert this dataframe to an interactive table.\"\n",
              "              style=\"display:none;\">\n",
              "        \n",
              "  <svg xmlns=\"http://www.w3.org/2000/svg\" height=\"24px\"viewBox=\"0 0 24 24\"\n",
              "       width=\"24px\">\n",
              "    <path d=\"M0 0h24v24H0V0z\" fill=\"none\"/>\n",
              "    <path d=\"M18.56 5.44l.94 2.06.94-2.06 2.06-.94-2.06-.94-.94-2.06-.94 2.06-2.06.94zm-11 1L8.5 8.5l.94-2.06 2.06-.94-2.06-.94L8.5 2.5l-.94 2.06-2.06.94zm10 10l.94 2.06.94-2.06 2.06-.94-2.06-.94-.94-2.06-.94 2.06-2.06.94z\"/><path d=\"M17.41 7.96l-1.37-1.37c-.4-.4-.92-.59-1.43-.59-.52 0-1.04.2-1.43.59L10.3 9.45l-7.72 7.72c-.78.78-.78 2.05 0 2.83L4 21.41c.39.39.9.59 1.41.59.51 0 1.02-.2 1.41-.59l7.78-7.78 2.81-2.81c.8-.78.8-2.07 0-2.86zM5.41 20L4 18.59l7.72-7.72 1.47 1.35L5.41 20z\"/>\n",
              "  </svg>\n",
              "      </button>\n",
              "      \n",
              "  <style>\n",
              "    .colab-df-container {\n",
              "      display:flex;\n",
              "      flex-wrap:wrap;\n",
              "      gap: 12px;\n",
              "    }\n",
              "\n",
              "    .colab-df-convert {\n",
              "      background-color: #E8F0FE;\n",
              "      border: none;\n",
              "      border-radius: 50%;\n",
              "      cursor: pointer;\n",
              "      display: none;\n",
              "      fill: #1967D2;\n",
              "      height: 32px;\n",
              "      padding: 0 0 0 0;\n",
              "      width: 32px;\n",
              "    }\n",
              "\n",
              "    .colab-df-convert:hover {\n",
              "      background-color: #E2EBFA;\n",
              "      box-shadow: 0px 1px 2px rgba(60, 64, 67, 0.3), 0px 1px 3px 1px rgba(60, 64, 67, 0.15);\n",
              "      fill: #174EA6;\n",
              "    }\n",
              "\n",
              "    [theme=dark] .colab-df-convert {\n",
              "      background-color: #3B4455;\n",
              "      fill: #D2E3FC;\n",
              "    }\n",
              "\n",
              "    [theme=dark] .colab-df-convert:hover {\n",
              "      background-color: #434B5C;\n",
              "      box-shadow: 0px 1px 3px 1px rgba(0, 0, 0, 0.15);\n",
              "      filter: drop-shadow(0px 1px 2px rgba(0, 0, 0, 0.3));\n",
              "      fill: #FFFFFF;\n",
              "    }\n",
              "  </style>\n",
              "\n",
              "      <script>\n",
              "        const buttonEl =\n",
              "          document.querySelector('#df-25aa9b6c-ef41-40c1-9c1a-e74282d77af8 button.colab-df-convert');\n",
              "        buttonEl.style.display =\n",
              "          google.colab.kernel.accessAllowed ? 'block' : 'none';\n",
              "\n",
              "        async function convertToInteractive(key) {\n",
              "          const element = document.querySelector('#df-25aa9b6c-ef41-40c1-9c1a-e74282d77af8');\n",
              "          const dataTable =\n",
              "            await google.colab.kernel.invokeFunction('convertToInteractive',\n",
              "                                                     [key], {});\n",
              "          if (!dataTable) return;\n",
              "\n",
              "          const docLinkHtml = 'Like what you see? Visit the ' +\n",
              "            '<a target=\"_blank\" href=https://colab.research.google.com/notebooks/data_table.ipynb>data table notebook</a>'\n",
              "            + ' to learn more about interactive tables.';\n",
              "          element.innerHTML = '';\n",
              "          dataTable['output_type'] = 'display_data';\n",
              "          await google.colab.output.renderOutput(dataTable, element);\n",
              "          const docLink = document.createElement('div');\n",
              "          docLink.innerHTML = docLinkHtml;\n",
              "          element.appendChild(docLink);\n",
              "        }\n",
              "      </script>\n",
              "    </div>\n",
              "  </div>\n",
              "  "
            ]
          },
          "metadata": {},
          "execution_count": 97
        }
      ]
    },
    {
      "cell_type": "markdown",
      "source": [
        "## **menampilkan data dengan mengecek missing value berdasarkan kolom boat**"
      ],
      "metadata": {
        "id": "Czu6lIaypqja"
      }
    },
    {
      "cell_type": "code",
      "source": [
        "user_data['boat'].value_counts()"
      ],
      "metadata": {
        "colab": {
          "base_uri": "https://localhost:8080/",
          "height": 0
        },
        "id": "5AYjBuEG9URR",
        "outputId": "a3466894-6341-4400-f8b3-2efb440334df"
      },
      "execution_count": 98,
      "outputs": [
        {
          "output_type": "execute_result",
          "data": {
            "text/plain": [
              "13         39\n",
              "C          38\n",
              "15         37\n",
              "14         33\n",
              "4          31\n",
              "10         29\n",
              "5          27\n",
              "3          26\n",
              "9          25\n",
              "11         25\n",
              "16         23\n",
              "8          23\n",
              "7          23\n",
              "D          20\n",
              "6          20\n",
              "12         19\n",
              "2          13\n",
              "A          11\n",
              "B           9\n",
              "1           5\n",
              "5 7         2\n",
              "C D         2\n",
              "13 15       2\n",
              "5 9         1\n",
              "8 10        1\n",
              "13 15 B     1\n",
              "15 16       1\n",
              "Name: boat, dtype: int64"
            ]
          },
          "metadata": {},
          "execution_count": 98
        }
      ]
    },
    {
      "cell_type": "markdown",
      "source": [
        "## **Menampilkan jumlah dari nama boat dan tipe datanya**"
      ],
      "metadata": {
        "id": "qX2trWoNpx5C"
      }
    },
    {
      "cell_type": "code",
      "source": [
        "mode_boat = user_data['boat'].mode()[0]\n",
        "mode_boat"
      ],
      "metadata": {
        "colab": {
          "base_uri": "https://localhost:8080/",
          "height": 36
        },
        "id": "EB9LgWtq9gBA",
        "outputId": "1e7ee0a9-9aa2-40ae-ec03-849aae184846"
      },
      "execution_count": 99,
      "outputs": [
        {
          "output_type": "execute_result",
          "data": {
            "text/plain": [
              "'13'"
            ],
            "application/vnd.google.colaboratory.intrinsic+json": {
              "type": "string"
            }
          },
          "metadata": {},
          "execution_count": 99
        }
      ]
    },
    {
      "cell_type": "code",
      "source": [
        "user_data['boat'] = user_data['boat'].fillna(mode_boat)"
      ],
      "metadata": {
        "id": "EsK-JI6c9qwW"
      },
      "execution_count": 100,
      "outputs": []
    },
    {
      "cell_type": "code",
      "source": [
        "user_data.isnull().sum()"
      ],
      "metadata": {
        "colab": {
          "base_uri": "https://localhost:8080/",
          "height": 0
        },
        "id": "nhqyv6Hh9zx3",
        "outputId": "d38ae590-400f-4999-f3ad-64aabfa43bfa"
      },
      "execution_count": 101,
      "outputs": [
        {
          "output_type": "execute_result",
          "data": {
            "text/plain": [
              "user_id         0\n",
              "pclass          0\n",
              "survived        0\n",
              "name            0\n",
              "sex             0\n",
              "age             0\n",
              "sibsp           0\n",
              "parch           0\n",
              "ticket          0\n",
              "fare            0\n",
              "cabin           0\n",
              "embarked        0\n",
              "boat            0\n",
              "body         1188\n",
              "home.dest     564\n",
              "dtype: int64"
            ]
          },
          "metadata": {},
          "execution_count": 101
        }
      ]
    },
    {
      "cell_type": "markdown",
      "source": [
        "## **Saat dicek lagi maka missing value pada boat sudah tidak ada**"
      ],
      "metadata": {
        "id": "xj2GBHJPp5Jx"
      }
    },
    {
      "cell_type": "markdown",
      "source": [
        "##**Missing Value Data Body**"
      ],
      "metadata": {
        "id": "3Snq5boR99TT"
      }
    },
    {
      "cell_type": "code",
      "source": [
        "user_data[user_data['body'].isnull()]"
      ],
      "metadata": {
        "colab": {
          "base_uri": "https://localhost:8080/",
          "height": 424
        },
        "id": "oCqSLcod9-ab",
        "outputId": "3a15309a-04ff-4075-9b52-3e019889b3b5"
      },
      "execution_count": 102,
      "outputs": [
        {
          "output_type": "execute_result",
          "data": {
            "text/plain": [
              "     user_id  pclass  survived  \\\n",
              "0      M0001       1         1   \n",
              "1      M0002       1         1   \n",
              "2      M0003       1         0   \n",
              "4      M0005       1         0   \n",
              "5      M0006       1         1   \n",
              "...      ...     ...       ...   \n",
              "1302   M1303       3         0   \n",
              "1303   M1304       3         0   \n",
              "1305   M1306       3         0   \n",
              "1307   M1308       3         0   \n",
              "1308   M1309       3         0   \n",
              "\n",
              "                                                 name     sex        age  \\\n",
              "0                       Allen, Miss. Elisabeth Walton  female  29.000000   \n",
              "1                      Allison, Master. Hudson Trevor    male   0.920000   \n",
              "2                        Allison, Miss. Helen Loraine  female   2.000000   \n",
              "4     Allison, Mrs. Hudson J C (Bessie Waldo Daniels)  female  25.000000   \n",
              "5                                 Anderson, Mr. Harry    male  48.000000   \n",
              "...                                               ...     ...        ...   \n",
              "1302                                Yousif, Mr. Wazli    male  29.881138   \n",
              "1303                            Yousseff, Mr. Gerious    male  29.881138   \n",
              "1305                            Zabour, Miss. Thamine  female  29.881138   \n",
              "1307                              Zakarian, Mr. Ortin    male  27.000000   \n",
              "1308                               Zimmerman, Mr. Leo    male  29.000000   \n",
              "\n",
              "      sibsp  parch  ticket      fare        cabin embarked boat  body  \\\n",
              "0         0      0   24160  211.3375           B5        S    2   NaN   \n",
              "1         1      2  113781  151.5500      C22 C26        S   11   NaN   \n",
              "2         1      2  113781  151.5500      C22 C26        S   13   NaN   \n",
              "4         1      2  113781  151.5500      C22 C26        S   13   NaN   \n",
              "5         0      0   19952   26.5500          E12        S    3   NaN   \n",
              "...     ...    ...     ...       ...          ...      ...  ...   ...   \n",
              "1302      0      0    2647    7.2250  C23 C25 C27        C   13   NaN   \n",
              "1303      0      0    2627   14.4583  C23 C25 C27        C   13   NaN   \n",
              "1305      1      0    2665   14.4542  C23 C25 C27        C   13   NaN   \n",
              "1307      0      0    2670    7.2250  C23 C25 C27        C   13   NaN   \n",
              "1308      0      0  315082    7.8750  C23 C25 C27        S   13   NaN   \n",
              "\n",
              "                            home.dest  \n",
              "0                        St Louis, MO  \n",
              "1     Montreal, PQ / Chesterville, ON  \n",
              "2     Montreal, PQ / Chesterville, ON  \n",
              "4     Montreal, PQ / Chesterville, ON  \n",
              "5                        New York, NY  \n",
              "...                               ...  \n",
              "1302                              NaN  \n",
              "1303                              NaN  \n",
              "1305                              NaN  \n",
              "1307                              NaN  \n",
              "1308                              NaN  \n",
              "\n",
              "[1188 rows x 15 columns]"
            ],
            "text/html": [
              "\n",
              "  <div id=\"df-5e0f73a7-268b-4f06-8d45-61a8f3770ae2\">\n",
              "    <div class=\"colab-df-container\">\n",
              "      <div>\n",
              "<style scoped>\n",
              "    .dataframe tbody tr th:only-of-type {\n",
              "        vertical-align: middle;\n",
              "    }\n",
              "\n",
              "    .dataframe tbody tr th {\n",
              "        vertical-align: top;\n",
              "    }\n",
              "\n",
              "    .dataframe thead th {\n",
              "        text-align: right;\n",
              "    }\n",
              "</style>\n",
              "<table border=\"1\" class=\"dataframe\">\n",
              "  <thead>\n",
              "    <tr style=\"text-align: right;\">\n",
              "      <th></th>\n",
              "      <th>user_id</th>\n",
              "      <th>pclass</th>\n",
              "      <th>survived</th>\n",
              "      <th>name</th>\n",
              "      <th>sex</th>\n",
              "      <th>age</th>\n",
              "      <th>sibsp</th>\n",
              "      <th>parch</th>\n",
              "      <th>ticket</th>\n",
              "      <th>fare</th>\n",
              "      <th>cabin</th>\n",
              "      <th>embarked</th>\n",
              "      <th>boat</th>\n",
              "      <th>body</th>\n",
              "      <th>home.dest</th>\n",
              "    </tr>\n",
              "  </thead>\n",
              "  <tbody>\n",
              "    <tr>\n",
              "      <th>0</th>\n",
              "      <td>M0001</td>\n",
              "      <td>1</td>\n",
              "      <td>1</td>\n",
              "      <td>Allen, Miss. Elisabeth Walton</td>\n",
              "      <td>female</td>\n",
              "      <td>29.000000</td>\n",
              "      <td>0</td>\n",
              "      <td>0</td>\n",
              "      <td>24160</td>\n",
              "      <td>211.3375</td>\n",
              "      <td>B5</td>\n",
              "      <td>S</td>\n",
              "      <td>2</td>\n",
              "      <td>NaN</td>\n",
              "      <td>St Louis, MO</td>\n",
              "    </tr>\n",
              "    <tr>\n",
              "      <th>1</th>\n",
              "      <td>M0002</td>\n",
              "      <td>1</td>\n",
              "      <td>1</td>\n",
              "      <td>Allison, Master. Hudson Trevor</td>\n",
              "      <td>male</td>\n",
              "      <td>0.920000</td>\n",
              "      <td>1</td>\n",
              "      <td>2</td>\n",
              "      <td>113781</td>\n",
              "      <td>151.5500</td>\n",
              "      <td>C22 C26</td>\n",
              "      <td>S</td>\n",
              "      <td>11</td>\n",
              "      <td>NaN</td>\n",
              "      <td>Montreal, PQ / Chesterville, ON</td>\n",
              "    </tr>\n",
              "    <tr>\n",
              "      <th>2</th>\n",
              "      <td>M0003</td>\n",
              "      <td>1</td>\n",
              "      <td>0</td>\n",
              "      <td>Allison, Miss. Helen Loraine</td>\n",
              "      <td>female</td>\n",
              "      <td>2.000000</td>\n",
              "      <td>1</td>\n",
              "      <td>2</td>\n",
              "      <td>113781</td>\n",
              "      <td>151.5500</td>\n",
              "      <td>C22 C26</td>\n",
              "      <td>S</td>\n",
              "      <td>13</td>\n",
              "      <td>NaN</td>\n",
              "      <td>Montreal, PQ / Chesterville, ON</td>\n",
              "    </tr>\n",
              "    <tr>\n",
              "      <th>4</th>\n",
              "      <td>M0005</td>\n",
              "      <td>1</td>\n",
              "      <td>0</td>\n",
              "      <td>Allison, Mrs. Hudson J C (Bessie Waldo Daniels)</td>\n",
              "      <td>female</td>\n",
              "      <td>25.000000</td>\n",
              "      <td>1</td>\n",
              "      <td>2</td>\n",
              "      <td>113781</td>\n",
              "      <td>151.5500</td>\n",
              "      <td>C22 C26</td>\n",
              "      <td>S</td>\n",
              "      <td>13</td>\n",
              "      <td>NaN</td>\n",
              "      <td>Montreal, PQ / Chesterville, ON</td>\n",
              "    </tr>\n",
              "    <tr>\n",
              "      <th>5</th>\n",
              "      <td>M0006</td>\n",
              "      <td>1</td>\n",
              "      <td>1</td>\n",
              "      <td>Anderson, Mr. Harry</td>\n",
              "      <td>male</td>\n",
              "      <td>48.000000</td>\n",
              "      <td>0</td>\n",
              "      <td>0</td>\n",
              "      <td>19952</td>\n",
              "      <td>26.5500</td>\n",
              "      <td>E12</td>\n",
              "      <td>S</td>\n",
              "      <td>3</td>\n",
              "      <td>NaN</td>\n",
              "      <td>New York, NY</td>\n",
              "    </tr>\n",
              "    <tr>\n",
              "      <th>...</th>\n",
              "      <td>...</td>\n",
              "      <td>...</td>\n",
              "      <td>...</td>\n",
              "      <td>...</td>\n",
              "      <td>...</td>\n",
              "      <td>...</td>\n",
              "      <td>...</td>\n",
              "      <td>...</td>\n",
              "      <td>...</td>\n",
              "      <td>...</td>\n",
              "      <td>...</td>\n",
              "      <td>...</td>\n",
              "      <td>...</td>\n",
              "      <td>...</td>\n",
              "      <td>...</td>\n",
              "    </tr>\n",
              "    <tr>\n",
              "      <th>1302</th>\n",
              "      <td>M1303</td>\n",
              "      <td>3</td>\n",
              "      <td>0</td>\n",
              "      <td>Yousif, Mr. Wazli</td>\n",
              "      <td>male</td>\n",
              "      <td>29.881138</td>\n",
              "      <td>0</td>\n",
              "      <td>0</td>\n",
              "      <td>2647</td>\n",
              "      <td>7.2250</td>\n",
              "      <td>C23 C25 C27</td>\n",
              "      <td>C</td>\n",
              "      <td>13</td>\n",
              "      <td>NaN</td>\n",
              "      <td>NaN</td>\n",
              "    </tr>\n",
              "    <tr>\n",
              "      <th>1303</th>\n",
              "      <td>M1304</td>\n",
              "      <td>3</td>\n",
              "      <td>0</td>\n",
              "      <td>Yousseff, Mr. Gerious</td>\n",
              "      <td>male</td>\n",
              "      <td>29.881138</td>\n",
              "      <td>0</td>\n",
              "      <td>0</td>\n",
              "      <td>2627</td>\n",
              "      <td>14.4583</td>\n",
              "      <td>C23 C25 C27</td>\n",
              "      <td>C</td>\n",
              "      <td>13</td>\n",
              "      <td>NaN</td>\n",
              "      <td>NaN</td>\n",
              "    </tr>\n",
              "    <tr>\n",
              "      <th>1305</th>\n",
              "      <td>M1306</td>\n",
              "      <td>3</td>\n",
              "      <td>0</td>\n",
              "      <td>Zabour, Miss. Thamine</td>\n",
              "      <td>female</td>\n",
              "      <td>29.881138</td>\n",
              "      <td>1</td>\n",
              "      <td>0</td>\n",
              "      <td>2665</td>\n",
              "      <td>14.4542</td>\n",
              "      <td>C23 C25 C27</td>\n",
              "      <td>C</td>\n",
              "      <td>13</td>\n",
              "      <td>NaN</td>\n",
              "      <td>NaN</td>\n",
              "    </tr>\n",
              "    <tr>\n",
              "      <th>1307</th>\n",
              "      <td>M1308</td>\n",
              "      <td>3</td>\n",
              "      <td>0</td>\n",
              "      <td>Zakarian, Mr. Ortin</td>\n",
              "      <td>male</td>\n",
              "      <td>27.000000</td>\n",
              "      <td>0</td>\n",
              "      <td>0</td>\n",
              "      <td>2670</td>\n",
              "      <td>7.2250</td>\n",
              "      <td>C23 C25 C27</td>\n",
              "      <td>C</td>\n",
              "      <td>13</td>\n",
              "      <td>NaN</td>\n",
              "      <td>NaN</td>\n",
              "    </tr>\n",
              "    <tr>\n",
              "      <th>1308</th>\n",
              "      <td>M1309</td>\n",
              "      <td>3</td>\n",
              "      <td>0</td>\n",
              "      <td>Zimmerman, Mr. Leo</td>\n",
              "      <td>male</td>\n",
              "      <td>29.000000</td>\n",
              "      <td>0</td>\n",
              "      <td>0</td>\n",
              "      <td>315082</td>\n",
              "      <td>7.8750</td>\n",
              "      <td>C23 C25 C27</td>\n",
              "      <td>S</td>\n",
              "      <td>13</td>\n",
              "      <td>NaN</td>\n",
              "      <td>NaN</td>\n",
              "    </tr>\n",
              "  </tbody>\n",
              "</table>\n",
              "<p>1188 rows × 15 columns</p>\n",
              "</div>\n",
              "      <button class=\"colab-df-convert\" onclick=\"convertToInteractive('df-5e0f73a7-268b-4f06-8d45-61a8f3770ae2')\"\n",
              "              title=\"Convert this dataframe to an interactive table.\"\n",
              "              style=\"display:none;\">\n",
              "        \n",
              "  <svg xmlns=\"http://www.w3.org/2000/svg\" height=\"24px\"viewBox=\"0 0 24 24\"\n",
              "       width=\"24px\">\n",
              "    <path d=\"M0 0h24v24H0V0z\" fill=\"none\"/>\n",
              "    <path d=\"M18.56 5.44l.94 2.06.94-2.06 2.06-.94-2.06-.94-.94-2.06-.94 2.06-2.06.94zm-11 1L8.5 8.5l.94-2.06 2.06-.94-2.06-.94L8.5 2.5l-.94 2.06-2.06.94zm10 10l.94 2.06.94-2.06 2.06-.94-2.06-.94-.94-2.06-.94 2.06-2.06.94z\"/><path d=\"M17.41 7.96l-1.37-1.37c-.4-.4-.92-.59-1.43-.59-.52 0-1.04.2-1.43.59L10.3 9.45l-7.72 7.72c-.78.78-.78 2.05 0 2.83L4 21.41c.39.39.9.59 1.41.59.51 0 1.02-.2 1.41-.59l7.78-7.78 2.81-2.81c.8-.78.8-2.07 0-2.86zM5.41 20L4 18.59l7.72-7.72 1.47 1.35L5.41 20z\"/>\n",
              "  </svg>\n",
              "      </button>\n",
              "      \n",
              "  <style>\n",
              "    .colab-df-container {\n",
              "      display:flex;\n",
              "      flex-wrap:wrap;\n",
              "      gap: 12px;\n",
              "    }\n",
              "\n",
              "    .colab-df-convert {\n",
              "      background-color: #E8F0FE;\n",
              "      border: none;\n",
              "      border-radius: 50%;\n",
              "      cursor: pointer;\n",
              "      display: none;\n",
              "      fill: #1967D2;\n",
              "      height: 32px;\n",
              "      padding: 0 0 0 0;\n",
              "      width: 32px;\n",
              "    }\n",
              "\n",
              "    .colab-df-convert:hover {\n",
              "      background-color: #E2EBFA;\n",
              "      box-shadow: 0px 1px 2px rgba(60, 64, 67, 0.3), 0px 1px 3px 1px rgba(60, 64, 67, 0.15);\n",
              "      fill: #174EA6;\n",
              "    }\n",
              "\n",
              "    [theme=dark] .colab-df-convert {\n",
              "      background-color: #3B4455;\n",
              "      fill: #D2E3FC;\n",
              "    }\n",
              "\n",
              "    [theme=dark] .colab-df-convert:hover {\n",
              "      background-color: #434B5C;\n",
              "      box-shadow: 0px 1px 3px 1px rgba(0, 0, 0, 0.15);\n",
              "      filter: drop-shadow(0px 1px 2px rgba(0, 0, 0, 0.3));\n",
              "      fill: #FFFFFF;\n",
              "    }\n",
              "  </style>\n",
              "\n",
              "      <script>\n",
              "        const buttonEl =\n",
              "          document.querySelector('#df-5e0f73a7-268b-4f06-8d45-61a8f3770ae2 button.colab-df-convert');\n",
              "        buttonEl.style.display =\n",
              "          google.colab.kernel.accessAllowed ? 'block' : 'none';\n",
              "\n",
              "        async function convertToInteractive(key) {\n",
              "          const element = document.querySelector('#df-5e0f73a7-268b-4f06-8d45-61a8f3770ae2');\n",
              "          const dataTable =\n",
              "            await google.colab.kernel.invokeFunction('convertToInteractive',\n",
              "                                                     [key], {});\n",
              "          if (!dataTable) return;\n",
              "\n",
              "          const docLinkHtml = 'Like what you see? Visit the ' +\n",
              "            '<a target=\"_blank\" href=https://colab.research.google.com/notebooks/data_table.ipynb>data table notebook</a>'\n",
              "            + ' to learn more about interactive tables.';\n",
              "          element.innerHTML = '';\n",
              "          dataTable['output_type'] = 'display_data';\n",
              "          await google.colab.output.renderOutput(dataTable, element);\n",
              "          const docLink = document.createElement('div');\n",
              "          docLink.innerHTML = docLinkHtml;\n",
              "          element.appendChild(docLink);\n",
              "        }\n",
              "      </script>\n",
              "    </div>\n",
              "  </div>\n",
              "  "
            ]
          },
          "metadata": {},
          "execution_count": 102
        }
      ]
    },
    {
      "cell_type": "markdown",
      "source": [
        "## **menampilkan semua data berdasarkan mengecek missing value pada kolom body**"
      ],
      "metadata": {
        "id": "_EzPo8bmp_kT"
      }
    },
    {
      "cell_type": "code",
      "source": [
        "mean_body = user_data['body'].mean()\n",
        "mean_body"
      ],
      "metadata": {
        "colab": {
          "base_uri": "https://localhost:8080/",
          "height": 0
        },
        "id": "SOHchDjg-NTb",
        "outputId": "43eb31d9-e62e-4034-81cc-d020d7f95d55"
      },
      "execution_count": 103,
      "outputs": [
        {
          "output_type": "execute_result",
          "data": {
            "text/plain": [
              "160.8099173553719"
            ]
          },
          "metadata": {},
          "execution_count": 103
        }
      ]
    },
    {
      "cell_type": "markdown",
      "source": [
        "## **menampilkan rata-rata dari kolom body**"
      ],
      "metadata": {
        "id": "QlT-E5gjqJ7l"
      }
    },
    {
      "cell_type": "code",
      "source": [
        "user_data['body'] = user_data[\"body\"].fillna(mean_body)"
      ],
      "metadata": {
        "id": "0G_ZpNQX6Z9p"
      },
      "execution_count": 104,
      "outputs": []
    },
    {
      "cell_type": "code",
      "source": [
        "user_data[user_data['body'].isnull()]"
      ],
      "metadata": {
        "id": "_jDgi2kc6aBe",
        "colab": {
          "base_uri": "https://localhost:8080/",
          "height": 50
        },
        "outputId": "31e2c52b-e5f1-489d-bc72-599f57058ce2"
      },
      "execution_count": 105,
      "outputs": [
        {
          "output_type": "execute_result",
          "data": {
            "text/plain": [
              "Empty DataFrame\n",
              "Columns: [user_id, pclass, survived, name, sex, age, sibsp, parch, ticket, fare, cabin, embarked, boat, body, home.dest]\n",
              "Index: []"
            ],
            "text/html": [
              "\n",
              "  <div id=\"df-0301c966-edda-413f-8eb5-eda3121e3e6c\">\n",
              "    <div class=\"colab-df-container\">\n",
              "      <div>\n",
              "<style scoped>\n",
              "    .dataframe tbody tr th:only-of-type {\n",
              "        vertical-align: middle;\n",
              "    }\n",
              "\n",
              "    .dataframe tbody tr th {\n",
              "        vertical-align: top;\n",
              "    }\n",
              "\n",
              "    .dataframe thead th {\n",
              "        text-align: right;\n",
              "    }\n",
              "</style>\n",
              "<table border=\"1\" class=\"dataframe\">\n",
              "  <thead>\n",
              "    <tr style=\"text-align: right;\">\n",
              "      <th></th>\n",
              "      <th>user_id</th>\n",
              "      <th>pclass</th>\n",
              "      <th>survived</th>\n",
              "      <th>name</th>\n",
              "      <th>sex</th>\n",
              "      <th>age</th>\n",
              "      <th>sibsp</th>\n",
              "      <th>parch</th>\n",
              "      <th>ticket</th>\n",
              "      <th>fare</th>\n",
              "      <th>cabin</th>\n",
              "      <th>embarked</th>\n",
              "      <th>boat</th>\n",
              "      <th>body</th>\n",
              "      <th>home.dest</th>\n",
              "    </tr>\n",
              "  </thead>\n",
              "  <tbody>\n",
              "  </tbody>\n",
              "</table>\n",
              "</div>\n",
              "      <button class=\"colab-df-convert\" onclick=\"convertToInteractive('df-0301c966-edda-413f-8eb5-eda3121e3e6c')\"\n",
              "              title=\"Convert this dataframe to an interactive table.\"\n",
              "              style=\"display:none;\">\n",
              "        \n",
              "  <svg xmlns=\"http://www.w3.org/2000/svg\" height=\"24px\"viewBox=\"0 0 24 24\"\n",
              "       width=\"24px\">\n",
              "    <path d=\"M0 0h24v24H0V0z\" fill=\"none\"/>\n",
              "    <path d=\"M18.56 5.44l.94 2.06.94-2.06 2.06-.94-2.06-.94-.94-2.06-.94 2.06-2.06.94zm-11 1L8.5 8.5l.94-2.06 2.06-.94-2.06-.94L8.5 2.5l-.94 2.06-2.06.94zm10 10l.94 2.06.94-2.06 2.06-.94-2.06-.94-.94-2.06-.94 2.06-2.06.94z\"/><path d=\"M17.41 7.96l-1.37-1.37c-.4-.4-.92-.59-1.43-.59-.52 0-1.04.2-1.43.59L10.3 9.45l-7.72 7.72c-.78.78-.78 2.05 0 2.83L4 21.41c.39.39.9.59 1.41.59.51 0 1.02-.2 1.41-.59l7.78-7.78 2.81-2.81c.8-.78.8-2.07 0-2.86zM5.41 20L4 18.59l7.72-7.72 1.47 1.35L5.41 20z\"/>\n",
              "  </svg>\n",
              "      </button>\n",
              "      \n",
              "  <style>\n",
              "    .colab-df-container {\n",
              "      display:flex;\n",
              "      flex-wrap:wrap;\n",
              "      gap: 12px;\n",
              "    }\n",
              "\n",
              "    .colab-df-convert {\n",
              "      background-color: #E8F0FE;\n",
              "      border: none;\n",
              "      border-radius: 50%;\n",
              "      cursor: pointer;\n",
              "      display: none;\n",
              "      fill: #1967D2;\n",
              "      height: 32px;\n",
              "      padding: 0 0 0 0;\n",
              "      width: 32px;\n",
              "    }\n",
              "\n",
              "    .colab-df-convert:hover {\n",
              "      background-color: #E2EBFA;\n",
              "      box-shadow: 0px 1px 2px rgba(60, 64, 67, 0.3), 0px 1px 3px 1px rgba(60, 64, 67, 0.15);\n",
              "      fill: #174EA6;\n",
              "    }\n",
              "\n",
              "    [theme=dark] .colab-df-convert {\n",
              "      background-color: #3B4455;\n",
              "      fill: #D2E3FC;\n",
              "    }\n",
              "\n",
              "    [theme=dark] .colab-df-convert:hover {\n",
              "      background-color: #434B5C;\n",
              "      box-shadow: 0px 1px 3px 1px rgba(0, 0, 0, 0.15);\n",
              "      filter: drop-shadow(0px 1px 2px rgba(0, 0, 0, 0.3));\n",
              "      fill: #FFFFFF;\n",
              "    }\n",
              "  </style>\n",
              "\n",
              "      <script>\n",
              "        const buttonEl =\n",
              "          document.querySelector('#df-0301c966-edda-413f-8eb5-eda3121e3e6c button.colab-df-convert');\n",
              "        buttonEl.style.display =\n",
              "          google.colab.kernel.accessAllowed ? 'block' : 'none';\n",
              "\n",
              "        async function convertToInteractive(key) {\n",
              "          const element = document.querySelector('#df-0301c966-edda-413f-8eb5-eda3121e3e6c');\n",
              "          const dataTable =\n",
              "            await google.colab.kernel.invokeFunction('convertToInteractive',\n",
              "                                                     [key], {});\n",
              "          if (!dataTable) return;\n",
              "\n",
              "          const docLinkHtml = 'Like what you see? Visit the ' +\n",
              "            '<a target=\"_blank\" href=https://colab.research.google.com/notebooks/data_table.ipynb>data table notebook</a>'\n",
              "            + ' to learn more about interactive tables.';\n",
              "          element.innerHTML = '';\n",
              "          dataTable['output_type'] = 'display_data';\n",
              "          await google.colab.output.renderOutput(dataTable, element);\n",
              "          const docLink = document.createElement('div');\n",
              "          docLink.innerHTML = docLinkHtml;\n",
              "          element.appendChild(docLink);\n",
              "        }\n",
              "      </script>\n",
              "    </div>\n",
              "  </div>\n",
              "  "
            ]
          },
          "metadata": {},
          "execution_count": 105
        }
      ]
    },
    {
      "cell_type": "code",
      "source": [
        "user_data[user_data['body'].index == 15]\n"
      ],
      "metadata": {
        "id": "sq6rNx4o6aF4",
        "colab": {
          "base_uri": "https://localhost:8080/",
          "height": 81
        },
        "outputId": "6d967e69-8141-42c1-961d-c9d8c85730ed"
      },
      "execution_count": 106,
      "outputs": [
        {
          "output_type": "execute_result",
          "data": {
            "text/plain": [
              "   user_id  pclass  survived                 name   sex        age  sibsp  \\\n",
              "15   M0016       1         0  Baumann, Mr. John D  male  29.881138      0   \n",
              "\n",
              "    parch    ticket    fare        cabin embarked boat        body  \\\n",
              "15      0  PC 17318  25.925  C23 C25 C27        S   13  160.809917   \n",
              "\n",
              "       home.dest  \n",
              "15  New York, NY  "
            ],
            "text/html": [
              "\n",
              "  <div id=\"df-c9e77096-c7df-4565-a935-b90c9c2ffc99\">\n",
              "    <div class=\"colab-df-container\">\n",
              "      <div>\n",
              "<style scoped>\n",
              "    .dataframe tbody tr th:only-of-type {\n",
              "        vertical-align: middle;\n",
              "    }\n",
              "\n",
              "    .dataframe tbody tr th {\n",
              "        vertical-align: top;\n",
              "    }\n",
              "\n",
              "    .dataframe thead th {\n",
              "        text-align: right;\n",
              "    }\n",
              "</style>\n",
              "<table border=\"1\" class=\"dataframe\">\n",
              "  <thead>\n",
              "    <tr style=\"text-align: right;\">\n",
              "      <th></th>\n",
              "      <th>user_id</th>\n",
              "      <th>pclass</th>\n",
              "      <th>survived</th>\n",
              "      <th>name</th>\n",
              "      <th>sex</th>\n",
              "      <th>age</th>\n",
              "      <th>sibsp</th>\n",
              "      <th>parch</th>\n",
              "      <th>ticket</th>\n",
              "      <th>fare</th>\n",
              "      <th>cabin</th>\n",
              "      <th>embarked</th>\n",
              "      <th>boat</th>\n",
              "      <th>body</th>\n",
              "      <th>home.dest</th>\n",
              "    </tr>\n",
              "  </thead>\n",
              "  <tbody>\n",
              "    <tr>\n",
              "      <th>15</th>\n",
              "      <td>M0016</td>\n",
              "      <td>1</td>\n",
              "      <td>0</td>\n",
              "      <td>Baumann, Mr. John D</td>\n",
              "      <td>male</td>\n",
              "      <td>29.881138</td>\n",
              "      <td>0</td>\n",
              "      <td>0</td>\n",
              "      <td>PC 17318</td>\n",
              "      <td>25.925</td>\n",
              "      <td>C23 C25 C27</td>\n",
              "      <td>S</td>\n",
              "      <td>13</td>\n",
              "      <td>160.809917</td>\n",
              "      <td>New York, NY</td>\n",
              "    </tr>\n",
              "  </tbody>\n",
              "</table>\n",
              "</div>\n",
              "      <button class=\"colab-df-convert\" onclick=\"convertToInteractive('df-c9e77096-c7df-4565-a935-b90c9c2ffc99')\"\n",
              "              title=\"Convert this dataframe to an interactive table.\"\n",
              "              style=\"display:none;\">\n",
              "        \n",
              "  <svg xmlns=\"http://www.w3.org/2000/svg\" height=\"24px\"viewBox=\"0 0 24 24\"\n",
              "       width=\"24px\">\n",
              "    <path d=\"M0 0h24v24H0V0z\" fill=\"none\"/>\n",
              "    <path d=\"M18.56 5.44l.94 2.06.94-2.06 2.06-.94-2.06-.94-.94-2.06-.94 2.06-2.06.94zm-11 1L8.5 8.5l.94-2.06 2.06-.94-2.06-.94L8.5 2.5l-.94 2.06-2.06.94zm10 10l.94 2.06.94-2.06 2.06-.94-2.06-.94-.94-2.06-.94 2.06-2.06.94z\"/><path d=\"M17.41 7.96l-1.37-1.37c-.4-.4-.92-.59-1.43-.59-.52 0-1.04.2-1.43.59L10.3 9.45l-7.72 7.72c-.78.78-.78 2.05 0 2.83L4 21.41c.39.39.9.59 1.41.59.51 0 1.02-.2 1.41-.59l7.78-7.78 2.81-2.81c.8-.78.8-2.07 0-2.86zM5.41 20L4 18.59l7.72-7.72 1.47 1.35L5.41 20z\"/>\n",
              "  </svg>\n",
              "      </button>\n",
              "      \n",
              "  <style>\n",
              "    .colab-df-container {\n",
              "      display:flex;\n",
              "      flex-wrap:wrap;\n",
              "      gap: 12px;\n",
              "    }\n",
              "\n",
              "    .colab-df-convert {\n",
              "      background-color: #E8F0FE;\n",
              "      border: none;\n",
              "      border-radius: 50%;\n",
              "      cursor: pointer;\n",
              "      display: none;\n",
              "      fill: #1967D2;\n",
              "      height: 32px;\n",
              "      padding: 0 0 0 0;\n",
              "      width: 32px;\n",
              "    }\n",
              "\n",
              "    .colab-df-convert:hover {\n",
              "      background-color: #E2EBFA;\n",
              "      box-shadow: 0px 1px 2px rgba(60, 64, 67, 0.3), 0px 1px 3px 1px rgba(60, 64, 67, 0.15);\n",
              "      fill: #174EA6;\n",
              "    }\n",
              "\n",
              "    [theme=dark] .colab-df-convert {\n",
              "      background-color: #3B4455;\n",
              "      fill: #D2E3FC;\n",
              "    }\n",
              "\n",
              "    [theme=dark] .colab-df-convert:hover {\n",
              "      background-color: #434B5C;\n",
              "      box-shadow: 0px 1px 3px 1px rgba(0, 0, 0, 0.15);\n",
              "      filter: drop-shadow(0px 1px 2px rgba(0, 0, 0, 0.3));\n",
              "      fill: #FFFFFF;\n",
              "    }\n",
              "  </style>\n",
              "\n",
              "      <script>\n",
              "        const buttonEl =\n",
              "          document.querySelector('#df-c9e77096-c7df-4565-a935-b90c9c2ffc99 button.colab-df-convert');\n",
              "        buttonEl.style.display =\n",
              "          google.colab.kernel.accessAllowed ? 'block' : 'none';\n",
              "\n",
              "        async function convertToInteractive(key) {\n",
              "          const element = document.querySelector('#df-c9e77096-c7df-4565-a935-b90c9c2ffc99');\n",
              "          const dataTable =\n",
              "            await google.colab.kernel.invokeFunction('convertToInteractive',\n",
              "                                                     [key], {});\n",
              "          if (!dataTable) return;\n",
              "\n",
              "          const docLinkHtml = 'Like what you see? Visit the ' +\n",
              "            '<a target=\"_blank\" href=https://colab.research.google.com/notebooks/data_table.ipynb>data table notebook</a>'\n",
              "            + ' to learn more about interactive tables.';\n",
              "          element.innerHTML = '';\n",
              "          dataTable['output_type'] = 'display_data';\n",
              "          await google.colab.output.renderOutput(dataTable, element);\n",
              "          const docLink = document.createElement('div');\n",
              "          docLink.innerHTML = docLinkHtml;\n",
              "          element.appendChild(docLink);\n",
              "        }\n",
              "      </script>\n",
              "    </div>\n",
              "  </div>\n",
              "  "
            ]
          },
          "metadata": {},
          "execution_count": 106
        }
      ]
    },
    {
      "cell_type": "markdown",
      "source": [
        "##**Menampilkan nilai body berdasarkan index ke 15**\n",
        "\n"
      ],
      "metadata": {
        "id": "TkG5SKC_qSoJ"
      }
    },
    {
      "cell_type": "code",
      "source": [
        "user_data.isnull().sum()"
      ],
      "metadata": {
        "colab": {
          "base_uri": "https://localhost:8080/",
          "height": 0
        },
        "id": "wMEbtscp-rR7",
        "outputId": "2a321131-a714-478e-8780-8576c256b3a6"
      },
      "execution_count": 107,
      "outputs": [
        {
          "output_type": "execute_result",
          "data": {
            "text/plain": [
              "user_id        0\n",
              "pclass         0\n",
              "survived       0\n",
              "name           0\n",
              "sex            0\n",
              "age            0\n",
              "sibsp          0\n",
              "parch          0\n",
              "ticket         0\n",
              "fare           0\n",
              "cabin          0\n",
              "embarked       0\n",
              "boat           0\n",
              "body           0\n",
              "home.dest    564\n",
              "dtype: int64"
            ]
          },
          "metadata": {},
          "execution_count": 107
        }
      ]
    },
    {
      "cell_type": "markdown",
      "source": [
        "##**sehingga saat di cek maka missing value pada body sudah tidak ada dan tersisa 1 lagi, yaitu home.dest**"
      ],
      "metadata": {
        "id": "rX2dupxDqZ7w"
      }
    },
    {
      "cell_type": "markdown",
      "source": [
        "##**Missing Value Data Home.dest**"
      ],
      "metadata": {
        "id": "0nKPXFo7-242"
      }
    },
    {
      "cell_type": "code",
      "source": [
        "user_data[user_data['home.dest'].isnull()]"
      ],
      "metadata": {
        "colab": {
          "base_uri": "https://localhost:8080/",
          "height": 424
        },
        "id": "dPoQr-I1-1tR",
        "outputId": "d8082834-4c13-40eb-e26d-8ef07d2fbe43"
      },
      "execution_count": 108,
      "outputs": [
        {
          "output_type": "execute_result",
          "data": {
            "text/plain": [
              "     user_id  pclass  survived                          name     sex  \\\n",
              "13     M0014       1         1  Barber, Miss. Ellen \"Nellie\"  female   \n",
              "18     M0019       1         1         Bazzani, Miss. Albina  female   \n",
              "23     M0024       1         1         Bidois, Miss. Rosalie  female   \n",
              "24     M0025       1         1             Bird, Miss. Ellen  female   \n",
              "28     M0029       1         1        Bissette, Miss. Amelia  female   \n",
              "...      ...     ...       ...                           ...     ...   \n",
              "1304   M1305       3         0          Zabour, Miss. Hileni  female   \n",
              "1305   M1306       3         0         Zabour, Miss. Thamine  female   \n",
              "1306   M1307       3         0     Zakarian, Mr. Mapriededer    male   \n",
              "1307   M1308       3         0           Zakarian, Mr. Ortin    male   \n",
              "1308   M1309       3         0            Zimmerman, Mr. Leo    male   \n",
              "\n",
              "            age  sibsp  parch    ticket      fare        cabin embarked boat  \\\n",
              "13    26.000000      0      0     19877   78.8500  C23 C25 C27        S    6   \n",
              "18    32.000000      0      0     11813   76.2917          D15        C    8   \n",
              "23    42.000000      0      0  PC 17757  227.5250  C23 C25 C27        C    4   \n",
              "24    29.000000      0      0  PC 17483  221.7792          C97        S    8   \n",
              "28    35.000000      0      0  PC 17760  135.6333          C99        S    8   \n",
              "...         ...    ...    ...       ...       ...          ...      ...  ...   \n",
              "1304  14.500000      1      0      2665   14.4542  C23 C25 C27        C   13   \n",
              "1305  29.881138      1      0      2665   14.4542  C23 C25 C27        C   13   \n",
              "1306  26.500000      0      0      2656    7.2250  C23 C25 C27        C   13   \n",
              "1307  27.000000      0      0      2670    7.2250  C23 C25 C27        C   13   \n",
              "1308  29.000000      0      0    315082    7.8750  C23 C25 C27        S   13   \n",
              "\n",
              "            body home.dest  \n",
              "13    160.809917       NaN  \n",
              "18    160.809917       NaN  \n",
              "23    160.809917       NaN  \n",
              "24    160.809917       NaN  \n",
              "28    160.809917       NaN  \n",
              "...          ...       ...  \n",
              "1304  328.000000       NaN  \n",
              "1305  160.809917       NaN  \n",
              "1306  304.000000       NaN  \n",
              "1307  160.809917       NaN  \n",
              "1308  160.809917       NaN  \n",
              "\n",
              "[564 rows x 15 columns]"
            ],
            "text/html": [
              "\n",
              "  <div id=\"df-5c60012d-c35c-4b61-80fa-6e38dfa7bf23\">\n",
              "    <div class=\"colab-df-container\">\n",
              "      <div>\n",
              "<style scoped>\n",
              "    .dataframe tbody tr th:only-of-type {\n",
              "        vertical-align: middle;\n",
              "    }\n",
              "\n",
              "    .dataframe tbody tr th {\n",
              "        vertical-align: top;\n",
              "    }\n",
              "\n",
              "    .dataframe thead th {\n",
              "        text-align: right;\n",
              "    }\n",
              "</style>\n",
              "<table border=\"1\" class=\"dataframe\">\n",
              "  <thead>\n",
              "    <tr style=\"text-align: right;\">\n",
              "      <th></th>\n",
              "      <th>user_id</th>\n",
              "      <th>pclass</th>\n",
              "      <th>survived</th>\n",
              "      <th>name</th>\n",
              "      <th>sex</th>\n",
              "      <th>age</th>\n",
              "      <th>sibsp</th>\n",
              "      <th>parch</th>\n",
              "      <th>ticket</th>\n",
              "      <th>fare</th>\n",
              "      <th>cabin</th>\n",
              "      <th>embarked</th>\n",
              "      <th>boat</th>\n",
              "      <th>body</th>\n",
              "      <th>home.dest</th>\n",
              "    </tr>\n",
              "  </thead>\n",
              "  <tbody>\n",
              "    <tr>\n",
              "      <th>13</th>\n",
              "      <td>M0014</td>\n",
              "      <td>1</td>\n",
              "      <td>1</td>\n",
              "      <td>Barber, Miss. Ellen \"Nellie\"</td>\n",
              "      <td>female</td>\n",
              "      <td>26.000000</td>\n",
              "      <td>0</td>\n",
              "      <td>0</td>\n",
              "      <td>19877</td>\n",
              "      <td>78.8500</td>\n",
              "      <td>C23 C25 C27</td>\n",
              "      <td>S</td>\n",
              "      <td>6</td>\n",
              "      <td>160.809917</td>\n",
              "      <td>NaN</td>\n",
              "    </tr>\n",
              "    <tr>\n",
              "      <th>18</th>\n",
              "      <td>M0019</td>\n",
              "      <td>1</td>\n",
              "      <td>1</td>\n",
              "      <td>Bazzani, Miss. Albina</td>\n",
              "      <td>female</td>\n",
              "      <td>32.000000</td>\n",
              "      <td>0</td>\n",
              "      <td>0</td>\n",
              "      <td>11813</td>\n",
              "      <td>76.2917</td>\n",
              "      <td>D15</td>\n",
              "      <td>C</td>\n",
              "      <td>8</td>\n",
              "      <td>160.809917</td>\n",
              "      <td>NaN</td>\n",
              "    </tr>\n",
              "    <tr>\n",
              "      <th>23</th>\n",
              "      <td>M0024</td>\n",
              "      <td>1</td>\n",
              "      <td>1</td>\n",
              "      <td>Bidois, Miss. Rosalie</td>\n",
              "      <td>female</td>\n",
              "      <td>42.000000</td>\n",
              "      <td>0</td>\n",
              "      <td>0</td>\n",
              "      <td>PC 17757</td>\n",
              "      <td>227.5250</td>\n",
              "      <td>C23 C25 C27</td>\n",
              "      <td>C</td>\n",
              "      <td>4</td>\n",
              "      <td>160.809917</td>\n",
              "      <td>NaN</td>\n",
              "    </tr>\n",
              "    <tr>\n",
              "      <th>24</th>\n",
              "      <td>M0025</td>\n",
              "      <td>1</td>\n",
              "      <td>1</td>\n",
              "      <td>Bird, Miss. Ellen</td>\n",
              "      <td>female</td>\n",
              "      <td>29.000000</td>\n",
              "      <td>0</td>\n",
              "      <td>0</td>\n",
              "      <td>PC 17483</td>\n",
              "      <td>221.7792</td>\n",
              "      <td>C97</td>\n",
              "      <td>S</td>\n",
              "      <td>8</td>\n",
              "      <td>160.809917</td>\n",
              "      <td>NaN</td>\n",
              "    </tr>\n",
              "    <tr>\n",
              "      <th>28</th>\n",
              "      <td>M0029</td>\n",
              "      <td>1</td>\n",
              "      <td>1</td>\n",
              "      <td>Bissette, Miss. Amelia</td>\n",
              "      <td>female</td>\n",
              "      <td>35.000000</td>\n",
              "      <td>0</td>\n",
              "      <td>0</td>\n",
              "      <td>PC 17760</td>\n",
              "      <td>135.6333</td>\n",
              "      <td>C99</td>\n",
              "      <td>S</td>\n",
              "      <td>8</td>\n",
              "      <td>160.809917</td>\n",
              "      <td>NaN</td>\n",
              "    </tr>\n",
              "    <tr>\n",
              "      <th>...</th>\n",
              "      <td>...</td>\n",
              "      <td>...</td>\n",
              "      <td>...</td>\n",
              "      <td>...</td>\n",
              "      <td>...</td>\n",
              "      <td>...</td>\n",
              "      <td>...</td>\n",
              "      <td>...</td>\n",
              "      <td>...</td>\n",
              "      <td>...</td>\n",
              "      <td>...</td>\n",
              "      <td>...</td>\n",
              "      <td>...</td>\n",
              "      <td>...</td>\n",
              "      <td>...</td>\n",
              "    </tr>\n",
              "    <tr>\n",
              "      <th>1304</th>\n",
              "      <td>M1305</td>\n",
              "      <td>3</td>\n",
              "      <td>0</td>\n",
              "      <td>Zabour, Miss. Hileni</td>\n",
              "      <td>female</td>\n",
              "      <td>14.500000</td>\n",
              "      <td>1</td>\n",
              "      <td>0</td>\n",
              "      <td>2665</td>\n",
              "      <td>14.4542</td>\n",
              "      <td>C23 C25 C27</td>\n",
              "      <td>C</td>\n",
              "      <td>13</td>\n",
              "      <td>328.000000</td>\n",
              "      <td>NaN</td>\n",
              "    </tr>\n",
              "    <tr>\n",
              "      <th>1305</th>\n",
              "      <td>M1306</td>\n",
              "      <td>3</td>\n",
              "      <td>0</td>\n",
              "      <td>Zabour, Miss. Thamine</td>\n",
              "      <td>female</td>\n",
              "      <td>29.881138</td>\n",
              "      <td>1</td>\n",
              "      <td>0</td>\n",
              "      <td>2665</td>\n",
              "      <td>14.4542</td>\n",
              "      <td>C23 C25 C27</td>\n",
              "      <td>C</td>\n",
              "      <td>13</td>\n",
              "      <td>160.809917</td>\n",
              "      <td>NaN</td>\n",
              "    </tr>\n",
              "    <tr>\n",
              "      <th>1306</th>\n",
              "      <td>M1307</td>\n",
              "      <td>3</td>\n",
              "      <td>0</td>\n",
              "      <td>Zakarian, Mr. Mapriededer</td>\n",
              "      <td>male</td>\n",
              "      <td>26.500000</td>\n",
              "      <td>0</td>\n",
              "      <td>0</td>\n",
              "      <td>2656</td>\n",
              "      <td>7.2250</td>\n",
              "      <td>C23 C25 C27</td>\n",
              "      <td>C</td>\n",
              "      <td>13</td>\n",
              "      <td>304.000000</td>\n",
              "      <td>NaN</td>\n",
              "    </tr>\n",
              "    <tr>\n",
              "      <th>1307</th>\n",
              "      <td>M1308</td>\n",
              "      <td>3</td>\n",
              "      <td>0</td>\n",
              "      <td>Zakarian, Mr. Ortin</td>\n",
              "      <td>male</td>\n",
              "      <td>27.000000</td>\n",
              "      <td>0</td>\n",
              "      <td>0</td>\n",
              "      <td>2670</td>\n",
              "      <td>7.2250</td>\n",
              "      <td>C23 C25 C27</td>\n",
              "      <td>C</td>\n",
              "      <td>13</td>\n",
              "      <td>160.809917</td>\n",
              "      <td>NaN</td>\n",
              "    </tr>\n",
              "    <tr>\n",
              "      <th>1308</th>\n",
              "      <td>M1309</td>\n",
              "      <td>3</td>\n",
              "      <td>0</td>\n",
              "      <td>Zimmerman, Mr. Leo</td>\n",
              "      <td>male</td>\n",
              "      <td>29.000000</td>\n",
              "      <td>0</td>\n",
              "      <td>0</td>\n",
              "      <td>315082</td>\n",
              "      <td>7.8750</td>\n",
              "      <td>C23 C25 C27</td>\n",
              "      <td>S</td>\n",
              "      <td>13</td>\n",
              "      <td>160.809917</td>\n",
              "      <td>NaN</td>\n",
              "    </tr>\n",
              "  </tbody>\n",
              "</table>\n",
              "<p>564 rows × 15 columns</p>\n",
              "</div>\n",
              "      <button class=\"colab-df-convert\" onclick=\"convertToInteractive('df-5c60012d-c35c-4b61-80fa-6e38dfa7bf23')\"\n",
              "              title=\"Convert this dataframe to an interactive table.\"\n",
              "              style=\"display:none;\">\n",
              "        \n",
              "  <svg xmlns=\"http://www.w3.org/2000/svg\" height=\"24px\"viewBox=\"0 0 24 24\"\n",
              "       width=\"24px\">\n",
              "    <path d=\"M0 0h24v24H0V0z\" fill=\"none\"/>\n",
              "    <path d=\"M18.56 5.44l.94 2.06.94-2.06 2.06-.94-2.06-.94-.94-2.06-.94 2.06-2.06.94zm-11 1L8.5 8.5l.94-2.06 2.06-.94-2.06-.94L8.5 2.5l-.94 2.06-2.06.94zm10 10l.94 2.06.94-2.06 2.06-.94-2.06-.94-.94-2.06-.94 2.06-2.06.94z\"/><path d=\"M17.41 7.96l-1.37-1.37c-.4-.4-.92-.59-1.43-.59-.52 0-1.04.2-1.43.59L10.3 9.45l-7.72 7.72c-.78.78-.78 2.05 0 2.83L4 21.41c.39.39.9.59 1.41.59.51 0 1.02-.2 1.41-.59l7.78-7.78 2.81-2.81c.8-.78.8-2.07 0-2.86zM5.41 20L4 18.59l7.72-7.72 1.47 1.35L5.41 20z\"/>\n",
              "  </svg>\n",
              "      </button>\n",
              "      \n",
              "  <style>\n",
              "    .colab-df-container {\n",
              "      display:flex;\n",
              "      flex-wrap:wrap;\n",
              "      gap: 12px;\n",
              "    }\n",
              "\n",
              "    .colab-df-convert {\n",
              "      background-color: #E8F0FE;\n",
              "      border: none;\n",
              "      border-radius: 50%;\n",
              "      cursor: pointer;\n",
              "      display: none;\n",
              "      fill: #1967D2;\n",
              "      height: 32px;\n",
              "      padding: 0 0 0 0;\n",
              "      width: 32px;\n",
              "    }\n",
              "\n",
              "    .colab-df-convert:hover {\n",
              "      background-color: #E2EBFA;\n",
              "      box-shadow: 0px 1px 2px rgba(60, 64, 67, 0.3), 0px 1px 3px 1px rgba(60, 64, 67, 0.15);\n",
              "      fill: #174EA6;\n",
              "    }\n",
              "\n",
              "    [theme=dark] .colab-df-convert {\n",
              "      background-color: #3B4455;\n",
              "      fill: #D2E3FC;\n",
              "    }\n",
              "\n",
              "    [theme=dark] .colab-df-convert:hover {\n",
              "      background-color: #434B5C;\n",
              "      box-shadow: 0px 1px 3px 1px rgba(0, 0, 0, 0.15);\n",
              "      filter: drop-shadow(0px 1px 2px rgba(0, 0, 0, 0.3));\n",
              "      fill: #FFFFFF;\n",
              "    }\n",
              "  </style>\n",
              "\n",
              "      <script>\n",
              "        const buttonEl =\n",
              "          document.querySelector('#df-5c60012d-c35c-4b61-80fa-6e38dfa7bf23 button.colab-df-convert');\n",
              "        buttonEl.style.display =\n",
              "          google.colab.kernel.accessAllowed ? 'block' : 'none';\n",
              "\n",
              "        async function convertToInteractive(key) {\n",
              "          const element = document.querySelector('#df-5c60012d-c35c-4b61-80fa-6e38dfa7bf23');\n",
              "          const dataTable =\n",
              "            await google.colab.kernel.invokeFunction('convertToInteractive',\n",
              "                                                     [key], {});\n",
              "          if (!dataTable) return;\n",
              "\n",
              "          const docLinkHtml = 'Like what you see? Visit the ' +\n",
              "            '<a target=\"_blank\" href=https://colab.research.google.com/notebooks/data_table.ipynb>data table notebook</a>'\n",
              "            + ' to learn more about interactive tables.';\n",
              "          element.innerHTML = '';\n",
              "          dataTable['output_type'] = 'display_data';\n",
              "          await google.colab.output.renderOutput(dataTable, element);\n",
              "          const docLink = document.createElement('div');\n",
              "          docLink.innerHTML = docLinkHtml;\n",
              "          element.appendChild(docLink);\n",
              "        }\n",
              "      </script>\n",
              "    </div>\n",
              "  </div>\n",
              "  "
            ]
          },
          "metadata": {},
          "execution_count": 108
        }
      ]
    },
    {
      "cell_type": "markdown",
      "source": [
        "## **Mengecek missing values yang ada pada home.dest**"
      ],
      "metadata": {
        "id": "r8X1xbt9qm6m"
      }
    },
    {
      "cell_type": "code",
      "source": [
        "user_data['home.dest'].value_counts()"
      ],
      "metadata": {
        "colab": {
          "base_uri": "https://localhost:8080/",
          "height": 0
        },
        "id": "M6jI0Uhy_Jjl",
        "outputId": "84a0c783-4372-49c9-e3f1-a6ff26d10594"
      },
      "execution_count": 109,
      "outputs": [
        {
          "output_type": "execute_result",
          "data": {
            "text/plain": [
              "New York, NY                                    64\n",
              "London                                          14\n",
              "Montreal, PQ                                    10\n",
              "Paris, France                                    9\n",
              "Cornwall / Akron, OH                             9\n",
              "                                                ..\n",
              "Chelsea, London                                  1\n",
              "Harrow-on-the-Hill, Middlesex                    1\n",
              "Copenhagen, Denmark                              1\n",
              "Guernsey / Montclair, NJ and/or Toledo, Ohio     1\n",
              "Antwerp, Belgium / Stanton, OH                   1\n",
              "Name: home.dest, Length: 369, dtype: int64"
            ]
          },
          "metadata": {},
          "execution_count": 109
        }
      ]
    },
    {
      "cell_type": "markdown",
      "source": [
        "## **Menampilkan jumlah nilai home.dest**"
      ],
      "metadata": {
        "id": "j1ZepI6rqw84"
      }
    },
    {
      "cell_type": "code",
      "source": [
        "mode_home = user_data['home.dest'].mode()[0]\n",
        "mode_home"
      ],
      "metadata": {
        "colab": {
          "base_uri": "https://localhost:8080/",
          "height": 36
        },
        "id": "PelAFwhq_PHE",
        "outputId": "e5ab5d0d-af5e-4ff3-82da-d96a8b27546b"
      },
      "execution_count": 110,
      "outputs": [
        {
          "output_type": "execute_result",
          "data": {
            "text/plain": [
              "'New York, NY'"
            ],
            "application/vnd.google.colaboratory.intrinsic+json": {
              "type": "string"
            }
          },
          "metadata": {},
          "execution_count": 110
        }
      ]
    },
    {
      "cell_type": "markdown",
      "source": [
        "## **Menampilkan home.dest yang indeks ke 0**"
      ],
      "metadata": {
        "id": "s_hzNq_Cq3PE"
      }
    },
    {
      "cell_type": "code",
      "source": [
        "user_data['home.dest'] = user_data['home.dest'].fillna(mode_home)"
      ],
      "metadata": {
        "id": "Oh9D6WS0_RJ8"
      },
      "execution_count": 111,
      "outputs": []
    },
    {
      "cell_type": "code",
      "source": [
        "user_data.isnull().sum()"
      ],
      "metadata": {
        "colab": {
          "base_uri": "https://localhost:8080/",
          "height": 0
        },
        "id": "RBTFNLMx_Sl3",
        "outputId": "8594af7f-0a41-45ea-98b3-c71bc881d4f7"
      },
      "execution_count": 112,
      "outputs": [
        {
          "output_type": "execute_result",
          "data": {
            "text/plain": [
              "user_id      0\n",
              "pclass       0\n",
              "survived     0\n",
              "name         0\n",
              "sex          0\n",
              "age          0\n",
              "sibsp        0\n",
              "parch        0\n",
              "ticket       0\n",
              "fare         0\n",
              "cabin        0\n",
              "embarked     0\n",
              "boat         0\n",
              "body         0\n",
              "home.dest    0\n",
              "dtype: int64"
            ]
          },
          "metadata": {},
          "execution_count": 112
        }
      ]
    },
    {
      "cell_type": "markdown",
      "source": [
        "## **kemudian saat cek missing value, maka sudah tidak ada lagi yang missing value**"
      ],
      "metadata": {
        "id": "HuxB4MsyrKlt"
      }
    }
  ],
  "metadata": {
    "accelerator": "GPU",
    "colab": {
      "provenance": []
    },
    "gpuClass": "standard",
    "kernelspec": {
      "display_name": "Python 3",
      "name": "python3"
    },
    "language_info": {
      "name": "python"
    }
  },
  "nbformat": 4,
  "nbformat_minor": 0
}